{
 "cells": [
  {
   "cell_type": "markdown",
   "id": "efa93159",
   "metadata": {},
   "source": [
    "# Feature Engineering - 0629_08-10-35 (consider all features)\n",
    "\n",
    "### Overview\n",
    "This notebook serves a simple utility purpose to take a single data log with all network signals considered as features and does the initial preprocessing to cleaned & raw so it can be used by the LSTM modeling notebook. \n",
    "\n",
    "In this case we take the initial coverted raw csv file from the blf conversion contained in /can_data/*.csv and perform LSTM preprocessing and store to the  /can_data/lstm_processed folder. The file name can be changed to perform this lstm preprocessing on any other raw network data csv file by simply changing the filename below. \n",
    "\n",
    "LSTM Preprocessing \n",
    "- Load data frame log\n",
    "- Set time as index and downsample to 1s\n",
    "- Drop bad signals\n",
    "- Clean column names to just include signal name\n",
    "- Backfill NaN data\n",
    "- Elimnate duplicate columns"
   ]
  },
  {
   "cell_type": "code",
   "execution_count": 5,
   "id": "aeb0cfc0",
   "metadata": {},
   "outputs": [],
   "source": [
    "# Import all the necessary libraries to be used by this script\n",
    "\n",
    "import pandas as pd\n",
    "import numpy as np\n",
    "import matplotlib.pyplot as plt\n",
    "import matplotlib.dates as mdates\n",
    "from pathlib import Path\n",
    "\n",
    "from sklearn.compose import make_column_selector, make_column_transformer\n",
    "from sklearn.preprocessing import OneHotEncoder, StandardScaler, PolynomialFeatures\n",
    "from sklearn.feature_selection import SelectFromModel\n",
    "from sklearn.pipeline import Pipeline\n",
    "from sklearn.model_selection import train_test_split, GridSearchCV, TimeSeriesSplit\n",
    "from sklearn.metrics import ConfusionMatrixDisplay, RocCurveDisplay\n",
    "from sklearn.metrics import confusion_matrix, roc_curve, auc, mean_squared_error, r2_score\n",
    "from sklearn.linear_model import LinearRegression\n",
    "from sklearn.preprocessing import StandardScaler\n",
    "\n",
    "# Resolve folder paths before reading data\n",
    "RAW_CSV_DIR = Path(\"can_data\")\n",
    "PREPROCESSED_CSV_DIR = Path(\"can_data/lstm_preprocessed\") "
   ]
  },
  {
   "cell_type": "code",
   "execution_count": 6,
   "id": "c7efe828",
   "metadata": {},
   "outputs": [
    {
     "name": "stderr",
     "output_type": "stream",
     "text": [
      "/var/folders/ng/3vcxzr395fd86ffyyn36q09w0000gn/T/ipykernel_14067/1205057653.py:7: DtypeWarning: Columns (27,30,31,32,33,35,36,108,109,112,114,115,116,117,118,120,121,127,128,129,130,131,132,133,134,135,136,137,138,139,140,141,142,143,144,145,146,147,148,149,150,151,152,153,154,155,156,157,158,159,160,161,162,163,164,165,166,168,169,172,174,175,176,177,178,179,181,182,188,189,190,191,192,193,194,195,196,197,198,199,200,201,202,203,204,205,206,207,208,209,210,211,212,213,214,215,216,217,218,219,220,221,222,223,224,225,226,227,237,434,479,480,603,604,605,606,608,609,610,611,612,613,614,615,616,617,618,619,620,621,622,623,624,625,626,627,628,629,630,631,632,633,634,635,636,637,638,639,640,641,642,643,644,645,646,647,648,664,665,666,667,668,669,670,671,672,673,674,675,676,677,678,679,680,681,682,683,684,685,686,687,688,696,697,698,699,700,701,702,703,704,705,707,854,1078,1079,1082,1083,1084,1085,1177,1179,1180,1181,1182,1183,1243,1245,1247,1249,1250,1251,1252,1253,1254,1255,1257,1258,1260,1261,1262,1263,1264,1265,1266,1267,1268,1269,1270,1271,1272,1273,1276,1278,1279,1282,1283,1284,1285,1286,1287,1288,1289,1290,1291,1298,1300,1301,1304,1305,1306,1307,1308,1309,1310,1311,1312,1313,1355,1357,1358,1361,1362,1363,1364,1365,1366,1367,1368,1369,1370,1461,1462,1463,1464,1504,1505,1506,1507,1508,1509,1510,1511,1512,1513,1514,1515,1516,1519,1525,1527,1534,1535,1536,1537,1538,1539,1540,1541,1542,1543,1544,1545,1546,1547,1548,1549,1550,1566,1567,1569,1596,1597,1599,1600,1603,1604,1605,1606,1607,1608,1609,1610,1611,1612,1613,1625,1626,1629,1630,1633,1634,1637,1638,1641,1642,1646,1647,1648,1649,1651,1652,1653,1654,1655,1656,1657,1658,1659,1660,1661,1662,1663,1664,1665,1666,1667,1668,1669,1670,1671,1672,1673,1674,1675,1676,1677,1678,1704,1705,1706,1707,1708,1709,1710,1711,1712,1713,1714,1715,1716,1717,1718,1719,1720,1721,1722,1723,1724,1725,1726,1727,1728,1729,1730,1731,1732,1733,1734,1735,1736,1737,1738,1739,1740,1741,1742,1743,1744,1745,1746,1747,1748,1749,1750,1751,1752,1753,1754,1755,1756,1757,1758,1759,1760,1761,1762,1763,1765,1771,1772,1782,1783,1784,1791,1792,1793,1800,1801,1802,1814,1815,1816,1823,1824,1825,2073,2075,2076,2079,2080,2081,2082,2083,2084,2085,2086,2087,2088,2095,2097,2098,2101,2102,2103,2104,2105,2106,2107,2108,2109,2110,2124,2126,2127,2130,2131,2132,2133,2134,2135,2136,2137,2138,2139,2145,2146,2151,2152,2241,2243,2244,2247,2248,2249,2250,2251,2252,2253,2254,2255,2256,2263,2265,2266,2269,2270,2271,2272,2273,2274,2275,2276,2277,2278,2301,2303,2304,2307,2308,2309,2310,2311,2312,2313,2314,2315,2316,2425,2426,2444,2445,2446,2447,2450,2451,2452,2453,2454,2455,2456,2457,2458,2459,2460,2461,2462,2463,2464,2465,2466,2467,2468,2469,2470,2471,2472,2473,2474,2475,2476,2477,2478,2479,2480,2481,2482,2483,2484,2485,2486,2487,2488,2489,2490,2491,2492,2493,2494,2495,2496,2497,2498,2499,2500,2501,2502,2503,2504,2505,2506,2507,2508,2509,2510,2511,2512,2513,2514,2515,2516,2517,2518,2519,2520,2521,2522,2523,2524,2525,2526,2527,2528,2529,2530,2531,2532,2533,2534,2535,2536,2537,2538,2539,2540,2541,2542,2543,2544,2545,2546,2547,2548,2549,2569,2570,2571,2572,2573,2574,2575,2576,2577,2578,2579,2580,2581,2582,2583,2584,2585,2586,2587,2588,2589,2590,2591,2592,2593,2594,2595,2596,2597,2598,2599,2600,2601,2602,2603,2604,2605,2606,2607,2608,2609,2610,2611,2612,2613,2614,2615,2616,2617,2618,2619,2620,2687,2688,2693,2694,2695,2696,2697,2698,2699,2700,2701,2702,2703,2704,2821,2825,3029,3030,3031,3032,3033,3034,3035,3036,3037,3038,3039,3040,3041,3042,3043,3044,3045,3046,3047,3048,3049,3050,3051,3052,3053,3054,3055,3056) have mixed types. Specify dtype option on import or set low_memory=False.\n",
      "  df = pd.read_csv(\n"
     ]
    },
    {
     "name": "stdout",
     "output_type": "stream",
     "text": [
      "DatetimeIndex(['2025-06-29 12:10:35+00:00', '2025-06-29 12:10:36+00:00',\n",
      "               '2025-06-29 12:10:37+00:00', '2025-06-29 12:10:38+00:00',\n",
      "               '2025-06-29 12:10:39+00:00'],\n",
      "              dtype='datetime64[ns, UTC]', name='time_utc_iso', freq=None)\n",
      "datetime64[ns, UTC]\n",
      "(4734, 3078)\n"
     ]
    }
   ],
   "source": [
    "# Load cleaned  data from 0629_35 - 1.5 hours, 1.5 cycles, IBS signals only\n",
    "\n",
    "path = RAW_CSV_DIR / \"12V Management  Discharge and Charge Cycle 2025-06-29_08-10-35.csv\"\n",
    "path_cleaned_raw = PREPROCESSED_CSV_DIR / \"12V Management  Discharge and Charge Cycle 2025-06-29_08-10-35_cleaned_raw.csv\"\n",
    "\n",
    "# Most efficient: parse the datetime column on read and set as the index\n",
    "df = pd.read_csv(\n",
    "    path,\n",
    "    parse_dates=[\"time_utc_iso\"],    # let pandas parse ISO8601 (handles 'Z' -> UTC)\n",
    ")\n",
    "\n",
    "# Ensure timezone-aware UTC (if the parsed datetimes are naive)\n",
    "if df[\"time_utc_iso\"].dt.tz is None:\n",
    "    # If strings had a trailing 'Z', pandas usually sets UTC automatically; otherwise, localize:\n",
    "    df[\"time_utc_iso\"] = df[\"time_utc_iso\"].dt.tz_localize(\"UTC\")\n",
    "\n",
    "# Set as index and sort\n",
    "df = df.set_index(\"time_utc_iso\").sort_index()\n",
    "\n",
    "df = df.drop(columns=[\"time_et_iso\", \"excel_utc\"], errors=\"ignore\") # drop not needed time columns\n",
    "\n",
    "print(df.index[:5])\n",
    "print(df.index.dtype)   # should show datetime64[ns, UTC]\n",
    "print(df.shape)\n"
   ]
  },
  {
   "cell_type": "code",
   "execution_count": 7,
   "id": "88184e09",
   "metadata": {},
   "outputs": [
    {
     "data": {
      "application/vnd.microsoft.datawrangler.viewer.v0+json": {
       "columns": [
        {
         "name": "time_utc_iso",
         "rawType": "datetime64[ns, UTC]",
         "type": "unknown"
        },
        {
         "name": "VCU_0x214.VCU_214_234_CheckSum",
         "rawType": "int64",
         "type": "integer"
        },
        {
         "name": "VCU_0x214.VCU_RemWakeUpEndFlg",
         "rawType": "object",
         "type": "string"
        },
        {
         "name": "VCU_0x214.VCU_BrkLampCtrlSts",
         "rawType": "object",
         "type": "string"
        },
        {
         "name": "VCU_0x214.VCU_RdyLamp",
         "rawType": "object",
         "type": "string"
        },
        {
         "name": "VCU_0x214.VCU_214_234_AliveCounter",
         "rawType": "int64",
         "type": "integer"
        },
        {
         "name": "VCU_0x214.VCU_GearSigVld",
         "rawType": "object",
         "type": "string"
        },
        {
         "name": "VCU_0x214.VCU_ShiftMisoper",
         "rawType": "object",
         "type": "string"
        },
        {
         "name": "VCU_0x214.VCU_StgyGearSig",
         "rawType": "object",
         "type": "string"
        },
        {
         "name": "VCU_0x214.VCU_APSPercVld",
         "rawType": "object",
         "type": "string"
        },
        {
         "name": "VCU_0x214.VCU_ParkRdy",
         "rawType": "object",
         "type": "string"
        },
        {
         "name": "VCU_0x214.VCU_ACCRdy",
         "rawType": "object",
         "type": "string"
        },
        {
         "name": "VCU_0x214.VCU_GearSig",
         "rawType": "object",
         "type": "string"
        },
        {
         "name": "VCU_0x214.VCU_VehSt",
         "rawType": "object",
         "type": "string"
        },
        {
         "name": "VCU_0x214.VCU_APSPerc",
         "rawType": "float64",
         "type": "float"
        },
        {
         "name": "VCU_0x214.VCU_SpclTerrainModEnaSig",
         "rawType": "object",
         "type": "string"
        },
        {
         "name": "VCU_0x214.VCU_DrvModShiftMisoper",
         "rawType": "object",
         "type": "string"
        },
        {
         "name": "VCU_0x214.VCU_DrvModSigFb",
         "rawType": "object",
         "type": "string"
        },
        {
         "name": "VCU_0x214.VCU_BrkSigVld",
         "rawType": "object",
         "type": "string"
        },
        {
         "name": "VCU_0x214.VCU_BrkSig",
         "rawType": "object",
         "type": "string"
        },
        {
         "name": "VCU_0x214.VCU_214_SSecOC_Fresh_Byte0",
         "rawType": "int64",
         "type": "integer"
        },
        {
         "name": "VCU_0x214.VCU_214_SSecOC_MAC_Byte0",
         "rawType": "int64",
         "type": "integer"
        },
        {
         "name": "VCU_0x214.VCU_214_SSecOC_MAC_Byte1",
         "rawType": "int64",
         "type": "integer"
        },
        {
         "name": "VCU_0x214.VCU_214_SSecOC_MAC_Byte2",
         "rawType": "int64",
         "type": "integer"
        },
        {
         "name": "EPS_0x1C2.EPS_1C2_CheckSum",
         "rawType": "float64",
         "type": "float"
        },
        {
         "name": "EPS_0x1C2.EPS_AbortFb",
         "rawType": "object",
         "type": "string"
        },
        {
         "name": "EPS_0x1C2.EPS_1C2_AliveCounter",
         "rawType": "float64",
         "type": "float"
        },
        {
         "name": "EPS_0x1C2.EPS_SteerWhlAgSig",
         "rawType": "float64",
         "type": "float"
        },
        {
         "name": "EPS_0x1C2.EPS_SteerWhlRotSpdVld",
         "rawType": "object",
         "type": "string"
        },
        {
         "name": "EPS_0x1C2.EPS_SteerWhlRotSpdDir",
         "rawType": "object",
         "type": "string"
        },
        {
         "name": "EPS_0x1C2.EPS_SteerWhlAgSigVld",
         "rawType": "object",
         "type": "string"
        },
        {
         "name": "EPS_0x1C2.EPS_SteerAgSnsrCalSts",
         "rawType": "object",
         "type": "string"
        },
        {
         "name": "EPS_0x1C2.EPS_SteerWhlRotSpd",
         "rawType": "float64",
         "type": "float"
        },
        {
         "name": "EPS_0x1C2.EPS_AdasLatCtrlStsVld",
         "rawType": "object",
         "type": "string"
        },
        {
         "name": "EPS_0x1C2.EPS_AdasLatCtrlSts",
         "rawType": "object",
         "type": "string"
        },
        {
         "name": "EPS_0x1C2.EPS_AsscMotCrtTq",
         "rawType": "float64",
         "type": "float"
        },
        {
         "name": "VCU_0x234.VCU_214_234_CheckSum",
         "rawType": "int64",
         "type": "integer"
        },
        {
         "name": "VCU_0x234.VCU_RemWakeUpEndFlg",
         "rawType": "object",
         "type": "string"
        },
        {
         "name": "VCU_0x234.VCU_BrkLampCtrlSts",
         "rawType": "object",
         "type": "string"
        },
        {
         "name": "VCU_0x234.VCU_RdyLamp",
         "rawType": "object",
         "type": "string"
        },
        {
         "name": "VCU_0x234.VCU_214_234_AliveCounter",
         "rawType": "int64",
         "type": "integer"
        },
        {
         "name": "VCU_0x234.VCU_GearSigVld",
         "rawType": "object",
         "type": "string"
        },
        {
         "name": "VCU_0x234.VCU_ShiftMisoper",
         "rawType": "object",
         "type": "string"
        },
        {
         "name": "VCU_0x234.VCU_StgyGearSig",
         "rawType": "object",
         "type": "string"
        },
        {
         "name": "VCU_0x234.VCU_APSPercVld",
         "rawType": "object",
         "type": "string"
        },
        {
         "name": "VCU_0x234.VCU_ParkRdy",
         "rawType": "object",
         "type": "string"
        },
        {
         "name": "VCU_0x234.VCU_ACCRdy",
         "rawType": "object",
         "type": "string"
        },
        {
         "name": "VCU_0x234.VCU_GearSig",
         "rawType": "object",
         "type": "string"
        },
        {
         "name": "VCU_0x234.VCU_VehSt",
         "rawType": "object",
         "type": "string"
        },
        {
         "name": "VCU_0x234.VCU_APSPerc",
         "rawType": "float64",
         "type": "float"
        },
        {
         "name": "VCU_0x234.VCU_SpclTerrainModEnaSig",
         "rawType": "object",
         "type": "string"
        },
        {
         "name": "VCU_0x234.VCU_DrvModShiftMisoper",
         "rawType": "object",
         "type": "string"
        },
        {
         "name": "VCU_0x234.VCU_DrvModSigFb",
         "rawType": "object",
         "type": "string"
        },
        {
         "name": "VCU_0x234.VCU_BrkSigVld",
         "rawType": "object",
         "type": "string"
        },
        {
         "name": "VCU_0x234.VCU_BrkSig",
         "rawType": "object",
         "type": "string"
        },
        {
         "name": "CIM_0x189.CIM_189_CheckSum",
         "rawType": "int64",
         "type": "integer"
        },
        {
         "name": "CIM_0x189.CIM_PBtnSts2",
         "rawType": "object",
         "type": "string"
        },
        {
         "name": "CIM_0x189.CIM_PBtnSts1",
         "rawType": "object",
         "type": "string"
        },
        {
         "name": "CIM_0x189.CIM_189_AliveCounter",
         "rawType": "int64",
         "type": "integer"
        },
        {
         "name": "CIM_0x189.CIM_GearleverFltSts",
         "rawType": "object",
         "type": "string"
        },
        {
         "name": "CIM_0x189.CIM_GearLvrCrtPosnInfo",
         "rawType": "object",
         "type": "string"
        },
        {
         "name": "CIM_0x189.CIM_PBtnVld",
         "rawType": "object",
         "type": "string"
        },
        {
         "name": "CIM_0x189.CIM_OTARdy_Fb",
         "rawType": "object",
         "type": "string"
        },
        {
         "name": "VCU_0x110.VCU_100_110_CheckSum",
         "rawType": "int64",
         "type": "integer"
        },
        {
         "name": "VCU_0x110.VCU_100_110_AliveCounter",
         "rawType": "int64",
         "type": "integer"
        },
        {
         "name": "VCU_0x110.VCU_FrntMotDampgFobdFlg",
         "rawType": "object",
         "type": "string"
        },
        {
         "name": "VCU_0x110.VCU_BoostCmd_F",
         "rawType": "object",
         "type": "string"
        },
        {
         "name": "VCU_0x110.VCU_FrntMotTarTqCmdVld",
         "rawType": "object",
         "type": "string"
        },
        {
         "name": "VCU_0x110.VCU_FrntMotModCmd",
         "rawType": "object",
         "type": "string"
        },
        {
         "name": "VCU_0x110.VCU_FrntMotTarTqCmd",
         "rawType": "float64",
         "type": "float"
        },
        {
         "name": "VCU_0x111.VCU_101_111_CheckSum",
         "rawType": "int64",
         "type": "integer"
        },
        {
         "name": "VCU_0x111.VCU_101_111_AliveCounter",
         "rawType": "int64",
         "type": "integer"
        },
        {
         "name": "VCU_0x111.VCU_ReMotDampgFobdFlg",
         "rawType": "object",
         "type": "string"
        },
        {
         "name": "VCU_0x111.VCU_BoostCmd_R",
         "rawType": "object",
         "type": "string"
        },
        {
         "name": "VCU_0x111.VCU_ReMotTarTqCmdVld",
         "rawType": "object",
         "type": "string"
        },
        {
         "name": "VCU_0x111.VCU_ReMotModCmd",
         "rawType": "object",
         "type": "string"
        },
        {
         "name": "VCU_0x111.VCU_ReMotTarTqCmd",
         "rawType": "float64",
         "type": "float"
        },
        {
         "name": "CIM_0x310.CIM_310_CheckSum",
         "rawType": "int64",
         "type": "integer"
        },
        {
         "name": "CIM_0x310.CIM_310_AliveCounter",
         "rawType": "int64",
         "type": "integer"
        },
        {
         "name": "CIM_0x310.CIM_FrntWshrSwtSts",
         "rawType": "object",
         "type": "string"
        },
        {
         "name": "CIM_0x310.CIM_HiBeamSwtSts",
         "rawType": "object",
         "type": "string"
        },
        {
         "name": "CIM_0x310.CIM_TurnLampSwtSts",
         "rawType": "object",
         "type": "string"
        },
        {
         "name": "CIM_0x310.CIM_FrntWiprSwtSts",
         "rawType": "object",
         "type": "string"
        },
        {
         "name": "ESP_0x115.ESP_115_CheckSum",
         "rawType": "int64",
         "type": "integer"
        },
        {
         "name": "ESP_0x115.ESP_115_AliveCounter",
         "rawType": "int64",
         "type": "integer"
        },
        {
         "name": "ESP_0x115.ESP_WhlSpdVld_RF",
         "rawType": "object",
         "type": "string"
        },
        {
         "name": "ESP_0x115.ESP_WhlSpd_RF",
         "rawType": "float64",
         "type": "float"
        },
        {
         "name": "ESP_0x115.ESP_WhlMovgDir_LF",
         "rawType": "object",
         "type": "string"
        },
        {
         "name": "ESP_0x115.ESP_WhlMovgDir_RF",
         "rawType": "object",
         "type": "string"
        },
        {
         "name": "ESP_0x115.ESP_WhlSpdVld_LF",
         "rawType": "object",
         "type": "string"
        },
        {
         "name": "ESP_0x115.ESP_WhlSpd_LF",
         "rawType": "float64",
         "type": "float"
        },
        {
         "name": "TBOX_0x385.TBOX_PreHeatDepartTi1_Hr",
         "rawType": "int64",
         "type": "integer"
        },
        {
         "name": "TBOX_0x385.TBOX_PreHeatDepartSet",
         "rawType": "object",
         "type": "string"
        },
        {
         "name": "TBOX_0x385.TBOX_PreHeatDepartTi1_Mins",
         "rawType": "int64",
         "type": "integer"
        },
        {
         "name": "TBOX_0x385.TBOX_SunPreHeatDepartSet",
         "rawType": "object",
         "type": "string"
        },
        {
         "name": "TBOX_0x385.TBOX_SatPreHeatDepartSet",
         "rawType": "object",
         "type": "string"
        },
        {
         "name": "TBOX_0x385.TBOX_FriPreHeatDepartSet",
         "rawType": "object",
         "type": "string"
        },
        {
         "name": "TBOX_0x385.TBOX_ThuPreHeatDepartSet",
         "rawType": "object",
         "type": "string"
        },
        {
         "name": "TBOX_0x385.TBOX_WedPreHeatDepartSet",
         "rawType": "object",
         "type": "string"
        },
        {
         "name": "TBOX_0x385.TBOX_TuePreHeatDepartSet",
         "rawType": "object",
         "type": "string"
        },
        {
         "name": "TBOX_0x385.TBOX_MonPreHeatDepartSet",
         "rawType": "object",
         "type": "string"
        },
        {
         "name": "TBOX_0x385.TBOX_PreCdnTarT",
         "rawType": "float64",
         "type": "float"
        },
        {
         "name": "TBOX_0x385.TBOX_PreHeatDepartTi2_Hr",
         "rawType": "int64",
         "type": "integer"
        },
        {
         "name": "TBOX_0x385.TBOX_PreHeatDepartSetFb",
         "rawType": "object",
         "type": "string"
        },
        {
         "name": "TBOX_0x385.TBOX_PreHeatDepartTi2_Mins",
         "rawType": "int64",
         "type": "integer"
        },
        {
         "name": "MCU_F_0x150.MCU_F_150_CheckSum",
         "rawType": "float64",
         "type": "float"
        },
        {
         "name": "MCU_F_0x150.MCU_F_CrtRotDir",
         "rawType": "object",
         "type": "string"
        },
        {
         "name": "MCU_F_0x150.MCU_F_CrtTqVld",
         "rawType": "object",
         "type": "string"
        },
        {
         "name": "MCU_F_0x150.MCU_F_150_AliveCounter",
         "rawType": "float64",
         "type": "float"
        },
        {
         "name": "MCU_F_0x150.MCU_F_CrtSpd",
         "rawType": "float64",
         "type": "float"
        },
        {
         "name": "MCU_F_0x150.MCU_F_CrtSpdSigVld",
         "rawType": "object",
         "type": "string"
        },
        {
         "name": "MCU_F_0x150.MCU_F_CrtTq",
         "rawType": "float64",
         "type": "float"
        },
        {
         "name": "MCU_F_0x150.MCU_F_CrtMod",
         "rawType": "object",
         "type": "string"
        },
        {
         "name": "MCU_F_0x150.MCU_F_HVChkEndFlg",
         "rawType": "object",
         "type": "string"
        },
        {
         "name": "MCU_F_0x150.MCU_F_AlrmLamp_FS",
         "rawType": "object",
         "type": "string"
        },
        {
         "name": "MCU_F_0x150.MCU_F_SlipCtrlActMode",
         "rawType": "object",
         "type": "string"
        },
        {
         "name": "MCU_F_0x150.MCU_F_HVActvDchaSts",
         "rawType": "object",
         "type": "string"
        },
        {
         "name": "MCU_F_0x355.MCU_F_355_CheckSum",
         "rawType": "float64",
         "type": "float"
        },
        {
         "name": "MCU_F_0x355.MCU_F_CrtSts",
         "rawType": "object",
         "type": "string"
        },
        {
         "name": "MCU_F_0x355.MCU_F_ReqZeroTqFlg",
         "rawType": "object",
         "type": "string"
        },
        {
         "name": "MCU_F_0x355.MCU_F_355_AliveCounter",
         "rawType": "float64",
         "type": "float"
        },
        {
         "name": "MCU_F_0x355.MCU_F_MaxPwrGennTq",
         "rawType": "float64",
         "type": "float"
        },
        {
         "name": "MCU_F_0x355.MCU_F_MaxElecTq",
         "rawType": "float64",
         "type": "float"
        },
        {
         "name": "MCU_F_0x355.MCU_F_MOT_T",
         "rawType": "float64",
         "type": "float"
        },
        {
         "name": "MCU_F_0x355.MCU_F_IGBTT",
         "rawType": "float64",
         "type": "float"
        },
        {
         "name": "MCU_F_0x365.MCU_F_ComLostFlt_VCU",
         "rawType": "object",
         "type": "string"
        },
        {
         "name": "MCU_F_0x365.MCU_F_CtrlPanTChkCircFlt",
         "rawType": "object",
         "type": "string"
        },
        {
         "name": "MCU_F_0x365.MCU_F_HVActvDchaFlt",
         "rawType": "object",
         "type": "string"
        },
        {
         "name": "MCU_F_0x365.MCU_F_SecuStsChkFlt",
         "rawType": "object",
         "type": "string"
        },
        {
         "name": "MCU_F_0x365.MCU_F_CooltOverTFlt",
         "rawType": "object",
         "type": "string"
        },
        {
         "name": "MCU_F_0x365.MCU_F_OperModFlt",
         "rawType": "object",
         "type": "string"
        },
        {
         "name": "MCU_F_0x365.MCU_F_I2TFlt",
         "rawType": "object",
         "type": "string"
        },
        {
         "name": "MCU_F_0x365.MCU_F_E2EFlt",
         "rawType": "object",
         "type": "string"
        },
        {
         "name": "MCU_F_0x365.MCU_F_DCBusOverVoltFlt",
         "rawType": "object",
         "type": "string"
        },
        {
         "name": "MCU_F_0x365.MCU_F_DCBusUnderVoltFlt",
         "rawType": "object",
         "type": "string"
        },
        {
         "name": "MCU_F_0x365.MCU_F_ThreePhaCrtChkFlt",
         "rawType": "object",
         "type": "string"
        },
        {
         "name": "MCU_F_0x365.MCU_F_PhaCrtSampleCircFltW",
         "rawType": "object",
         "type": "string"
        },
        {
         "name": "MCU_F_0x365.MCU_F_PhaCrtSampleCircFltV",
         "rawType": "object",
         "type": "string"
        },
        {
         "name": "MCU_F_0x365.MCU_F_PhaCrtSampleCircFltU",
         "rawType": "object",
         "type": "string"
        },
        {
         "name": "MCU_F_0x365.MCU_F_IGBTTChkCircFltU",
         "rawType": "object",
         "type": "string"
        },
        {
         "name": "MCU_F_0x365.MCU_F_IGBTOverTFltU",
         "rawType": "object",
         "type": "string"
        },
        {
         "name": "MCU_F_0x365.MCU_F_OverSpdFlt",
         "rawType": "object",
         "type": "string"
        },
        {
         "name": "MCU_F_0x365.MCU_F_DCBusVoltSampleCircFlt",
         "rawType": "object",
         "type": "string"
        },
        {
         "name": "MCU_F_0x365.MCU_F_PosnSnsrChkCircFlt",
         "rawType": "object",
         "type": "string"
        },
        {
         "name": "MCU_F_0x365.MCU_F_LVPwrSplyOverVoltFlt",
         "rawType": "object",
         "type": "string"
        },
        {
         "name": "MCU_F_0x365.MCU_F_LVPwrSplyUnderVoltFlt",
         "rawType": "object",
         "type": "string"
        },
        {
         "name": "MCU_F_0x365.MCU_F_CtrlPanOverTFlt",
         "rawType": "object",
         "type": "string"
        },
        {
         "name": "MCU_F_0x365.MCU_F_TChkCircFlt",
         "rawType": "object",
         "type": "string"
        },
        {
         "name": "MCU_F_0x365.MCU_F_OverTFlt",
         "rawType": "object",
         "type": "string"
        },
        {
         "name": "MCU_F_0x365.MCU_F_IGBTTChkCircFltW",
         "rawType": "object",
         "type": "string"
        },
        {
         "name": "MCU_F_0x365.MCU_F_IGBTTChkCircFltV",
         "rawType": "object",
         "type": "string"
        },
        {
         "name": "MCU_F_0x365.MCU_F_IntComFlt",
         "rawType": "object",
         "type": "string"
        },
        {
         "name": "MCU_F_0x365.MCU_F_RotCalFlt",
         "rawType": "object",
         "type": "string"
        },
        {
         "name": "MCU_F_0x365.MCU_F_IGBTThreePhaTChkFlt",
         "rawType": "object",
         "type": "string"
        },
        {
         "name": "MCU_F_0x365.MCU_F_PwrSplyModFlt",
         "rawType": "object",
         "type": "string"
        },
        {
         "name": "MCU_F_0x365.MCU_F_TqCmdOverLimFlt",
         "rawType": "object",
         "type": "string"
        },
        {
         "name": "MCU_F_0x365.MCU_F_PhaCrtSwOverCrtFltU",
         "rawType": "object",
         "type": "string"
        },
        {
         "name": "MCU_F_0x365.MCU_F_FbTqStsChkFlt",
         "rawType": "object",
         "type": "string"
        },
        {
         "name": "MCU_F_0x365.MCU_F_IGBTOverTFltW",
         "rawType": "object",
         "type": "string"
        },
        {
         "name": "MCU_F_0x365.MCU_F_IGBTOverTFltV",
         "rawType": "object",
         "type": "string"
        },
        {
         "name": "MCU_F_0x365.MCU_F_PhaCrtSwOverCrtFltW",
         "rawType": "object",
         "type": "string"
        },
        {
         "name": "MCU_F_0x365.MCU_F_PhaCrtSwOverCrtFltV",
         "rawType": "object",
         "type": "string"
        },
        {
         "name": "MCU_F_0x365.MCU_F_IGBTDesatFltBot",
         "rawType": "object",
         "type": "string"
        },
        {
         "name": "MCU_F_0x365.MCU_F_IGBTDesatFltTop",
         "rawType": "object",
         "type": "string"
        },
        {
         "name": "MCU_F_0x365.MCU_F_IntTqChkFlt",
         "rawType": "object",
         "type": "string"
        },
        {
         "name": "MCU_R_0x151.MCU_R_151_CheckSum",
         "rawType": "float64",
         "type": "float"
        },
        {
         "name": "MCU_R_0x151.MCU_R_CrtRotDir",
         "rawType": "object",
         "type": "string"
        },
        {
         "name": "MCU_R_0x151.MCU_R_CrtTqVld",
         "rawType": "object",
         "type": "string"
        },
        {
         "name": "MCU_R_0x151.MCU_R_151_AliveCounter",
         "rawType": "float64",
         "type": "float"
        },
        {
         "name": "MCU_R_0x151.MCU_R_CrtSpd",
         "rawType": "float64",
         "type": "float"
        },
        {
         "name": "MCU_R_0x151.MCU_R_CrtSpdSigVld",
         "rawType": "object",
         "type": "string"
        },
        {
         "name": "MCU_R_0x151.MCU_R_CrtTq",
         "rawType": "float64",
         "type": "float"
        },
        {
         "name": "MCU_R_0x151.MCU_R_Decoup_State",
         "rawType": "object",
         "type": "string"
        },
        {
         "name": "MCU_R_0x151.MCU_R_CrtMod",
         "rawType": "object",
         "type": "string"
        },
        {
         "name": "MCU_R_0x151.MCU_R_HVChkEndFlg",
         "rawType": "object",
         "type": "string"
        },
        {
         "name": "MCU_R_0x151.MCU_R_AlrmLamp_FS",
         "rawType": "object",
         "type": "string"
        },
        {
         "name": "MCU_R_0x151.MCU_R_SlipCtrlActMode",
         "rawType": "object",
         "type": "string"
        },
        {
         "name": "MCU_R_0x151.MCU_R_HVActvDchaSts",
         "rawType": "object",
         "type": "string"
        },
        {
         "name": "MCU_R_0x354.MCU_R_354_CheckSum",
         "rawType": "float64",
         "type": "float"
        },
        {
         "name": "MCU_R_0x354.MCU_R_CrtSts",
         "rawType": "object",
         "type": "string"
        },
        {
         "name": "MCU_R_0x354.MCU_R_ReqZeroTqFlg",
         "rawType": "object",
         "type": "string"
        },
        {
         "name": "MCU_R_0x354.MCU_R_354_AliveCounter",
         "rawType": "float64",
         "type": "float"
        },
        {
         "name": "MCU_R_0x354.MCU_R_MaxPwrGennTq",
         "rawType": "float64",
         "type": "float"
        },
        {
         "name": "MCU_R_0x354.MCU_R_MaxElecTq",
         "rawType": "float64",
         "type": "float"
        },
        {
         "name": "MCU_R_0x354.MCU_R_MOT_T",
         "rawType": "float64",
         "type": "float"
        },
        {
         "name": "MCU_R_0x354.MCU_R_IGBTT",
         "rawType": "float64",
         "type": "float"
        },
        {
         "name": "MCU_R_0x366.MCU_R_ComLostFlt_VCU",
         "rawType": "object",
         "type": "string"
        },
        {
         "name": "MCU_R_0x366.MCU_R_CtrlPanTChkCircFlt",
         "rawType": "object",
         "type": "string"
        },
        {
         "name": "MCU_R_0x366.MCU_R_HVActvDchaFlt",
         "rawType": "object",
         "type": "string"
        },
        {
         "name": "MCU_R_0x366.MCU_R_SecuStsChkFlt",
         "rawType": "object",
         "type": "string"
        },
        {
         "name": "MCU_R_0x366.MCU_R_CooltOverTFlt",
         "rawType": "object",
         "type": "string"
        },
        {
         "name": "MCU_R_0x366.MCU_R_OperModFlt",
         "rawType": "object",
         "type": "string"
        },
        {
         "name": "MCU_R_0x366.MCU_R_I2TFlt",
         "rawType": "object",
         "type": "string"
        },
        {
         "name": "MCU_R_0x366.MCU_R_E2EFlt",
         "rawType": "object",
         "type": "string"
        },
        {
         "name": "MCU_R_0x366.MCU_R_DCBusOverVoltFlt",
         "rawType": "object",
         "type": "string"
        },
        {
         "name": "MCU_R_0x366.MCU_R_DCBusUnderVoltFlt",
         "rawType": "object",
         "type": "string"
        },
        {
         "name": "MCU_R_0x366.MCU_R_ThreePhaCrtChkFlt",
         "rawType": "object",
         "type": "string"
        },
        {
         "name": "MCU_R_0x366.MCU_R_PhaCrtSampleCircFltW",
         "rawType": "object",
         "type": "string"
        },
        {
         "name": "MCU_R_0x366.MCU_R_PhaCrtSampleCircFltV",
         "rawType": "object",
         "type": "string"
        },
        {
         "name": "MCU_R_0x366.MCU_R_PhaCrtSampleCircFltU",
         "rawType": "object",
         "type": "string"
        },
        {
         "name": "MCU_R_0x366.MCU_R_IGBTTChkCircFltU",
         "rawType": "object",
         "type": "string"
        },
        {
         "name": "MCU_R_0x366.MCU_R_IGBTOverTFltU",
         "rawType": "object",
         "type": "string"
        },
        {
         "name": "MCU_R_0x366.MCU_R_OverSpdFlt",
         "rawType": "object",
         "type": "string"
        },
        {
         "name": "MCU_R_0x366.MCU_R_DCBusVoltSampleCircFlt",
         "rawType": "object",
         "type": "string"
        },
        {
         "name": "MCU_R_0x366.MCU_R_PosnSnsrChkCircFlt",
         "rawType": "object",
         "type": "string"
        },
        {
         "name": "MCU_R_0x366.MCU_R_LVPwrSplyOverVoltFlt",
         "rawType": "object",
         "type": "string"
        },
        {
         "name": "MCU_R_0x366.MCU_R_LVPwrSplyUnderVoltFlt",
         "rawType": "object",
         "type": "string"
        },
        {
         "name": "MCU_R_0x366.MCU_R_CtrlPanOverTFlt",
         "rawType": "object",
         "type": "string"
        },
        {
         "name": "MCU_R_0x366.MCU_R_TChkCircFlt",
         "rawType": "object",
         "type": "string"
        },
        {
         "name": "MCU_R_0x366.MCU_R_OverTFlt",
         "rawType": "object",
         "type": "string"
        },
        {
         "name": "MCU_R_0x366.MCU_R_IGBTTChkCircFltW",
         "rawType": "object",
         "type": "string"
        },
        {
         "name": "MCU_R_0x366.MCU_R_IGBTTChkCircFltV",
         "rawType": "object",
         "type": "string"
        },
        {
         "name": "MCU_R_0x366.MCU_R_IntComFlt",
         "rawType": "object",
         "type": "string"
        },
        {
         "name": "MCU_R_0x366.MCU_R_RotCalFlt",
         "rawType": "object",
         "type": "string"
        },
        {
         "name": "MCU_R_0x366.MCU_R_IGBTThreePhaTChkFlt",
         "rawType": "object",
         "type": "string"
        },
        {
         "name": "MCU_R_0x366.MCU_R_PwrSplyModFlt",
         "rawType": "object",
         "type": "string"
        },
        {
         "name": "MCU_R_0x366.MCU_R_TqCmdOverLimFlt",
         "rawType": "object",
         "type": "string"
        },
        {
         "name": "MCU_R_0x366.MCU_R_PhaCrtSwOverCrtFltU",
         "rawType": "object",
         "type": "string"
        },
        {
         "name": "MCU_R_0x366.MCU_R_FbTqStsChkFlt",
         "rawType": "object",
         "type": "string"
        },
        {
         "name": "MCU_R_0x366.MCU_R_IGBTOverTFltW",
         "rawType": "object",
         "type": "string"
        },
        {
         "name": "MCU_R_0x366.MCU_R_IGBTOverTFltV",
         "rawType": "object",
         "type": "string"
        },
        {
         "name": "MCU_R_0x366.MCU_R_PhaCrtSwOverCrtFltW",
         "rawType": "object",
         "type": "string"
        },
        {
         "name": "MCU_R_0x366.MCU_R_PhaCrtSwOverCrtFltV",
         "rawType": "object",
         "type": "string"
        },
        {
         "name": "MCU_R_0x366.MCU_R_IGBTDesatFltBot",
         "rawType": "object",
         "type": "string"
        },
        {
         "name": "MCU_R_0x366.MCU_R_IGBTDesatFltTop",
         "rawType": "object",
         "type": "string"
        },
        {
         "name": "MCU_R_0x366.MCU_R_IntTqChkFlt",
         "rawType": "object",
         "type": "string"
        },
        {
         "name": "PKC_0x1B6.PKC_1B6_CheckSum",
         "rawType": "int64",
         "type": "integer"
        },
        {
         "name": "PKC_0x1B6.PKC_TpActDeactInp",
         "rawType": "object",
         "type": "string"
        },
        {
         "name": "PKC_0x1B6.PKC_TpMnvrCancel",
         "rawType": "object",
         "type": "string"
        },
        {
         "name": "PKC_0x1B6.PKC_1B6_AliveCounter",
         "rawType": "int64",
         "type": "integer"
        },
        {
         "name": "PKC_0x1B6.PKC_RemChrgDchaGunUnlckCmd",
         "rawType": "object",
         "type": "string"
        },
        {
         "name": "PKC_0x1B6.PKC_RemDrvgReq",
         "rawType": "object",
         "type": "string"
        },
        {
         "name": "PKC_0x1B6.PKC_RemPwrOnOffReq",
         "rawType": "object",
         "type": "string"
        },
        {
         "name": "PKC_0x1B6.PKC_RmteDviceBattLvl",
         "rawType": "int64",
         "type": "integer"
        },
        {
         "name": "PKC_0x1B6.PKC_DviceAliveCnt",
         "rawType": "int64",
         "type": "integer"
        },
        {
         "name": "PKC_0x1B6.PKC_DviceRngeDist",
         "rawType": "object",
         "type": "string"
        },
        {
         "name": "PKC_0x1B6.PKC_BLE_Online",
         "rawType": "object",
         "type": "string"
        },
        {
         "name": "PKC_0x1B6.PKC_RapActDeactInp",
         "rawType": "object",
         "type": "string"
        },
        {
         "name": "PKC_0x1B6.PKC_MnvreEnblInput",
         "rawType": "object",
         "type": "string"
        },
        {
         "name": "PKC_0x1B6.PKC_MnvrRtnStartKey",
         "rawType": "float64",
         "type": "float"
        },
        {
         "name": "PKC_0x1B6.PKC_MnvrRemsumeKey",
         "rawType": "float64",
         "type": "float"
        },
        {
         "name": "PKC_0x1B6.PKC_NFCReminderPromt",
         "rawType": "object",
         "type": "string"
        },
        {
         "name": "PKC_0x1B6.PKC_AlcInterlockReqPromt",
         "rawType": "object",
         "type": "string"
        },
        {
         "name": "PKC_0x1B6.PKC_AuthUsr",
         "rawType": "object",
         "type": "string"
        },
        {
         "name": "BCM_0x321.BCM_AP_FL_LeFrntWinPosnInfo",
         "rawType": "float64",
         "type": "float"
        },
        {
         "name": "BCM_0x321.BCM_AP_FL_RiFrntWinPosnInfo",
         "rawType": "float64",
         "type": "float"
        },
        {
         "name": "BCM_0x321.BCM_AP_FL_LeReWinPosnInfo",
         "rawType": "float64",
         "type": "float"
        },
        {
         "name": "BCM_0x321.BCM_AP_FL_RiReWinPosnInfo",
         "rawType": "float64",
         "type": "float"
        },
        {
         "name": "BCM_0x321.BCM_ValueLightFrnt_RLS",
         "rawType": "int64",
         "type": "integer"
        },
        {
         "name": "BCM_0x321.BCM_LightReqReason_RLS",
         "rawType": "object",
         "type": "string"
        },
        {
         "name": "TBOX_0x36.TBOX_RemSeekCarCtrlCmd",
         "rawType": "object",
         "type": "string"
        },
        {
         "name": "TBOX_0x36.TBOX_RemDrvrSeatHeatgCmd",
         "rawType": "object",
         "type": "string"
        },
        {
         "name": "TBOX_0x36.TBOX_RemDrvrSeatVentnCmd",
         "rawType": "object",
         "type": "string"
        },
        {
         "name": "TBOX_0x36.TBOX_RemClsTrCmd",
         "rawType": "object",
         "type": "string"
        },
        {
         "name": "TBOX_0x36.TBOX_RemPassSeatHeatgCmd",
         "rawType": "object",
         "type": "string"
        },
        {
         "name": "TBOX_0x36.TBOX_RemPassSeatVentnCmd",
         "rawType": "object",
         "type": "string"
        },
        {
         "name": "TBOX_0x36.TBOX_RemSetWelFct",
         "rawType": "object",
         "type": "string"
        },
        {
         "name": "TBOX_0x36.TBOX_RemSetFolwMeFct_BCM",
         "rawType": "object",
         "type": "string"
        },
        {
         "name": "TBOX_0x36.TBOX_ClsRemAVMFct_AVAP",
         "rawType": "object",
         "type": "string"
        },
        {
         "name": "TBOX_0x36.TBOX_ClsAVMFct_ICC",
         "rawType": "object",
         "type": "string"
        },
        {
         "name": "TBOX_0x36.TBOX_VoiceBlowerLimReq",
         "rawType": "object",
         "type": "string"
        },
        {
         "name": "TBOX_0x36.TBOX_VideoCtrlReq",
         "rawType": "object",
         "type": "string"
        },
        {
         "name": "TBOX_0x36.TBOX_RemSetKickSnsrFct",
         "rawType": "object",
         "type": "string"
        },
        {
         "name": "TBOX_0x36.TBOX_RemSetCtrlLockFct_PKC",
         "rawType": "object",
         "type": "string"
        },
        {
         "name": "TBOX_0x36.TBOX_RemReScrnHeatgCmd",
         "rawType": "object",
         "type": "string"
        },
        {
         "name": "TBOX_0x36.TBOX_eCallMuteSt",
         "rawType": "object",
         "type": "string"
        },
        {
         "name": "TBOX_0x36.TBOX_CtrlReMirrReq",
         "rawType": "object",
         "type": "string"
        },
        {
         "name": "TBOX_0x36.TBOX_RemCtrlCmdFb",
         "rawType": "object",
         "type": "string"
        },
        {
         "name": "TBOX_0x36.TBOX_eCallSt",
         "rawType": "object",
         "type": "string"
        },
        {
         "name": "BCM_0x333.BCM_333_CheckSum",
         "rawType": "int64",
         "type": "integer"
        },
        {
         "name": "BCM_0x333.BCM_KL15_Off_Announcement",
         "rawType": "object",
         "type": "string"
        },
        {
         "name": "BCM_0x333.BCM_333_AliveCounter",
         "rawType": "int64",
         "type": "integer"
        },
        {
         "name": "BCM_0x333.BCM_PwrModVld",
         "rawType": "object",
         "type": "string"
        },
        {
         "name": "BCM_0x333.BCM_PwrMod",
         "rawType": "object",
         "type": "string"
        },
        {
         "name": "BCM_0x333.BCM_IG1Sts",
         "rawType": "object",
         "type": "string"
        },
        {
         "name": "BCM_0x333.BCM_IG2StsVld_CAPE",
         "rawType": "object",
         "type": "string"
        },
        {
         "name": "BCM_0x333.BCM_IG1StsVld_CAPE",
         "rawType": "object",
         "type": "string"
        },
        {
         "name": "BCM_0x333.BCM_BrkSwtSts",
         "rawType": "object",
         "type": "string"
        },
        {
         "name": "BCM_0x333.BCM_InteriorSwtSt",
         "rawType": "object",
         "type": "string"
        },
        {
         "name": "BCM_0x333.BCM_IG2Sts",
         "rawType": "object",
         "type": "string"
        },
        {
         "name": "BCM_0x333.BCM_KL30s_L",
         "rawType": "object",
         "type": "string"
        },
        {
         "name": "BCM_0x335.BCM_335_CheckSum",
         "rawType": "int64",
         "type": "integer"
        },
        {
         "name": "BCM_0x335.BCM_IntLampTiSetSts",
         "rawType": "object",
         "type": "string"
        },
        {
         "name": "BCM_0x335.BCM_WiprInSrvPosn",
         "rawType": "object",
         "type": "string"
        },
        {
         "name": "BCM_0x335.BCM_335_AliveCounter",
         "rawType": "int64",
         "type": "integer"
        },
        {
         "name": "BCM_0x335.BCM_ExtLampSwtSts",
         "rawType": "object",
         "type": "string"
        },
        {
         "name": "BCM_0x335.BCM_PwrSaveOutpCmd",
         "rawType": "object",
         "type": "string"
        },
        {
         "name": "BCM_0x335.BCM_EnaSts_ADB",
         "rawType": "object",
         "type": "string"
        },
        {
         "name": "BCM_0x335.BCM_LicPlateLampOutpCmd",
         "rawType": "object",
         "type": "string"
        },
        {
         "name": "BCM_0x335.BCM_FrntFogLampOutpCmd",
         "rawType": "object",
         "type": "string"
        },
        {
         "name": "BCM_0x335.BCM_WaterPosnSnsrSwtSts",
         "rawType": "object",
         "type": "string"
        },
        {
         "name": "BCM_0x335.BCM_RainClsSunroofSetSts",
         "rawType": "object",
         "type": "string"
        },
        {
         "name": "BCM_0x335.BCM_ReWiprBackSwtSts",
         "rawType": "object",
         "type": "string"
        },
        {
         "name": "BCM_0x335.BCM_ReFogLampSwtSts",
         "rawType": "object",
         "type": "string"
        },
        {
         "name": "BCM_0x335.BCM_FrntFogLampSwtSts",
         "rawType": "object",
         "type": "string"
        },
        {
         "name": "BCM_0x335.BCM_FolwMeHomeSts",
         "rawType": "object",
         "type": "string"
        },
        {
         "name": "BCM_0x335.BCM_WelLampOutpCmd",
         "rawType": "object",
         "type": "string"
        },
        {
         "name": "BCM_0x335.BCM_HornSwtSts",
         "rawType": "object",
         "type": "string"
        },
        {
         "name": "BCM_0x335.BCM_HornOutpCmd",
         "rawType": "object",
         "type": "string"
        },
        {
         "name": "BCM_0x335.BCM_RiTrunLampOutpCmd",
         "rawType": "object",
         "type": "string"
        },
        {
         "name": "BCM_0x335.BCM_LeTrunLampOutpCmd",
         "rawType": "object",
         "type": "string"
        },
        {
         "name": "BCM_0x335.BCM_IntLampOutpCmd",
         "rawType": "object",
         "type": "string"
        },
        {
         "name": "BCM_0x335.BCM_RvsLampOutpCmd",
         "rawType": "object",
         "type": "string"
        },
        {
         "name": "BCM_0x335.BCM_ReDefrstHeatgCmd",
         "rawType": "object",
         "type": "string"
        },
        {
         "name": "BCM_0x335.BCM_DangerAlrmLampSwtSts",
         "rawType": "object",
         "type": "string"
        },
        {
         "name": "BCM_0x335.BCM_FrntWshrOutpCmd",
         "rawType": "object",
         "type": "string"
        },
        {
         "name": "BCM_0x335.BCM_MirrLockAutoSetSts",
         "rawType": "object",
         "type": "string"
        },
        {
         "name": "BCM_0x335.BCM_BrkLampOutpCmd",
         "rawType": "object",
         "type": "string"
        },
        {
         "name": "BCM_0x335.BCM_PosnLampOutpCmd",
         "rawType": "object",
         "type": "string"
        },
        {
         "name": "BCM_0x335.BCM_LoBeamOutpCmd",
         "rawType": "object",
         "type": "string"
        },
        {
         "name": "BCM_0x335.BCM_HiBeamOutpCmd",
         "rawType": "object",
         "type": "string"
        },
        {
         "name": "BCM_0x335.BCM_BrkLampSwtSts",
         "rawType": "object",
         "type": "string"
        },
        {
         "name": "BCM_0x335.BCM_ReWshrOutpCmd",
         "rawType": "object",
         "type": "string"
        },
        {
         "name": "BCM_0x335.BCM_ReWiprOutpCmd",
         "rawType": "object",
         "type": "string"
        },
        {
         "name": "BCM_0x335.BCM_EnaReq_ADB",
         "rawType": "object",
         "type": "string"
        },
        {
         "name": "BCM_0x335.BCM_FrntWiprSpd",
         "rawType": "int64",
         "type": "integer"
        },
        {
         "name": "BCM_0x335.BCM_ReFogLampOutpCmd",
         "rawType": "object",
         "type": "string"
        },
        {
         "name": "BCM_0x335.BCM_VehAmbBri",
         "rawType": "int64",
         "type": "integer"
        },
        {
         "name": "BCM_0x343.BCM_343_CheckSum",
         "rawType": "int64",
         "type": "integer"
        },
        {
         "name": "BCM_0x343.BCM_APASwSts",
         "rawType": "object",
         "type": "string"
        },
        {
         "name": "BCM_0x343.BCM_RemReqFb",
         "rawType": "object",
         "type": "string"
        },
        {
         "name": "BCM_0x343.BCM_343_AliveCounter",
         "rawType": "int64",
         "type": "integer"
        },
        {
         "name": "BCM_0x343.BCM_PasFrntDoorSts",
         "rawType": "object",
         "type": "string"
        },
        {
         "name": "BCM_0x343.BCM_DrFrntDoorSts",
         "rawType": "object",
         "type": "string"
        },
        {
         "name": "BCM_0x343.BCM_LockAllDoorCmd",
         "rawType": "object",
         "type": "string"
        },
        {
         "name": "BCM_0x343.BCM_TrRelsSwtSts",
         "rawType": "object",
         "type": "string"
        },
        {
         "name": "BCM_0x343.BCM_FrntDrDoorLockSts",
         "rawType": "object",
         "type": "string"
        },
        {
         "name": "BCM_0x343.BCM_SunroofAntipinchSts",
         "rawType": "object",
         "type": "string"
        },
        {
         "name": "BCM_0x343.BCM_FrntHoodLidSts",
         "rawType": "object",
         "type": "string"
        },
        {
         "name": "BCM_0x343.BCM_LeFrntWinSts",
         "rawType": "object",
         "type": "string"
        },
        {
         "name": "BCM_0x343.BCM_LeReDoorSts",
         "rawType": "object",
         "type": "string"
        },
        {
         "name": "BCM_0x343.BCM_RiReDoorSts",
         "rawType": "object",
         "type": "string"
        },
        {
         "name": "BCM_0x343.BCM_DoorUnlockSetFb",
         "rawType": "object",
         "type": "string"
        },
        {
         "name": "BCM_0x343.BCM_CenLockSwtSts",
         "rawType": "object",
         "type": "string"
        },
        {
         "name": "BCM_0x343.BCM_AntithftSts",
         "rawType": "object",
         "type": "string"
        },
        {
         "name": "BCM_0x343.BCM_DrvrDoorUnlckOutpCmd",
         "rawType": "object",
         "type": "string"
        },
        {
         "name": "BCM_0x343.BCM_FolwMeSetStsFb",
         "rawType": "object",
         "type": "string"
        },
        {
         "name": "BCM_0x343.BCM_SunroofSts",
         "rawType": "object",
         "type": "string"
        },
        {
         "name": "BCM_0x343.BCM_RiReWinSt",
         "rawType": "object",
         "type": "string"
        },
        {
         "name": "BCM_0x343.BCM_LeReWinSts",
         "rawType": "object",
         "type": "string"
        },
        {
         "name": "BCM_0x343.BCM_RiFrntWinSts",
         "rawType": "object",
         "type": "string"
        },
        {
         "name": "BCM_0x343.BCM_WarnVbrnSts",
         "rawType": "object",
         "type": "string"
        },
        {
         "name": "BCM_0x343.BCM_OffAutoUnlckSetSts",
         "rawType": "object",
         "type": "string"
        },
        {
         "name": "BCM_0x343.BCM_ArmedClsWinSetSts",
         "rawType": "object",
         "type": "string"
        },
        {
         "name": "BCM_0x343.BCM_RiDRLOutpCmd",
         "rawType": "object",
         "type": "string"
        },
        {
         "name": "BCM_0x343.BCM_LeDRLOutpCmd",
         "rawType": "object",
         "type": "string"
        },
        {
         "name": "BCM_0x343.BCM_PassDoorUnlckOutpCmd",
         "rawType": "object",
         "type": "string"
        },
        {
         "name": "BCM_0x343.BCM_SunroofPosnInfo",
         "rawType": "int64",
         "type": "integer"
        },
        {
         "name": "BCM_0x343.BCM_MirrCmd",
         "rawType": "object",
         "type": "string"
        },
        {
         "name": "BCM_0x343.BCM_SunroofRunngSts",
         "rawType": "object",
         "type": "string"
        },
        {
         "name": "BCM_0x343.BCM_SteerWhlVbrnAlrmAvl",
         "rawType": "object",
         "type": "string"
        },
        {
         "name": "BCM_0x343.BCM_SunroofOpenAr",
         "rawType": "object",
         "type": "string"
        },
        {
         "name": "BCM_0x345.BCM_345_CheckSum",
         "rawType": "int64",
         "type": "integer"
        },
        {
         "name": "BCM_0x345.BCM_SunshadeRunngSts",
         "rawType": "object",
         "type": "string"
        },
        {
         "name": "BCM_0x345.BCM_OutpValResl_HUD",
         "rawType": "object",
         "type": "string"
        },
        {
         "name": "BCM_0x345.BCM_345_AliveCounter",
         "rawType": "int64",
         "type": "integer"
        },
        {
         "name": "BCM_0x345.BCM_RiSolaValr_RLS",
         "rawType": "float64",
         "type": "float"
        },
        {
         "name": "BCM_0x345.BCM_LeSolaValr_RLS",
         "rawType": "float64",
         "type": "float"
        },
        {
         "name": "BCM_0x345.BCM_WindshdHum_RLS",
         "rawType": "float64",
         "type": "float"
        },
        {
         "name": "BCM_0x345.BCM_WindshdT_RLS",
         "rawType": "float64",
         "type": "float"
        },
        {
         "name": "BCM_0x345.BCM_MeasdVal_HUD",
         "rawType": "int64",
         "type": "integer"
        },
        {
         "name": "BCM_0x345.BCM_SunshadePosnInfo",
         "rawType": "int64",
         "type": "integer"
        },
        {
         "name": "BCM_0x364.BCM_364_CheckSum",
         "rawType": "int64",
         "type": "integer"
        },
        {
         "name": "BCM_0x364.BCM_OTAInhbRdy",
         "rawType": "object",
         "type": "string"
        },
        {
         "name": "BCM_0x364.BCM_OTARdy_Fb",
         "rawType": "object",
         "type": "string"
        },
        {
         "name": "BCM_0x364.BCM_364_AliveCounter",
         "rawType": "int64",
         "type": "integer"
        },
        {
         "name": "BCM_0x364.BCM_BucSwtSt2ndRowMid",
         "rawType": "object",
         "type": "string"
        },
        {
         "name": "BCM_0x364.BCM_BucSwtSt2ndRowLeft",
         "rawType": "object",
         "type": "string"
        },
        {
         "name": "BCM_0x364.BCM_SBRMatStPass",
         "rawType": "object",
         "type": "string"
        },
        {
         "name": "BCM_0x364.BCM_SBRMatSt2ndRowLeft",
         "rawType": "object",
         "type": "string"
        },
        {
         "name": "BCM_0x364.BCM_BucSwtSt3rdRowRight",
         "rawType": "object",
         "type": "string"
        },
        {
         "name": "BCM_0x364.BCM_BucSwtSt3rdRowLeft",
         "rawType": "object",
         "type": "string"
        },
        {
         "name": "BCM_0x364.BCM_BucSwtSt2ndRowRight",
         "rawType": "object",
         "type": "string"
        },
        {
         "name": "BCM_0x364.BCM_SBRMat3rdRowRight",
         "rawType": "object",
         "type": "string"
        },
        {
         "name": "BCM_0x364.BCM_SBRMat3rdRowLeft",
         "rawType": "object",
         "type": "string"
        },
        {
         "name": "BCM_0x364.BCM_SBRMatSt2ndRowRight",
         "rawType": "object",
         "type": "string"
        },
        {
         "name": "BCM_0x364.BCM_SBRMatSt2ndRowMid",
         "rawType": "object",
         "type": "string"
        },
        {
         "name": "BCM_0x369.BCM_AP_TL_LeReWinPosnInfo",
         "rawType": "float64",
         "type": "float"
        },
        {
         "name": "BCM_0x369.BCM_AP_TL_RiReWinPosnInfo",
         "rawType": "float64",
         "type": "float"
        },
        {
         "name": "BCM_0x369.BCM_AP_RW_WinPosnInfo",
         "rawType": "float64",
         "type": "float"
        },
        {
         "name": "BCM_0x369.BCM_BackgndBriLvl_Cfm",
         "rawType": "object",
         "type": "string"
        },
        {
         "name": "BCM_0x369.BCM_AP_RW_WinSts",
         "rawType": "object",
         "type": "string"
        },
        {
         "name": "BCM_0x369.BCM_AP_TL_RiReWinSts",
         "rawType": "object",
         "type": "string"
        },
        {
         "name": "BCM_0x369.BCM_AP_TL_LeReWinSts",
         "rawType": "object",
         "type": "string"
        },
        {
         "name": "BCM_0x369.BCM_RiMirrrYDircAdjSwtSts",
         "rawType": "object",
         "type": "string"
        },
        {
         "name": "BCM_0x369.BCM_RiMirrrXDircAdjSwtSts",
         "rawType": "object",
         "type": "string"
        },
        {
         "name": "BCM_0x369.BCM_LeMirrrYDircAdjSwtSts",
         "rawType": "object",
         "type": "string"
        },
        {
         "name": "BCM_0x369.BCM_LeMirrrXDircAdjSwtSts",
         "rawType": "object",
         "type": "string"
        },
        {
         "name": "BCM_0x369.BCM_MirrSelectSwtSts",
         "rawType": "object",
         "type": "string"
        },
        {
         "name": "BCM_0x386.BCM_RealCurrent",
         "rawType": "float64",
         "type": "float"
        },
        {
         "name": "BCM_0x386.BCM_HeatedSteerWhlSt",
         "rawType": "object",
         "type": "string"
        },
        {
         "name": "BCM_0x386.BCM_HSWCURspEror",
         "rawType": "object",
         "type": "string"
        },
        {
         "name": "BCM_0x386.BCM_RealT",
         "rawType": "object",
         "type": "string"
        },
        {
         "name": "BCM_0x386.BCM_ECUFail",
         "rawType": "object",
         "type": "string"
        },
        {
         "name": "BCM_0x386.BCM_HeatedSteerWhlThPro",
         "rawType": "object",
         "type": "string"
        },
        {
         "name": "BCM_0x386.BCM_HeatedSteerWhlOCF",
         "rawType": "object",
         "type": "string"
        },
        {
         "name": "BCM_0x386.BCM_HeatedSteerWhlSCF",
         "rawType": "object",
         "type": "string"
        },
        {
         "name": "BCM_0x51E.BCM_ApplianceClsLvl",
         "rawType": "object",
         "type": "string"
        },
        {
         "name": "BCM_0x51E.BCM_ActvModDiEna",
         "rawType": "object",
         "type": "string"
        },
        {
         "name": "BCM_0x51E.BCM_LightSnsrHwFlt_RLS",
         "rawType": "object",
         "type": "string"
        },
        {
         "name": "BCM_0x51E.BCM_FogSnsrSysFlt",
         "rawType": "object",
         "type": "string"
        },
        {
         "name": "BCM_0x51E.BCM_SolarSnsrSysFlt",
         "rawType": "object",
         "type": "string"
        },
        {
         "name": "BCM_0x51E.BCM_RainSnsrSysFlt",
         "rawType": "object",
         "type": "string"
        },
        {
         "name": "BCM_0x51E.BCM_SolarSnsrHwFlt_RLS",
         "rawType": "object",
         "type": "string"
        },
        {
         "name": "BCM_0x51E.BCM_GlassSurfaceOcclusion",
         "rawType": "object",
         "type": "string"
        },
        {
         "name": "BCM_0x539.BCM_539_CheckSum",
         "rawType": "int64",
         "type": "integer"
        },
        {
         "name": "BCM_0x539.BCM_539_AliveCounter",
         "rawType": "int64",
         "type": "integer"
        },
        {
         "name": "BCM_0x539.BCM_RiDRLFlt",
         "rawType": "object",
         "type": "string"
        },
        {
         "name": "BCM_0x539.BCM_LeDRLFlt",
         "rawType": "object",
         "type": "string"
        },
        {
         "name": "BCM_0x539.BCM_RiHiBeamFlt",
         "rawType": "object",
         "type": "string"
        },
        {
         "name": "BCM_0x539.BCM_LeHiBeamFlt",
         "rawType": "object",
         "type": "string"
        },
        {
         "name": "BCM_0x539.BCM_RiLoBeamFlt",
         "rawType": "object",
         "type": "string"
        },
        {
         "name": "BCM_0x539.BCM_LeLoBeamFlt",
         "rawType": "object",
         "type": "string"
        },
        {
         "name": "BCM_0x539.BCM_RiPosnLampFlt",
         "rawType": "object",
         "type": "string"
        },
        {
         "name": "BCM_0x539.BCM_LePosnLampFlt",
         "rawType": "object",
         "type": "string"
        },
        {
         "name": "BCM_0x539.BCM_RvsLampFlt",
         "rawType": "object",
         "type": "string"
        },
        {
         "name": "BCM_0x539.BCM_HiBrkLampFlt",
         "rawType": "object",
         "type": "string"
        },
        {
         "name": "BCM_0x539.BCM_LoBrkLampFlt",
         "rawType": "object",
         "type": "string"
        },
        {
         "name": "BCM_0x539.BCM_ReFogLampFlt",
         "rawType": "object",
         "type": "string"
        },
        {
         "name": "BCM_0x539.BCM_RiFrntFogLampFlt",
         "rawType": "object",
         "type": "string"
        },
        {
         "name": "BCM_0x539.BCM_LeFrntFogLampFlt",
         "rawType": "object",
         "type": "string"
        },
        {
         "name": "BCM_0x539.BCM_No_key_found_warning",
         "rawType": "object",
         "type": "string"
        },
        {
         "name": "BCM_0x539.BCM_ElWiperMotorFlt",
         "rawType": "object",
         "type": "string"
        },
        {
         "name": "BCM_0x539.BCM_LicPlateLampFlt",
         "rawType": "object",
         "type": "string"
        },
        {
         "name": "BCM_0x539.BCM_RiTurnLampFlt",
         "rawType": "object",
         "type": "string"
        },
        {
         "name": "BCM_0x539.BCM_LeTurnLampFlt",
         "rawType": "object",
         "type": "string"
        },
        {
         "name": "VCU_0x1A0.VCU_ECC_PwrMax",
         "rawType": "float64",
         "type": "float"
        },
        {
         "name": "VCU_0x1A0.VCU_ECC_PwrMin",
         "rawType": "float64",
         "type": "float"
        },
        {
         "name": "VCU_0x1A0.VCU_DCDCPwrLimCmd",
         "rawType": "float64",
         "type": "float"
        },
        {
         "name": "VCU_0x93.VCU_93_CheckSum",
         "rawType": "int64",
         "type": "integer"
        },
        {
         "name": "VCU_0x93.VCU_IsolationMonitor_Rq",
         "rawType": "object",
         "type": "string"
        },
        {
         "name": "VCU_0x93.VCU_EmgyShutOff",
         "rawType": "object",
         "type": "string"
        },
        {
         "name": "VCU_0x93.VCU_93_AliveCounter",
         "rawType": "object",
         "type": "string"
        },
        {
         "name": "VCU_0x93.VCU_Set_BMS_Mod",
         "rawType": "object",
         "type": "string"
        },
        {
         "name": "VCU_0x93.VCU_Set_Chrg_Mod",
         "rawType": "object",
         "type": "string"
        },
        {
         "name": "VCU_0x93.VCU_Set_Balc_Mod",
         "rawType": "object",
         "type": "string"
        },
        {
         "name": "VCU_0x93.VCU_HVBActivateDeactivateRq",
         "rawType": "object",
         "type": "string"
        },
        {
         "name": "VCU_0x93.VCU_93_SSecOC_Fresh_Byte0",
         "rawType": "int64",
         "type": "integer"
        },
        {
         "name": "VCU_0x93.VCU_93_SSecOC_MAC_Byte0",
         "rawType": "int64",
         "type": "integer"
        },
        {
         "name": "VCU_0x93.VCU_93_SSecOC_MAC_Byte1",
         "rawType": "int64",
         "type": "integer"
        },
        {
         "name": "VCU_0x93.VCU_93_SSecOC_MAC_Byte2",
         "rawType": "int64",
         "type": "integer"
        },
        {
         "name": "VCU_0x225.VCU_225_CheckSum",
         "rawType": "int64",
         "type": "integer"
        },
        {
         "name": "VCU_0x225.VCU_225_AliveCounter",
         "rawType": "int64",
         "type": "integer"
        },
        {
         "name": "VCU_0x225.VCU_BusCrtEstim",
         "rawType": "float64",
         "type": "float"
        },
        {
         "name": "VCU_0x225.VCU_VehTqFltSts",
         "rawType": "object",
         "type": "string"
        },
        {
         "name": "VCU_0x225.VCU_MotChkACCFltFbFlg",
         "rawType": "object",
         "type": "string"
        },
        {
         "name": "VCU_0x225.VCU_OverMod",
         "rawType": "object",
         "type": "string"
        },
        {
         "name": "VCU_0x225.VCU_VehFltProcLvl",
         "rawType": "object",
         "type": "string"
        },
        {
         "name": "VCU_0x225.VCU_KL15Req",
         "rawType": "object",
         "type": "string"
        },
        {
         "name": "VCU_0x225.VCU_PwrModSwtReq",
         "rawType": "object",
         "type": "string"
        },
        {
         "name": "VCU_0x225.VCU_PwrAntitheftAuthentReqFlg",
         "rawType": "object",
         "type": "string"
        },
        {
         "name": "VCU_0x225.VCU_VehMaxWhlTq",
         "rawType": "int64",
         "type": "integer"
        },
        {
         "name": "ESP_0x114.ESP_114_CheckSum",
         "rawType": "int64",
         "type": "integer"
        },
        {
         "name": "ESP_0x114.ESP_FltIndcn_DTC",
         "rawType": "object",
         "type": "string"
        },
        {
         "name": "ESP_0x114.ESP_OTARdy_Fb",
         "rawType": "object",
         "type": "string"
        },
        {
         "name": "ESP_0x114.ESP_114_AliveCounter",
         "rawType": "int64",
         "type": "integer"
        },
        {
         "name": "ESP_0x114.ESP_WarningOn",
         "rawType": "object",
         "type": "string"
        },
        {
         "name": "ESP_0x114.ESP_ActvSig_DTC",
         "rawType": "object",
         "type": "string"
        },
        {
         "name": "ESP_0x114.ESP_ActvSig_EBD",
         "rawType": "object",
         "type": "string"
        },
        {
         "name": "ESP_0x114.ESP_ActvSig_TCS",
         "rawType": "object",
         "type": "string"
        },
        {
         "name": "ESP_0x114.ESP_ActvSig_VDC",
         "rawType": "object",
         "type": "string"
        },
        {
         "name": "ESP_0x114.ESP_FltIndcn_AEB",
         "rawType": "object",
         "type": "string"
        },
        {
         "name": "ESP_0x114.ESP_ActvIndcn_AEB",
         "rawType": "object",
         "type": "string"
        },
        {
         "name": "ESP_0x114.ESP_FltIndcn_ABP",
         "rawType": "object",
         "type": "string"
        },
        {
         "name": "ESP_0x114.ESP_ActvIndcn_ABP",
         "rawType": "object",
         "type": "string"
        },
        {
         "name": "ESP_0x114.ESP_FltIndcn_ABA",
         "rawType": "object",
         "type": "string"
        },
        {
         "name": "ESP_0x114.ESP_ActvIndcn_ABA",
         "rawType": "object",
         "type": "string"
        },
        {
         "name": "ESP_0x114.ESP_FltIndcn_CDD",
         "rawType": "object",
         "type": "string"
        },
        {
         "name": "ESP_0x114.ESP_Actvndcn_CDD",
         "rawType": "object",
         "type": "string"
        },
        {
         "name": "ESP_0x114.ESP_FltIndcn_VDC",
         "rawType": "object",
         "type": "string"
        },
        {
         "name": "ESP_0x114.ESP_BrkOverTIndcn",
         "rawType": "object",
         "type": "string"
        },
        {
         "name": "ESP_0x114.ESP_VehStandstillIndcn",
         "rawType": "object",
         "type": "string"
        },
        {
         "name": "ESP_0x114.ESP_FltIndcn_AWB",
         "rawType": "object",
         "type": "string"
        },
        {
         "name": "ESP_0x114.ESP_ActvIndcn_AWB",
         "rawType": "object",
         "type": "string"
        },
        {
         "name": "ESP_0x114.ESP_FltIndcn_CDD_AP",
         "rawType": "object",
         "type": "string"
        },
        {
         "name": "ESP_0x114.ESP_ActvIndcn_CDD_AP",
         "rawType": "object",
         "type": "string"
        },
        {
         "name": "OBC_0x235.OBC_235_CheckSum",
         "rawType": "float64",
         "type": "float"
        },
        {
         "name": "OBC_0x235.OBC_DCNegRlyCtrlSts",
         "rawType": "object",
         "type": "string"
        },
        {
         "name": "OBC_0x235.OBC_DCPosRlyCtrlSts",
         "rawType": "object",
         "type": "string"
        },
        {
         "name": "OBC_0x235.OBC_235_AliveCounter",
         "rawType": "float64",
         "type": "float"
        },
        {
         "name": "OBC_0x235.OBC_DCCrt",
         "rawType": "float64",
         "type": "float"
        },
        {
         "name": "OBC_0x235.OBC_DCVolt",
         "rawType": "float64",
         "type": "float"
        },
        {
         "name": "OBC_0x235.OBC_DCChrgnRlyCrt",
         "rawType": "float64",
         "type": "float"
        },
        {
         "name": "VCU_0x236.VCU_236_CheckSum",
         "rawType": "int64",
         "type": "integer"
        },
        {
         "name": "VCU_0x236.VCU_OutpACWakeupSigSts",
         "rawType": "object",
         "type": "string"
        },
        {
         "name": "VCU_0x236.VCU_DCChrgDchaGunCnctnSts",
         "rawType": "object",
         "type": "string"
        },
        {
         "name": "VCU_0x236.VCU_236_AliveCounter",
         "rawType": "int64",
         "type": "integer"
        },
        {
         "name": "VCU_0x236.VCU_VcuErrCtgy",
         "rawType": "object",
         "type": "string"
        },
        {
         "name": "VCU_0x236.VCU_ACChrgDchaGunCnctnSts",
         "rawType": "object",
         "type": "string"
        },
        {
         "name": "VCU_0x236.VCU_OutpFCWakeupSigSts",
         "rawType": "object",
         "type": "string"
        },
        {
         "name": "VCU_0x236.VCU_VcuState",
         "rawType": "object",
         "type": "string"
        },
        {
         "name": "VCU_0x236.VCU_VcuErrBitVect",
         "rawType": "object",
         "type": "string"
        },
        {
         "name": "VCU_0x236.VCU_PwrSplyEquipSts",
         "rawType": "object",
         "type": "string"
        },
        {
         "name": "VCU_0x260.VCU_260_269_CheckSum",
         "rawType": "int64",
         "type": "integer"
        },
        {
         "name": "VCU_0x260.VCU_260_269_AliveCounter",
         "rawType": "int64",
         "type": "integer"
        },
        {
         "name": "VCU_0x260.VCU_DCVoltCmd_OBC",
         "rawType": "float64",
         "type": "float"
        },
        {
         "name": "VCU_0x260.VCU_DCCrtCmd_OBC",
         "rawType": "float64",
         "type": "float"
        },
        {
         "name": "VCU_0x260.VCU_DCRlyCtrlCmd",
         "rawType": "object",
         "type": "string"
        },
        {
         "name": "VCU_0x260.VCU_VehChrgDchgMod",
         "rawType": "object",
         "type": "string"
        },
        {
         "name": "VCU_0x260.VCU_ChrgSts",
         "rawType": "object",
         "type": "string"
        },
        {
         "name": "VCU_0x260.VCU_ChrgSysOperCmd",
         "rawType": "object",
         "type": "string"
        },
        {
         "name": "VCU_0x260.VCU_260_SSecOC_Fresh_Byte0",
         "rawType": "int64",
         "type": "integer"
        },
        {
         "name": "VCU_0x260.VCU_260_SSecOC_MAC_Byte0",
         "rawType": "int64",
         "type": "integer"
        },
        {
         "name": "VCU_0x260.VCU_260_SSecOC_MAC_Byte1",
         "rawType": "int64",
         "type": "integer"
        },
        {
         "name": "VCU_0x260.VCU_260_SSecOC_MAC_Byte2",
         "rawType": "int64",
         "type": "integer"
        },
        {
         "name": "VCU_0x289.VCU_SetSpeedLimitSts",
         "rawType": "int64",
         "type": "integer"
        },
        {
         "name": "TBOX_0x4F8.TBOX_4F4_4F8_CheckSum",
         "rawType": "int64",
         "type": "integer"
        },
        {
         "name": "TBOX_0x4F8.TBOX_Sw_upd",
         "rawType": "object",
         "type": "string"
        },
        {
         "name": "TBOX_0x4F8.TBOX_4F4_4F8_AliveCounter",
         "rawType": "int64",
         "type": "integer"
        },
        {
         "name": "TBOX_0x4F8.TBOX_FobdGWPartBUSUDSCom",
         "rawType": "object",
         "type": "string"
        },
        {
         "name": "TBOX_0x4F8.TBOX_RemFlsh",
         "rawType": "object",
         "type": "string"
        },
        {
         "name": "TBOX_0x4F8.TBOX_Flsflg",
         "rawType": "object",
         "type": "string"
        },
        {
         "name": "TBOX_0x4F8.TBOX_RemKL15PwrOnReq",
         "rawType": "object",
         "type": "string"
        },
        {
         "name": "TBOX_0x4F8.TBOX_ResvACChrgOpenSts",
         "rawType": "object",
         "type": "string"
        },
        {
         "name": "TBOX_0x4F8.TBOX_EHUSetTrvlMod",
         "rawType": "object",
         "type": "string"
        },
        {
         "name": "TBOX_0x4F8.TBOX_RemChrgInsulFctReq",
         "rawType": "object",
         "type": "string"
        },
        {
         "name": "TBOX_0x4F8.TBOX_SetChrgEndSOC",
         "rawType": "int64",
         "type": "integer"
        },
        {
         "name": "TBOX_0x4F8.TBOX_ICC_UpdStrt",
         "rawType": "object",
         "type": "string"
        },
        {
         "name": "TBOX_0x4F8.TBOX_BlowLvlReq",
         "rawType": "object",
         "type": "string"
        },
        {
         "name": "TBOX_0x4F8.TBOX_PreCondTriggerReq",
         "rawType": "object",
         "type": "string"
        },
        {
         "name": "TBOX_0x4F8.TBOX_Crash_cfm",
         "rawType": "object",
         "type": "string"
        },
        {
         "name": "TBOX_0x4F8.TBOX_VehiMod",
         "rawType": "object",
         "type": "string"
        },
        {
         "name": "TBOX_0x4F8.TBOX_SchedChrgnReq",
         "rawType": "object",
         "type": "string"
        },
        {
         "name": "VCU_0x2FF.VCU_2FF_CheckSum",
         "rawType": "int64",
         "type": "integer"
        },
        {
         "name": "VCU_0x2FF.VCU_WrkShpModFB",
         "rawType": "int64",
         "type": "integer"
        },
        {
         "name": "VCU_0x2FF.VCU_2FF_AliveCounter",
         "rawType": "int64",
         "type": "integer"
        },
        {
         "name": "VCU_0x2FF.VCU_ACC_PA_MinA",
         "rawType": "float64",
         "type": "float"
        },
        {
         "name": "VCU_0x2FF.VCU_ACC_PA_MaxA",
         "rawType": "float64",
         "type": "float"
        },
        {
         "name": "VCU_0x2FF.VCU_WrkShpModAvlbSts",
         "rawType": "object",
         "type": "string"
        },
        {
         "name": "TBOX_0x4F4.TBOX_4F4_4F8_CheckSum",
         "rawType": "int64",
         "type": "integer"
        },
        {
         "name": "TBOX_0x4F4.TBOX_Sw_upd",
         "rawType": "object",
         "type": "string"
        },
        {
         "name": "TBOX_0x4F4.TBOX_4F4_4F8_AliveCounter",
         "rawType": "int64",
         "type": "integer"
        },
        {
         "name": "TBOX_0x4F4.TBOX_FobdGWPartBUSUDSCom",
         "rawType": "object",
         "type": "string"
        },
        {
         "name": "TBOX_0x4F4.TBOX_RemFlsh",
         "rawType": "object",
         "type": "string"
        },
        {
         "name": "TBOX_0x4F4.TBOX_Flsflg",
         "rawType": "object",
         "type": "string"
        },
        {
         "name": "TBOX_0x4F4.TBOX_RemKL15PwrOnReq",
         "rawType": "object",
         "type": "string"
        },
        {
         "name": "TBOX_0x4F4.TBOX_ResvACChrgOpenSts",
         "rawType": "object",
         "type": "string"
        },
        {
         "name": "TBOX_0x4F4.TBOX_EHUSetTrvlMod",
         "rawType": "object",
         "type": "string"
        },
        {
         "name": "TBOX_0x4F4.TBOX_RemChrgInsulFctReq",
         "rawType": "object",
         "type": "string"
        },
        {
         "name": "TBOX_0x4F4.TBOX_SetChrgEndSOC",
         "rawType": "int64",
         "type": "integer"
        },
        {
         "name": "TBOX_0x4F4.TBOX_ICC_UpdStrt",
         "rawType": "object",
         "type": "string"
        },
        {
         "name": "TBOX_0x4F4.TBOX_BlowLvlReq",
         "rawType": "object",
         "type": "string"
        },
        {
         "name": "TBOX_0x4F4.TBOX_PreCondTriggerReq",
         "rawType": "object",
         "type": "string"
        },
        {
         "name": "TBOX_0x4F4.TBOX_Crash_cfm",
         "rawType": "object",
         "type": "string"
        },
        {
         "name": "TBOX_0x4F4.TBOX_VehiMod",
         "rawType": "object",
         "type": "string"
        },
        {
         "name": "TBOX_0x4F4.TBOX_SchedChrgnReq",
         "rawType": "object",
         "type": "string"
        },
        {
         "name": "TBOX_0x4F4.TBOX_4F4_SSecOC_Fresh_Byte0",
         "rawType": "int64",
         "type": "integer"
        },
        {
         "name": "TBOX_0x4F4.TBOX_4F4_SSecOC_MAC_Byte0",
         "rawType": "int64",
         "type": "integer"
        },
        {
         "name": "TBOX_0x4F4.TBOX_4F4_SSecOC_MAC_Byte1",
         "rawType": "int64",
         "type": "integer"
        },
        {
         "name": "TBOX_0x4F4.TBOX_4F4_SSecOC_MAC_Byte2",
         "rawType": "int64",
         "type": "integer"
        },
        {
         "name": "VCU_IBS_STATUS.IBS_BatteryDefect",
         "rawType": "object",
         "type": "string"
        },
        {
         "name": "VCU_IBS_STATUS.IBS_Sulfation",
         "rawType": "object",
         "type": "string"
        },
        {
         "name": "VCU_IBS_STATUS.IBS_EngineStart",
         "rawType": "object",
         "type": "string"
        },
        {
         "name": "VCU_IBS_STATUS.IBS_PowerOn",
         "rawType": "object",
         "type": "string"
        },
        {
         "name": "VCU_IBS_STATUS.IBS_LowVoltage",
         "rawType": "object",
         "type": "string"
        },
        {
         "name": "VCU_IBS_STATUS.IBS_WakeupStatus",
         "rawType": "object",
         "type": "string"
        },
        {
         "name": "VCU_IBS_STATUS.IBS_SOCUpperTolerance",
         "rawType": "int64",
         "type": "integer"
        },
        {
         "name": "VCU_IBS_STATUS.IBS_SOCLowerTolerance",
         "rawType": "int64",
         "type": "integer"
        },
        {
         "name": "VCU_IBS_STATUS.IBS_CapacityLossTop",
         "rawType": "float64",
         "type": "float"
        },
        {
         "name": "VCU_IBS_STATUS.IBS_CapacityLossBottom",
         "rawType": "float64",
         "type": "float"
        },
        {
         "name": "VCU_0x269.VCU_260_269_CheckSum",
         "rawType": "int64",
         "type": "integer"
        },
        {
         "name": "VCU_0x269.VCU_260_269_AliveCounter",
         "rawType": "int64",
         "type": "integer"
        },
        {
         "name": "VCU_0x269.VCU_DCVoltCmd_OBC",
         "rawType": "float64",
         "type": "float"
        },
        {
         "name": "VCU_0x269.VCU_DCCrtCmd_OBC",
         "rawType": "float64",
         "type": "float"
        },
        {
         "name": "VCU_0x269.VCU_DCRlyCtrlCmd",
         "rawType": "object",
         "type": "string"
        },
        {
         "name": "VCU_0x269.VCU_VehChrgDchgMod",
         "rawType": "object",
         "type": "string"
        },
        {
         "name": "VCU_0x269.VCU_ChrgSts",
         "rawType": "object",
         "type": "string"
        },
        {
         "name": "VCU_0x269.VCU_ChrgSysOperCmd",
         "rawType": "object",
         "type": "string"
        },
        {
         "name": "VCU_IBS_UIT.IBS_BatteryCurrent",
         "rawType": "float64",
         "type": "float"
        },
        {
         "name": "VCU_IBS_UIT.IBS_BatteryVoltage",
         "rawType": "float64",
         "type": "float"
        },
        {
         "name": "VCU_IBS_UIT.IBS_BatteryTemperature",
         "rawType": "float64",
         "type": "float"
        },
        {
         "name": "VCU_IBS_UIT.IBS_Error",
         "rawType": "object",
         "type": "string"
        },
        {
         "name": "VCU_IBS_UIT.IBS_CurrentAutorange",
         "rawType": "object",
         "type": "string"
        },
        {
         "name": "BMS_ActualPack_U_I.BMS_Bat_HVmeasure_CheckSum",
         "rawType": "float64",
         "type": "float"
        },
        {
         "name": "BMS_ActualPack_U_I.BMS_Bat_HVmeasure_AliveCounter",
         "rawType": "float64",
         "type": "float"
        },
        {
         "name": "BMS_ActualPack_U_I.BMS_Bat_HVmeasure_Current",
         "rawType": "float64",
         "type": "float"
        },
        {
         "name": "BMS_ActualPack_U_I.BMS_Bat_Hvmeasure_V_Pack",
         "rawType": "float64",
         "type": "float"
        },
        {
         "name": "VCU_0x219.VCU_219_CheckSum",
         "rawType": "int64",
         "type": "integer"
        },
        {
         "name": "VCU_0x219.VCU_IMMO_Sts",
         "rawType": "object",
         "type": "string"
        },
        {
         "name": "VCU_0x219.VCU_PreCdtFB",
         "rawType": "object",
         "type": "string"
        },
        {
         "name": "VCU_0x219.VCU_219_AliveCounter",
         "rawType": "int64",
         "type": "integer"
        },
        {
         "name": "VCU_0x219.VCU_RemCtrlDrvgSts",
         "rawType": "object",
         "type": "string"
        },
        {
         "name": "VCU_0x219.VCU_RemCtrlDrvgPwrOnReq",
         "rawType": "object",
         "type": "string"
        },
        {
         "name": "VCU_0x219.VCU_RemCtrlDrvgEnaFlgVld",
         "rawType": "object",
         "type": "string"
        },
        {
         "name": "VCU_0x219.VCU_RemCtrlDrvgEnaFlg",
         "rawType": "object",
         "type": "string"
        },
        {
         "name": "VCU_0x219.VCU_TioutPwrOffReq",
         "rawType": "object",
         "type": "string"
        },
        {
         "name": "VCU_0x219.VCU_RemCtrlDrvgExitDisp",
         "rawType": "object",
         "type": "string"
        },
        {
         "name": "VCU_0x219.VCU_RemCtrlDrvgRelsReq",
         "rawType": "object",
         "type": "string"
        },
        {
         "name": "VCU_0x219.VCU_RemCtrlDrvgExitFlg",
         "rawType": "object",
         "type": "string"
        },
        {
         "name": "VCU_0x219.VCU_DrvrIntvGearSigVld",
         "rawType": "object",
         "type": "string"
        },
        {
         "name": "VCU_0x219.VCU_RemCtrlDrvgModClsReq_VLC",
         "rawType": "object",
         "type": "string"
        },
        {
         "name": "VCU_0x219.VCU_RemCtrlDrvgEmgyBrkReq",
         "rawType": "object",
         "type": "string"
        },
        {
         "name": "VCU_0x219.VCU_RemCtrlDrvgBrkReq",
         "rawType": "object",
         "type": "string"
        },
        {
         "name": "VCU_0x219.VCU_PrefillReq",
         "rawType": "object",
         "type": "string"
        },
        {
         "name": "VCU_0x219.VCU_GearUnderCtrlSts",
         "rawType": "object",
         "type": "string"
        },
        {
         "name": "VCU_0x219.VCU_DrvrIntvGearSig",
         "rawType": "object",
         "type": "string"
        },
        {
         "name": "VCU_0x219.VCU_SpclTerrainModReq",
         "rawType": "object",
         "type": "string"
        },
        {
         "name": "VCU_0x219.VCU_AxReqActv",
         "rawType": "object",
         "type": "string"
        },
        {
         "name": "VCU_0x219.VCU_VehSecureRels",
         "rawType": "float64",
         "type": "float"
        },
        {
         "name": "VCU_0x219.VCU_VehSecureHold",
         "rawType": "float64",
         "type": "float"
        },
        {
         "name": "BMS_HVBatt_Status_Errors_1.BMS_Critical_Error_Flg_CheckSum",
         "rawType": "float64",
         "type": "float"
        },
        {
         "name": "BMS_HVBatt_Status_Errors_1.BMS_ErrorActive_OverDischargeCurrent",
         "rawType": "object",
         "type": "string"
        },
        {
         "name": "BMS_HVBatt_Status_Errors_1.BMS_ErrorWarning_OverDischargeCurrent",
         "rawType": "object",
         "type": "string"
        },
        {
         "name": "BMS_HVBatt_Status_Errors_1.BMS_ErrorActive_OverChargeCurrent",
         "rawType": "object",
         "type": "string"
        },
        {
         "name": "BMS_HVBatt_Status_Errors_1.BMS_ErrorWarning_OverChargeCurrent",
         "rawType": "object",
         "type": "string"
        },
        {
         "name": "BMS_HVBatt_Status_Errors_1.BMS_Critical_Error_Flg_AliveCounter",
         "rawType": "float64",
         "type": "float"
        },
        {
         "name": "BMS_HVBatt_Status_Errors_1.BMS_ErrorActive_Iso_Crit",
         "rawType": "object",
         "type": "string"
        },
        {
         "name": "BMS_HVBatt_Status_Errors_1.BMS_ErrorWarning_Iso",
         "rawType": "object",
         "type": "string"
        },
        {
         "name": "BMS_HVBatt_Status_Errors_1.BMS_ErrorActive_SOC_Low",
         "rawType": "object",
         "type": "string"
        },
        {
         "name": "BMS_HVBatt_Status_Errors_1.BMS_ErrorWarning_SOC_Low",
         "rawType": "object",
         "type": "string"
        },
        {
         "name": "BMS_HVBatt_Status_Errors_1.BMS_ErrorActive_DischargePowerLimitHit",
         "rawType": "object",
         "type": "string"
        },
        {
         "name": "BMS_HVBatt_Status_Errors_1.BMS_ErrorWarning_DischargePowerLimitHit",
         "rawType": "object",
         "type": "string"
        },
        {
         "name": "BMS_HVBatt_Status_Errors_1.BMS_ErrorActive_ChargePowerLimitHit",
         "rawType": "object",
         "type": "string"
        },
        {
         "name": "BMS_HVBatt_Status_Errors_1.BMS_ErrorWarning_ChargePowerLimitHit",
         "rawType": "object",
         "type": "string"
        },
        {
         "name": "BMS_HVBatt_Status_Errors_1.BMS_SystemError_OmmissionOfKL15",
         "rawType": "object",
         "type": "string"
        },
        {
         "name": "BMS_HVBatt_Status_Errors_1.BMS_SystemError_KL30C",
         "rawType": "object",
         "type": "string"
        },
        {
         "name": "BMS_HVBatt_Status_Errors_1.BMS_ErrorActive_ServState",
         "rawType": "object",
         "type": "string"
        },
        {
         "name": "BMS_HVBatt_Status_Errors_1.BMS_ErrorWarning_overcurrent_Prewarn",
         "rawType": "object",
         "type": "string"
        },
        {
         "name": "BMS_HVBatt_Status_Errors_1.BMS_ErrorActive_AbsDischargePowerLimHit",
         "rawType": "object",
         "type": "string"
        },
        {
         "name": "BMS_HVBatt_Status_Errors_1.BMS_ErrorActive_AbsChargePowerLim",
         "rawType": "object",
         "type": "string"
        },
        {
         "name": "BMS_HVBatt_Status_Errors_1.BMS_ErrorActive_AbsDischargeCurrentLimitH",
         "rawType": "object",
         "type": "string"
        },
        {
         "name": "BMS_HVBatt_Status_Errors_1.BMS_ErrorActive_AbsChargeCurrentLim",
         "rawType": "object",
         "type": "string"
        },
        {
         "name": "BMS_HVBatt_Status_Errors_1.BMS_HVlinkError_Iso_Dig_Sig",
         "rawType": "object",
         "type": "string"
        },
        {
         "name": "BMS_HVBatt_Status_Errors_1.BMS_HVlinkError_Iso_Dev",
         "rawType": "object",
         "type": "string"
        },
        {
         "name": "BMS_HVBatt_Status_Errors_1.BMS_HVlinkError_VCU_Comm_Failure",
         "rawType": "object",
         "type": "string"
        },
        {
         "name": "BMS_HVBatt_Status_Errors_1.BMS_CommError_PEC_High",
         "rawType": "object",
         "type": "string"
        },
        {
         "name": "BMS_HVBatt_Status_Errors_1.BMS_CommWarning_PEC_High",
         "rawType": "object",
         "type": "string"
        },
        {
         "name": "BMS_HVBatt_Status_Errors_1.BMS_CommError_CommFailure",
         "rawType": "object",
         "type": "string"
        },
        {
         "name": "BMS_HVBatt_Status_Errors_1.BMS_SystemError_HV_Fuse",
         "rawType": "object",
         "type": "string"
        },
        {
         "name": "BMS_HVBatt_Status_Errors_1.BMS_SystemError_HV_Interlock",
         "rawType": "object",
         "type": "string"
        },
        {
         "name": "BMS_HVBatt_Status_Errors_1.BMS_ErrorActive_CellUnderVoltage",
         "rawType": "object",
         "type": "string"
        },
        {
         "name": "BMS_HVBatt_Status_Errors_1.BMS_ErrorWarning_CellUnderVoltage",
         "rawType": "object",
         "type": "string"
        },
        {
         "name": "BMS_HVBatt_Status_Errors_1.BMS_ErrorActive_CellOverVoltage",
         "rawType": "object",
         "type": "string"
        },
        {
         "name": "BMS_HVBatt_Status_Errors_1.BMS_ErrorWarning_CellOverVoltage",
         "rawType": "object",
         "type": "string"
        },
        {
         "name": "BMS_HVBatt_Status_Errors_1.BMS_SoftwareError_General_Failr",
         "rawType": "object",
         "type": "string"
        },
        {
         "name": "BMS_HVBatt_Status_Errors_1.BMS_HardwareError_LCM_General_Failr",
         "rawType": "object",
         "type": "string"
        },
        {
         "name": "BMS_HVBatt_Status_Errors_1.BMS_HVlinkError_HV_Interlock_BadSigIntegr",
         "rawType": "object",
         "type": "string"
        },
        {
         "name": "BMS_HVBatt_Status_Errors_1.BMS_HVlinkError_ContactorWelded",
         "rawType": "object",
         "type": "string"
        },
        {
         "name": "BMS_HVBatt_Status_Errors_1.BMS_ErrorActive_HV_UnderVoltage",
         "rawType": "object",
         "type": "string"
        },
        {
         "name": "BMS_HVBatt_Status_Errors_1.BMS_ErrorWarning_HV_UnderVoltage",
         "rawType": "object",
         "type": "string"
        },
        {
         "name": "BMS_HVBatt_Status_Errors_1.BMS_ErrorActive_HV_OverVoltage",
         "rawType": "object",
         "type": "string"
        },
        {
         "name": "BMS_HVBatt_Status_Errors_1.BMS_ErrorWarning_HV_OverVoltage",
         "rawType": "object",
         "type": "string"
        },
        {
         "name": "BMS_HVBatt_Status_Errors_1.BMS_ErrorActive_CellTempLow",
         "rawType": "object",
         "type": "string"
        },
        {
         "name": "BMS_HVBatt_Status_Errors_1.BMS_ErrorWarning_CellTempLow",
         "rawType": "object",
         "type": "string"
        },
        {
         "name": "BMS_HVBatt_Status_Errors_1.BMS_ErrorActive_CellTempHigh",
         "rawType": "object",
         "type": "string"
        },
        {
         "name": "BMS_HVBatt_Status_Errors_1.BMS_ErrorWarning_CellTempHigh",
         "rawType": "object",
         "type": "string"
        },
        {
         "name": "BMS_HVBatt_Status_Errors_1.BMS_PVIU_CANcommError",
         "rawType": "object",
         "type": "string"
        },
        {
         "name": "VCU_IBS_BZE1.IBS_StateOfCharge",
         "rawType": "float64",
         "type": "float"
        },
        {
         "name": "VCU_IBS_BZE1.IBS_StateOfHealth",
         "rawType": "float64",
         "type": "float"
        },
        {
         "name": "VCU_IBS_BZE1.IBS_EstVoltaDrop",
         "rawType": "object",
         "type": "string"
        },
        {
         "name": "VCU_IBS_BZE1.IBS_OptChargeVolt",
         "rawType": "float64",
         "type": "float"
        },
        {
         "name": "VCU_IBS_BZE1.IBS_AvgRi",
         "rawType": "float64",
         "type": "float"
        },
        {
         "name": "BMS_PST_Current.BMS_Curr_PST_CheckSum",
         "rawType": "float64",
         "type": "float"
        },
        {
         "name": "BMS_PST_Current.BMS_Curr_PST_AliveCounter",
         "rawType": "float64",
         "type": "float"
        },
        {
         "name": "BMS_PST_Current.BMS_Bat_D_MAXcurr_PST",
         "rawType": "float64",
         "type": "float"
        },
        {
         "name": "BMS_PST_Current.BMS_Bat_C_MAXcurr_PST",
         "rawType": "float64",
         "type": "float"
        },
        {
         "name": "VCU_IBS_BZE2.IBS_AvailableCapacity",
         "rawType": "float64",
         "type": "float"
        },
        {
         "name": "VCU_IBS_BZE2.IBS_DischargeableAh",
         "rawType": "float64",
         "type": "float"
        },
        {
         "name": "VCU_IBS_BZE2.IBS_NominalCapacity",
         "rawType": "int64",
         "type": "integer"
        },
        {
         "name": "VCU_IBS_BZE2.IBS_Recalibrated",
         "rawType": "object",
         "type": "string"
        },
        {
         "name": "BMS_HVBatt_Status_Overall.BMS_OverallStatus_CheckSum",
         "rawType": "float64",
         "type": "float"
        },
        {
         "name": "BMS_HVBatt_Status_Overall.BMS_OverallStatus_AliveCounter",
         "rawType": "float64",
         "type": "float"
        },
        {
         "name": "BMS_HVBatt_Status_Overall.BMS_BallancingStatus",
         "rawType": "object",
         "type": "string"
        },
        {
         "name": "BMS_HVBatt_Status_Overall.BMS_OperationStates",
         "rawType": "object",
         "type": "string"
        },
        {
         "name": "BMS_HVBatt_Status_Overall.BMS_ErrorCategory_CAT7",
         "rawType": "object",
         "type": "string"
        },
        {
         "name": "BMS_HVBatt_Status_Overall.BMS_ErrorCategory_CAT6",
         "rawType": "object",
         "type": "string"
        },
        {
         "name": "BMS_HVBatt_Status_Overall.BMS_ErrorCategory_CAT5",
         "rawType": "object",
         "type": "string"
        },
        {
         "name": "BMS_HVBatt_Status_Overall.BMS_ErrorCategory_CAT4",
         "rawType": "object",
         "type": "string"
        },
        {
         "name": "BMS_HVBatt_Status_Overall.BMS_ErrorCategory_CAT3",
         "rawType": "object",
         "type": "string"
        },
        {
         "name": "BMS_HVBatt_Status_Overall.BMS_ErrorCategory_CAT2",
         "rawType": "object",
         "type": "string"
        },
        {
         "name": "BMS_HVBatt_Status_Overall.BMS_ErrorCategory_CAT1",
         "rawType": "object",
         "type": "string"
        },
        {
         "name": "BMS_HVBatt_Status_Overall.BMS_ErrorCategory_CAT0",
         "rawType": "object",
         "type": "string"
        },
        {
         "name": "BMS_HVBatt_Status_Overall.BMS_CL30C_Sts",
         "rawType": "object",
         "type": "string"
        },
        {
         "name": "BMS_HVBatt_Status_Overall.BMS_SDIL_Sts",
         "rawType": "object",
         "type": "string"
        },
        {
         "name": "BMS_HVBatt_Status_Overall.BMS_BatteryGeneralStatus_OK",
         "rawType": "object",
         "type": "string"
        },
        {
         "name": "BMS_HVBatt_Status_Overall.BMS_MeasurementModules_OK",
         "rawType": "object",
         "type": "string"
        },
        {
         "name": "BMS_HVBatt_Status_Overall.BMS_ConfigurationStatus_OK",
         "rawType": "object",
         "type": "string"
        },
        {
         "name": "BMS_HVBatt_Status_Overall.BMS_ErrorCategory_Mem_Empty",
         "rawType": "object",
         "type": "string"
        },
        {
         "name": "BMS_HVBatt_Status_Overall.BMS_HardwareStatus_OK",
         "rawType": "object",
         "type": "string"
        },
        {
         "name": "BMS_HVBatt_Status_Overall.BMS_ErrorCategory_CAT8",
         "rawType": "object",
         "type": "string"
        },
        {
         "name": "BMS_HVBatt_Status_Overall.BMS_IsolatoinStatus_OK",
         "rawType": "object",
         "type": "string"
        },
        {
         "name": "BMS_HVBatt_Status_Overall.BMS_CurrentSensor_OK",
         "rawType": "object",
         "type": "string"
        },
        {
         "name": "BMS_HVBatt_Status_Overall.BMS_SW_Status_OK",
         "rawType": "object",
         "type": "string"
        },
        {
         "name": "BMS_HVBatt_Status_Overall.BMS_HV_ContactorsStatus_OK",
         "rawType": "object",
         "type": "string"
        },
        {
         "name": "BMS_HVBatt_Status_Overall.BMS_HVIL_OK",
         "rawType": "object",
         "type": "string"
        },
        {
         "name": "BMS_HVBatt_Status_Overall.BMS_CL15_Sts",
         "rawType": "object",
         "type": "string"
        },
        {
         "name": "BMS_HVBatt_Status_Overall.BMS_StateMAchine_Status",
         "rawType": "object",
         "type": "string"
        },
        {
         "name": "BMS_HVBatt_Status_Overall.BMS_BDU_Status",
         "rawType": "float64",
         "type": "float"
        },
        {
         "name": "BMS_PST_Voltage.BMS_Volt_PST_CheckSum",
         "rawType": "float64",
         "type": "float"
        },
        {
         "name": "BMS_PST_Voltage.BMS_Volt_PST_AliveCounter",
         "rawType": "float64",
         "type": "float"
        },
        {
         "name": "BMS_PST_Voltage.BMS_Bat_D_MAXvolt_PST",
         "rawType": "float64",
         "type": "float"
        },
        {
         "name": "BMS_PST_Voltage.BMS_Bat_C_MAXvolt_PS",
         "rawType": "float64",
         "type": "float"
        },
        {
         "name": "BMS_HVBatt_Status_1_TBOX.BMS_215_CheckSum",
         "rawType": "float64",
         "type": "float"
        },
        {
         "name": "BMS_HVBatt_Status_1_TBOX.BMS_215_AliveCounter",
         "rawType": "float64",
         "type": "float"
        },
        {
         "name": "BMS_HVBatt_Status_1_TBOX.BMS_PwrBattCellOverVolt_FS",
         "rawType": "object",
         "type": "string"
        },
        {
         "name": "BMS_HVBatt_Status_1_TBOX.BMS_CellUnderrVoltFlt_FS",
         "rawType": "object",
         "type": "string"
        },
        {
         "name": "BMS_HVBatt_Status_1_TBOX.BMS_PwrBattPosRlyAdh_FS",
         "rawType": "object",
         "type": "string"
        },
        {
         "name": "BMS_HVBatt_Status_1_TBOX.BMS_PwrBattNegRlyAdh_FS",
         "rawType": "object",
         "type": "string"
        },
        {
         "name": "BMS_HVBatt_Status_1_TBOX.BMS_PwrBattOverCrtFlt_FS",
         "rawType": "object",
         "type": "string"
        },
        {
         "name": "BMS_HVBatt_Status_1_TBOX.BMS_PwrBattOverTFlt_FS",
         "rawType": "object",
         "type": "string"
        },
        {
         "name": "BMS_HVBatt_Status_1_TBOX.BMS_AlrmLamp_FS",
         "rawType": "object",
         "type": "string"
        },
        {
         "name": "BMS_HVBatt_Status_1_TBOX.BMS_PwrBattPrecRlyAdh_FS",
         "rawType": "object",
         "type": "string"
        },
        {
         "name": "BMS_HVBatt_Status_1_TBOX.BMS_BattOutlTSnsrFlt",
         "rawType": "object",
         "type": "string"
        },
        {
         "name": "BMS_HVBatt_Status_1_TBOX.BMS_BattInlTSnsrFlt",
         "rawType": "object",
         "type": "string"
        },
        {
         "name": "BMS_HVBatt_Status_1_TBOX.BMS_PwrBattLoadTotVoltV3_FS",
         "rawType": "float64",
         "type": "float"
        },
        {
         "name": "BMS_HVBatt_Status_1_TBOX.BMS_FctSftyErrCod",
         "rawType": "object",
         "type": "string"
        },
        {
         "name": "ESP_0x268.ESP_268_CheckSum",
         "rawType": "int64",
         "type": "integer"
        },
        {
         "name": "ESP_0x268.ESP_DynoModSts",
         "rawType": "object",
         "type": "string"
        },
        {
         "name": "ESP_0x268.ESP_268_AliveCounter",
         "rawType": "int64",
         "type": "integer"
        },
        {
         "name": "ESP_0x268.EPB_WarnMsg01",
         "rawType": "object",
         "type": "string"
        },
        {
         "name": "ESP_0x268.ESP_Actvndcn_EPB",
         "rawType": "object",
         "type": "string"
        },
        {
         "name": "ESP_0x268.ESP_FltIndcn_EPB",
         "rawType": "object",
         "type": "string"
        },
        {
         "name": "ESP_0x268.ESP_SysSts_EPB",
         "rawType": "object",
         "type": "string"
        },
        {
         "name": "ESP_0x268.ESP_EPBSwtichPositionValid",
         "rawType": "object",
         "type": "string"
        },
        {
         "name": "ESP_0x268.ESP_EPBSwtichPosition",
         "rawType": "object",
         "type": "string"
        },
        {
         "name": "ESP_0x268.EPB_WarnMsg04",
         "rawType": "object",
         "type": "string"
        },
        {
         "name": "ESP_0x268.ESP_YawRateStabnAvl",
         "rawType": "float64",
         "type": "float"
        },
        {
         "name": "ESP_0x268.EPB_WarnMsg02",
         "rawType": "object",
         "type": "string"
        },
        {
         "name": "ESP_0x318.ESP_318_CheckSum",
         "rawType": "int64",
         "type": "integer"
        },
        {
         "name": "ESP_0x318.ESP_BrkPedlSts",
         "rawType": "object",
         "type": "string"
        },
        {
         "name": "ESP_0x318.ESP_BrkPedlStsVld",
         "rawType": "object",
         "type": "string"
        },
        {
         "name": "ESP_0x318.ESP_318_AliveCounter",
         "rawType": "int64",
         "type": "integer"
        },
        {
         "name": "ESP_0x318.ESP_FltIndcn_ABS",
         "rawType": "object",
         "type": "string"
        },
        {
         "name": "ESP_0x318.ESP_FltIndcn_EBD",
         "rawType": "object",
         "type": "string"
        },
        {
         "name": "ESP_0x318.ESP_LampSwtOffIndcn",
         "rawType": "object",
         "type": "string"
        },
        {
         "name": "ESP_0x318.ESP_SysActv",
         "rawType": "object",
         "type": "string"
        },
        {
         "name": "ESP_0x318.ESP_VehSpdVld",
         "rawType": "object",
         "type": "string"
        },
        {
         "name": "ESP_0x318.ESP_MilgRollgCntr_ODO",
         "rawType": "int64",
         "type": "integer"
        },
        {
         "name": "ESP_0x318.ESP_VehSpd",
         "rawType": "float64",
         "type": "float"
        },
        {
         "name": "ESP_0x318.ESP_RDAEnaFlg",
         "rawType": "object",
         "type": "string"
        },
        {
         "name": "ESP_0x318.ESP_NoBrkP",
         "rawType": "object",
         "type": "string"
        },
        {
         "name": "ESP_0x318.ESP_AvlIndcn_HDC",
         "rawType": "object",
         "type": "string"
        },
        {
         "name": "ESP_0x318.ESP_CtrlSts_HDC",
         "rawType": "object",
         "type": "string"
        },
        {
         "name": "ESP_0x318.ESP_FltIndcn_TCS",
         "rawType": "object",
         "type": "string"
        },
        {
         "name": "ESP_0x318.ESP_IninModSigIndcn",
         "rawType": "object",
         "type": "string"
        },
        {
         "name": "BMS_HVBattCurrent_TBOX.BMS_24A_CheckSum",
         "rawType": "float64",
         "type": "float"
        },
        {
         "name": "BMS_HVBattCurrent_TBOX.BMS_24A_AliveCounter",
         "rawType": "float64",
         "type": "float"
        },
        {
         "name": "BMS_HVBattCurrent_TBOX.BMS_PwrBattChrgDchaCrt1",
         "rawType": "float64",
         "type": "float"
        },
        {
         "name": "BMS_HVBattCurrent_TBOX.BMS_PwrBattChrgDchaCrt2",
         "rawType": "float64",
         "type": "float"
        },
        {
         "name": "BMS_HVBattCurrent_TBOX.BMS_PwrBattIntTotVoltV1",
         "rawType": "float64",
         "type": "float"
        },
        {
         "name": "VCU_0x509.VCU_ComLostFlt_BCM",
         "rawType": "object",
         "type": "string"
        },
        {
         "name": "VCU_0x509.VCU_ComLostFlt_ICM",
         "rawType": "object",
         "type": "string"
        },
        {
         "name": "VCU_0x509.VCU_ComLostFlt_EHU",
         "rawType": "object",
         "type": "string"
        },
        {
         "name": "VCU_0x509.VCU_ComLostFlt_ABS",
         "rawType": "object",
         "type": "string"
        },
        {
         "name": "VCU_0x509.VCU_ComLostFlt_BOBC",
         "rawType": "object",
         "type": "string"
        },
        {
         "name": "VCU_0x509.VCU_ComLostFlt_DCDC",
         "rawType": "object",
         "type": "string"
        },
        {
         "name": "VCU_0x509.VCU_ComLostFlt_MCU_F",
         "rawType": "object",
         "type": "string"
        },
        {
         "name": "VCU_0x509.VCU_ComLostFlt_BMS",
         "rawType": "object",
         "type": "string"
        },
        {
         "name": "VCU_0x509.VCU_CllsnSigHardWireCollctnFlt",
         "rawType": "object",
         "type": "string"
        },
        {
         "name": "VCU_0x509.VCU_PwrAntitheftAuthentNoLrng",
         "rawType": "object",
         "type": "string"
        },
        {
         "name": "VCU_0x509.VCU_HVIntlkFlt_GB",
         "rawType": "object",
         "type": "string"
        },
        {
         "name": "VCU_0x509.VCU_PwrAntitheftAuthentKey",
         "rawType": "object",
         "type": "string"
        },
        {
         "name": "VCU_0x509.VCU_PwrAntitheftAuthentOverT",
         "rawType": "object",
         "type": "string"
        },
        {
         "name": "VCU_0x509.VCU_ComLostFlt_NBS",
         "rawType": "object",
         "type": "string"
        },
        {
         "name": "VCU_0x509.VCU_ComLostFlt_TBOX",
         "rawType": "object",
         "type": "string"
        },
        {
         "name": "VCU_0x509.VCU_BCUBMSSelfChkFlt",
         "rawType": "object",
         "type": "string"
        },
        {
         "name": "VCU_0x509.VCU_BCUBMSSelfChkTiOut",
         "rawType": "object",
         "type": "string"
        },
        {
         "name": "VCU_0x509.VCU_ChkDCDCFlt",
         "rawType": "object",
         "type": "string"
        },
        {
         "name": "VCU_0x509.VCU_ChkBattUnderVoltFlt",
         "rawType": "object",
         "type": "string"
        },
        {
         "name": "VCU_0x509.VCU_ChkBattOverVoltFlt",
         "rawType": "object",
         "type": "string"
        },
        {
         "name": "VCU_0x509.VCU_APSPwrSplyFlt",
         "rawType": "object",
         "type": "string"
        },
        {
         "name": "VCU_0x509.VCU_APSSigChkErr",
         "rawType": "object",
         "type": "string"
        },
        {
         "name": "VCU_0x509.VCU_APSSigErr",
         "rawType": "object",
         "type": "string"
        },
        {
         "name": "VCU_0x509.VCU_VehCtrlrEEPROMFlt",
         "rawType": "object",
         "type": "string"
        },
        {
         "name": "VCU_0x509.VCU_VehCtrlrROMFlt",
         "rawType": "object",
         "type": "string"
        },
        {
         "name": "VCU_0x509.VCU_VehCtrlrRAMFlt",
         "rawType": "object",
         "type": "string"
        },
        {
         "name": "VCU_0x509.VCU_DCDCOverVoltFlt",
         "rawType": "object",
         "type": "string"
        },
        {
         "name": "VCU_0x509.VCU_AdpvFlt",
         "rawType": "object",
         "type": "string"
        },
        {
         "name": "VCU_0x509.VCU_FMCUHVSelfChkTiOut",
         "rawType": "object",
         "type": "string"
        },
        {
         "name": "VCU_0x509.VCU_DchaCircFlt",
         "rawType": "object",
         "type": "string"
        },
        {
         "name": "VCU_0x509.VCU_FMCUSelfChkFlt",
         "rawType": "object",
         "type": "string"
        },
        {
         "name": "VCU_0x509.VCU_RMCUSelfChkFlt",
         "rawType": "object",
         "type": "string"
        },
        {
         "name": "VCU_0x509.VCU_BattDamageFlt",
         "rawType": "object",
         "type": "string"
        },
        {
         "name": "VCU_0x509.VCU_MstRlyInpBreakFlt",
         "rawType": "object",
         "type": "string"
        },
        {
         "name": "VCU_0x509.VCU_MstRlyInpGndShoCircFlt",
         "rawType": "object",
         "type": "string"
        },
        {
         "name": "VCU_0x509.VCU_MstRlyInpPwrSplyShoCircFlt",
         "rawType": "object",
         "type": "string"
        },
        {
         "name": "VCU_0x509.VCU_MstRlyBreakFlt",
         "rawType": "object",
         "type": "string"
        },
        {
         "name": "VCU_0x509.VCU_BattVoltCollctnCircFlt",
         "rawType": "object",
         "type": "string"
        },
        {
         "name": "VCU_0x509.VCU_BrkPedlPwrSplyFlt",
         "rawType": "object",
         "type": "string"
        },
        {
         "name": "VCU_0x509.VCU_E2EFlt_0x261",
         "rawType": "object",
         "type": "string"
        },
        {
         "name": "VCU_0x509.VCU_E2EFlt_0x189",
         "rawType": "object",
         "type": "string"
        },
        {
         "name": "VCU_0x509.VCU_E2EFlt_0x268",
         "rawType": "object",
         "type": "string"
        },
        {
         "name": "VCU_0x509.VCU_E2EFlt_0x264",
         "rawType": "object",
         "type": "string"
        },
        {
         "name": "VCU_0x509.VCU_E2EFlt_0x254",
         "rawType": "object",
         "type": "string"
        },
        {
         "name": "VCU_0x509.VCU_E2EFlt_0x150",
         "rawType": "object",
         "type": "string"
        },
        {
         "name": "VCU_0x509.VCU_E2EFlt_0x120",
         "rawType": "object",
         "type": "string"
        },
        {
         "name": "VCU_0x509.VCU_RMCUHVSelfChkTiOut",
         "rawType": "object",
         "type": "string"
        },
        {
         "name": "VCU_0x509.VCU_E2EFlt_0x151",
         "rawType": "object",
         "type": "string"
        },
        {
         "name": "VCU_0x509.VCU_E2EFlt_0x306",
         "rawType": "object",
         "type": "string"
        },
        {
         "name": "VCU_0x509.VCU_E2EFlt_0x1B0",
         "rawType": "object",
         "type": "string"
        },
        {
         "name": "VCU_0x509.VCU_E2EFlt_0x332",
         "rawType": "object",
         "type": "string"
        },
        {
         "name": "VCU_0x509.VCU_E2EFlt_0x319",
         "rawType": "object",
         "type": "string"
        },
        {
         "name": "VCU_0x50A.VCU_EEPROMCellVoltLoHVPwrOffFlg",
         "rawType": "object",
         "type": "string"
        },
        {
         "name": "VCU_0x50A.VCU_CellVoltLoHVPwrOffFlg",
         "rawType": "object",
         "type": "string"
        },
        {
         "name": "VCU_0x50A.VCU_PartSaveStsTiOut",
         "rawType": "object",
         "type": "string"
        },
        {
         "name": "VCU_0x50A.VCU_HVDchaStsTiOut",
         "rawType": "object",
         "type": "string"
        },
        {
         "name": "VCU_0x50A.VCU_PwrBattPosBreakStsTiOut",
         "rawType": "object",
         "type": "string"
        },
        {
         "name": "VCU_0x50A.VCU_HVSysChkTiOut",
         "rawType": "object",
         "type": "string"
        },
        {
         "name": "VCU_0x50A.VCU_HVSysPrecTiOut",
         "rawType": "object",
         "type": "string"
        },
        {
         "name": "VCU_0x50A.VCU_PwrBattHVChkTiOut",
         "rawType": "object",
         "type": "string"
        },
        {
         "name": "VCU_0x50A.VCU_VehRemOperModPwrOnReq",
         "rawType": "object",
         "type": "string"
        },
        {
         "name": "VCU_0x50A.VCU_VehRemSCModPwrOnReq",
         "rawType": "object",
         "type": "string"
        },
        {
         "name": "VCU_0x50A.VCU_HVPwrOffReq",
         "rawType": "object",
         "type": "string"
        },
        {
         "name": "VCU_0x50A.VCU_FobdHVPwrOnFlg",
         "rawType": "object",
         "type": "string"
        },
        {
         "name": "VCU_0x50A.VCU_VehBootLoaderFlg",
         "rawType": "object",
         "type": "string"
        },
        {
         "name": "VCU_0x50A.VCU_DDmdTq",
         "rawType": "float64",
         "type": "float"
        },
        {
         "name": "VCU_0x50A.VCU_TqLim",
         "rawType": "float64",
         "type": "float"
        },
        {
         "name": "VCU_0x50A.VCU_MotDampgFobdSts",
         "rawType": "object",
         "type": "string"
        },
        {
         "name": "VCU_0x50A.VCU_EEPROMSts",
         "rawType": "int64",
         "type": "integer"
        },
        {
         "name": "VCU_0x50D.VCU_SysAllwMaxPwrCnse",
         "rawType": "float64",
         "type": "float"
        },
        {
         "name": "VCU_0x50D.VCU_SysAllwMaxFbPwr",
         "rawType": "float64",
         "type": "float"
        },
        {
         "name": "VCU_0x50D.VCU_ECCEnaCmd",
         "rawType": "object",
         "type": "string"
        },
        {
         "name": "VCU_0x50D.VCU_ECCEgyRecovModReq",
         "rawType": "object",
         "type": "string"
        },
        {
         "name": "VCU_0x50D.VCU_ECCSysAllwMaxPwrCnse",
         "rawType": "float64",
         "type": "float"
        },
        {
         "name": "VCU_0x50D.VCU_CrashDIRSigPWMPct",
         "rawType": "int64",
         "type": "integer"
        },
        {
         "name": "VCU_0x50D.VCU_CrashDIRSigPWMPeriod",
         "rawType": "int64",
         "type": "integer"
        },
        {
         "name": "ADAS_0x311.ADAS_311_CheckSum",
         "rawType": "int64",
         "type": "integer"
        },
        {
         "name": "ADAS_0x311.ADAS_311_AliveCounter",
         "rawType": "int64",
         "type": "integer"
        },
        {
         "name": "ADAS_0x311.ADAS_ISA_PerSpdLim_req",
         "rawType": "object",
         "type": "string"
        },
        {
         "name": "ADAS_0x311.ADAS_HiPrioDegradationSts",
         "rawType": "object",
         "type": "string"
        },
        {
         "name": "ADAS_0x311.ADAS_SpeedLimitUnit",
         "rawType": "object",
         "type": "string"
        },
        {
         "name": "ADAS_0x311.ADAS_LoPrioDegradationSts",
         "rawType": "object",
         "type": "string"
        },
        {
         "name": "ADAS_0x311.ADAS_ISA_SpdLmt",
         "rawType": "int64",
         "type": "integer"
        },
        {
         "name": "ADAS_0x311.ADAS_TSRSpeedLimitAddOn",
         "rawType": "int64",
         "type": "integer"
        },
        {
         "name": "ADAS_0x311.ADAS_TSRSpeedLimit",
         "rawType": "int64",
         "type": "integer"
        },
        {
         "name": "VCU_0x50B.VCU_SOCHiWakeUpThd",
         "rawType": "object",
         "type": "string"
        },
        {
         "name": "VCU_0x50B.VCU_BattSOCHiWakeUpSetFlg",
         "rawType": "object",
         "type": "string"
        },
        {
         "name": "VCU_0x50B.VCU_SOCHiWakeUpEnaCmd",
         "rawType": "object",
         "type": "string"
        },
        {
         "name": "VCU_0x511.VCU_VehEOLFctFlg",
         "rawType": "object",
         "type": "string"
        },
        {
         "name": "VCU_0x511.VCU_LVWakeUpSts_PDU",
         "rawType": "object",
         "type": "string"
        },
        {
         "name": "VCU_0x511.VCU_NetWakeUpSig",
         "rawType": "object",
         "type": "string"
        },
        {
         "name": "VCU_0x511.VCU_RemWakeUpSig",
         "rawType": "object",
         "type": "string"
        },
        {
         "name": "VCU_0x511.VCU_SCWakeUpSig",
         "rawType": "object",
         "type": "string"
        },
        {
         "name": "VCU_0x511.VCU_FCWakeUpSig",
         "rawType": "object",
         "type": "string"
        },
        {
         "name": "VCU_0x511.VCU_ONWakeUpSig",
         "rawType": "object",
         "type": "string"
        },
        {
         "name": "VCU_0x511.VCU_BMSLVWakeUpSts",
         "rawType": "object",
         "type": "string"
        },
        {
         "name": "VCU_0x511.VCU_RemChrgEndCmd",
         "rawType": "object",
         "type": "string"
        },
        {
         "name": "VCU_0x511.VCU_RemPwrBattHeatgEndCmd",
         "rawType": "object",
         "type": "string"
        },
        {
         "name": "VCU_0x511.VCU_EvChrgElectcLockCtrlCmd",
         "rawType": "object",
         "type": "string"
        },
        {
         "name": "VCU_0x511.VCU_RemECCEndCmd",
         "rawType": "object",
         "type": "string"
        },
        {
         "name": "VCU_0x511.VCU_LVWakeUpSts_CCU",
         "rawType": "object",
         "type": "string"
        },
        {
         "name": "VCU_0x511.VCU_PwrAntithefAllwtRdyFlg",
         "rawType": "object",
         "type": "string"
        },
        {
         "name": "VCU_0x511.VCU_LVWakeUpSts_MCU",
         "rawType": "object",
         "type": "string"
        },
        {
         "name": "VCU_0x511.VCU_V2L_ChrgPortAvl",
         "rawType": "object",
         "type": "string"
        },
        {
         "name": "VCU_0x511.VCU_RemECCEndReason",
         "rawType": "object",
         "type": "string"
        },
        {
         "name": "VCU_0x511.VCU_RemBattHeatgFailReason",
         "rawType": "object",
         "type": "string"
        },
        {
         "name": "VCU_0x511.VCU_V2L_TrAvl",
         "rawType": "object",
         "type": "string"
        },
        {
         "name": "VCU_0x511.VCU_V2G_Avl",
         "rawType": "object",
         "type": "string"
        },
        {
         "name": "VCU_0x511.VCU_V2H_Avl",
         "rawType": "object",
         "type": "string"
        },
        {
         "name": "VCU_0x511.VCU_V2V_Avl",
         "rawType": "object",
         "type": "string"
        },
        {
         "name": "VCU_0x511.VCU_SchedChrgnStsFb",
         "rawType": "object",
         "type": "string"
        },
        {
         "name": "VCU_0x511.VCU_RemChrgEndReason",
         "rawType": "object",
         "type": "string"
        },
        {
         "name": "VCU_0x511.VCU_VehMod",
         "rawType": "object",
         "type": "unknown"
        },
        {
         "name": "VCU_0x511.VCU_VehCrtChrgEndSOC",
         "rawType": "int64",
         "type": "integer"
        },
        {
         "name": "VCU_0x511.VCU_RemPwrBattPreheatgEndFlg",
         "rawType": "object",
         "type": "string"
        },
        {
         "name": "VCU_0x511.VCU_CalSwVers",
         "rawType": "object",
         "type": "string"
        },
        {
         "name": "VCU_0x511.VCU_RemDTCPwrOnReq",
         "rawType": "object",
         "type": "string"
        },
        {
         "name": "VCU_0x511.VCU_VehRemRefrshModReq",
         "rawType": "object",
         "type": "string"
        },
        {
         "name": "VCU_0x511.VCU_VehOperMod",
         "rawType": "object",
         "type": "string"
        },
        {
         "name": "VCU_0x358.VCU_358_CheckSum",
         "rawType": "int64",
         "type": "integer"
        },
        {
         "name": "VCU_0x358.VCU_EPedlEnaSig",
         "rawType": "object",
         "type": "string"
        },
        {
         "name": "VCU_0x358.VCU_KickdwnFlg",
         "rawType": "object",
         "type": "string"
        },
        {
         "name": "VCU_0x358.VCU_358_AliveCounter",
         "rawType": "int64",
         "type": "integer"
        },
        {
         "name": "VCU_0x358.VCU_EPedlStsFb",
         "rawType": "object",
         "type": "string"
        },
        {
         "name": "VCU_0x358.VCU_AccelModFb",
         "rawType": "object",
         "type": "string"
        },
        {
         "name": "VCU_0x358.VCU_RegenLvlFb",
         "rawType": "object",
         "type": "string"
        },
        {
         "name": "VCU_0x358.VCU_ComFlt_iBooster",
         "rawType": "object",
         "type": "string"
        },
        {
         "name": "VCU_0x358.VCU_ComLostFlt_ESP",
         "rawType": "object",
         "type": "string"
        },
        {
         "name": "VCU_0x358.VCU_CcTrgSpdDisp",
         "rawType": "object",
         "type": "string"
        },
        {
         "name": "VCU_0x358.VCU_DispSpdUnit_CC",
         "rawType": "object",
         "type": "string"
        },
        {
         "name": "VCU_0x358.VCU_CCIconDisp",
         "rawType": "object",
         "type": "string"
        },
        {
         "name": "VCU_0x358.VCU_Sts_CC_ICC",
         "rawType": "object",
         "type": "string"
        },
        {
         "name": "VCU_0x358.VCU_OTA_ECUInhb_Req",
         "rawType": "object",
         "type": "string"
        },
        {
         "name": "VCU_0x358.VCU_OTARdy_Fb",
         "rawType": "object",
         "type": "string"
        },
        {
         "name": "VCU_0x358.VCU_BoostEnStat",
         "rawType": "object",
         "type": "string"
        },
        {
         "name": "VCU_0x358.VCU_OTAVehInhb_ASIL_Fb",
         "rawType": "object",
         "type": "string"
        },
        {
         "name": "VCU_0x358.VCU_OTAVehCdnChk_ASIL",
         "rawType": "object",
         "type": "string"
        },
        {
         "name": "VCU_0x50C.VCU_DrvMotOutpPwrPerc",
         "rawType": "float64",
         "type": "float"
        },
        {
         "name": "VCU_0x50C.VCU_APS2Volt",
         "rawType": "float64",
         "type": "float"
        },
        {
         "name": "VCU_0x50C.VCU_APS1Volt",
         "rawType": "float64",
         "type": "float"
        },
        {
         "name": "VCU_0x50C.VCU_SlipRate",
         "rawType": "float64",
         "type": "float"
        },
        {
         "name": "VCU_0x50C.VCU_DrvTqLimSts",
         "rawType": "int64",
         "type": "integer"
        },
        {
         "name": "VCU_0x50C.VCU_EgyRecovTqLimSts",
         "rawType": "int64",
         "type": "integer"
        },
        {
         "name": "VCU_0x554.VCU_ACChrgDchaIndcrLampSts",
         "rawType": "object",
         "type": "string"
        },
        {
         "name": "VCU_0x554.VCU_PwrGridBreakFlg",
         "rawType": "object",
         "type": "string"
        },
        {
         "name": "VCU_0x554.VCU_DCChrgDchaIndcrLampSts",
         "rawType": "object",
         "type": "string"
        },
        {
         "name": "VCU_0x554.VCU_VCUWakeUpSig",
         "rawType": "object",
         "type": "string"
        },
        {
         "name": "VCU_0x554.VCU_PrplsnEPwrReq",
         "rawType": "float64",
         "type": "float"
        },
        {
         "name": "VCU_0x554.VCU_HVBattActPwr",
         "rawType": "float64",
         "type": "float"
        },
        {
         "name": "VCU_0x554.VCU_PreCdnTi1",
         "rawType": "int64",
         "type": "integer"
        },
        {
         "name": "VCU_0x554.VCU_PreCdnTi2",
         "rawType": "int64",
         "type": "integer"
        },
        {
         "name": "VCU_0x5A4.VCU_HVEM_PwrCoorrPrio",
         "rawType": "object",
         "type": "string"
        },
        {
         "name": "VCU_0x5A4.VCU_ChrgPwrLim",
         "rawType": "int64",
         "type": "integer"
        },
        {
         "name": "VCU_0x5A4.VCU_P_ECC_unfiltered",
         "rawType": "float64",
         "type": "float"
        },
        {
         "name": "VCU_0x5A4.VCU_P_Prop_filt",
         "rawType": "float64",
         "type": "float"
        },
        {
         "name": "VCU_0x357.VCU_357_CheckSum",
         "rawType": "int64",
         "type": "integer"
        },
        {
         "name": "VCU_0x357.VCU_ChrgSts_GB",
         "rawType": "object",
         "type": "string"
        },
        {
         "name": "VCU_0x357.VCU_357_AliveCounter",
         "rawType": "int64",
         "type": "integer"
        },
        {
         "name": "VCU_0x357.VCU_MCUFltSum_GB",
         "rawType": "int64",
         "type": "integer"
        },
        {
         "name": "VCU_0x357.VCU_BrkPedlSts_GB",
         "rawType": "object",
         "type": "string"
        },
        {
         "name": "VCU_0x357.VCU_SOCLoWakeUpEnaCmd",
         "rawType": "object",
         "type": "string"
        },
        {
         "name": "VCU_0x357.VCU_SOCLoWakeUpThd",
         "rawType": "int64",
         "type": "integer"
        },
        {
         "name": "VCU_0x357.VCU_SpclTerrainModUsrRmn",
         "rawType": "object",
         "type": "string"
        },
        {
         "name": "VCU_0x357.VCU_DrvModDiRmn",
         "rawType": "object",
         "type": "string"
        },
        {
         "name": "VCU_0x357.VCU_BattIntegtChrgWakeUpSts",
         "rawType": "object",
         "type": "string"
        },
        {
         "name": "VCU_0x357.VCU_BattIntegtChrgModPwrOnReq",
         "rawType": "object",
         "type": "string"
        },
        {
         "name": "VCU_0x357.VCU_BattIntegtChrgEndFlg",
         "rawType": "object",
         "type": "string"
        },
        {
         "name": "VCU_0x357.VCU_OTAInhbRdy",
         "rawType": "object",
         "type": "string"
        },
        {
         "name": "VCU_0x357.VCU_RemUgrdFltFbSig",
         "rawType": "object",
         "type": "string"
        },
        {
         "name": "VCU_0x363.VCU_FbRemHeatgOperSts",
         "rawType": "object",
         "type": "string"
        },
        {
         "name": "VCU_0x363.VCU_AllwRemHeatgSts",
         "rawType": "object",
         "type": "string"
        },
        {
         "name": "VCU_0x363.VCU_ACDchaStrtFailReason",
         "rawType": "object",
         "type": "string"
        },
        {
         "name": "VCU_0x363.VCU_CellIntShoFltLvl2ProtFlg",
         "rawType": "object",
         "type": "string"
        },
        {
         "name": "VCU_0x363.VCU_OverVoltFltLvl2ProtFlg",
         "rawType": "object",
         "type": "string"
        },
        {
         "name": "VCU_0x363.VCU_OverTFltLvl2ProtFlg",
         "rawType": "object",
         "type": "string"
        },
        {
         "name": "VCU_0x363.VCU_UnderVoltFltLvl2ProtFlg",
         "rawType": "object",
         "type": "string"
        },
        {
         "name": "VCU_0x363.VCU_TotOverVoltLvl2ProtFlg",
         "rawType": "object",
         "type": "string"
        },
        {
         "name": "VCU_0x363.VCU_Lvl2ProtStrtFlg",
         "rawType": "object",
         "type": "string"
        },
        {
         "name": "VCU_0x363.VCU_ChrgEndSOCCrtCtrlFlg",
         "rawType": "object",
         "type": "string"
        },
        {
         "name": "VCU_0x363.VCU_FSCFillEndFlg",
         "rawType": "object",
         "type": "string"
        },
        {
         "name": "VCU_0x363.VCU_NewOldEESwtFlg",
         "rawType": "object",
         "type": "string"
        },
        {
         "name": "VCU_0x363.VCU_SwUpdataFlg",
         "rawType": "object",
         "type": "string"
        },
        {
         "name": "VCU_0x363.VCU_FirstUseEEFlg",
         "rawType": "object",
         "type": "string"
        },
        {
         "name": "VCU_0x363.VCU_WrEEFailFlg",
         "rawType": "object",
         "type": "string"
        },
        {
         "name": "VCU_0x363.VCU_ReadEEFailFlg",
         "rawType": "object",
         "type": "string"
        },
        {
         "name": "VCU_0x363.VCU_VehCfgExchgFlg",
         "rawType": "object",
         "type": "string"
        },
        {
         "name": "VCU_0x363.VCU_InsulFltLvl2ProtFlg",
         "rawType": "object",
         "type": "string"
        },
        {
         "name": "VCU_0x363.VCU_VehExtDchaSts",
         "rawType": "object",
         "type": "string"
        },
        {
         "name": "VCU_0x363.VCU_DchaIndcrLampCtrlCmd",
         "rawType": "object",
         "type": "string"
        },
        {
         "name": "VCU_0x363.VCU_UsrStopChrgReqSts",
         "rawType": "object",
         "type": "string"
        },
        {
         "name": "VCU_0x363.VCU_MaxAlrmLvl",
         "rawType": "object",
         "type": "string"
        },
        {
         "name": "VCU_0x363.VCU_PwrBattHeatgTyp",
         "rawType": "object",
         "type": "string"
        },
        {
         "name": "VCU_0x363.VCU_RemHeatgDmd",
         "rawType": "object",
         "type": "string"
        },
        {
         "name": "VCU_0x363.VCU_DchaUsrSetThd",
         "rawType": "object",
         "type": "string"
        },
        {
         "name": "VCU_0x363.VCU_DchaFltStsIndcn",
         "rawType": "object",
         "type": "string"
        },
        {
         "name": "VCU_0x363.VCU_S1SwtCmd",
         "rawType": "object",
         "type": "string"
        },
        {
         "name": "VCU_0x363.VCU_RemPwrBattPreheatgDmdTi",
         "rawType": "int64",
         "type": "integer"
        },
        {
         "name": "VCU_0x363.VCU_ACChrgStrtFailReason",
         "rawType": "object",
         "type": "string"
        },
        {
         "name": "VCU_0x363.VCU_ChrgEquipPwrNotEngh",
         "rawType": "object",
         "type": "string"
        },
        {
         "name": "VCU_0x363.VCU_ChrgInsulFctOpenSts",
         "rawType": "object",
         "type": "string"
        },
        {
         "name": "ADAS_0x314.ADAS_314_CheckSum",
         "rawType": "int64",
         "type": "integer"
        },
        {
         "name": "ADAS_0x314.ADAS_314_AliveCounter",
         "rawType": "int64",
         "type": "integer"
        },
        {
         "name": "ADAS_0x314.ADAS_LKASts",
         "rawType": "object",
         "type": "string"
        },
        {
         "name": "ADAS_0x314.ADAS_ESAState",
         "rawType": "object",
         "type": "string"
        },
        {
         "name": "ADAS_0x314.ADAS_LCA_Maneuver_Status",
         "rawType": "object",
         "type": "string"
        },
        {
         "name": "ADAS_0x314.ADAS_LCA_Sts",
         "rawType": "object",
         "type": "string"
        },
        {
         "name": "ADAS_0x314.ADAS_ELKASts",
         "rawType": "object",
         "type": "string"
        },
        {
         "name": "ADAS_0x314.ADAS_APASts",
         "rawType": "object",
         "type": "string"
        },
        {
         "name": "ADAS_0x314.ADAS_DOW_Sts",
         "rawType": "object",
         "type": "string"
        },
        {
         "name": "ADAS_0x314.ADAS_WSPPASts",
         "rawType": "object",
         "type": "string"
        },
        {
         "name": "ADAS_0x314.ADAS_AHBA_Sts",
         "rawType": "object",
         "type": "string"
        },
        {
         "name": "ADAS_0x314.ADAS_DCAASts",
         "rawType": "object",
         "type": "string"
        },
        {
         "name": "ADAS_0x314.ADAS_BSDSts",
         "rawType": "object",
         "type": "string"
        },
        {
         "name": "ADAS_0x314.ADAS_AHBA_BeamDecisRsn",
         "rawType": "object",
         "type": "string"
        },
        {
         "name": "VCU_0x503.VCU_DrvPwrLimPerc",
         "rawType": "float64",
         "type": "float"
        },
        {
         "name": "VCU_0x503.VCU_EgyFbPwrLimPerc",
         "rawType": "float64",
         "type": "float"
        },
        {
         "name": "VCU_0x503.VCU_MemChrgRmnMilgThd",
         "rawType": "int64",
         "type": "integer"
        },
        {
         "name": "VCU_0x503.VCU_TrvlModSetRes",
         "rawType": "object",
         "type": "string"
        },
        {
         "name": "VCU_0x503.VCU_PerKmFlg",
         "rawType": "object",
         "type": "string"
        },
        {
         "name": "VCU_0x503.VCU_BrkStrtReq",
         "rawType": "object",
         "type": "string"
        },
        {
         "name": "VCU_0x503.VCU_VehMaxAlrmLvl",
         "rawType": "object",
         "type": "string"
        },
        {
         "name": "VCU_0x503.VCU_FltAlrmCtrlSts",
         "rawType": "object",
         "type": "string"
        },
        {
         "name": "VCU_0x503.VCU_SlopCalcnVal",
         "rawType": "float64",
         "type": "float"
        },
        {
         "name": "VCU_0x503.VCU_InsntEgyCnseHr",
         "rawType": "float64",
         "type": "float"
        },
        {
         "name": "VCU_0x504.VCU_ShiftOperRmn",
         "rawType": "object",
         "type": "string"
        },
        {
         "name": "VCU_0x504.VCU_MonrPwrBattThermRunawayAlrm",
         "rawType": "object",
         "type": "string"
        },
        {
         "name": "VCU_0x504.VCU_RmnUsrClsECCDispCmd",
         "rawType": "object",
         "type": "string"
        },
        {
         "name": "VCU_0x504.VCU_MotSysFltLamp",
         "rawType": "object",
         "type": "string"
        },
        {
         "name": "VCU_0x504.VCU_VehSysFltLamp",
         "rawType": "object",
         "type": "string"
        },
        {
         "name": "VCU_0x504.VCU_MCURSysOverTDisp",
         "rawType": "object",
         "type": "string"
        },
        {
         "name": "VCU_0x504.VCU_MCUFSysOverTDisp",
         "rawType": "object",
         "type": "string"
        },
        {
         "name": "VCU_0x504.VCU_MCUROverSpdAlrm",
         "rawType": "object",
         "type": "string"
        },
        {
         "name": "VCU_0x504.VCU_MCUFOverSpdAlrm",
         "rawType": "object",
         "type": "string"
        },
        {
         "name": "VCU_0x504.VCU_RmnUsrECCFctLmtDispCmd",
         "rawType": "object",
         "type": "string"
        },
        {
         "name": "VCU_0x504.VCU_PPrkgFltLvl",
         "rawType": "object",
         "type": "string"
        },
        {
         "name": "VCU_0x504.VCU_DrvgRngEPROMVal",
         "rawType": "float64",
         "type": "float"
        },
        {
         "name": "VCU_0x504.VCU_DrvgMilg",
         "rawType": "float64",
         "type": "float"
        },
        {
         "name": "VCU_0x504.VCU_VirtEgyRecovInten",
         "rawType": "object",
         "type": "string"
        },
        {
         "name": "VCU_0x504.VCU_EgyFlowLvl",
         "rawType": "int64",
         "type": "integer"
        },
        {
         "name": "VCU_0x504.VCU_DrvRngVld",
         "rawType": "object",
         "type": "string"
        },
        {
         "name": "VCU_0x505.VCU_SubtolEgyCnse",
         "rawType": "float64",
         "type": "float"
        },
        {
         "name": "VCU_0x505.VCU_InsntEgyCnse",
         "rawType": "float64",
         "type": "float"
        },
        {
         "name": "VCU_0x505.VCU_AccueEgyCnse",
         "rawType": "float64",
         "type": "float"
        },
        {
         "name": "VCU_0x505.VCU_SocLoRmn",
         "rawType": "object",
         "type": "string"
        },
        {
         "name": "VCU_0x505.VCU_GearSysFltIndcn",
         "rawType": "object",
         "type": "string"
        },
        {
         "name": "VCU_0x505.VCU_PPrkgSysFltIndcn",
         "rawType": "object",
         "type": "string"
        },
        {
         "name": "VCU_0x505.VCU_DrvPwrLimIndcrLamp",
         "rawType": "object",
         "type": "string"
        },
        {
         "name": "VCU_0x505.VCU_EgyRecovForbnFlg",
         "rawType": "object",
         "type": "string"
        },
        {
         "name": "VCU_0x505.VCU_ChrgGunStrt",
         "rawType": "object",
         "type": "string"
        },
        {
         "name": "VCU_0x505.VCU_InsntEgyCnseUnitSwtFlg",
         "rawType": "object",
         "type": "string"
        },
        {
         "name": "VCU_0x505.VCU_ChrgDchaGunCnctnIndcrLamp",
         "rawType": "object",
         "type": "string"
        },
        {
         "name": "VCU_0x505.VCU_VehEgyFlow",
         "rawType": "object",
         "type": "string"
        },
        {
         "name": "VCU_0x505.VCU_ChrgIndcrLamp",
         "rawType": "object",
         "type": "string"
        },
        {
         "name": "VCU_0x505.VCU_BattFltIndcn",
         "rawType": "object",
         "type": "string"
        },
        {
         "name": "VCU_0x507.VCU_OTAVehCdnChk_QM_sts",
         "rawType": "object",
         "type": "string"
        },
        {
         "name": "VCU_0x507.VCU_OTAVehInhb_QM_Fb",
         "rawType": "object",
         "type": "string"
        },
        {
         "name": "VCU_0x507.VCU_DrvrMotOverTFlt_GB",
         "rawType": "object",
         "type": "string"
        },
        {
         "name": "VCU_0x507.VCU_MCUOverTFlt_GB",
         "rawType": "object",
         "type": "string"
        },
        {
         "name": "VCU_0x507.VCU_VehSts_GB",
         "rawType": "object",
         "type": "string"
        },
        {
         "name": "VCU_0x507.VCU_CllsnSigSts",
         "rawType": "object",
         "type": "string"
        },
        {
         "name": "VCU_0x507.VCU_DrvAvl",
         "rawType": "object",
         "type": "string"
        },
        {
         "name": "VCU_0x507.VCU_MstRlyCtrlCmd",
         "rawType": "object",
         "type": "string"
        },
        {
         "name": "VCU_0x507.VCU_PwrBattECCEnaCmd",
         "rawType": "object",
         "type": "string"
        },
        {
         "name": "VCU_0x507.VCU_DCDCEnaCmd",
         "rawType": "object",
         "type": "string"
        },
        {
         "name": "VCU_0x507.VCU_SOCTooHiAlrm",
         "rawType": "object",
         "type": "string"
        },
        {
         "name": "VCU_0x507.VCU_PwrBattPackMismatAlrm",
         "rawType": "object",
         "type": "string"
        },
        {
         "name": "VCU_0x507.VCU_SOCJumpAlrm",
         "rawType": "object",
         "type": "string"
        },
        {
         "name": "VCU_0x507.VCU_SOCTooLoAlrm",
         "rawType": "object",
         "type": "string"
        },
        {
         "name": "VCU_0x507.VCU_DCDCOutpVoltCmd",
         "rawType": "float64",
         "type": "float"
        },
        {
         "name": "VCU_0x507.VCU_CCCnctnVolt",
         "rawType": "float64",
         "type": "float"
        },
        {
         "name": "VCU_0x507.VCU_DrvrMotNr_GB",
         "rawType": "object",
         "type": "string"
        },
        {
         "name": "VCU_0x507.VCU_GearSig_GB",
         "rawType": "object",
         "type": "string"
        },
        {
         "name": "VCU_0x507.VCU_BattVolt",
         "rawType": "float64",
         "type": "float"
        },
        {
         "name": "VCU_0x555.VCU_ComLostFlt_ICC",
         "rawType": "object",
         "type": "string"
        },
        {
         "name": "VCU_0x555.VCU_ComChkFlt_BMS",
         "rawType": "object",
         "type": "string"
        },
        {
         "name": "VCU_0x555.VCU_ComChkFlt_VCU",
         "rawType": "object",
         "type": "string"
        },
        {
         "name": "VCU_0x555.VCU_ACDCChrgIndcrLamp12VFlt",
         "rawType": "object",
         "type": "string"
        },
        {
         "name": "VCU_0x555.VCU_DCChrgElectcLockDrvFlt",
         "rawType": "object",
         "type": "string"
        },
        {
         "name": "VCU_0x555.VCU_CrtSts",
         "rawType": "object",
         "type": "string"
        },
        {
         "name": "VCU_0x555.VCU_ComLostFlt_OBC",
         "rawType": "object",
         "type": "string"
        },
        {
         "name": "VCU_0x555.VCU_ComChkFlt_ESP",
         "rawType": "object",
         "type": "string"
        },
        {
         "name": "VCU_0x555.VCU_ACChrgNTC1AndNTC2TFlt",
         "rawType": "object",
         "type": "string"
        },
        {
         "name": "VCU_0x555.VCU_ComLostFlt_PEPS",
         "rawType": "object",
         "type": "string"
        },
        {
         "name": "VCU_0x555.VCU_ACChrgElectcLockDrvFlt",
         "rawType": "object",
         "type": "string"
        },
        {
         "name": "VCU_0x555.VCU_KL30OperFlt",
         "rawType": "object",
         "type": "string"
        },
        {
         "name": "VCU_0x555.VCU_DCChrgNTC1AndNTC2TFlt",
         "rawType": "object",
         "type": "string"
        },
        {
         "name": "VCU_0x555.VCU_ACChrgTAlrmFlt",
         "rawType": "object",
         "type": "string"
        },
        {
         "name": "VCU_0x555.VCU_DCChrgTAlrmFlt",
         "rawType": "object",
         "type": "string"
        },
        {
         "name": "VCU_0x555.VCU_ACChrgElectcLockFailFlt",
         "rawType": "object",
         "type": "string"
        },
        {
         "name": "VCU_0x555.VCU_ACChrgElectcUnlockFailFlt",
         "rawType": "object",
         "type": "string"
        },
        {
         "name": "VCU_0x555.VCU_ACChrgDchaCCSigFlt",
         "rawType": "object",
         "type": "string"
        },
        {
         "name": "VCU_0x555.VCU_ComLostFlt_VCU",
         "rawType": "object",
         "type": "string"
        },
        {
         "name": "VCU_0x555.VCU_ACChrgNTC1InpFlt",
         "rawType": "object",
         "type": "string"
        },
        {
         "name": "VCU_0x555.VCU_DCChrgNTC2InpFlt",
         "rawType": "object",
         "type": "string"
        },
        {
         "name": "VCU_0x555.VCU_DCChrgNTC1InpFlt",
         "rawType": "object",
         "type": "string"
        },
        {
         "name": "VCU_0x555.VCU_ChrgCPSigFlt",
         "rawType": "object",
         "type": "string"
        },
        {
         "name": "VCU_0x555.VCU_CC2SigFlt",
         "rawType": "object",
         "type": "string"
        },
        {
         "name": "VCU_0x555.VCU_DchgCPSigFlt",
         "rawType": "object",
         "type": "string"
        },
        {
         "name": "VCU_0x555.VCU_ACChrgNTC2InpFlt",
         "rawType": "object",
         "type": "string"
        },
        {
         "name": "VCU_0x555.VCU_CC2Volt",
         "rawType": "float64",
         "type": "float"
        },
        {
         "name": "VCU_0x555.VCU_DCChrgASigFlt",
         "rawType": "object",
         "type": "string"
        },
        {
         "name": "VCU_0x555.VCU_DCChrgIndcrLampDrvFlt",
         "rawType": "object",
         "type": "string"
        },
        {
         "name": "VCU_0x555.VCU_ACChrgIndcrLampDrvFlt",
         "rawType": "object",
         "type": "string"
        },
        {
         "name": "VCU_0x556.VCU_CP_Amp",
         "rawType": "float64",
         "type": "float"
        },
        {
         "name": "VCU_0x556.VCU_CP_Frq",
         "rawType": "int64",
         "type": "integer"
        },
        {
         "name": "VCU_0x556.VCU_CP_DutyRat",
         "rawType": "int64",
         "type": "integer"
        },
        {
         "name": "VCU_0x556.VCU_CC_R",
         "rawType": "int64",
         "type": "integer"
        },
        {
         "name": "BMS_CellVoltage.BMS_Cell_Volt_max",
         "rawType": "float64",
         "type": "float"
        },
        {
         "name": "BMS_CellVoltage.BMS_Cell_Volt_min",
         "rawType": "float64",
         "type": "float"
        },
        {
         "name": "BMS_CellVoltage.BMS_Cell_Volt_nom",
         "rawType": "float64",
         "type": "float"
        },
        {
         "name": "BMS_CellVoltage.BMS_CL30C_Volt",
         "rawType": "float64",
         "type": "float"
        },
        {
         "name": "BMS_PMLT_Current.BMS_Curr_PmLT_CheckSum",
         "rawType": "float64",
         "type": "float"
        },
        {
         "name": "BMS_PMLT_Current.BMS_Curr_PmLT_AliveCounter",
         "rawType": "float64",
         "type": "float"
        },
        {
         "name": "BMS_PMLT_Current.BMS_Bat_D_MAXcurr_PmLT",
         "rawType": "float64",
         "type": "float"
        },
        {
         "name": "BMS_PMLT_Current.BMS_Bat_C_MAXcurr_PmLT",
         "rawType": "float64",
         "type": "float"
        },
        {
         "name": "ESP_0x332.ESP_332_CheckSum",
         "rawType": "int64",
         "type": "integer"
        },
        {
         "name": "ESP_0x332.ESP_OTAInhbRdy",
         "rawType": "object",
         "type": "string"
        },
        {
         "name": "ESP_0x332.ESP_BrkLiReq",
         "rawType": "object",
         "type": "string"
        },
        {
         "name": "ESP_0x332.ESP_EmgyBrkLi",
         "rawType": "object",
         "type": "string"
        },
        {
         "name": "ESP_0x332.ESP_332_AliveCounter",
         "rawType": "int64",
         "type": "integer"
        },
        {
         "name": "ESP_0x332.ESP_ActvIndcn_CDP",
         "rawType": "object",
         "type": "string"
        },
        {
         "name": "ESP_0x332.ESP_FltIndcn_AVH",
         "rawType": "object",
         "type": "string"
        },
        {
         "name": "ESP_0x332.ESP_SwtIndcn_AVH",
         "rawType": "object",
         "type": "string"
        },
        {
         "name": "ESP_0x332.ESP_ActvIndcn_AVH",
         "rawType": "object",
         "type": "string"
        },
        {
         "name": "ESP_0x332.ESP_FltIndcn_HHC",
         "rawType": "object",
         "type": "string"
        },
        {
         "name": "ESP_0x332.ESP_ActvIndcn_HHC",
         "rawType": "object",
         "type": "string"
        },
        {
         "name": "ESP_0x332.ESP_BrkPadWearWarn",
         "rawType": "object",
         "type": "string"
        },
        {
         "name": "ESP_0x332.ESP_Sts_HBB",
         "rawType": "object",
         "type": "string"
        },
        {
         "name": "ESP_0x332.ESP_ActvIndcn_HBB",
         "rawType": "object",
         "type": "string"
        },
        {
         "name": "ESP_0x332.ESP_FltIndcn_CDP",
         "rawType": "object",
         "type": "string"
        },
        {
         "name": "BMS_PMLT_Voltage.BMS_Volt_PmLT_CheckSum",
         "rawType": "float64",
         "type": "float"
        },
        {
         "name": "BMS_PMLT_Voltage.BMS_Volt_PmLT_AliveCounter",
         "rawType": "float64",
         "type": "float"
        },
        {
         "name": "BMS_PMLT_Voltage.BMS_Bat_D_MAXvolt_PmLT",
         "rawType": "float64",
         "type": "float"
        },
        {
         "name": "BMS_PMLT_Voltage.BMS_Bat_C_MAXvolt_PmLT",
         "rawType": "float64",
         "type": "float"
        },
        {
         "name": "BMS_HVBatt_Status_2_TBOX.BMS_330_391_CheckSum",
         "rawType": "float64",
         "type": "float"
        },
        {
         "name": "BMS_HVBatt_Status_2_TBOX.BMS_330_391_AliveCounter",
         "rawType": "float64",
         "type": "float"
        },
        {
         "name": "BMS_HVBatt_Status_2_TBOX.BMS_PwrBattSysFltDisp",
         "rawType": "object",
         "type": "string"
        },
        {
         "name": "BMS_HVBatt_Status_2_TBOX.BMS_VehInsulFltDisp",
         "rawType": "object",
         "type": "string"
        },
        {
         "name": "BMS_HVBatt_Status_2_TBOX.BMS_PwrBattRmngCpSOC",
         "rawType": "float64",
         "type": "float"
        },
        {
         "name": "BMS_HVBatt_Status_2_TBOX.BMS_PwrBattAvlCp",
         "rawType": "float64",
         "type": "float"
        },
        {
         "name": "BMS_HVBatt_Status_2_TBOX.BMS_PwrBattInsulSts",
         "rawType": "object",
         "type": "string"
        },
        {
         "name": "BMS_HVBatt_Status_2_TBOX.BMS_PwrBattOverT",
         "rawType": "object",
         "type": "string"
        },
        {
         "name": "BMS_HVBatt_Status_2_TBOX.BMS_PwrBattThermRunawayAlrm",
         "rawType": "object",
         "type": "string"
        },
        {
         "name": "BMS_HVBatt_Status_2_TBOX.BMS_CellMinTAlrm",
         "rawType": "object",
         "type": "string"
        },
        {
         "name": "BMS_HVBatt_Status_2_TBOX.BMS_330_SSecOC_Fresh_Byte0",
         "rawType": "float64",
         "type": "float"
        },
        {
         "name": "BMS_HVBatt_Status_2_TBOX.BMS_330_SSecOC_MAC_Byte0",
         "rawType": "float64",
         "type": "float"
        },
        {
         "name": "BMS_HVBatt_Status_2_TBOX.BMS_330_SSecOC_MAC_Byte1",
         "rawType": "float64",
         "type": "float"
        },
        {
         "name": "BMS_HVBatt_Status_2_TBOX.BMS_330_SSecOC_MAC_Byte2",
         "rawType": "float64",
         "type": "float"
        },
        {
         "name": "OHC_0x337.OHC_SplyGroup5OutpSts",
         "rawType": "object",
         "type": "string"
        },
        {
         "name": "OHC_0x337.OHC_CrtGroup4RearComp",
         "rawType": "object",
         "type": "string"
        },
        {
         "name": "OHC_0x337.OHC_FctCrtSts",
         "rawType": "object",
         "type": "string"
        },
        {
         "name": "OHC_0x337.OHC_CrtGroup3Storage",
         "rawType": "int64",
         "type": "integer"
        },
        {
         "name": "OHC_0x337.OHC_CrtGroup1Standard",
         "rawType": "int64",
         "type": "integer"
        },
        {
         "name": "OHC_0x337.OHC_CrtGroup2Footwell",
         "rawType": "int64",
         "type": "integer"
        },
        {
         "name": "OHC_0x337.OHC_CrtBri",
         "rawType": "object",
         "type": "string"
        },
        {
         "name": "OHC_0x513.OHC_513_Checksum",
         "rawType": "int64",
         "type": "integer"
        },
        {
         "name": "OHC_0x513.OHC_OTARdy_Fb",
         "rawType": "object",
         "type": "string"
        },
        {
         "name": "OHC_0x513.OHC_513_AliveCounter",
         "rawType": "int64",
         "type": "integer"
        },
        {
         "name": "OHC_0x513.OHC_ReadingLampSwtSts_RF",
         "rawType": "object",
         "type": "string"
        },
        {
         "name": "OHC_0x513.OHC_ReadingLampSwtSts_LF",
         "rawType": "object",
         "type": "string"
        },
        {
         "name": "OHC_0x513.OHC_ReadingLampSts_LF",
         "rawType": "object",
         "type": "string"
        },
        {
         "name": "OHC_0x513.OHC_ReadingLampSts_RF",
         "rawType": "object",
         "type": "string"
        },
        {
         "name": "OHC_0x513.OHC_CaliforniaButnSts",
         "rawType": "object",
         "type": "string"
        },
        {
         "name": "OHC_0x513.OHC_MoonroofButnSts",
         "rawType": "object",
         "type": "string"
        },
        {
         "name": "OHC_0x513.OHC_TailButnSts",
         "rawType": "object",
         "type": "string"
        },
        {
         "name": "TBOX_0x5C4.TBOX_RemPwrBattResvHeatgReq",
         "rawType": "object",
         "type": "string"
        },
        {
         "name": "TBOX_0x5C4.TBOX_RemPwrBattOpenHeatgReq",
         "rawType": "object",
         "type": "string"
        },
        {
         "name": "TBOX_0x5C4.TBOX_RemSCModReq",
         "rawType": "object",
         "type": "string"
        },
        {
         "name": "TBOX_0x5C4.TBOX_TerminalRemWakeupSig",
         "rawType": "object",
         "type": "string"
        },
        {
         "name": "TBOX_0x5C4.TBOX_OTA_ownCondchk",
         "rawType": "object",
         "type": "string"
        },
        {
         "name": "TBOX_0x5C4.TBOX_RemECCResvDefrstReq",
         "rawType": "object",
         "type": "string"
        },
        {
         "name": "TBOX_0x5C4.TBOX_RemECCDefrstModReq",
         "rawType": "object",
         "type": "string"
        },
        {
         "name": "TBOX_0x5C4.TBOX_RemInsdInfoDispEna",
         "rawType": "object",
         "type": "string"
        },
        {
         "name": "TBOX_0x5C4.TBOX_RemECCSetT",
         "rawType": "object",
         "type": "string"
        },
        {
         "name": "TBOX_0x5C4.TBOX_RemResvECCSetT",
         "rawType": "object",
         "type": "string"
        },
        {
         "name": "TBOX_0x5C4.TBOX_RemSOCMax",
         "rawType": "int64",
         "type": "integer"
        },
        {
         "name": "TBOX_0x5C4.TBOX_WIFIError",
         "rawType": "object",
         "type": "string"
        },
        {
         "name": "TBOX_0x5C4.TBOX_EHUNotCONN",
         "rawType": "object",
         "type": "string"
        },
        {
         "name": "TBOX_0x5C4.TBOX_TSPNotConn",
         "rawType": "object",
         "type": "string"
        },
        {
         "name": "TBOX_0x5C4.TBOX_Conn_Typ",
         "rawType": "object",
         "type": "string"
        },
        {
         "name": "TBOX_0x5C4.TBOX_4GSigIND",
         "rawType": "object",
         "type": "string"
        },
        {
         "name": "TBOX_0x5C4.TBOX_OTAInhbReq",
         "rawType": "object",
         "type": "string"
        },
        {
         "name": "TBOX_0x5C4.TBOX_RemSWH_Req",
         "rawType": "object",
         "type": "string"
        },
        {
         "name": "TBOX_0x5C4.TBOX_4GLoss",
         "rawType": "object",
         "type": "string"
        },
        {
         "name": "TBOX_0x5C4.TBOX_VoltHigh",
         "rawType": "object",
         "type": "string"
        },
        {
         "name": "TBOX_0x5C4.TBOX_VoltLow",
         "rawType": "object",
         "type": "string"
        },
        {
         "name": "TBOX_0x5C4.TBOX_InnerBattError",
         "rawType": "object",
         "type": "string"
        },
        {
         "name": "TBOX_0x5C4.TBOX_5C4_SSecOC_Fresh_Byte0",
         "rawType": "int64",
         "type": "integer"
        },
        {
         "name": "TBOX_0x5C4.TBOX_5C4_SSecOC_MAC_Byte0",
         "rawType": "int64",
         "type": "integer"
        },
        {
         "name": "TBOX_0x5C4.TBOX_5C4_SSecOC_MAC_Byte1",
         "rawType": "int64",
         "type": "integer"
        },
        {
         "name": "TBOX_0x5C4.TBOX_5C4_SSecOC_MAC_Byte2",
         "rawType": "int64",
         "type": "integer"
        },
        {
         "name": "TBOX_0x5C8.TBOX_RemPwrBattResvHeatgReq",
         "rawType": "object",
         "type": "string"
        },
        {
         "name": "TBOX_0x5C8.TBOX_RemPwrBattOpenHeatgReq",
         "rawType": "object",
         "type": "string"
        },
        {
         "name": "TBOX_0x5C8.TBOX_RemSCModReq",
         "rawType": "object",
         "type": "string"
        },
        {
         "name": "TBOX_0x5C8.TBOX_TerminalRemWakeupSig",
         "rawType": "object",
         "type": "string"
        },
        {
         "name": "TBOX_0x5C8.TBOX_OTA_ownCondchk",
         "rawType": "object",
         "type": "string"
        },
        {
         "name": "TBOX_0x5C8.TBOX_RemECCResvDefrstReq",
         "rawType": "object",
         "type": "string"
        },
        {
         "name": "TBOX_0x5C8.TBOX_RemECCDefrstModReq",
         "rawType": "object",
         "type": "string"
        },
        {
         "name": "TBOX_0x5C8.TBOX_RemInsdInfoDispEna",
         "rawType": "object",
         "type": "string"
        },
        {
         "name": "TBOX_0x5C8.TBOX_RemECCSetT",
         "rawType": "object",
         "type": "string"
        },
        {
         "name": "TBOX_0x5C8.TBOX_RemResvECCSetT",
         "rawType": "object",
         "type": "string"
        },
        {
         "name": "TBOX_0x5C8.TBOX_RemSOCMax",
         "rawType": "int64",
         "type": "integer"
        },
        {
         "name": "TBOX_0x5C8.TBOX_WIFIError",
         "rawType": "object",
         "type": "string"
        },
        {
         "name": "TBOX_0x5C8.TBOX_EHUNotCONN",
         "rawType": "object",
         "type": "string"
        },
        {
         "name": "TBOX_0x5C8.TBOX_TSPNotConn",
         "rawType": "object",
         "type": "string"
        },
        {
         "name": "TBOX_0x5C8.TBOX_Conn_Typ",
         "rawType": "object",
         "type": "string"
        },
        {
         "name": "TBOX_0x5C8.TBOX_4GSigIND",
         "rawType": "object",
         "type": "string"
        },
        {
         "name": "TBOX_0x5C8.TBOX_OTAInhbReq",
         "rawType": "object",
         "type": "string"
        },
        {
         "name": "TBOX_0x5C8.TBOX_RemSWH_Req",
         "rawType": "object",
         "type": "string"
        },
        {
         "name": "TBOX_0x5C8.TBOX_4GLoss",
         "rawType": "object",
         "type": "string"
        },
        {
         "name": "TBOX_0x5C8.TBOX_VoltHigh",
         "rawType": "object",
         "type": "string"
        },
        {
         "name": "TBOX_0x5C8.TBOX_VoltLow",
         "rawType": "object",
         "type": "string"
        },
        {
         "name": "TBOX_0x5C8.TBOX_InnerBattError",
         "rawType": "object",
         "type": "string"
        },
        {
         "name": "PLGM_0x471.PLGM_UsrSetTrMaxHei",
         "rawType": "object",
         "type": "string"
        },
        {
         "name": "PLGM_0x471.PLGM_LeTrPosn",
         "rawType": "int64",
         "type": "integer"
        },
        {
         "name": "PLGM_0x471.PLGM_RiTrPosn",
         "rawType": "int64",
         "type": "integer"
        },
        {
         "name": "PLGM_0x471.PLGM_SysFltIndcn",
         "rawType": "object",
         "type": "string"
        },
        {
         "name": "PLGM_0x471.PLGM_FctEnaRes",
         "rawType": "object",
         "type": "string"
        },
        {
         "name": "PLGM_0x471.PLGM_SoundRemdngReq_EHU",
         "rawType": "object",
         "type": "string"
        },
        {
         "name": "PLGM_0x471.PLGM_LiRemdngReq_BCM",
         "rawType": "object",
         "type": "string"
        },
        {
         "name": "PLGM_0x471.PLGM_TrLtchStsIndcn",
         "rawType": "object",
         "type": "string"
        },
        {
         "name": "PLGM_0x471.PLGM_TrSwtStsIndcn",
         "rawType": "object",
         "type": "string"
        },
        {
         "name": "PLGM_0x471.PLGM_TrActnHandCmd",
         "rawType": "object",
         "type": "string"
        },
        {
         "name": "PLGM_0x471.PLGM_TrInnrSwtSts",
         "rawType": "object",
         "type": "string"
        },
        {
         "name": "PLGM_0x471.PLGM_DrvrSwtSts",
         "rawType": "object",
         "type": "string"
        },
        {
         "name": "PLGM_0x471.PLGM_LimpHomeSts",
         "rawType": "object",
         "type": "string"
        },
        {
         "name": "PLGM_0x471.PLGM_TrSwtSts",
         "rawType": "object",
         "type": "string"
        },
        {
         "name": "PLGM_0x471.PLGM_OperMod",
         "rawType": "object",
         "type": "string"
        },
        {
         "name": "PLGM_0x471.PLGM_TrSwtTrigOpenReq",
         "rawType": "object",
         "type": "string"
        },
        {
         "name": "PLGM_0x471.PLGM_OTARdy_Fb",
         "rawType": "object",
         "type": "string"
        },
        {
         "name": "PLGM_0x471.PLGM_OTAInhbRdy",
         "rawType": "object",
         "type": "string"
        },
        {
         "name": "PLGM_0x471.PLGM_TrSts",
         "rawType": "object",
         "type": "string"
        },
        {
         "name": "PLGM_0x471.PLGM_AntipinchSts",
         "rawType": "object",
         "type": "string"
        },
        {
         "name": "PLGM_0x471.PLGM_Tindcn_NTC",
         "rawType": "int64",
         "type": "integer"
        },
        {
         "name": "ACU_0x59.ACU_59_CheckSum",
         "rawType": "float64",
         "type": "float"
        },
        {
         "name": "ACU_0x59.ACU_FrntCrashOutpSts",
         "rawType": "object",
         "type": "string"
        },
        {
         "name": "ACU_0x59.ACU_59_AliveCounter",
         "rawType": "float64",
         "type": "float"
        },
        {
         "name": "ACU_0x59.ACU_RollovrCrashOutpSts",
         "rawType": "object",
         "type": "string"
        },
        {
         "name": "ACU_0x59.ACU_RearCrashOutpSts",
         "rawType": "object",
         "type": "string"
        },
        {
         "name": "ACU_0x59.ACU_LeSideCrashOutpSts",
         "rawType": "object",
         "type": "string"
        },
        {
         "name": "ACU_0x59.ACU_RiSideCrashOutpSts",
         "rawType": "object",
         "type": "string"
        },
        {
         "name": "ACU_0x59.ACU_Crash_cfm",
         "rawType": "object",
         "type": "string"
        },
        {
         "name": "ADAS_0x334.ADAS_334_CheckSum",
         "rawType": "int64",
         "type": "integer"
        },
        {
         "name": "ADAS_0x334.ADAS_FobdSign",
         "rawType": "object",
         "type": "string"
        },
        {
         "name": "ADAS_0x334.ADAS_334_AliveCounter",
         "rawType": "int64",
         "type": "integer"
        },
        {
         "name": "ADAS_0x334.ADAS_FrntCamBli",
         "rawType": "object",
         "type": "string"
        },
        {
         "name": "ADAS_0x334.ADAS_FrntCamFlt",
         "rawType": "object",
         "type": "string"
        },
        {
         "name": "ADAS_0x334.ADAS_AHBA_FltTxt",
         "rawType": "object",
         "type": "string"
        },
        {
         "name": "ADAS_0x334.ADAS_AHBA_LiSigReq",
         "rawType": "object",
         "type": "string"
        },
        {
         "name": "ADAS_0x334.ADAS_RngIntlSpdLim",
         "rawType": "int64",
         "type": "integer"
        },
        {
         "name": "ADAS_0x342.ADAS_342_Checksum",
         "rawType": "int64",
         "type": "integer"
        },
        {
         "name": "ADAS_0x342.ADAS_LatCtrl_RiTurnLampReq",
         "rawType": "object",
         "type": "string"
        },
        {
         "name": "ADAS_0x342.ADAS_LatCtrl_LeTurnLampReq",
         "rawType": "object",
         "type": "string"
        },
        {
         "name": "ADAS_0x342.ADAS_342_AliveCounter",
         "rawType": "int64",
         "type": "integer"
        },
        {
         "name": "ADAS_0x342.ADAS_HOD_HandsOnWarnReq",
         "rawType": "object",
         "type": "string"
        },
        {
         "name": "ADAS_0x342.ADAS_VehMovDir",
         "rawType": "object",
         "type": "string"
        },
        {
         "name": "ADAS_0x342.ADAS_LatCtrl_HzrdLampReq",
         "rawType": "object",
         "type": "string"
        },
        {
         "name": "ADAS_0x342.ADAS_LatCtrl_HapticReq",
         "rawType": "object",
         "type": "string"
        },
        {
         "name": "ADAS_0x342.ADAS_TPReplaySuc",
         "rawType": "object",
         "type": "string"
        },
        {
         "name": "ADAS_0x342.ADAS_TPReplayAvl",
         "rawType": "object",
         "type": "string"
        },
        {
         "name": "ADAS_0x342.ADAS_RAPAvl",
         "rawType": "object",
         "type": "string"
        },
        {
         "name": "ADAS_0x342.ADAS_AVASReq",
         "rawType": "object",
         "type": "string"
        },
        {
         "name": "ADAS_0x342.ADAS_DoorLockReq",
         "rawType": "object",
         "type": "string"
        },
        {
         "name": "ADAS_0x342.ADAS_ExtLightReq",
         "rawType": "object",
         "type": "string"
        },
        {
         "name": "ADAS_0x342.ADAS_Sts_TP",
         "rawType": "object",
         "type": "string"
        },
        {
         "name": "ADAS_0x342.ADAS_Sts_RAP",
         "rawType": "object",
         "type": "string"
        },
        {
         "name": "ADAS_0x342.ADAS_HODSts",
         "rawType": "object",
         "type": "string"
        },
        {
         "name": "TBOX_0x53.TBOX_RemClsWin_LeFrnt_CtrlCmd",
         "rawType": "int64",
         "type": "integer"
        },
        {
         "name": "TBOX_0x53.TBOX_RemCtrlLockCmd",
         "rawType": "object",
         "type": "string"
        },
        {
         "name": "TBOX_0x53.TBOX_RemClsWin_RiFrnt_CtrlCmd",
         "rawType": "int64",
         "type": "integer"
        },
        {
         "name": "TBOX_0x53.TBOX_53_SSecOC_Fresh_Byte0",
         "rawType": "int64",
         "type": "integer"
        },
        {
         "name": "TBOX_0x53.TBOX_53_SSecOC_MAC_Byte0",
         "rawType": "int64",
         "type": "integer"
        },
        {
         "name": "TBOX_0x53.TBOX_53_SSecOC_MAC_Byte1",
         "rawType": "int64",
         "type": "integer"
        },
        {
         "name": "TBOX_0x53.TBOX_53_SSecOC_MAC_Byte2",
         "rawType": "int64",
         "type": "integer"
        },
        {
         "name": "PKC_0x331.PKC_331_CheckSum",
         "rawType": "int64",
         "type": "integer"
        },
        {
         "name": "PKC_0x331.PKC_OTAInhbRdy",
         "rawType": "object",
         "type": "string"
        },
        {
         "name": "PKC_0x331.PKC_OTARdy_Fb",
         "rawType": "object",
         "type": "string"
        },
        {
         "name": "PKC_0x331.PKC_331_AliveCounter",
         "rawType": "int64",
         "type": "integer"
        },
        {
         "name": "PKC_0x331.PKC_RemModOpenSts",
         "rawType": "object",
         "type": "string"
        },
        {
         "name": "PKC_0x331.PKC_IMMO_AuthSts",
         "rawType": "object",
         "type": "string"
        },
        {
         "name": "PKC_0x331.PKC_StrtReq",
         "rawType": "object",
         "type": "string"
        },
        {
         "name": "PKC_0x331.PKC_SysLrngMod",
         "rawType": "object",
         "type": "string"
        },
        {
         "name": "PKC_0x331.PKC_RemReqCfmRxResp",
         "rawType": "object",
         "type": "string"
        },
        {
         "name": "PKC_0x331.PKC_MnvrDelete",
         "rawType": "float64",
         "type": "float"
        },
        {
         "name": "PKC_0x331.PKC_MnvrSelect",
         "rawType": "float64",
         "type": "float"
        },
        {
         "name": "PKC_0x331.PKC_331_SSecOC_Fresh_Byte0",
         "rawType": "int64",
         "type": "integer"
        },
        {
         "name": "PKC_0x331.PKC_331_SSecOC_MAC_Byte0",
         "rawType": "int64",
         "type": "integer"
        },
        {
         "name": "PKC_0x331.PKC_331_SSecOC_MAC_Byte1",
         "rawType": "int64",
         "type": "integer"
        },
        {
         "name": "PKC_0x331.PKC_331_SSecOC_MAC_Byte2",
         "rawType": "int64",
         "type": "integer"
        },
        {
         "name": "PKC_0x32E.PKC_331_CheckSum",
         "rawType": "int64",
         "type": "integer"
        },
        {
         "name": "PKC_0x32E.PKC_OTAInhbRdy",
         "rawType": "object",
         "type": "string"
        },
        {
         "name": "PKC_0x32E.PKC_OTARdy_Fb",
         "rawType": "object",
         "type": "string"
        },
        {
         "name": "PKC_0x32E.PKC_331_AliveCounter",
         "rawType": "int64",
         "type": "integer"
        },
        {
         "name": "PKC_0x32E.PKC_RemModOpenSts",
         "rawType": "object",
         "type": "string"
        },
        {
         "name": "PKC_0x32E.PKC_IMMO_AuthSts",
         "rawType": "object",
         "type": "string"
        },
        {
         "name": "PKC_0x32E.PKC_StrtReq",
         "rawType": "object",
         "type": "string"
        },
        {
         "name": "PKC_0x32E.PKC_SysLrngMod",
         "rawType": "object",
         "type": "string"
        },
        {
         "name": "PKC_0x32E.PKC_RemReqCfmRxResp",
         "rawType": "object",
         "type": "string"
        },
        {
         "name": "PKC_0x32E.PKC_MnvrDelete",
         "rawType": "float64",
         "type": "float"
        },
        {
         "name": "PKC_0x32E.PKC_MnvrSelect",
         "rawType": "float64",
         "type": "float"
        },
        {
         "name": "MCU_F_0x383.MCU_F_383_CheckSum",
         "rawType": "float64",
         "type": "float"
        },
        {
         "name": "MCU_F_0x383.MCU_F_ParkLockStatus_EV",
         "rawType": "object",
         "type": "string"
        },
        {
         "name": "MCU_F_0x383.MCU_F_383_AliveCounter",
         "rawType": "float64",
         "type": "float"
        },
        {
         "name": "MCU_F_0x383.MCU_F_PrkLckStatNrmlOp_EV",
         "rawType": "object",
         "type": "string"
        },
        {
         "name": "ACU_0x159.ACU_159_CheckSum",
         "rawType": "float64",
         "type": "float"
        },
        {
         "name": "ACU_0x159.ACU_Pass_OCS_St",
         "rawType": "object",
         "type": "string"
        },
        {
         "name": "ACU_0x159.ACU_159_AliveCounter",
         "rawType": "float64",
         "type": "float"
        },
        {
         "name": "ACU_0x159.ACU_Drvr_Occpt_St",
         "rawType": "object",
         "type": "string"
        },
        {
         "name": "ACU_0x159.ACU_Pass_Airbag_LED",
         "rawType": "object",
         "type": "string"
        },
        {
         "name": "ACU_0x159.ACU_AirBagSysAlrmLampSts",
         "rawType": "object",
         "type": "string"
        },
        {
         "name": "ACU_0x159.ACU_SeatTrkPosnSwtFrntPass",
         "rawType": "object",
         "type": "string"
        },
        {
         "name": "ACU_0x159.ACU_SeatTrkPosnSwtFrntDrvr",
         "rawType": "object",
         "type": "string"
        },
        {
         "name": "ACU_0x159.ACU_BucSwtStFrntPass",
         "rawType": "object",
         "type": "string"
        },
        {
         "name": "ACU_0x159.ACU_BucSwtStFrntDrvr",
         "rawType": "object",
         "type": "string"
        },
        {
         "name": "MFS_0x514.MFS_0x514_CheckSum",
         "rawType": "float64",
         "type": "float"
        },
        {
         "name": "MFS_0x514.MFS_LeBtnSouth",
         "rawType": "object",
         "type": "string"
        },
        {
         "name": "MFS_0x514.MFS_LeBtnNorth",
         "rawType": "object",
         "type": "string"
        },
        {
         "name": "MFS_0x514.MFS_0x514_AliveCounter",
         "rawType": "float64",
         "type": "float"
        },
        {
         "name": "MFS_0x514.MFS_LeRollUp",
         "rawType": "object",
         "type": "string"
        },
        {
         "name": "MFS_0x514.MFS_LeBtnEast",
         "rawType": "object",
         "type": "string"
        },
        {
         "name": "MFS_0x514.MFS_LeBtnWest",
         "rawType": "object",
         "type": "string"
        },
        {
         "name": "MFS_0x514.MFS_RiBtnNorth",
         "rawType": "object",
         "type": "string"
        },
        {
         "name": "MFS_0x514.MFS_LeRollPress",
         "rawType": "object",
         "type": "string"
        },
        {
         "name": "MFS_0x514.MFS_LeRollDwn",
         "rawType": "object",
         "type": "string"
        },
        {
         "name": "MFS_0x514.MFS_RiBtnEast",
         "rawType": "object",
         "type": "string"
        },
        {
         "name": "MFS_0x514.MFS_RiBtnWest",
         "rawType": "object",
         "type": "string"
        },
        {
         "name": "MFS_0x514.MFS_RiBtnSouth",
         "rawType": "object",
         "type": "string"
        },
        {
         "name": "MFS_0x514.MFS_RiRollPress",
         "rawType": "object",
         "type": "string"
        },
        {
         "name": "MFS_0x514.MFS_RiRollDwn",
         "rawType": "object",
         "type": "string"
        },
        {
         "name": "MFS_0x514.MFS_RiRollUp",
         "rawType": "object",
         "type": "string"
        },
        {
         "name": "MFS_0x514.MFS_Le_Fail",
         "rawType": "object",
         "type": "string"
        },
        {
         "name": "MFS_0x514.MFS_Ri_Fail",
         "rawType": "object",
         "type": "string"
        },
        {
         "name": "DSMC_NM_0x42B.DSMC_SrcNodeID",
         "rawType": "float64",
         "type": "float"
        },
        {
         "name": "DSMC_NM_0x42B.DSMC_CtrlBitVector_Bit7_Res",
         "rawType": "float64",
         "type": "float"
        },
        {
         "name": "DSMC_NM_0x42B.DSMC_CtrlBitVector_Bit6_PNI",
         "rawType": "object",
         "type": "string"
        },
        {
         "name": "DSMC_NM_0x42B.DSMC_CtrlBitVector_Bit5_Res",
         "rawType": "float64",
         "type": "float"
        },
        {
         "name": "DSMC_NM_0x42B.DSMC_CtrlBitVector_Bit4_ActWake",
         "rawType": "object",
         "type": "string"
        },
        {
         "name": "DSMC_NM_0x42B.DSMC_CtrlBitVector_Bit3_NMCoord",
         "rawType": "object",
         "type": "string"
        },
        {
         "name": "DSMC_NM_0x42B.DSMC_CtrlBitVector_Bit2_Res",
         "rawType": "float64",
         "type": "float"
        },
        {
         "name": "DSMC_NM_0x42B.DSMC_CtrlBitVector_Bit1_Res",
         "rawType": "float64",
         "type": "float"
        },
        {
         "name": "DSMC_NM_0x42B.DSMC_CtrlBitVector_Bit0_RMR",
         "rawType": "object",
         "type": "string"
        },
        {
         "name": "DSMC_NM_0x42B.DSMC_UsrData0",
         "rawType": "object",
         "type": "string"
        },
        {
         "name": "DSMC_NM_0x42B.DSMC_UsrData1_Bit7_ECUSPEC_AWAKE",
         "rawType": "object",
         "type": "string"
        },
        {
         "name": "DSMC_NM_0x42B.DSMC_UsrData1_Bit6_DIAGN_AWAKE",
         "rawType": "object",
         "type": "string"
        },
        {
         "name": "DSMC_NM_0x42B.DSMC_UsrData1_Bit5_IGNITION_AWAKE",
         "rawType": "object",
         "type": "string"
        },
        {
         "name": "DSMC_NM_0x42B.DSMC_UsrData1_Bit4_NETWORK_AWAKE",
         "rawType": "object",
         "type": "string"
        },
        {
         "name": "DSMC_NM_0x42B.DSMC_UsrData1_Bit3_ECUSPEC_WAKEUP",
         "rawType": "object",
         "type": "string"
        },
        {
         "name": "DSMC_NM_0x42B.DSMC_UsrData1_Bit2_NETWORK_WAKEUP",
         "rawType": "object",
         "type": "string"
        },
        {
         "name": "DSMC_NM_0x42B.DSMC_UsrData1_Bit1_RESET_WAKEUP",
         "rawType": "object",
         "type": "string"
        },
        {
         "name": "DSMC_NM_0x42B.DSMC_UsrData1_Bit0_IGN_WAKEUP",
         "rawType": "object",
         "type": "string"
        },
        {
         "name": "DSMC_NM_0x42B.DSMC_UsrData2",
         "rawType": "float64",
         "type": "float"
        },
        {
         "name": "DSMC_NM_0x42B.DSMC_UsrData3",
         "rawType": "float64",
         "type": "float"
        },
        {
         "name": "DSMC_NM_0x42B.DSMC_UsrData4_PN_Info1",
         "rawType": "float64",
         "type": "float"
        },
        {
         "name": "DSMC_NM_0x42B.DSMC_UsrData5_PN_Info2",
         "rawType": "float64",
         "type": "float"
        },
        {
         "name": "PSM_NM_0x435.PSM_SrcNodeID",
         "rawType": "float64",
         "type": "float"
        },
        {
         "name": "PSM_NM_0x435.PSM_CtrlBitVector_Bit7_Res",
         "rawType": "float64",
         "type": "float"
        },
        {
         "name": "PSM_NM_0x435.PSM_CtrlBitVector_Bit6_PNI",
         "rawType": "object",
         "type": "string"
        },
        {
         "name": "PSM_NM_0x435.PSM_CtrlBitVector_Bit5_Res",
         "rawType": "float64",
         "type": "float"
        },
        {
         "name": "PSM_NM_0x435.PSM_CtrlBitVector_Bit4_ActWake",
         "rawType": "object",
         "type": "string"
        },
        {
         "name": "PSM_NM_0x435.PSM_CtrlBitVector_Bit3_NMCoord",
         "rawType": "object",
         "type": "string"
        },
        {
         "name": "PSM_NM_0x435.PSM_CtrlBitVector_Bit2_Res",
         "rawType": "float64",
         "type": "float"
        },
        {
         "name": "PSM_NM_0x435.PSM_CtrlBitVector_Bit1_Res",
         "rawType": "float64",
         "type": "float"
        },
        {
         "name": "PSM_NM_0x435.PSM_CtrlBitVector_Bit0_RMR",
         "rawType": "object",
         "type": "string"
        },
        {
         "name": "PSM_NM_0x435.PSM_UsrData0",
         "rawType": "object",
         "type": "string"
        },
        {
         "name": "PSM_NM_0x435.PSM_UsrData1_Bit7_ECUSPEC_AWAKE",
         "rawType": "object",
         "type": "string"
        },
        {
         "name": "PSM_NM_0x435.PSM_UsrData1_Bit6_DIAGN_AWAKE",
         "rawType": "object",
         "type": "string"
        },
        {
         "name": "PSM_NM_0x435.PSM_UsrData1_Bit5_IGNITION_AWAKE",
         "rawType": "object",
         "type": "string"
        },
        {
         "name": "PSM_NM_0x435.PSM_UsrData1_Bit4_NETWORK_AWAKE",
         "rawType": "object",
         "type": "string"
        },
        {
         "name": "PSM_NM_0x435.PSM_UsrData1_Bit3_ECUSPEC_WAKEUP",
         "rawType": "object",
         "type": "string"
        },
        {
         "name": "PSM_NM_0x435.PSM_UsrData1_Bit2_NETWORK_WAKEUP",
         "rawType": "object",
         "type": "string"
        },
        {
         "name": "PSM_NM_0x435.PSM_UsrData1_Bit1_RESET_WAKEUP",
         "rawType": "object",
         "type": "string"
        },
        {
         "name": "PSM_NM_0x435.PSM_UsrData1_Bit0_IGN_WAKEUP",
         "rawType": "object",
         "type": "string"
        },
        {
         "name": "PSM_NM_0x435.PSM_UsrData2",
         "rawType": "float64",
         "type": "float"
        },
        {
         "name": "PSM_NM_0x435.PSM_UsrData3",
         "rawType": "float64",
         "type": "float"
        },
        {
         "name": "PSM_NM_0x435.PSM_UsrData4_PN_Info1",
         "rawType": "float64",
         "type": "float"
        },
        {
         "name": "PSM_NM_0x435.PSM_UsrData5_PN_Info2",
         "rawType": "float64",
         "type": "float"
        },
        {
         "name": "TBOX_0x4F9.TBOX_OTAResFb",
         "rawType": "object",
         "type": "string"
        },
        {
         "name": "TBOX_0x4F9.TBOX_SpdLim",
         "rawType": "int64",
         "type": "integer"
        },
        {
         "name": "TBOX_0x4F9.TBOX_OTA_TiRng",
         "rawType": "int64",
         "type": "integer"
        },
        {
         "name": "GW_0x3B0.GW_0x3B0_Checksum",
         "rawType": "int64",
         "type": "integer"
        },
        {
         "name": "GW_0x3B0.GW_OTAInhbRdy",
         "rawType": "object",
         "type": "string"
        },
        {
         "name": "GW_0x3B0.GW_OTARdy_Fb",
         "rawType": "object",
         "type": "string"
        },
        {
         "name": "GW_0x3B0.GW_0x3B0_AliveCounter",
         "rawType": "int64",
         "type": "integer"
        },
        {
         "name": "GW_0x3B0.GW_UDSprohb",
         "rawType": "object",
         "type": "string"
        },
        {
         "name": "TBOX_0x56.TBOX_RemClsWin_LeRe_CtrlCmd",
         "rawType": "int64",
         "type": "integer"
        },
        {
         "name": "TBOX_0x56.TBOX_RemClsWin_RiRe_CtrlCmd",
         "rawType": "int64",
         "type": "integer"
        },
        {
         "name": "TBOX_0x56.TBOX_56_SSecOC_Fresh_Byte0",
         "rawType": "int64",
         "type": "integer"
        },
        {
         "name": "TBOX_0x56.TBOX_56_SSecOC_MAC_Byte0",
         "rawType": "int64",
         "type": "integer"
        },
        {
         "name": "TBOX_0x56.TBOX_56_SSecOC_MAC_Byte1",
         "rawType": "int64",
         "type": "integer"
        },
        {
         "name": "TBOX_0x56.TBOX_56_SSecOC_MAC_Byte2",
         "rawType": "int64",
         "type": "integer"
        },
        {
         "name": "PKC_0x380.PKC_CrtUsr",
         "rawType": "object",
         "type": "string"
        },
        {
         "name": "PKC_0x380.PKC_RemoveKeyFb",
         "rawType": "object",
         "type": "string"
        },
        {
         "name": "PKC_0x380.PKC_UnassignKeyFb",
         "rawType": "object",
         "type": "string"
        },
        {
         "name": "PKC_0x380.PKC_RemovedUserIDFb",
         "rawType": "object",
         "type": "string"
        },
        {
         "name": "PKC_0x380.PKC_AddNewUserFb",
         "rawType": "object",
         "type": "string"
        },
        {
         "name": "PKC_0x380.PKC_AuthFailPromt",
         "rawType": "object",
         "type": "string"
        },
        {
         "name": "PKC_0x380.PKC_AuthentFb_TBOX",
         "rawType": "object",
         "type": "string"
        },
        {
         "name": "PKC_0x380.PKC_AuthentFb_PKC",
         "rawType": "object",
         "type": "string"
        },
        {
         "name": "PKC_0x4F0.PKC_PollingSts",
         "rawType": "object",
         "type": "string"
        },
        {
         "name": "PKC_0x4F0.PKC_RemCtrlWinCmd",
         "rawType": "object",
         "type": "string"
        },
        {
         "name": "PKC_0x4F0.PKC_KeyLocation",
         "rawType": "object",
         "type": "string"
        },
        {
         "name": "PKC_0x4F0.PKC_PollingFctCmd",
         "rawType": "object",
         "type": "string"
        },
        {
         "name": "PKC_0x4F0.PKC_UsrStopCharCmd",
         "rawType": "object",
         "type": "string"
        },
        {
         "name": "PKC_0x4F0.PKC_SpdLim",
         "rawType": "int64",
         "type": "integer"
        },
        {
         "name": "PKC_0x4F0.PKC_RemClsSunroofCtrlCmd",
         "rawType": "int64",
         "type": "integer"
        },
        {
         "name": "TBOX_0x57.TBOX_RemClsWin_TL_LeRe_CtrlCmd",
         "rawType": "int64",
         "type": "integer"
        },
        {
         "name": "TBOX_0x57.TBOX_RemClsWin_TL_RiRe_CtrlCmd",
         "rawType": "int64",
         "type": "integer"
        },
        {
         "name": "TBOX_0x57.TBOX_57_SSecOC_Fresh_Byte0",
         "rawType": "int64",
         "type": "integer"
        },
        {
         "name": "TBOX_0x57.TBOX_57_SSecOC_MAC_Byte0",
         "rawType": "int64",
         "type": "integer"
        },
        {
         "name": "TBOX_0x57.TBOX_57_SSecOC_MAC_Byte1",
         "rawType": "int64",
         "type": "integer"
        },
        {
         "name": "TBOX_0x57.TBOX_57_SSecOC_MAC_Byte2",
         "rawType": "int64",
         "type": "integer"
        },
        {
         "name": "BCM_NM_0x425.BCM_SrcNodeID",
         "rawType": "float64",
         "type": "float"
        },
        {
         "name": "BCM_NM_0x425.BCM_CtrlBitVector_Bit7_Res",
         "rawType": "float64",
         "type": "float"
        },
        {
         "name": "BCM_NM_0x425.BCM_CtrlBitVector_Bit6_PNI",
         "rawType": "object",
         "type": "string"
        },
        {
         "name": "BCM_NM_0x425.BCM_CtrlBitVector_Bit5_Res",
         "rawType": "float64",
         "type": "float"
        },
        {
         "name": "BCM_NM_0x425.BCM_CtrlBitVector_Bit4_ActWake",
         "rawType": "object",
         "type": "string"
        },
        {
         "name": "BCM_NM_0x425.BCM_CtrlBitVector_Bit3_NMCoord",
         "rawType": "object",
         "type": "string"
        },
        {
         "name": "BCM_NM_0x425.BCM_CtrlBitVector_Bit2_Res",
         "rawType": "float64",
         "type": "float"
        },
        {
         "name": "BCM_NM_0x425.BCM_CtrlBitVector_Bit1_Res",
         "rawType": "float64",
         "type": "float"
        },
        {
         "name": "BCM_NM_0x425.BCM_CtrlBitVector_Bit0_RMR",
         "rawType": "object",
         "type": "string"
        },
        {
         "name": "BCM_NM_0x425.BCM_UsrData0",
         "rawType": "object",
         "type": "string"
        },
        {
         "name": "BCM_NM_0x425.BCM_UsrData1_Bit7_ECUSPEC_AWAKE",
         "rawType": "object",
         "type": "string"
        },
        {
         "name": "BCM_NM_0x425.BCM_UsrData1_Bit6_DIAGN_AWAKE",
         "rawType": "object",
         "type": "string"
        },
        {
         "name": "BCM_NM_0x425.BCM_UsrData1_Bit5_IGNITION_AWAKE",
         "rawType": "object",
         "type": "string"
        },
        {
         "name": "BCM_NM_0x425.BCM_UsrData1_Bit4_NETWORK_AWAKE",
         "rawType": "object",
         "type": "string"
        },
        {
         "name": "BCM_NM_0x425.BCM_UsrData1_Bit3_ECUSPEC_WAKEUP",
         "rawType": "object",
         "type": "string"
        },
        {
         "name": "BCM_NM_0x425.BCM_UsrData1_Bit2_NETWORK_WAKEUP",
         "rawType": "object",
         "type": "string"
        },
        {
         "name": "BCM_NM_0x425.BCM_UsrData1_Bit1_RESET_WAKEUP",
         "rawType": "object",
         "type": "string"
        },
        {
         "name": "BCM_NM_0x425.BCM_UsrData1_Bit0_IGN_WAKEUP",
         "rawType": "object",
         "type": "string"
        },
        {
         "name": "BCM_NM_0x425.BCM_UsrData2",
         "rawType": "float64",
         "type": "float"
        },
        {
         "name": "BCM_NM_0x425.BCM_UsrData3",
         "rawType": "float64",
         "type": "float"
        },
        {
         "name": "BCM_NM_0x425.BCM_UsrData4_PN_Info1",
         "rawType": "float64",
         "type": "float"
        },
        {
         "name": "BCM_NM_0x425.BCM_UsrData5_PN_Info2",
         "rawType": "float64",
         "type": "float"
        },
        {
         "name": "WTC_B_0x371.WTC_B_PCBT",
         "rawType": "int64",
         "type": "integer"
        },
        {
         "name": "WTC_B_0x371.WTC_B_Crt",
         "rawType": "float64",
         "type": "float"
        },
        {
         "name": "WTC_B_0x371.WTC_B_ChkBattOverVoltFlt",
         "rawType": "object",
         "type": "string"
        },
        {
         "name": "WTC_B_0x371.WTC_B_HVOverVoltFlt",
         "rawType": "object",
         "type": "string"
        },
        {
         "name": "WTC_B_0x371.WTC_B_HVUnderVoltFlt",
         "rawType": "object",
         "type": "string"
        },
        {
         "name": "WTC_B_0x371.WTC_B_OverCrtFlt",
         "rawType": "object",
         "type": "string"
        },
        {
         "name": "WTC_B_0x371.WTC_B_ComLost_ECC",
         "rawType": "object",
         "type": "string"
        },
        {
         "name": "WTC_B_0x371.WTC_B_HVIntlkFlt",
         "rawType": "object",
         "type": "string"
        },
        {
         "name": "WTC_B_0x371.WTC_B_CrtSts",
         "rawType": "object",
         "type": "string"
        },
        {
         "name": "WTC_B_0x371.WTC_B_PwrOutpFlt",
         "rawType": "object",
         "type": "string"
        },
        {
         "name": "WTC_B_0x371.WTC_B_PCBTSnsrFlt",
         "rawType": "object",
         "type": "string"
        },
        {
         "name": "WTC_B_0x371.WTC_B_PCBOverTFlt",
         "rawType": "object",
         "type": "string"
        },
        {
         "name": "WTC_B_0x371.WTC_B_OutlOverTFlt",
         "rawType": "object",
         "type": "string"
        },
        {
         "name": "WTC_B_0x371.WTC_B_InlOverTFlt",
         "rawType": "object",
         "type": "string"
        },
        {
         "name": "WTC_B_0x371.WTC_B_OutlTSnsrFlt",
         "rawType": "object",
         "type": "string"
        },
        {
         "name": "WTC_B_0x371.WTC_B_InlTSnsrFlt",
         "rawType": "object",
         "type": "string"
        },
        {
         "name": "WTC_B_0x371.WTC_B_ChkBattUnderVoltFlt",
         "rawType": "object",
         "type": "string"
        },
        {
         "name": "WTC_H_0x374.WTC_H_PCBT",
         "rawType": "int64",
         "type": "integer"
        },
        {
         "name": "WTC_H_0x374.WTC_H_Crt",
         "rawType": "float64",
         "type": "float"
        },
        {
         "name": "WTC_H_0x374.WTC_H_ChkBattOverVoltFlt",
         "rawType": "object",
         "type": "string"
        },
        {
         "name": "WTC_H_0x374.WTC_H_HVOverVoltFlt",
         "rawType": "object",
         "type": "string"
        },
        {
         "name": "WTC_H_0x374.WTC_H_HVUnderVoltFlt",
         "rawType": "object",
         "type": "string"
        },
        {
         "name": "WTC_H_0x374.WTC_H_OverCrtFlt",
         "rawType": "object",
         "type": "string"
        },
        {
         "name": "WTC_H_0x374.WTC_H_ComLost_ECC",
         "rawType": "object",
         "type": "string"
        },
        {
         "name": "WTC_H_0x374.WTC_H_HVIntlkFlt",
         "rawType": "object",
         "type": "string"
        },
        {
         "name": "WTC_H_0x374.WTC_H_CrtSts",
         "rawType": "object",
         "type": "string"
        },
        {
         "name": "WTC_H_0x374.WTC_H_PwrOutpFlt",
         "rawType": "object",
         "type": "string"
        },
        {
         "name": "WTC_H_0x374.WTC_H_PCBTSnsrFlt",
         "rawType": "object",
         "type": "string"
        },
        {
         "name": "WTC_H_0x374.WTC_H_PCBOverTFlt",
         "rawType": "object",
         "type": "string"
        },
        {
         "name": "WTC_H_0x374.WTC_H_OutlOverTFlt",
         "rawType": "object",
         "type": "string"
        },
        {
         "name": "WTC_H_0x374.WTC_H_InlOverTFlt",
         "rawType": "object",
         "type": "string"
        },
        {
         "name": "WTC_H_0x374.WTC_H_OutlTSnsrFlt",
         "rawType": "object",
         "type": "string"
        },
        {
         "name": "WTC_H_0x374.WTC_H_InlTSnsrFlt",
         "rawType": "object",
         "type": "string"
        },
        {
         "name": "WTC_H_0x374.WTC_H_ChkBattUnderVoltFlt",
         "rawType": "object",
         "type": "string"
        },
        {
         "name": "WTC_H_0x379.WTC_H_InpT",
         "rawType": "int64",
         "type": "integer"
        },
        {
         "name": "WTC_H_0x379.WTC_H_OutpT",
         "rawType": "int64",
         "type": "integer"
        },
        {
         "name": "WTC_H_0x379.WTC_H_CrtPwr",
         "rawType": "int64",
         "type": "integer"
        },
        {
         "name": "WTC_H_0x379.WTC_H_CrtT",
         "rawType": "int64",
         "type": "integer"
        },
        {
         "name": "WTC_H_0x379.WTC_H_Mod",
         "rawType": "object",
         "type": "string"
        },
        {
         "name": "WTC_H_0x379.WTC_H_ActGear",
         "rawType": "object",
         "type": "string"
        },
        {
         "name": "WTC_H_0x379.WTC_H_HVPwrSplySts",
         "rawType": "object",
         "type": "string"
        },
        {
         "name": "WTC_H_0x379.WTC_H_IninSts",
         "rawType": "object",
         "type": "string"
        },
        {
         "name": "PKC_0x39B.PKC_KeyStsMod",
         "rawType": "object",
         "type": "string"
        },
        {
         "name": "PKC_0x39B.PKC_RemLockCmd_Key",
         "rawType": "object",
         "type": "string"
        },
        {
         "name": "PKC_0x39B.PKC_RemCtrlCmdFb",
         "rawType": "object",
         "type": "string"
        },
        {
         "name": "PKC_0x39B.PKC_SysAlrmVld",
         "rawType": "object",
         "type": "string"
        },
        {
         "name": "PKC_0x39B.PKC_KeyID",
         "rawType": "object",
         "type": "string"
        },
        {
         "name": "PKC_0x39B.PKC_RemLockCmd",
         "rawType": "object",
         "type": "string"
        },
        {
         "name": "PKC_0x39B.PKC_KeyInCarRmn",
         "rawType": "object",
         "type": "string"
        },
        {
         "name": "PKC_0x39B.PKC_KeyOutdCarPromt",
         "rawType": "object",
         "type": "string"
        },
        {
         "name": "PKC_0x39B.PKC_BatterySts",
         "rawType": "object",
         "type": "string"
        },
        {
         "name": "PKC_0x39B.PKC_LockKeyInCarInd",
         "rawType": "object",
         "type": "string"
        },
        {
         "name": "PKC_0x39B.PKC_StrtFailTyp",
         "rawType": "object",
         "type": "string"
        },
        {
         "name": "PKC_0x39B.PKC_DoorOpenRmd",
         "rawType": "object",
         "type": "string"
        },
        {
         "name": "PKC_0x39B.PKC_KeySts",
         "rawType": "object",
         "type": "string"
        },
        {
         "name": "PKC_0x37B.PKC_KeyStsMod",
         "rawType": "object",
         "type": "string"
        },
        {
         "name": "PKC_0x37B.PKC_RemLockCmd_Key",
         "rawType": "object",
         "type": "string"
        },
        {
         "name": "PKC_0x37B.PKC_RemCtrlCmdFb",
         "rawType": "object",
         "type": "string"
        },
        {
         "name": "PKC_0x37B.PKC_SysAlrmVld",
         "rawType": "object",
         "type": "string"
        },
        {
         "name": "PKC_0x37B.PKC_KeyID",
         "rawType": "object",
         "type": "string"
        },
        {
         "name": "PKC_0x37B.PKC_RemLockCmd",
         "rawType": "object",
         "type": "string"
        },
        {
         "name": "PKC_0x37B.PKC_KeyInCarRmn",
         "rawType": "object",
         "type": "string"
        },
        {
         "name": "PKC_0x37B.PKC_KeyOutdCarPromt",
         "rawType": "object",
         "type": "string"
        },
        {
         "name": "PKC_0x37B.PKC_BatterySts",
         "rawType": "object",
         "type": "string"
        },
        {
         "name": "PKC_0x37B.PKC_LockKeyInCarInd",
         "rawType": "object",
         "type": "string"
        },
        {
         "name": "PKC_0x37B.PKC_StrtFailTyp",
         "rawType": "object",
         "type": "string"
        },
        {
         "name": "PKC_0x37B.PKC_DoorOpenRmd",
         "rawType": "object",
         "type": "string"
        },
        {
         "name": "PKC_0x37B.PKC_KeySts",
         "rawType": "object",
         "type": "string"
        },
        {
         "name": "PKC_0x37B.PKC_37B_SSecOC_Fresh_Byte0",
         "rawType": "int64",
         "type": "integer"
        },
        {
         "name": "PKC_0x37B.PKC_37B_SSecOC_MAC_Byte0",
         "rawType": "int64",
         "type": "integer"
        },
        {
         "name": "PKC_0x37B.PKC_37B_SSecOC_MAC_Byte1",
         "rawType": "int64",
         "type": "integer"
        },
        {
         "name": "PKC_0x37B.PKC_37B_SSecOC_MAC_Byte2",
         "rawType": "int64",
         "type": "integer"
        },
        {
         "name": "EAS_0x490.EAS_CtrlrCrtVld",
         "rawType": "object",
         "type": "string"
        },
        {
         "name": "EAS_0x490.EAS_CtrlrVoltVld",
         "rawType": "object",
         "type": "string"
        },
        {
         "name": "EAS_0x490.EAS_MotSpdVld",
         "rawType": "object",
         "type": "string"
        },
        {
         "name": "EAS_0x490.EAS_CtrlrVolt",
         "rawType": "float64",
         "type": "float"
        },
        {
         "name": "EAS_0x490.EAS_CtrlrCrt",
         "rawType": "float64",
         "type": "float"
        },
        {
         "name": "EAS_0x490.EAS_MotSpd",
         "rawType": "float64",
         "type": "float"
        },
        {
         "name": "WTC_B_0x376.WTC_B_InlT",
         "rawType": "int64",
         "type": "integer"
        },
        {
         "name": "WTC_B_0x376.WTC_B_OutlT",
         "rawType": "int64",
         "type": "integer"
        },
        {
         "name": "WTC_B_0x376.WTC_B_CrtPwr",
         "rawType": "int64",
         "type": "integer"
        },
        {
         "name": "WTC_B_0x376.WTC_B_CrtT",
         "rawType": "int64",
         "type": "integer"
        },
        {
         "name": "WTC_B_0x376.WTC_B_Mod",
         "rawType": "object",
         "type": "string"
        },
        {
         "name": "WTC_B_0x376.WTC_B_ActGear",
         "rawType": "object",
         "type": "string"
        },
        {
         "name": "WTC_B_0x376.WTC_B_HVPwrSplySts",
         "rawType": "object",
         "type": "string"
        },
        {
         "name": "WTC_B_0x376.WTC_B_IninSts",
         "rawType": "object",
         "type": "string"
        },
        {
         "name": "PWC_0x524.PWC_ModleSwtSts",
         "rawType": "object",
         "type": "string"
        },
        {
         "name": "PWC_0x524.PWC_PhnForgetRemdSts",
         "rawType": "object",
         "type": "string"
        },
        {
         "name": "PWC_0x524.PWC_ChrgSts",
         "rawType": "object",
         "type": "string"
        },
        {
         "name": "PWC_0x524.PWC_ChrgPhnChkSts",
         "rawType": "object",
         "type": "string"
        },
        {
         "name": "DSMC_0x4F1.DSMC_DrvrSeatBackAdjSwtSts",
         "rawType": "object",
         "type": "string"
        },
        {
         "name": "DSMC_0x4F1.DSMC_DrvrSeatHeiAdjSwtSts",
         "rawType": "object",
         "type": "string"
        },
        {
         "name": "DSMC_0x4F1.DSMC_DrvrSeatTrackSwtSts",
         "rawType": "object",
         "type": "string"
        },
        {
         "name": "DSMC_0x4F1.DSMC_OTARdy_Fb",
         "rawType": "object",
         "type": "string"
        },
        {
         "name": "PKC_0x36B.PKC_PhonePairingMode",
         "rawType": "object",
         "type": "string"
        },
        {
         "name": "PKC_0x36B.PKC_PhoneConnStatus",
         "rawType": "object",
         "type": "string"
        },
        {
         "name": "PKC_0x36B.PKC_ConnStatus",
         "rawType": "object",
         "type": "string"
        },
        {
         "name": "PKC_0x36B.PKC_KeyPairingMode",
         "rawType": "object",
         "type": "string"
        },
        {
         "name": "PKC_0x36B.PKC_AutolLockUnlock_FB",
         "rawType": "object",
         "type": "string"
        },
        {
         "name": "PKC_0x36B.PKC_Distance",
         "rawType": "int64",
         "type": "integer"
        },
        {
         "name": "PKC_0x36B.PKC_UserProfileID",
         "rawType": "object",
         "type": "string"
        },
        {
         "name": "PKC_0x36B.PKC_PhonePairingCode1",
         "rawType": "int64",
         "type": "integer"
        },
        {
         "name": "PKC_0x36B.PKC_PhonePairingCode2",
         "rawType": "int64",
         "type": "integer"
        },
        {
         "name": "PKC_0x36B.PKC_PhonePairingCode3",
         "rawType": "int64",
         "type": "integer"
        },
        {
         "name": "PKC_0x36B.PKC_PhonePairingCode4",
         "rawType": "int64",
         "type": "integer"
        },
        {
         "name": "DCDC_0x520.DCDC_0x520_CheckSum",
         "rawType": "float64",
         "type": "float"
        },
        {
         "name": "DCDC_0x520.DCDC_0x520_AliveCounter",
         "rawType": "float64",
         "type": "float"
        },
        {
         "name": "DCDC_0x520.DCDC_OutpCrt",
         "rawType": "float64",
         "type": "float"
        },
        {
         "name": "DCDC_0x520.DCDC_InpVolt",
         "rawType": "float64",
         "type": "float"
        },
        {
         "name": "DCDC_0x520.DCDC_InpCrt",
         "rawType": "float64",
         "type": "float"
        },
        {
         "name": "DCDC_0x520.DCDC_OutpVolt",
         "rawType": "float64",
         "type": "float"
        },
        {
         "name": "DSMC_0x4F3.DSMC_RiMirrrXDiecPosn",
         "rawType": "int64",
         "type": "integer"
        },
        {
         "name": "DSMC_0x4F3.DSMC_RiMirrrYDircPosn",
         "rawType": "int64",
         "type": "integer"
        },
        {
         "name": "DSMC_0x4F3.DSMC_LeMirrrXPosn",
         "rawType": "int64",
         "type": "integer"
        },
        {
         "name": "DSMC_0x4F3.DSMC_LeMirrrYPosn",
         "rawType": "int64",
         "type": "integer"
        },
        {
         "name": "DSMC_0x4F3.DSMC_LeMirrrYDircAdjSts",
         "rawType": "object",
         "type": "string"
        },
        {
         "name": "DSMC_0x4F3.DSMC_LeMirrrXDircAdjSts",
         "rawType": "object",
         "type": "string"
        },
        {
         "name": "DSMC_0x4F3.DSMC_RiMirrrYDircAdjSts",
         "rawType": "object",
         "type": "string"
        },
        {
         "name": "DSMC_0x4F3.DSMC_RiMirrrXDircAdjSts",
         "rawType": "object",
         "type": "string"
        },
        {
         "name": "TBOX_0x58.TBOX_RemClsWin_RW_CtrlCmd",
         "rawType": "int64",
         "type": "integer"
        },
        {
         "name": "TBOX_0x58.TBOX_California_mode",
         "rawType": "object",
         "type": "string"
        },
        {
         "name": "TBOX_0x58.TBOX_RemClsSunroofCtrlCmd",
         "rawType": "int64",
         "type": "integer"
        },
        {
         "name": "TBOX_0x58.TBOX_58_SSecOC_Fresh_Byte0",
         "rawType": "int64",
         "type": "integer"
        },
        {
         "name": "TBOX_0x58.TBOX_58_SSecOC_MAC_Byte0",
         "rawType": "int64",
         "type": "integer"
        },
        {
         "name": "TBOX_0x58.TBOX_58_SSecOC_MAC_Byte1",
         "rawType": "int64",
         "type": "integer"
        },
        {
         "name": "TBOX_0x58.TBOX_58_SSecOC_MAC_Byte2",
         "rawType": "int64",
         "type": "integer"
        },
        {
         "name": "DCDC_0x521.DCDC_0x521_CheckSum",
         "rawType": "float64",
         "type": "float"
        },
        {
         "name": "DCDC_0x521.DCDC_0x521_AliveCounter",
         "rawType": "float64",
         "type": "float"
        },
        {
         "name": "DCDC_0x521.DCDC_T",
         "rawType": "float64",
         "type": "float"
        },
        {
         "name": "DCDC_0x521.DCDC_CrtSts",
         "rawType": "object",
         "type": "string"
        },
        {
         "name": "DCDC_0x521.DCDC_InpCurOverHwFlt",
         "rawType": "object",
         "type": "string"
        },
        {
         "name": "DCDC_0x521.DCDC_OverTTurnDwnLoadFlt",
         "rawType": "object",
         "type": "string"
        },
        {
         "name": "DCDC_0x521.DCDC_LVOutpUnderVoltFlt",
         "rawType": "object",
         "type": "string"
        },
        {
         "name": "DCDC_0x521.DCDC_LVOutpOverVoltFlt",
         "rawType": "object",
         "type": "string"
        },
        {
         "name": "DCDC_0x521.DCDC_InpUnderVoltFlt",
         "rawType": "object",
         "type": "string"
        },
        {
         "name": "DCDC_0x521.DCDC_InpOverVoltSwFlt",
         "rawType": "object",
         "type": "string"
        },
        {
         "name": "DCDC_0x521.DCDC_TAlrmFlt",
         "rawType": "object",
         "type": "string"
        },
        {
         "name": "DCDC_0x521.DCDC_StsAlrmFlt",
         "rawType": "object",
         "type": "string"
        },
        {
         "name": "DCDC_0x521.DCDC_OverTShutDwnFlt",
         "rawType": "object",
         "type": "string"
        },
        {
         "name": "DCDC_0x521.DCDC_OutpShoCircFlt",
         "rawType": "object",
         "type": "string"
        },
        {
         "name": "DCDC_0x521.DCDC_ExtFlt",
         "rawType": "object",
         "type": "string"
        },
        {
         "name": "DCDC_0x521.DCDC_IntFlt",
         "rawType": "object",
         "type": "string"
        },
        {
         "name": "DCDC_0x521.DCDC_Utlzn",
         "rawType": "float64",
         "type": "float"
        },
        {
         "name": "OBC_0x553.OBC_0x553_CheckSum",
         "rawType": "float64",
         "type": "float"
        },
        {
         "name": "OBC_0x553.OBC_Splr",
         "rawType": "object",
         "type": "string"
        },
        {
         "name": "OBC_0x553.OBC_0x553_AliveCounter",
         "rawType": "float64",
         "type": "float"
        },
        {
         "name": "OBC_0x553.OBC_ACCrtPhase1",
         "rawType": "float64",
         "type": "float"
        },
        {
         "name": "OBC_0x553.OBC_ACCrtPhase2",
         "rawType": "float64",
         "type": "float"
        },
        {
         "name": "OBC_0x553.OBC_ACCrtPhase3",
         "rawType": "float64",
         "type": "float"
        },
        {
         "name": "OBC_0x553.OBC_PhaseFreq",
         "rawType": "float64",
         "type": "float"
        },
        {
         "name": "OBC_0x553.OBC_EVChrgElectcLockStsFbSig",
         "rawType": "object",
         "type": "string"
        },
        {
         "name": "OBC_0x559.OBC_0x559_CheckSum",
         "rawType": "float64",
         "type": "float"
        },
        {
         "name": "OBC_0x559.OBC_InpVoltRng",
         "rawType": "object",
         "type": "string"
        },
        {
         "name": "OBC_0x559.OBC_0x559_AliveCounter",
         "rawType": "float64",
         "type": "float"
        },
        {
         "name": "OBC_0x559.OBC_MinOutpVolt",
         "rawType": "float64",
         "type": "float"
        },
        {
         "name": "OBC_0x559.OBC_MaxOutpVolt",
         "rawType": "float64",
         "type": "float"
        },
        {
         "name": "OBC_0x559.OBC_DCChrggEvseInlVolt",
         "rawType": "float64",
         "type": "float"
        },
        {
         "name": "OBC_0x55A.OBC_0x55A_CheckSum",
         "rawType": "float64",
         "type": "float"
        },
        {
         "name": "OBC_0x55A.OBC_0x55A_AliveCounter",
         "rawType": "float64",
         "type": "float"
        },
        {
         "name": "OBC_0x55A.OBC_HVDCOutpUnderVoltFlt",
         "rawType": "object",
         "type": "string"
        },
        {
         "name": "OBC_0x55A.OBC_HVDCOutpOverVoltHwFlt",
         "rawType": "object",
         "type": "string"
        },
        {
         "name": "OBC_0x55A.OBC_ACVoltUnderVoltFlt",
         "rawType": "object",
         "type": "string"
        },
        {
         "name": "OBC_0x55A.OBC_ACVoltOverVoltFlt",
         "rawType": "object",
         "type": "string"
        },
        {
         "name": "OBC_0x55A.OBC_ComLostFlt_BMS",
         "rawType": "object",
         "type": "string"
        },
        {
         "name": "OBC_0x55A.OBC_HVDCOutpOverCrtHwFlt",
         "rawType": "object",
         "type": "string"
        },
        {
         "name": "OBC_0x55A.OBC_HVDCOutpOverCrtSwFlt",
         "rawType": "object",
         "type": "string"
        },
        {
         "name": "OBC_0x55A.OBC_OverTShutDwnFlt",
         "rawType": "object",
         "type": "string"
        },
        {
         "name": "OBC_0x55A.OBC_OverTTurnDwnPwrFlt",
         "rawType": "object",
         "type": "string"
        },
        {
         "name": "OBC_0x55A.OBC_InpCrtOverCrtHwSwFlt",
         "rawType": "object",
         "type": "string"
        },
        {
         "name": "OBC_0x55A.OBC_HVDCOutpOverVoltSwFlt",
         "rawType": "object",
         "type": "string"
        },
        {
         "name": "OBC_0x55A.OBC_12VPwrSplyVoltOver",
         "rawType": "object",
         "type": "string"
        },
        {
         "name": "OBC_0x55A.OBC_12VPwrSplyVoltUnder",
         "rawType": "object",
         "type": "string"
        },
        {
         "name": "OBC_0x55A.OBC_ComLostFlt_CCU",
         "rawType": "object",
         "type": "string"
        },
        {
         "name": "OBC_0x55A.OBC_ComLostFlt_VCU",
         "rawType": "object",
         "type": "string"
        },
        {
         "name": "OBC_0x55A.OBC_IntFlt",
         "rawType": "object",
         "type": "string"
        },
        {
         "name": "OBC_0x55A.OBC_ExtFlt",
         "rawType": "object",
         "type": "string"
        },
        {
         "name": "OBC_0x570.OBC_0x570_CheckSum",
         "rawType": "float64",
         "type": "float"
        },
        {
         "name": "OBC_0x570.OBC_0x570_AliveCounter",
         "rawType": "float64",
         "type": "float"
        },
        {
         "name": "OBC_0x570.OBC_ACVoltPhase1",
         "rawType": "float64",
         "type": "float"
        },
        {
         "name": "OBC_0x570.OBC_ACVoltPhase2",
         "rawType": "float64",
         "type": "float"
        },
        {
         "name": "OBC_0x570.OBC_ACVoltPhase3",
         "rawType": "float64",
         "type": "float"
        },
        {
         "name": "DSMC_0x4F5.DSMC_DrvrSeatTrackPosn",
         "rawType": "int64",
         "type": "integer"
        },
        {
         "name": "DSMC_0x4F5.DSMC_DrvrSeatHeiPosn",
         "rawType": "int64",
         "type": "integer"
        },
        {
         "name": "DSMC_0x4F5.DSMC_DrvrSeatBackPosn",
         "rawType": "int64",
         "type": "integer"
        },
        {
         "name": "OBC_TBOX_Debug.OBC_FailCode",
         "rawType": "float64",
         "type": "float"
        },
        {
         "name": "OBC_TBOX_Debug.DCDC_FailCode",
         "rawType": "float64",
         "type": "float"
        },
        {
         "name": "OBC_TBOX_Debug.DCDC_TempMOS",
         "rawType": "float64",
         "type": "float"
        },
        {
         "name": "OBC_TBOX_Debug.OBC_LLCTemp",
         "rawType": "float64",
         "type": "float"
        },
        {
         "name": "OBC_TBOX_Debug.DCDC_ULV1_1",
         "rawType": "float64",
         "type": "float"
        },
        {
         "name": "OBC_TBOX_Debug.OBC_PFCTemp",
         "rawType": "float64",
         "type": "float"
        },
        {
         "name": "OBC_TBOX_Debug.DCDC_ClampCapVol",
         "rawType": "float64",
         "type": "float"
        },
        {
         "name": "OBC_TBOX_Debug.DCDC_CtrlMode",
         "rawType": "object",
         "type": "string"
        },
        {
         "name": "OBC_TBOX_Debug.OBC_CtrlActMode",
         "rawType": "object",
         "type": "string"
        },
        {
         "name": "OBC_TBOX_Debug.PDU_DCPortVoltage",
         "rawType": "float64",
         "type": "float"
        },
        {
         "name": "OBC_TBOX_Debug.OBC_ElockCtrlCmd",
         "rawType": "object",
         "type": "string"
        },
        {
         "name": "OBC_TBOX_Debug.Hw_Fault_Flag",
         "rawType": "float64",
         "type": "float"
        },
        {
         "name": "OBC_TBOX_Debug.PDU_BATVoltage",
         "rawType": "float64",
         "type": "float"
        },
        {
         "name": "EAS_0x491.EAS_MotCrt",
         "rawType": "float64",
         "type": "float"
        },
        {
         "name": "EAS_0x491.EAS_IninSts",
         "rawType": "object",
         "type": "string"
        },
        {
         "name": "EAS_0x491.EAS_CrtSts",
         "rawType": "object",
         "type": "string"
        },
        {
         "name": "EAS_0x491.EAS_HVOverVoltFlt",
         "rawType": "object",
         "type": "string"
        },
        {
         "name": "EAS_0x491.EAS_HVUnderVoltFlt",
         "rawType": "object",
         "type": "string"
        },
        {
         "name": "EAS_0x491.EAS_OverCrtFlt",
         "rawType": "object",
         "type": "string"
        },
        {
         "name": "EAS_0x491.EAS_IPMHwFlt",
         "rawType": "object",
         "type": "string"
        },
        {
         "name": "EAS_0x491.EAS_CtrlCircFlt",
         "rawType": "object",
         "type": "string"
        },
        {
         "name": "EAS_0x491.EAS_ComLost_ECC",
         "rawType": "object",
         "type": "string"
        },
        {
         "name": "EAS_0x491.EAS_IPMTOverFlt",
         "rawType": "object",
         "type": "string"
        },
        {
         "name": "EAS_0x491.EAS_HVIntlkFlt",
         "rawType": "object",
         "type": "string"
        },
        {
         "name": "EAS_0x491.EAS_IPMT",
         "rawType": "int64",
         "type": "integer"
        },
        {
         "name": "EAS_0x491.EAS_CrtPwr",
         "rawType": "float64",
         "type": "float"
        },
        {
         "name": "BMS_0x2F4.BMS_Bat_measure_Coulomb_Ctr",
         "rawType": "float64",
         "type": "float"
        },
        {
         "name": "BMS_0x2F4.BMS_Bat_measure_Energy",
         "rawType": "float64",
         "type": "float"
        },
        {
         "name": "BMS_0x2F4.BMS_Bat_measure_Power",
         "rawType": "float64",
         "type": "float"
        },
        {
         "name": "BMS_0x2F4.BMS_Bat_Bus_measure_Temperature",
         "rawType": "float64",
         "type": "float"
        },
        {
         "name": "DSMC_0x518.DSMC_DrvrSeatTrackAdjSts",
         "rawType": "object",
         "type": "string"
        },
        {
         "name": "DSMC_0x518.DSMC_DrvrSeatHeatgSts",
         "rawType": "object",
         "type": "string"
        },
        {
         "name": "DSMC_0x518.DSMC_DrvrSeatBackAdjSts",
         "rawType": "object",
         "type": "string"
        },
        {
         "name": "DSMC_0x518.DSMC_DrvrSeatHeiAdjSts",
         "rawType": "object",
         "type": "string"
        },
        {
         "name": "DSMC_0x518.DSMC_RearRiSeatHeatgSts",
         "rawType": "object",
         "type": "string"
        },
        {
         "name": "DSMC_0x518.DSMC_RearLeSeatHeatgSts",
         "rawType": "object",
         "type": "string"
        },
        {
         "name": "OBC_0x550.OBC_0x550_CheckSum",
         "rawType": "float64",
         "type": "float"
        },
        {
         "name": "OBC_0x550.OBC_Pwr",
         "rawType": "object",
         "type": "string"
        },
        {
         "name": "OBC_0x550.OBC_PDU_CrtSts",
         "rawType": "object",
         "type": "string"
        },
        {
         "name": "OBC_0x550.OBC_0x550_AliveCounter",
         "rawType": "float64",
         "type": "float"
        },
        {
         "name": "OBC_0x550.OBC_V2L_ActvStsFb",
         "rawType": "object",
         "type": "string"
        },
        {
         "name": "OBC_0x550.OBC_V2L_RdySts",
         "rawType": "object",
         "type": "string"
        },
        {
         "name": "OBC_0x550.OBC_OutpMaxPwr",
         "rawType": "float64",
         "type": "float"
        },
        {
         "name": "OBC_0x550.OBC_T",
         "rawType": "float64",
         "type": "float"
        },
        {
         "name": "OBC_0x550.OBC_OperMod",
         "rawType": "object",
         "type": "string"
        },
        {
         "name": "OBC_0x550.OBC_DCPosRlyAdhFlt",
         "rawType": "object",
         "type": "string"
        },
        {
         "name": "OBC_0x550.OBC_DCNegRlyAdhFlt",
         "rawType": "object",
         "type": "string"
        },
        {
         "name": "OBC_0x550.OBC_CrtSts",
         "rawType": "object",
         "type": "string"
        },
        {
         "name": "OBC_0x550.OBC_OTARdy_Fb",
         "rawType": "object",
         "type": "string"
        },
        {
         "name": "OBC_0x550.OBC_EASIntlkSigChkCircFlt",
         "rawType": "object",
         "type": "string"
        },
        {
         "name": "OBC_0x550.OBC_PwrBattIntlkSigChkCircFlt",
         "rawType": "object",
         "type": "string"
        },
        {
         "name": "OBC_0x550.OBC_PTCIntlkSigChkCircFlt",
         "rawType": "object",
         "type": "string"
        },
        {
         "name": "OBC_0x550.OBC_DCFCIntlkSigChkCircFlt",
         "rawType": "object",
         "type": "string"
        },
        {
         "name": "OBC_0x550.OBC_ACSCIntlkSigChkCircFlt",
         "rawType": "object",
         "type": "string"
        },
        {
         "name": "OBC_0x550.OBC_PwrSplyHLVIntlkFlt",
         "rawType": "object",
         "type": "string"
        },
        {
         "name": "OBC_0x550.OBC_550_SSecOC_Fresh_Byte0",
         "rawType": "float64",
         "type": "float"
        },
        {
         "name": "OBC_0x550.OBC_550_SSecOC_MAC_Byte0",
         "rawType": "float64",
         "type": "float"
        },
        {
         "name": "OBC_0x550.OBC_550_SSecOC_MAC_Byte1",
         "rawType": "float64",
         "type": "float"
        },
        {
         "name": "OBC_0x550.OBC_550_SSecOC_MAC_Byte2",
         "rawType": "float64",
         "type": "float"
        },
        {
         "name": "DSMC_0x522.DSMC_SteerWhlZSts",
         "rawType": "object",
         "type": "string"
        },
        {
         "name": "DSMC_0x522.DSMC_SteerWhlYSts",
         "rawType": "object",
         "type": "string"
        },
        {
         "name": "DSMC_0x522.DSMC_CrtSts",
         "rawType": "object",
         "type": "string"
        },
        {
         "name": "DSMC_0x522.DSMC_IninSts",
         "rawType": "object",
         "type": "string"
        },
        {
         "name": "DSMC_0x522.DSMC_SteerWhlYDirPosn",
         "rawType": "int64",
         "type": "integer"
        },
        {
         "name": "DSMC_0x522.DSMC_SteerWhlZDirPosn",
         "rawType": "int64",
         "type": "integer"
        },
        {
         "name": "DSMC_0x522.DSMC_RotationReqSteerClmnFb",
         "rawType": "object",
         "type": "string"
        },
        {
         "name": "BMS_PVcontactorPOS_Status.BMS_Cont_TargetState_PV_Pos",
         "rawType": "object",
         "type": "string"
        },
        {
         "name": "BMS_PVcontactorPOS_Status.BMS_Cont_CurrentState_PV_Pos",
         "rawType": "object",
         "type": "string"
        },
        {
         "name": "BMS_PVcontactorPOS_Status.BMS_Cont_Coil_I_PV_Pos",
         "rawType": "float64",
         "type": "float"
        },
        {
         "name": "BMS_PVcontactorPOS_Status.BMS_Cont_WearCounter_PV_Pos",
         "rawType": "float64",
         "type": "float"
        },
        {
         "name": "BMS_PVcontactorNEG_Status.BMS_Cont_TargetSgtate_PV_Neg",
         "rawType": "object",
         "type": "string"
        },
        {
         "name": "BMS_PVcontactorNEG_Status.BMS_Cont_CurrentState_PV_Neg",
         "rawType": "object",
         "type": "string"
        },
        {
         "name": "BMS_PVcontactorNEG_Status.BMS_Cont_Coil_I_PV_Neg",
         "rawType": "float64",
         "type": "float"
        },
        {
         "name": "BMS_PVcontactorNEG_Status.BMS_Cont_WearCounter_PV_Neg",
         "rawType": "float64",
         "type": "float"
        },
        {
         "name": "BMS_MAINcontactorPOS_Status.BMS_Cont_Tar_St_HV_Pos",
         "rawType": "object",
         "type": "string"
        },
        {
         "name": "BMS_MAINcontactorPOS_Status.BMS_Cont_Act_St_HV_Pos",
         "rawType": "object",
         "type": "string"
        },
        {
         "name": "BMS_MAINcontactorPOS_Status.BMS_Cont_Coil_I_HV_Pos",
         "rawType": "float64",
         "type": "float"
        },
        {
         "name": "BMS_MAINcontactorPOS_Status.BMS_Cont_WearCounter_HV_Pos",
         "rawType": "float64",
         "type": "float"
        },
        {
         "name": "BMS_MAINcontactorNEG_Status.BMS_Cont_Tar_St_HV_Neg",
         "rawType": "object",
         "type": "string"
        },
        {
         "name": "BMS_MAINcontactorNEG_Status.BMS_Cont_Act_St_HV_Neg",
         "rawType": "object",
         "type": "string"
        },
        {
         "name": "BMS_MAINcontactorNEG_Status.BMS_Cont_Coil_I_HV_Neg",
         "rawType": "float64",
         "type": "float"
        },
        {
         "name": "BMS_MAINcontactorNEG_Status.BMS_Cont_WearCounter_HV_Neg",
         "rawType": "float64",
         "type": "float"
        },
        {
         "name": "BMS_PreChargeContactor_Status.BMS_Cont_Tar_St_HV_Prec",
         "rawType": "object",
         "type": "string"
        },
        {
         "name": "BMS_PreChargeContactor_Status.BMS_Cont_Act_St_HV_Prec",
         "rawType": "object",
         "type": "string"
        },
        {
         "name": "BMS_PreChargeContactor_Status.BMS_Cont_Coil_I_HV_Prec",
         "rawType": "float64",
         "type": "float"
        },
        {
         "name": "BMS_PreChargeContactor_Status.BMS_Cont_WearCounter_HV_Prec",
         "rawType": "float64",
         "type": "float"
        },
        {
         "name": "BMS_HVBatt_Status_Errors_2.BMS_Error_Flag_CheckSum",
         "rawType": "float64",
         "type": "float"
        },
        {
         "name": "BMS_HVBatt_Status_Errors_2.BMS_ErrorActive_Diff_U1_UCellSum",
         "rawType": "object",
         "type": "string"
        },
        {
         "name": "BMS_HVBatt_Status_Errors_2.BMS_ErrorWarning_Diff_U1_UCellSum",
         "rawType": "object",
         "type": "string"
        },
        {
         "name": "BMS_HVBatt_Status_Errors_2.BMS_ErrorActive_CellVoltageDiffOverLim",
         "rawType": "object",
         "type": "string"
        },
        {
         "name": "BMS_HVBatt_Status_Errors_2.BMS_ErrorWarning_CellVoltageDiffOverLim",
         "rawType": "object",
         "type": "string"
        },
        {
         "name": "BMS_HVBatt_Status_Errors_2.BMS_Error_Flag_AliveCounter",
         "rawType": "float64",
         "type": "float"
        },
        {
         "name": "BMS_HVBatt_Status_Errors_2.BMS_HVlinkError_IVT_Comm_Failure",
         "rawType": "object",
         "type": "string"
        },
        {
         "name": "BMS_HVBatt_Status_Errors_2.BMS_HVlinkWarning_VCU_MessageIntegrity",
         "rawType": "object",
         "type": "string"
        },
        {
         "name": "BMS_HVBatt_Status_Errors_2.BMS_SystemError_HV_CCT_NoBatVoltage",
         "rawType": "object",
         "type": "string"
        },
        {
         "name": "BMS_HVBatt_Status_Errors_2.BMS_SystemError_HV_CCT_WrongPolarity",
         "rawType": "object",
         "type": "string"
        },
        {
         "name": "BMS_HVBatt_Status_Errors_2.BMS_SystemError_Precharge",
         "rawType": "object",
         "type": "string"
        },
        {
         "name": "BMS_HVBatt_Status_Errors_2.BMS_SystemError_SystemInitFailed",
         "rawType": "object",
         "type": "string"
        },
        {
         "name": "BMS_HVBatt_Status_Errors_2.BMS_ErrorActive_SOH_Low",
         "rawType": "object",
         "type": "string"
        },
        {
         "name": "BMS_HVBatt_Status_Errors_2.BMS_ErrorWarning_SOH_Low",
         "rawType": "object",
         "type": "string"
        },
        {
         "name": "BMS_HVBatt_Status_Errors_2.BMS_HVlinkError_ContactorAuxFailed",
         "rawType": "object",
         "type": "string"
        },
        {
         "name": "BMS_HVBatt_Status_Errors_2.BMS_HVlinkError_ContactorOpen",
         "rawType": "object",
         "type": "string"
        },
        {
         "name": "BMS_HVBatt_Status_Errors_2.BMS_HVlinkError_ContactorGeneric",
         "rawType": "object",
         "type": "string"
        },
        {
         "name": "BMS_HVBatt_Status_Errors_2.BMS_HVlinkError_Eeprom_LifeCycleCount",
         "rawType": "object",
         "type": "string"
        },
        {
         "name": "BMS_HVBatt_Status_Errors_2.BMS_HVlinkWarning_Eeprom_LifeCycleCount",
         "rawType": "object",
         "type": "string"
        },
        {
         "name": "BMS_HVBatt_Status_Errors_2.BMS_HVlinkError_NVM_Comm_Failure",
         "rawType": "object",
         "type": "string"
        },
        {
         "name": "BMS_HVBatt_Status_Errors_2.BMS_HVlinkError_IVT_Meas_Failure",
         "rawType": "object",
         "type": "string"
        },
        {
         "name": "BMS_HVBatt_Status_Errors_2.BMS_HVlinkWarning_IVT_Meas_Failure",
         "rawType": "object",
         "type": "string"
        },
        {
         "name": "BMS_HVBatt_Status_Errors_2.BMS_HWerror_SD_Voltage",
         "rawType": "object",
         "type": "string"
        },
        {
         "name": "BMS_HVBatt_Status_Errors_2.BMS_HWerror_KL30_Voltage",
         "rawType": "object",
         "type": "string"
        },
        {
         "name": "BMS_HVBatt_Status_Errors_2.BMS_HVlinkError_AnalogInput_Exceed_Lim",
         "rawType": "object",
         "type": "string"
        },
        {
         "name": "BMS_HVBatt_Status_Errors_2.BMS_HVlinkWarning_AnalogInput_Exceed_Lim",
         "rawType": "object",
         "type": "string"
        },
        {
         "name": "BMS_HVBatt_Status_Errors_2.BMS_HVlinkError_ContactorPwmEconomizer",
         "rawType": "object",
         "type": "string"
        },
        {
         "name": "BMS_HVBatt_Status_Errors_2.BMS_Software_Error_Boot_Faild",
         "rawType": "object",
         "type": "string"
        },
        {
         "name": "BMS_HVBatt_Status_Errors_2.BMS_HWerror_LCM_PCB_UnderTemp",
         "rawType": "object",
         "type": "string"
        },
        {
         "name": "BMS_HVBatt_Status_Errors_2.BMS_HWwarning_LCM_PCB_UnderTemp",
         "rawType": "object",
         "type": "string"
        },
        {
         "name": "BMS_HVBatt_Status_Errors_2.BMS_HWerror_LCM_PCB_OverTemp",
         "rawType": "object",
         "type": "string"
        },
        {
         "name": "BMS_HVBatt_Status_Errors_2.BMS_HWwarning_LCM_PCB_OverTemp",
         "rawType": "object",
         "type": "string"
        },
        {
         "name": "BMS_HVBatt_Status_Errors_2.BMS_HWerror_Cell_Temp_Sensor_Fail",
         "rawType": "object",
         "type": "string"
        },
        {
         "name": "BMS_HVBatt_Status_Errors_2.BMS_HWerror_PCB_Temp_Sensor_Fail",
         "rawType": "object",
         "type": "string"
        },
        {
         "name": "BMS_HVBatt_Status_Errors_2.BMS_DTC_status",
         "rawType": "float64",
         "type": "float"
        },
        {
         "name": "BMS_SOC.BMS_Bat_SoC_usable",
         "rawType": "float64",
         "type": "float"
        },
        {
         "name": "BMS_SOC.BMS_Bat_Actual_Pack_Capacity",
         "rawType": "float64",
         "type": "float"
        },
        {
         "name": "BMS_SOC.BMS_Bat_SOH",
         "rawType": "float64",
         "type": "float"
        },
        {
         "name": "BMS_SOC.BMS_Bat_SOC_Real",
         "rawType": "float64",
         "type": "float"
        },
        {
         "name": "BMS_PLT_Current.BMS_Curr_PLT_CheckSum",
         "rawType": "float64",
         "type": "float"
        },
        {
         "name": "BMS_PLT_Current.BMS_Curr_PLT_AliveCounter",
         "rawType": "float64",
         "type": "float"
        },
        {
         "name": "BMS_PLT_Current.BMS_Bat_D_MAXcurr_PLT",
         "rawType": "float64",
         "type": "float"
        },
        {
         "name": "BMS_PLT_Current.BMS_Bat_C_MAXcurr_PLT",
         "rawType": "float64",
         "type": "float"
        },
        {
         "name": "BMS_C_D_CellLimit_U_I.BMS_Bat_C_MaxCell_U",
         "rawType": "float64",
         "type": "float"
        },
        {
         "name": "BMS_C_D_CellLimit_U_I.BMS_Bat_D_MinCell_U",
         "rawType": "float64",
         "type": "float"
        },
        {
         "name": "BMS_C_D_CellLimit_U_I.BMS_Bat_D_MaxPack_I",
         "rawType": "float64",
         "type": "float"
        },
        {
         "name": "BMS_C_D_CellLimit_U_I.BMS_Bat_C_MaxPack_I",
         "rawType": "float64",
         "type": "float"
        },
        {
         "name": "BMS_PLT_Voltage.BMS_Volt_PLT_CheckSum",
         "rawType": "float64",
         "type": "float"
        },
        {
         "name": "BMS_PLT_Voltage.BMS_Volt_PLT_AliveCounter",
         "rawType": "float64",
         "type": "float"
        },
        {
         "name": "BMS_PLT_Voltage.BMS_Bat_C_MAXvolt_PLT",
         "rawType": "float64",
         "type": "float"
        },
        {
         "name": "BMS_PLT_Voltage.BMS_Bat_D_MAXvolt_PLT",
         "rawType": "float64",
         "type": "float"
        },
        {
         "name": "BMS_C_D_PackLimit_U.BMS_Bat_C_MaxPack_U",
         "rawType": "float64",
         "type": "float"
        },
        {
         "name": "BMS_C_D_PackLimit_U.BMS_Bat_D_MinPack_U",
         "rawType": "float64",
         "type": "float"
        },
        {
         "name": "PSM_0x624.PSM_PassSeatT1",
         "rawType": "float64",
         "type": "float"
        },
        {
         "name": "PSM_0x624.PSM_PassSeatT2",
         "rawType": "float64",
         "type": "float"
        },
        {
         "name": "BMS_IsolationResistanceActual.BMS_PwrBattPosGNDInsulRrel",
         "rawType": "float64",
         "type": "float"
        },
        {
         "name": "BMS_IsolationResistanceActual.BMS_PwrBattNegGNDInsulRrel",
         "rawType": "float64",
         "type": "float"
        },
        {
         "name": "BMS_IsolationResistanceActual.BMS_PwrBattPosGNDInsulR",
         "rawType": "float64",
         "type": "float"
        },
        {
         "name": "BMS_IsolationResistanceActual.BMS_PwrBattNegGNDInsulR",
         "rawType": "float64",
         "type": "float"
        },
        {
         "name": "BMS_HVBatt_Status_Errors_3_TBOX.BMS_DCChrgSoktOverTFlt",
         "rawType": "object",
         "type": "string"
        },
        {
         "name": "BMS_HVBatt_Status_Errors_3_TBOX.BMS_BattPack1UnderVoltFlt",
         "rawType": "object",
         "type": "string"
        },
        {
         "name": "BMS_HVBatt_Status_Errors_3_TBOX.BMS_BattPack1OverVoltFlt",
         "rawType": "object",
         "type": "string"
        },
        {
         "name": "BMS_HVBatt_Status_Errors_3_TBOX.BMS_BattBalActv",
         "rawType": "object",
         "type": "string"
        },
        {
         "name": "BMS_HVBatt_Status_Errors_3_TBOX.BMS_CellUnderVoltFlt",
         "rawType": "object",
         "type": "string"
        },
        {
         "name": "BMS_HVBatt_Status_Errors_3_TBOX.BMS_CellUnderVoltFailFlt",
         "rawType": "object",
         "type": "string"
        },
        {
         "name": "BMS_HVBatt_Status_Errors_3_TBOX.BMS_PwrBattUderVoltFlt",
         "rawType": "object",
         "type": "string"
        },
        {
         "name": "BMS_HVBatt_Status_Errors_3_TBOX.BMS_PwrBattOverChrgAlrm",
         "rawType": "object",
         "type": "string"
        },
        {
         "name": "BMS_HVBatt_Status_Errors_3_TBOX.BMS_PwrBattHLVIntlkFlt",
         "rawType": "object",
         "type": "string"
        },
        {
         "name": "BMS_HVBatt_Status_Errors_3_TBOX.BMS_PwrBattOverTAlrm",
         "rawType": "object",
         "type": "string"
        },
        {
         "name": "BMS_HVBatt_Status_Errors_3_TBOX.BMS_InsulChkFltLvl2ProtFlg",
         "rawType": "object",
         "type": "string"
        },
        {
         "name": "BMS_HVBatt_Status_Errors_3_TBOX.BMS_ACCrtFlt",
         "rawType": "object",
         "type": "string"
        },
        {
         "name": "BMS_HVBatt_Status_Errors_3_TBOX.BMS_ACChrgSoktOverTFlt",
         "rawType": "object",
         "type": "string"
        },
        {
         "name": "BMS_HVBatt_Status_Errors_3_TBOX.BMS_ComLostFlt_CCU",
         "rawType": "object",
         "type": "string"
        },
        {
         "name": "BMS_HVBatt_Status_Errors_3_TBOX.BMS_ComLostFlt_BOBC",
         "rawType": "object",
         "type": "string"
        },
        {
         "name": "BMS_HVBatt_Status_Errors_3_TBOX.BMS_PwrBattPrecRlyAdh",
         "rawType": "object",
         "type": "string"
        },
        {
         "name": "BMS_HVBatt_Status_Errors_3_TBOX.BMS_PwrBattNegRlyAdh",
         "rawType": "object",
         "type": "string"
        },
        {
         "name": "BMS_HVBatt_Status_Errors_3_TBOX.BMS_PwrBattExtTotVoltChkFlt",
         "rawType": "object",
         "type": "string"
        },
        {
         "name": "BMS_HVBatt_Status_Errors_3_TBOX.BMS_PwrBattIntTotVoltChkFlt",
         "rawType": "object",
         "type": "string"
        },
        {
         "name": "BMS_HVBatt_Status_Errors_3_TBOX.BMS_PwrBattTRiseFast",
         "rawType": "object",
         "type": "string"
        },
        {
         "name": "BMS_HVBatt_Status_Errors_3_TBOX.BMS_PwrBattTUnbal",
         "rawType": "object",
         "type": "string"
        },
        {
         "name": "BMS_HVBatt_Status_Errors_3_TBOX.BMS_PwrBattIntShoCirc",
         "rawType": "object",
         "type": "string"
        },
        {
         "name": "BMS_HVBatt_Status_Errors_3_TBOX.BMS_PwrBattExtShoCirc",
         "rawType": "object",
         "type": "string"
        },
        {
         "name": "BMS_HVBatt_Status_Errors_3_TBOX.BMS_BCUEEPROMReadWrFlt",
         "rawType": "object",
         "type": "string"
        },
        {
         "name": "BMS_HVBatt_Status_Errors_3_TBOX.BMS_PwrBattExtTotVoltChkFltV2",
         "rawType": "object",
         "type": "string"
        },
        {
         "name": "BMS_HVBatt_Status_Errors_3_TBOX.BMS_PwrBattMSDBreak",
         "rawType": "object",
         "type": "string"
        },
        {
         "name": "BMS_HVBatt_Status_Errors_3_TBOX.BMS_PwrBattPrecRBreak",
         "rawType": "object",
         "type": "string"
        },
        {
         "name": "BMS_HVBatt_Status_Errors_3_TBOX.BMS_PwrBattPosRlyBreak",
         "rawType": "object",
         "type": "string"
        },
        {
         "name": "BMS_HVBatt_Status_Errors_3_TBOX.BMS_PwrBattPrecRlyBreak",
         "rawType": "object",
         "type": "string"
        },
        {
         "name": "BMS_HVBatt_Status_Errors_3_TBOX.BMS_PwrBattNegRlyBreak",
         "rawType": "object",
         "type": "string"
        },
        {
         "name": "BMS_HVBatt_Status_Errors_3_TBOX.BMS_PwrBattPosRlyAdh",
         "rawType": "object",
         "type": "string"
        },
        {
         "name": "BMS_HVBatt_Status_Errors_3_TBOX.BMS_PwrBattSysIntComFlt",
         "rawType": "object",
         "type": "string"
        },
        {
         "name": "BMS_HVBatt_Status_Errors_3_TBOX.BMS_EEPROMReadWrFlt",
         "rawType": "object",
         "type": "string"
        },
        {
         "name": "BMS_HVBatt_Status_Errors_3_TBOX.BMS_PwrBattCellVoltUnbal",
         "rawType": "object",
         "type": "string"
        },
        {
         "name": "BMS_HVBatt_Status_Errors_3_TBOX.BMS_PwrBattNegRlyDrvChFlt",
         "rawType": "object",
         "type": "string"
        },
        {
         "name": "BMS_HVBatt_Status_Errors_3_TBOX.BMS_PwrBattInsulChkFlt",
         "rawType": "object",
         "type": "string"
        },
        {
         "name": "BMS_HVBatt_Status_Errors_3_TBOX.BMS_PwrBattPrecRlyDrvChFlt",
         "rawType": "object",
         "type": "string"
        },
        {
         "name": "BMS_HVBatt_Status_Errors_3_TBOX.BMS_PwrBattPosRlyDrvChFlt",
         "rawType": "object",
         "type": "string"
        },
        {
         "name": "BMS_HVBatt_Status_Errors_3_TBOX.BMS_SubTCollctnCircFlt",
         "rawType": "object",
         "type": "string"
        },
        {
         "name": "BMS_HVBatt_Status_Errors_3_TBOX.BMS_SubModleVoltCollctnCircFlt",
         "rawType": "object",
         "type": "string"
        },
        {
         "name": "BMS_HVBatt_Status_Errors_3_TBOX.BMS_SubCellVoltCollctnCircFlt",
         "rawType": "object",
         "type": "string"
        },
        {
         "name": "BMS_HVBatt_Status_Errors_3_TBOX.BMS_SubEEPROMReadWrFlt",
         "rawType": "object",
         "type": "string"
        },
        {
         "name": "BMS_HVBatt_Status_Errors_3_TBOX.BMS_CopRowLooseFlt",
         "rawType": "object",
         "type": "string"
        },
        {
         "name": "BMS_HVBatt_Status_Errors_3_TBOX.BMS_InsulRLo",
         "rawType": "object",
         "type": "string"
        },
        {
         "name": "BMS_HVBatt_Status_Errors_3_TBOX.BMS_PwrBattCellOverVolt",
         "rawType": "object",
         "type": "string"
        },
        {
         "name": "BMS_HVBatt_Status_Errors_3_TBOX.BMS_PrecFailFlt",
         "rawType": "object",
         "type": "string"
        },
        {
         "name": "BMS_HVBatt_Status_Errors_3_TBOX.BMS_SubComLostFlt_VBUBMS",
         "rawType": "object",
         "type": "string"
        },
        {
         "name": "BMS_HVBatt_Status_Errors_3_TBOX.BMS_ComLostFlt_ECC",
         "rawType": "object",
         "type": "string"
        },
        {
         "name": "BMS_HVBatt_Status_Errors_3_TBOX.BMS_BattCellVoltUnbalAlrm",
         "rawType": "object",
         "type": "string"
        },
        {
         "name": "BMS_HVBatt_Status_Errors_3_TBOX.BMS_SubOperModRespFlt",
         "rawType": "object",
         "type": "string"
        },
        {
         "name": "BMS_HVBatt_Status_Errors_3_TBOX.BMS_SubPasBalChFlt",
         "rawType": "object",
         "type": "string"
        },
        {
         "name": "BMS_HVBatt_Status_Errors_3_TBOX.BMS_SubActvBalChFlt",
         "rawType": "object",
         "type": "string"
        },
        {
         "name": "BMS_HVBatt_Status_Errors_3_TBOX.BMS_ComOverTiFlt_BOBC",
         "rawType": "object",
         "type": "string"
        },
        {
         "name": "BMS_HVBatt_Status_Errors_3_TBOX.BMS_LVPwrSplyFlt",
         "rawType": "object",
         "type": "string"
        },
        {
         "name": "BMS_HVBatt_Status_Errors_3_TBOX.BMS_ComOverTiFlt_ECC",
         "rawType": "object",
         "type": "string"
        },
        {
         "name": "BMS_HVBatt_Status_Errors_3_TBOX.BMS_BattReDrvHLVIntlkFlt",
         "rawType": "object",
         "type": "string"
        },
        {
         "name": "BMS_HVBatt_Status_Errors_3_TBOX.BMS_ComLostFlt_VCU",
         "rawType": "object",
         "type": "string"
        },
        {
         "name": "BMS_HVBatt_Status_Errors_3_TBOX.BMS_TotCrtChkFlt",
         "rawType": "object",
         "type": "string"
        },
        {
         "name": "BMS_HVBatt_Status_Errors_3_TBOX.BMS_PwrBattIntTotVoltChkFltV1",
         "rawType": "object",
         "type": "string"
        },
        {
         "name": "BMS_HVBatt_Status_Errors_3_TBOX.BMS_TotVoltOver",
         "rawType": "object",
         "type": "string"
        },
        {
         "name": "BMS_CellTemp_CoolingHeating.BMS_372_382_CheckSum",
         "rawType": "float64",
         "type": "float"
        },
        {
         "name": "BMS_CellTemp_CoolingHeating.BMS_OTARdy_Fb",
         "rawType": "object",
         "type": "string"
        },
        {
         "name": "BMS_CellTemp_CoolingHeating.BMS_372_382_AliveCounter",
         "rawType": "float64",
         "type": "float"
        },
        {
         "name": "BMS_CellTemp_CoolingHeating.BMS_CellMinT",
         "rawType": "float64",
         "type": "float"
        },
        {
         "name": "BMS_CellTemp_CoolingHeating.BMS_CellDiffT",
         "rawType": "float64",
         "type": "float"
        },
        {
         "name": "BMS_CellTemp_CoolingHeating.BMS_CellMaxT",
         "rawType": "float64",
         "type": "float"
        },
        {
         "name": "BMS_CellTemp_CoolingHeating.BMS_BattAvrgT",
         "rawType": "float64",
         "type": "float"
        },
        {
         "name": "BMS_CellTemp_CoolingHeating.BMS_ECCSysAllwDwnPwrCmd",
         "rawType": "object",
         "type": "string"
        },
        {
         "name": "BMS_CellTemp_CoolingHeating.BMS_PwrBattHeatgMngDmd",
         "rawType": "object",
         "type": "string"
        },
        {
         "name": "BMS_CellTemp_CoolingHeating.BMS_BattInlTDmd",
         "rawType": "float64",
         "type": "float"
        },
        {
         "name": "BMS_CellTemp_CoolingHeating.BMS_372_SSecOC_Fresh_Byte0",
         "rawType": "float64",
         "type": "float"
        },
        {
         "name": "BMS_CellTemp_CoolingHeating.BMS_372_SSecOC_MAC_Byte0",
         "rawType": "float64",
         "type": "float"
        },
        {
         "name": "BMS_CellTemp_CoolingHeating.BMS_372_SSecOC_MAC_Byte1",
         "rawType": "float64",
         "type": "float"
        },
        {
         "name": "BMS_CellTemp_CoolingHeating.BMS_372_SSecOC_MAC_Byte2",
         "rawType": "float64",
         "type": "float"
        },
        {
         "name": "PSM_0x685.PSM_SwVersS",
         "rawType": "float64",
         "type": "float"
        },
        {
         "name": "PSM_0x685.PSM_PartVers",
         "rawType": "float64",
         "type": "float"
        },
        {
         "name": "PSM_0x685.PSM_HwVers",
         "rawType": "float64",
         "type": "float"
        },
        {
         "name": "PSM_0x685.PSM_SwVersM",
         "rawType": "float64",
         "type": "float"
        },
        {
         "name": "BMS_MAINcontactorPOS_ErrStatus.BMS_Cont_Error_Exceed_HV_Pos1",
         "rawType": "object",
         "type": "string"
        },
        {
         "name": "BMS_MAINcontactorPOS_ErrStatus.BMS_Cont_Error_Welded_HV_Pos1",
         "rawType": "object",
         "type": "string"
        },
        {
         "name": "BMS_MAINcontactorPOS_ErrStatus.BMS_Cont_Error_StuckOpen_HV_Pos1",
         "rawType": "object",
         "type": "string"
        },
        {
         "name": "BMS_MAINcontactorPOS_ErrStatus.BMS_Cont_Error_DisCh1_HV_Pos1",
         "rawType": "float64",
         "type": "float"
        },
        {
         "name": "BMS_MAINcontactorPOS_ErrStatus.BMS_Cont_Error_DisCh2_HV_Pos1",
         "rawType": "float64",
         "type": "float"
        },
        {
         "name": "BMS_MAINcontactorPOS_ErrStatus.BMS_Cont_Error_DisCh4_HV_Pos1",
         "rawType": "float64",
         "type": "float"
        },
        {
         "name": "BMS_MAINcontactorPOS_ErrStatus.BMS_Cont_Error_DisCh3_HV_Pos1",
         "rawType": "float64",
         "type": "float"
        },
        {
         "name": "BMS_MAINcontactorPOS_ErrStatus.BMS_Cont_Error_Ch2_HV_Pos1",
         "rawType": "float64",
         "type": "float"
        },
        {
         "name": "BMS_MAINcontactorPOS_ErrStatus.BMS_Cont_Error_Ch1_HV_Pos1",
         "rawType": "float64",
         "type": "float"
        },
        {
         "name": "BMS_MAINcontactorNEG_ErrStatus.BMS_Cont_Error_Exceed_HV_Neg1",
         "rawType": "object",
         "type": "string"
        },
        {
         "name": "BMS_MAINcontactorNEG_ErrStatus.BMS_Cont_Error_Welded_HV_Neg1",
         "rawType": "object",
         "type": "string"
        },
        {
         "name": "BMS_MAINcontactorNEG_ErrStatus.BMS_Cont_Error_StuckOpen_HV_Neg1",
         "rawType": "object",
         "type": "string"
        },
        {
         "name": "BMS_MAINcontactorNEG_ErrStatus.BMS_Cont_Error_DisCh1_HV_Neg1",
         "rawType": "float64",
         "type": "float"
        },
        {
         "name": "BMS_MAINcontactorNEG_ErrStatus.BMS_Cont_Error_DisCh2_HV_Neg1",
         "rawType": "float64",
         "type": "float"
        },
        {
         "name": "BMS_MAINcontactorNEG_ErrStatus.BMS_Cont_Error_DisCh4_HV_Neg1",
         "rawType": "float64",
         "type": "float"
        },
        {
         "name": "BMS_MAINcontactorNEG_ErrStatus.BMS_Cont_Error_DisCh3_HV_Neg1",
         "rawType": "float64",
         "type": "float"
        },
        {
         "name": "BMS_MAINcontactorNEG_ErrStatus.BMS_Cont_Error_Ch2_HV_Neg1",
         "rawType": "float64",
         "type": "float"
        },
        {
         "name": "BMS_MAINcontactorNEG_ErrStatus.BMS_Cont_Error_Ch1_HV_Neg1",
         "rawType": "float64",
         "type": "float"
        },
        {
         "name": "BMS_PreChargeContactor_ErrStatus.BMS_Cont_Error_Exceed_HV_Prec",
         "rawType": "object",
         "type": "string"
        },
        {
         "name": "BMS_PreChargeContactor_ErrStatus.BMS_Cont_Error_Welded_HV_Prec1",
         "rawType": "object",
         "type": "string"
        },
        {
         "name": "BMS_PreChargeContactor_ErrStatus.BMS_Cont_Error_StuckOpen_HV_Prec1",
         "rawType": "object",
         "type": "string"
        },
        {
         "name": "BMS_PreChargeContactor_ErrStatus.BMS_Cont_Error_DisCh1_HV_Prec",
         "rawType": "float64",
         "type": "float"
        },
        {
         "name": "BMS_PreChargeContactor_ErrStatus.BMS_Cont_Error_DisCh2_HV_Prec",
         "rawType": "float64",
         "type": "float"
        },
        {
         "name": "BMS_PreChargeContactor_ErrStatus.BMS_Cont_Error_DisCh4_HV_Prec",
         "rawType": "float64",
         "type": "float"
        },
        {
         "name": "BMS_PreChargeContactor_ErrStatus.BMS_Cont_Error_DisCh3_HV_Prec",
         "rawType": "float64",
         "type": "float"
        },
        {
         "name": "BMS_PreChargeContactor_ErrStatus.BMS_Cont_Error_Ch2_HV_Prec1",
         "rawType": "float64",
         "type": "float"
        },
        {
         "name": "BMS_PreChargeContactor_ErrStatus.BMS_Cont_Error_Ch1_HV_Prec1",
         "rawType": "float64",
         "type": "float"
        },
        {
         "name": "BMS_CoolantTemp.BMS_Bat_Coolant_in",
         "rawType": "float64",
         "type": "float"
        },
        {
         "name": "BMS_CoolantTemp.BMS_Bat_Coolant_out",
         "rawType": "float64",
         "type": "float"
        },
        {
         "name": "BMS_CoolantTemp.BMS_BattInlT_Target",
         "rawType": "float64",
         "type": "float"
        },
        {
         "name": "BMS_CoolantTemp.BMS_BattInlT_Min",
         "rawType": "float64",
         "type": "float"
        },
        {
         "name": "BMS_CoolantTemp.BMS_BattInlT_Max",
         "rawType": "float64",
         "type": "float"
        },
        {
         "name": "BMS_PVcontactorNEG_ErrStatus.BMS_Cont_Error_Exceed_HV_PV_Neg1",
         "rawType": "object",
         "type": "string"
        },
        {
         "name": "BMS_PVcontactorNEG_ErrStatus.BMS_Cont_Error_Welded_HV_PV_Neg1",
         "rawType": "object",
         "type": "string"
        },
        {
         "name": "BMS_PVcontactorNEG_ErrStatus.BMS_Cont_Error_StuckOpen_HV_PV_Neg1",
         "rawType": "object",
         "type": "string"
        },
        {
         "name": "BMS_PVcontactorNEG_ErrStatus.BMS_Cont_Error_DisCh1_HV_PV_Neg1",
         "rawType": "float64",
         "type": "float"
        },
        {
         "name": "BMS_PVcontactorNEG_ErrStatus.BMS_Cont_Error_DisCh2_HV_PV_Neg1",
         "rawType": "float64",
         "type": "float"
        },
        {
         "name": "BMS_PVcontactorNEG_ErrStatus.BMS_Cont_Error_DisCh4_HV_PV_Neg1",
         "rawType": "float64",
         "type": "float"
        },
        {
         "name": "BMS_PVcontactorNEG_ErrStatus.BMS_Cont_Error_DisCh3_HV_PV_Neg1",
         "rawType": "float64",
         "type": "float"
        },
        {
         "name": "BMS_PVcontactorNEG_ErrStatus.BMS_Cont_Error_Ch2_HV_PV_Neg1",
         "rawType": "float64",
         "type": "float"
        },
        {
         "name": "BMS_PVcontactorNEG_ErrStatus.BMS_Cont_Error_Ch1_HV_PV_Neg1",
         "rawType": "float64",
         "type": "float"
        },
        {
         "name": "BMS_PVcontactorPOS_ErrStatus.BMS_Cont_Error_Exceed_HV_PV_Pos1",
         "rawType": "object",
         "type": "string"
        },
        {
         "name": "BMS_PVcontactorPOS_ErrStatus.BMS_Cont_Error_Welded_HV_PV_Pos1",
         "rawType": "object",
         "type": "string"
        },
        {
         "name": "BMS_PVcontactorPOS_ErrStatus.BMS_Cont_Error_StuckOpen_HV_PV_Pos1",
         "rawType": "object",
         "type": "string"
        },
        {
         "name": "BMS_PVcontactorPOS_ErrStatus.BMS_Cont_Error_DisCh1_HV_PV_Pos1",
         "rawType": "float64",
         "type": "float"
        },
        {
         "name": "BMS_PVcontactorPOS_ErrStatus.BMS_Cont_Error_DisCh2_HV_PV_Pos1",
         "rawType": "float64",
         "type": "float"
        },
        {
         "name": "BMS_PVcontactorPOS_ErrStatus.BMS_Cont_Error_DisCh4_HV_PV_Pos1",
         "rawType": "float64",
         "type": "float"
        },
        {
         "name": "BMS_PVcontactorPOS_ErrStatus.BMS_Cont_Error_DisCh3_HV_PV_Pos1",
         "rawType": "float64",
         "type": "float"
        },
        {
         "name": "BMS_PVcontactorPOS_ErrStatus.BMS_Cont_Error_Ch2_HV_PV_Pos1",
         "rawType": "float64",
         "type": "float"
        },
        {
         "name": "BMS_PVcontactorPOS_ErrStatus.BMS_Cont_Error_Ch1_HV_PV_Pos1",
         "rawType": "float64",
         "type": "float"
        },
        {
         "name": "PSM_0x328.PSM_SecRowSeatBackAdjSwtSts",
         "rawType": "object",
         "type": "string"
        },
        {
         "name": "PSM_0x328.PSM_PassSeatBackSwtSts",
         "rawType": "object",
         "type": "string"
        },
        {
         "name": "PSM_0x328.PSM_PassSeatTrackSwtSts",
         "rawType": "object",
         "type": "string"
        },
        {
         "name": "ICC_0x37A.ICC_LeOutlLeRiMotActvCmd",
         "rawType": "object",
         "type": "string"
        },
        {
         "name": "ICC_0x37A.ICC_LeOutlUpDwnMotActvCmd",
         "rawType": "object",
         "type": "string"
        },
        {
         "name": "ICC_0x37A.ICC_MidLeOutlUpDwnMotActvCmd",
         "rawType": "object",
         "type": "string"
        },
        {
         "name": "ICC_0x37A.ICC_LeOutlDamprMotActvCmd",
         "rawType": "object",
         "type": "string"
        },
        {
         "name": "ICC_0x37A.ICC_MidLeOutlDamprMotActvCmd",
         "rawType": "object",
         "type": "string"
        },
        {
         "name": "ICC_0x37A.ICC_MidLeOutlLeRiMotActvCmd",
         "rawType": "object",
         "type": "string"
        },
        {
         "name": "ICC_0x37A.ICC_MidRiOutlLeRiMotActvCmd",
         "rawType": "object",
         "type": "string"
        },
        {
         "name": "ICC_0x37A.ICC_MidRiOutlUpDwnMotActvCmd",
         "rawType": "object",
         "type": "string"
        },
        {
         "name": "ICC_0x37A.ICC_RiOutlUpDwnMotActvCmd",
         "rawType": "object",
         "type": "string"
        },
        {
         "name": "ICC_0x37A.ICC_MidRiOutlDamprMotActvCmd",
         "rawType": "object",
         "type": "string"
        },
        {
         "name": "ICC_0x37A.ICC_RiOutlDamprMotActvCmd",
         "rawType": "object",
         "type": "string"
        },
        {
         "name": "ICC_0x37A.ICC_RiOutlLeRiMotActvCmd",
         "rawType": "object",
         "type": "string"
        },
        {
         "name": "PSM_0x512.PSM_PassSeatVentnSts",
         "rawType": "object",
         "type": "string"
        },
        {
         "name": "PSM_0x512.PSM_PassSeatHeatgSts",
         "rawType": "object",
         "type": "string"
        },
        {
         "name": "PSM_0x512.PSM_OTARdy_Fb",
         "rawType": "object",
         "type": "string"
        },
        {
         "name": "PSM_0x512.PSM_PassSeatBackAdjSts",
         "rawType": "object",
         "type": "string"
        },
        {
         "name": "PSM_0x512.PSM_PassSeatTrackAdjSts",
         "rawType": "object",
         "type": "string"
        },
        {
         "name": "ICC_0x52.ICC_WIFIAPAuthentMechanism",
         "rawType": "object",
         "type": "string"
        },
        {
         "name": "ICC_0x52.ICC_SetMaxPosnCmd_PLGM",
         "rawType": "object",
         "type": "string"
        },
        {
         "name": "ICC_0x52.ICC_DrvrMirrTurnDwnAllwd",
         "rawType": "object",
         "type": "string"
        },
        {
         "name": "ICC_0x52.ICC_Ota_Inst",
         "rawType": "object",
         "type": "string"
        },
        {
         "name": "ICC_0x52.ICC_TrActnCmd",
         "rawType": "object",
         "type": "string"
        },
        {
         "name": "ICC_0x52.ICC_Updcomp",
         "rawType": "object",
         "type": "string"
        },
        {
         "name": "ICC_0x336.ICC_336_Checksum",
         "rawType": "int64",
         "type": "integer"
        },
        {
         "name": "ICC_0x336.ICC_SetAtmLampBri",
         "rawType": "object",
         "type": "string"
        },
        {
         "name": "ICC_0x336.ICC_336_AliveCounter",
         "rawType": "int64",
         "type": "integer"
        },
        {
         "name": "ICC_0x336.ICC_SteerAssiSet",
         "rawType": "object",
         "type": "string"
        },
        {
         "name": "ICC_0x336.ICC_AtmLampOpenCmd",
         "rawType": "object",
         "type": "string"
        },
        {
         "name": "ICC_0x336.ICC_OTAInhbRdy",
         "rawType": "object",
         "type": "string"
        },
        {
         "name": "ICC_0x336.ICC_SuspSet",
         "rawType": "object",
         "type": "string"
        },
        {
         "name": "ICC_0x336.ICC_ReqCalifModHMIBtn",
         "rawType": "object",
         "type": "string"
        },
        {
         "name": "ICC_0x336.ICC_ESPSwtSig",
         "rawType": "object",
         "type": "string"
        },
        {
         "name": "ICC_0x336.ICC_HDCSwtSig",
         "rawType": "object",
         "type": "string"
        },
        {
         "name": "ICC_0x336.ICC_SetStorageBriLvl",
         "rawType": "object",
         "type": "string"
        },
        {
         "name": "ICC_0x336.ICC_WIFIOnOffSig",
         "rawType": "object",
         "type": "string"
        },
        {
         "name": "ICC_0x336.ICC_iTPMSResetSig",
         "rawType": "object",
         "type": "string"
        },
        {
         "name": "ICC_0x336.ICC_SpdLimOffs",
         "rawType": "int64",
         "type": "integer"
        },
        {
         "name": "ICC_0x336.ICC_SpeechSt",
         "rawType": "object",
         "type": "string"
        },
        {
         "name": "ICC_0x336.ICC_PhoneSt",
         "rawType": "object",
         "type": "string"
        },
        {
         "name": "ICC_0x336.ICC_RiMirrAlrmLampFlt",
         "rawType": "object",
         "type": "string"
        },
        {
         "name": "ICC_0x336.ICC_LeMirrAlrmLampFlt",
         "rawType": "object",
         "type": "string"
        },
        {
         "name": "ICC_0x336.ICC_OTARdy_Fb",
         "rawType": "object",
         "type": "string"
        },
        {
         "name": "ICC_0x336.ICC_SpdLimFdb",
         "rawType": "object",
         "type": "string"
        },
        {
         "name": "ICC_0x336.ICC_RemReqFb",
         "rawType": "object",
         "type": "string"
        },
        {
         "name": "ICC_0x528.ICC_RearTSetSYNC",
         "rawType": "object",
         "type": "string"
        },
        {
         "name": "ICC_0x528.ICC_DrvrSeatHeatgReq",
         "rawType": "object",
         "type": "string"
        },
        {
         "name": "ICC_0x528.ICC_DrvrID",
         "rawType": "object",
         "type": "string"
        },
        {
         "name": "ICC_0x528.ICC_RearLeSeatHeatgSync",
         "rawType": "object",
         "type": "string"
        },
        {
         "name": "ICC_0x528.ICC_RearRiSeatHeatgSync",
         "rawType": "object",
         "type": "string"
        },
        {
         "name": "ICC_0x528.ICC_DrvAntithiefEnaReq",
         "rawType": "object",
         "type": "string"
        },
        {
         "name": "ICC_0x528.ICC_SeatWelFctEnaReq",
         "rawType": "object",
         "type": "string"
        },
        {
         "name": "ICC_0x528.ICC_PassSeatHeatgReq",
         "rawType": "object",
         "type": "string"
        },
        {
         "name": "ICC_0x528.ICC_SWH_Req",
         "rawType": "object",
         "type": "string"
        },
        {
         "name": "ICC_0x528.ICC_RearRiSeatHeatgReq",
         "rawType": "object",
         "type": "string"
        },
        {
         "name": "ICC_0x528.ICC_KL15PwrOffPrevFlag",
         "rawType": "object",
         "type": "string"
        },
        {
         "name": "ICC_0x528.ICC_RearLeSeatHeatgReq",
         "rawType": "object",
         "type": "string"
        },
        {
         "name": "ICC_0x528.ICC_RearAirVolSetSync",
         "rawType": "object",
         "type": "string"
        },
        {
         "name": "ICC_0x529.ICC_SteerWhlPhnKeyBackLi",
         "rawType": "object",
         "type": "string"
        },
        {
         "name": "ICC_0x529.ICC_ReOperPanSwtSts",
         "rawType": "object",
         "type": "string"
        },
        {
         "name": "ICC_0x529.ICC_ReOperPanSwtCmd",
         "rawType": "object",
         "type": "string"
        },
        {
         "name": "ICC_0x529.ICC_DispUnit",
         "rawType": "object",
         "type": "string"
        },
        {
         "name": "ICC_0x529.ICC_CtrlSts_PWC",
         "rawType": "object",
         "type": "string"
        },
        {
         "name": "ICC_0x529.ICC_CtrlSts_NFC",
         "rawType": "object",
         "type": "string"
        },
        {
         "name": "ICC_0x529.ICC_TempUnit",
         "rawType": "object",
         "type": "string"
        },
        {
         "name": "ICC_0x529.ICC_BackgndBriLvl",
         "rawType": "object",
         "type": "string"
        },
        {
         "name": "ICC_0x529.ICC_V2L_TrEna",
         "rawType": "object",
         "type": "string"
        },
        {
         "name": "ICC_0x529.ICC_V2L_ChrgPortEna",
         "rawType": "object",
         "type": "string"
        },
        {
         "name": "ICC_0x529.ICC_V2V_Ena",
         "rawType": "object",
         "type": "string"
        },
        {
         "name": "ICC_0x529.ICC_V2H_Ena",
         "rawType": "object",
         "type": "string"
        },
        {
         "name": "ICC_0x529.ICC_V2G_Ena",
         "rawType": "object",
         "type": "string"
        },
        {
         "name": "ICC_0x529.ICC_RollingCounter",
         "rawType": "int64",
         "type": "integer"
        },
        {
         "name": "ICC_0x529.ICC_ReOperPanLockCmd",
         "rawType": "object",
         "type": "string"
        },
        {
         "name": "ICC_0x529.ICC_NavOnSts",
         "rawType": "object",
         "type": "string"
        },
        {
         "name": "ICC_0x529.ICC_SpclTerrainModReq",
         "rawType": "object",
         "type": "string"
        },
        {
         "name": "ICC_0x529.ICC_WiprSrvPosn",
         "rawType": "object",
         "type": "string"
        },
        {
         "name": "ICC_0x529.ICC_CrtLanguage",
         "rawType": "object",
         "type": "string"
        },
        {
         "name": "ICC_0x529.ICC_DoorCtrlSwtSts",
         "rawType": "object",
         "type": "string"
        },
        {
         "name": "ICC_0x529.ICC_NavBarShift",
         "rawType": "object",
         "type": "string"
        },
        {
         "name": "ICC_0x531.ICC_TotMilgVld_ODO",
         "rawType": "object",
         "type": "string"
        },
        {
         "name": "ICC_0x531.ICC_TotMilg_ODO",
         "rawType": "float64",
         "type": "float"
        },
        {
         "name": "ICC_0x531.ICC_DispVehSpd",
         "rawType": "int64",
         "type": "integer"
        },
        {
         "name": "ICC_0x531.ICC_WorkshopMode",
         "rawType": "object",
         "type": "string"
        },
        {
         "name": "ICC_0x531.ICC_DispFlt",
         "rawType": "object",
         "type": "string"
        },
        {
         "name": "ICC_0x531.ICC_ADASSigFlt",
         "rawType": "object",
         "type": "string"
        },
        {
         "name": "ICC_0x531.ICC_DispVehSpdUnit",
         "rawType": "object",
         "type": "string"
        },
        {
         "name": "ICC_0x532.ICC_MilgOffs_ODO",
         "rawType": "int64",
         "type": "integer"
        },
        {
         "name": "ICC_0x532.ICC_DispTotMilg_ODO",
         "rawType": "float64",
         "type": "float"
        },
        {
         "name": "ICC_0x532.ICC_MilgRstCntr_ODO",
         "rawType": "object",
         "type": "string"
        },
        {
         "name": "ICC_0x532.ICC_MilgDataVld_ODO",
         "rawType": "object",
         "type": "string"
        },
        {
         "name": "ICC_0x533.ICC_DrvrSeatBackManReq",
         "rawType": "object",
         "type": "string"
        },
        {
         "name": "ICC_0x533.ICC_DrvrHeiManReq",
         "rawType": "object",
         "type": "string"
        },
        {
         "name": "ICC_0x533.ICC_DrvrSeatTiltManReq",
         "rawType": "object",
         "type": "string"
        },
        {
         "name": "ICC_0x533.ICC_DrvrSeatTrackManReq",
         "rawType": "object",
         "type": "string"
        },
        {
         "name": "ICC_0x533.ICC_PassSeatBackManReq",
         "rawType": "object",
         "type": "string"
        },
        {
         "name": "ICC_0x533.ICC_PassSeatTrackManReq",
         "rawType": "object",
         "type": "string"
        },
        {
         "name": "ICC_0x533.ICC_LumbarBackw",
         "rawType": "object",
         "type": "string"
        },
        {
         "name": "ICC_0x533.ICC_LumbarFwd",
         "rawType": "object",
         "type": "string"
        },
        {
         "name": "ICC_0x533.ICC_LumbarDwn",
         "rawType": "object",
         "type": "string"
        },
        {
         "name": "ICC_0x533.ICC_LumbarUpd",
         "rawType": "object",
         "type": "string"
        },
        {
         "name": "ICC_0x533.ICC_AutoPassSeatHeatEna",
         "rawType": "object",
         "type": "string"
        },
        {
         "name": "ICC_0x533.ICC_AutoPassSeatVentnEna",
         "rawType": "object",
         "type": "string"
        },
        {
         "name": "ICC_0x533.ICC_AutoDrvrSeatHeatEna",
         "rawType": "object",
         "type": "string"
        },
        {
         "name": "ICC_0x533.ICC_AutoDrvrSeatVentnEna",
         "rawType": "object",
         "type": "string"
        },
        {
         "name": "ECC_0x1A9.ECC_VCU_ReqChgPwrLim",
         "rawType": "object",
         "type": "string"
        },
        {
         "name": "ECC_0x1A9.ECC_VCU_PwrReq",
         "rawType": "float64",
         "type": "float"
        },
        {
         "name": "ECC_0x1A9.ECC_OTARdy_Fb",
         "rawType": "object",
         "type": "string"
        },
        {
         "name": "ECC_0x2E7.ECC_ICCSysSwtCmdFb",
         "rawType": "object",
         "type": "string"
        },
        {
         "name": "ECC_0x2E7.ECC_CooltLvlWarn",
         "rawType": "object",
         "type": "string"
        },
        {
         "name": "ECC_0x378.ECC_MCUFCooltFlow",
         "rawType": "float64",
         "type": "float"
        },
        {
         "name": "ECC_0x378.ECC_MCURCooltFlow",
         "rawType": "float64",
         "type": "float"
        },
        {
         "name": "ECC_0x378.ECC_LeOutlLeRiMotActvSts",
         "rawType": "object",
         "type": "string"
        },
        {
         "name": "ECC_0x378.ECC_LeOutlUpDwnMotActvSts",
         "rawType": "object",
         "type": "string"
        },
        {
         "name": "ECC_0x378.ECC_MidLeOutlUpDwnMotActvSts",
         "rawType": "object",
         "type": "string"
        },
        {
         "name": "ECC_0x378.ECC_LeOutlDamprMotActvSts",
         "rawType": "object",
         "type": "string"
        },
        {
         "name": "ECC_0x378.ECC_MidLeOutlDamprMotActvSts",
         "rawType": "object",
         "type": "string"
        },
        {
         "name": "ECC_0x378.ECC_MidLeOutlLeRiMotActvSts",
         "rawType": "object",
         "type": "string"
        },
        {
         "name": "ECC_0x378.ECC_MidRiOutlLeRiMotActvSts",
         "rawType": "object",
         "type": "string"
        },
        {
         "name": "ECC_0x378.ECC_MidRiOutlUpDwnMotActvSts",
         "rawType": "object",
         "type": "string"
        },
        {
         "name": "ECC_0x378.ECC_RiOutlUpDwnMotActvSts",
         "rawType": "object",
         "type": "string"
        },
        {
         "name": "ECC_0x378.ECC_MidRiOutlDamprMotActvSts",
         "rawType": "object",
         "type": "string"
        },
        {
         "name": "ECC_0x378.ECC_RiOutlDamprMotActvSts",
         "rawType": "object",
         "type": "string"
        },
        {
         "name": "ECC_0x378.ECC_RiOutlLeRiMotActvSts",
         "rawType": "object",
         "type": "string"
        },
        {
         "name": "ECC_0x373.ECC_ACSts",
         "rawType": "object",
         "type": "string"
        },
        {
         "name": "ECC_0x373.ECC_PwrSysHeatMngtSts",
         "rawType": "object",
         "type": "string"
        },
        {
         "name": "ECC_0x373.ECC_IninSts",
         "rawType": "object",
         "type": "string"
        },
        {
         "name": "ECC_0x373.ECC_CrtSts",
         "rawType": "object",
         "type": "string"
        },
        {
         "name": "ECC_0x373.ECC_BackRowAirOutlModSts",
         "rawType": "object",
         "type": "string"
        },
        {
         "name": "ECC_0x373.ECC_WindSpdSts",
         "rawType": "object",
         "type": "string"
        },
        {
         "name": "ECC_0x373.ECC_AirClnSts",
         "rawType": "object",
         "type": "string"
        },
        {
         "name": "ECC_0x373.ECC_DrvrTSetSts",
         "rawType": "object",
         "type": "string"
        },
        {
         "name": "ECC_0x373.ECC_PassTSetSts",
         "rawType": "object",
         "type": "string"
        },
        {
         "name": "ECC_0x373.ECC_ParticleConcVld",
         "rawType": "object",
         "type": "string"
        },
        {
         "name": "ECC_0x373.ECC_CircSts",
         "rawType": "object",
         "type": "string"
        },
        {
         "name": "ECC_0x373.ECC_InfoSysWrmColdDisp",
         "rawType": "object",
         "type": "string"
        },
        {
         "name": "ECC_0x373.ECC_SYNCSts",
         "rawType": "object",
         "type": "string"
        },
        {
         "name": "ECC_0x373.ECC_AUTOSts",
         "rawType": "object",
         "type": "string"
        },
        {
         "name": "ECC_0x373.ECC_HeatSts",
         "rawType": "object",
         "type": "string"
        },
        {
         "name": "ECC_0x373.ECC_OutdT",
         "rawType": "float64",
         "type": "float"
        },
        {
         "name": "ECC_0x373.ECC_DrvrAirOutlMod",
         "rawType": "object",
         "type": "string"
        },
        {
         "name": "ECC_0x373.ECC_HeatMngtFctLim",
         "rawType": "object",
         "type": "string"
        },
        {
         "name": "ECC_0x373.ECC_HeatMngtSysFlt",
         "rawType": "object",
         "type": "string"
        },
        {
         "name": "ECC_0x373.ECC_MaxFrntDefrst",
         "rawType": "object",
         "type": "string"
        },
        {
         "name": "ECC_0x373.ECC_OutdTVld",
         "rawType": "object",
         "type": "string"
        },
        {
         "name": "ECC_0x373.ECC_OTAInhbRdy",
         "rawType": "object",
         "type": "string"
        },
        {
         "name": "ECC_0x373.ECC_RemSts",
         "rawType": "object",
         "type": "string"
        },
        {
         "name": "ECC_0x373.ECC_PassAirOutlMod",
         "rawType": "object",
         "type": "string"
        },
        {
         "name": "ECC_0x4E0.ECC_TarPwr_WTC_H",
         "rawType": "int64",
         "type": "integer"
        },
        {
         "name": "ECC_0x4E0.ECC_TarPwr_WTC_B",
         "rawType": "int64",
         "type": "integer"
        },
        {
         "name": "ECC_0x4E0.ECC_TarSpdCmd_EAS",
         "rawType": "float64",
         "type": "float"
        },
        {
         "name": "ECC_0x4E0.ECC_EnaCmd_WTC_B",
         "rawType": "object",
         "type": "string"
        },
        {
         "name": "ECC_0x4E0.ECC_EnaCmd_EAS",
         "rawType": "object",
         "type": "string"
        },
        {
         "name": "ECC_0x4E0.ECC_EnaCmd_WTC_H",
         "rawType": "object",
         "type": "string"
        },
        {
         "name": "ECC_0x4E0.ECC_TarGear_WTC_H",
         "rawType": "object",
         "type": "string"
        },
        {
         "name": "ECC_0x4E0.ECC_TarGear_WTC_B",
         "rawType": "object",
         "type": "string"
        },
        {
         "name": "ECC_0x582.ECC_InsdT",
         "rawType": "float64",
         "type": "float"
        },
        {
         "name": "ECC_0x582.ECC_RemPwrCnsEstim",
         "rawType": "object",
         "type": "string"
        },
        {
         "name": "ECC_0x582.ECC_RemTSetSts",
         "rawType": "object",
         "type": "string"
        },
        {
         "name": "ECC_0x582.ECC_BattFldLvlSnsrLamp",
         "rawType": "object",
         "type": "string"
        },
        {
         "name": "ECC_0x582.ECC_RemDefrstSts",
         "rawType": "object",
         "type": "string"
        },
        {
         "name": "ECC_0x582.ECC_ResvOperTi",
         "rawType": "int64",
         "type": "integer"
        },
        {
         "name": "ECC_0x582.ECC_ParticleConc",
         "rawType": "int64",
         "type": "integer"
        },
        {
         "name": "ECC_0x584.ECC_TarPwrReq_WTC_H",
         "rawType": "int64",
         "type": "integer"
        },
        {
         "name": "ECC_0x584.ECC_TarPwrReq_WTC_B",
         "rawType": "int64",
         "type": "integer"
        },
        {
         "name": "ECC_0x584.ECC_DchaT",
         "rawType": "int64",
         "type": "integer"
        },
        {
         "name": "ECC_0x584.ECC_FourWayVlvOutlT",
         "rawType": "int64",
         "type": "integer"
        },
        {
         "name": "ECC_0x584.ECC_TarGearReq_WTC_H",
         "rawType": "object",
         "type": "string"
        },
        {
         "name": "ECC_0x584.ECC_TarGearReq_WTC_B",
         "rawType": "object",
         "type": "string"
        },
        {
         "name": "ECC_0x502.ECC_EvaprT",
         "rawType": "int64",
         "type": "integer"
        },
        {
         "name": "ECC_0x502.ECC_LeBlowFaceAirOutlT",
         "rawType": "int64",
         "type": "integer"
        },
        {
         "name": "ECC_0x502.ECC_RiBlowFaceAirOutlT",
         "rawType": "int64",
         "type": "integer"
        },
        {
         "name": "ECC_0x502.ECC_LeBlowFootAirOutlT",
         "rawType": "int64",
         "type": "integer"
        },
        {
         "name": "ECC_0x502.ECC_RiBlowFootAirOutlT",
         "rawType": "int64",
         "type": "integer"
        },
        {
         "name": "ECC_0x502.ECC_HPTSnsrT",
         "rawType": "int64",
         "type": "integer"
        },
        {
         "name": "ECC_0x502.ECC_LPTSnsrT",
         "rawType": "int64",
         "type": "integer"
        },
        {
         "name": "ECC_0x502.ECC_DefrstT",
         "rawType": "int64",
         "type": "integer"
        },
        {
         "name": "ECC_0x581.EWP_RD_Sts",
         "rawType": "object",
         "type": "string"
        },
        {
         "name": "ECC_0x581.EWP_FD_Sts",
         "rawType": "object",
         "type": "string"
        },
        {
         "name": "ECC_0x581.EWP_B_Sts",
         "rawType": "object",
         "type": "string"
        },
        {
         "name": "ECC_0x581.EWP_H_Sts",
         "rawType": "object",
         "type": "string"
        },
        {
         "name": "ECC_0x581.ECC_ParticleSnsrCrtSts",
         "rawType": "object",
         "type": "string"
        },
        {
         "name": "ECC_0x581.ECC_CoolgFanSts",
         "rawType": "object",
         "type": "string"
        },
        {
         "name": "ECC_0x581.ECC_AvtvGrilleSts",
         "rawType": "object",
         "type": "string"
        },
        {
         "name": "ECC_0x581.ECC_ThreeWtrVlvSts",
         "rawType": "object",
         "type": "string"
        },
        {
         "name": "ECC_0x581.ECC_CoolgFanSpdRatSts",
         "rawType": "int64",
         "type": "integer"
        },
        {
         "name": "ECC_0x581.ECC_EXV_B_Sts",
         "rawType": "int64",
         "type": "integer"
        },
        {
         "name": "ECC_0x581.ECC_HeatPumpHeatgEXVSts",
         "rawType": "int64",
         "type": "integer"
        },
        {
         "name": "ECC_0x581.ECC_ActvGrilleAg",
         "rawType": "int64",
         "type": "integer"
        },
        {
         "name": "ECC_0x581.ECC_ThreeWtrVlvPerc",
         "rawType": "int64",
         "type": "integer"
        },
        {
         "name": "ECC_0x581.ECC_ParticleSnsrFltSts",
         "rawType": "object",
         "type": "string"
        },
        {
         "name": "VCU_0x5A0.VCU_DCChrgVoltCmd",
         "rawType": "float64",
         "type": "float"
        },
        {
         "name": "VCU_0x5A0.VCU_DCChrgCrtCmd",
         "rawType": "float64",
         "type": "float"
        },
        {
         "name": "VCU_0x5A0.VCU_DCChrgOutpVolt",
         "rawType": "float64",
         "type": "float"
        },
        {
         "name": "VCU_0x5A0.VCU_DCChrgOutpCrt",
         "rawType": "float64",
         "type": "float"
        },
        {
         "name": "VCU_0x580.VCU_ActChrgTotAh",
         "rawType": "float64",
         "type": "float"
        },
        {
         "name": "VCU_0x580.VCU_ActDchgTotAh",
         "rawType": "float64",
         "type": "float"
        },
        {
         "name": "VCU_0x580.VCU_PwrBattAvlEgy",
         "rawType": "float64",
         "type": "float"
        },
        {
         "name": "HOD_LINADAS_A_01.CRC_HOD_LINADAS_A_01",
         "rawType": "object",
         "type": "string"
        },
        {
         "name": "HOD_LINADAS_A_01.HOD_Detection",
         "rawType": "object",
         "type": "string"
        },
        {
         "name": "HOD_LINADAS_A_01.CLK_HOD_LINADAS_A_01",
         "rawType": "object",
         "type": "string"
        },
        {
         "name": "HOD_LINADAS_A_01.HOD_ModeStatus",
         "rawType": "object",
         "type": "string"
        },
        {
         "name": "HOD_LINADAS_A_01.HOD_Response_Error",
         "rawType": "object",
         "type": "string"
        },
        {
         "name": "HOD_LINADAS_A_01.HOD_Error",
         "rawType": "object",
         "type": "string"
        },
        {
         "name": "BCM_0x3FB.BCM_DRLswitchSts",
         "rawType": "object",
         "type": "string"
        },
        {
         "name": "VCU_0x578.VCU_NotChrgModECCCnseEgy",
         "rawType": "float64",
         "type": "float"
        },
        {
         "name": "VCU_0x578.VCU_NotChrgModVehDrvCnseEgy",
         "rawType": "float64",
         "type": "float"
        },
        {
         "name": "VCU_0x578.VCU_NotChrgModBHMCnseEgy",
         "rawType": "float64",
         "type": "float"
        },
        {
         "name": "VCU_0x578.VCU_NotChrgModExtDchaCnseEgy",
         "rawType": "float64",
         "type": "float"
        },
        {
         "name": "VCU_0x579.VCU_NotChrgModAcsyCnseEgy",
         "rawType": "float64",
         "type": "float"
        },
        {
         "name": "VCU_0x579.VCU_NotChrgModVehTotCnseEgy",
         "rawType": "float64",
         "type": "float"
        },
        {
         "name": "VCU_0x579.VCU_ChrgModECCCnseEgy",
         "rawType": "float64",
         "type": "float"
        },
        {
         "name": "VCU_0x579.VCU_ChrgModVehChrgEgy",
         "rawType": "float64",
         "type": "float"
        },
        {
         "name": "VCU_0x59C.VCU_MilgChrg_add",
         "rawType": "int64",
         "type": "integer"
        },
        {
         "name": "VCU_0x59C.VCU_LowMilgRemAlrm",
         "rawType": "object",
         "type": "string"
        },
        {
         "name": "VCU_0x59C.VCU_LowMilg_Warn",
         "rawType": "object",
         "type": "string"
        },
        {
         "name": "VCU_0x59C.VCU_MilgChrgRate_add",
         "rawType": "float64",
         "type": "float"
        },
        {
         "name": "VCU_0x57A.VCU_ChrgModBattHeatgMngCnseEgy",
         "rawType": "float64",
         "type": "float"
        },
        {
         "name": "VCU_0x57A.VCU_ChrgModAcsyCnseEgy",
         "rawType": "float64",
         "type": "float"
        },
        {
         "name": "VCU_0x57A.VCU_ChrgModChrgEffCnseEgy",
         "rawType": "float64",
         "type": "float"
        },
        {
         "name": "VCU_0x57A.VCU_ChrgModVehTotChrgEgy",
         "rawType": "float64",
         "type": "float"
        },
        {
         "name": "VCU_0x57B.VCU_NotChrgModECCCnseEgyPerc",
         "rawType": "float64",
         "type": "float"
        },
        {
         "name": "VCU_0x57B.VCU_NotChrgModVehDrvCnseEgyPerc",
         "rawType": "float64",
         "type": "float"
        },
        {
         "name": "VCU_0x57B.VCU_NotChrgModBHMCnseEgyPerc",
         "rawType": "float64",
         "type": "float"
        },
        {
         "name": "VCU_0x57B.VCU_NotChrgModExtDchaCnseEgyPerc",
         "rawType": "float64",
         "type": "float"
        },
        {
         "name": "VCU_0x57B.VCU_NotChrgModAcsyCnseEgyPerc",
         "rawType": "float64",
         "type": "float"
        },
        {
         "name": "VCU_0x57C.VCU_ChrgModECCCnseEgyPerc",
         "rawType": "float64",
         "type": "float"
        },
        {
         "name": "VCU_0x57C.VCU_ChrgModVehChrgEgyPerc",
         "rawType": "float64",
         "type": "float"
        },
        {
         "name": "VCU_0x57C.VCU_ChrgModBHMCnseEgyPerc",
         "rawType": "float64",
         "type": "float"
        },
        {
         "name": "VCU_0x57C.VCU_ChrgModAcsyCnseEgyPerc",
         "rawType": "float64",
         "type": "float"
        },
        {
         "name": "VCU_0x57C.VCU_ActEgyCnsTyp",
         "rawType": "object",
         "type": "string"
        },
        {
         "name": "VCU_0x57C.VCU_ChrgModChrgEffCnseEgyPerc",
         "rawType": "float64",
         "type": "float"
        },
        {
         "name": "VCU_0x5EA.VCU_TripMilg",
         "rawType": "float64",
         "type": "float"
        },
        {
         "name": "VCU_0x5EA.VCU_TripAvgEgyConsmd",
         "rawType": "int64",
         "type": "integer"
        },
        {
         "name": "CIM_0x663.CIM_SwVersS",
         "rawType": "float64",
         "type": "float"
        },
        {
         "name": "CIM_0x663.CIM_PartVers",
         "rawType": "float64",
         "type": "float"
        },
        {
         "name": "CIM_0x663.CIM_HwVers",
         "rawType": "float64",
         "type": "float"
        },
        {
         "name": "CIM_0x663.CIM_SwVersM",
         "rawType": "float64",
         "type": "float"
        },
        {
         "name": "CIM_NM_0x427.CIM_SrcNodeID",
         "rawType": "float64",
         "type": "float"
        },
        {
         "name": "CIM_NM_0x427.CIM_CtrlBitVector_Bit7_Res",
         "rawType": "float64",
         "type": "float"
        },
        {
         "name": "CIM_NM_0x427.CIM_CtrlBitVector_Bit6_PNI",
         "rawType": "object",
         "type": "string"
        },
        {
         "name": "CIM_NM_0x427.CIM_CtrlBitVector_Bit5_Res",
         "rawType": "float64",
         "type": "float"
        },
        {
         "name": "CIM_NM_0x427.CIM_CtrlBitVector_Bit4_ActWake",
         "rawType": "object",
         "type": "string"
        },
        {
         "name": "CIM_NM_0x427.CIM_CtrlBitVector_Bit3_NMCoord",
         "rawType": "object",
         "type": "string"
        },
        {
         "name": "CIM_NM_0x427.CIM_CtrlBitVector_Bit2_Res",
         "rawType": "float64",
         "type": "float"
        },
        {
         "name": "CIM_NM_0x427.CIM_CtrlBitVector_Bit1_Res",
         "rawType": "float64",
         "type": "float"
        },
        {
         "name": "CIM_NM_0x427.CIM_CtrlBitVector_Bit0_RMR",
         "rawType": "object",
         "type": "string"
        },
        {
         "name": "CIM_NM_0x427.CIM_UsrData0",
         "rawType": "object",
         "type": "string"
        },
        {
         "name": "CIM_NM_0x427.CIM_UsrData1_Bit7_ECUSPEC_AWAKE",
         "rawType": "object",
         "type": "string"
        },
        {
         "name": "CIM_NM_0x427.CIM_UsrData1_Bit6_DIAGN_AWAKE",
         "rawType": "object",
         "type": "string"
        },
        {
         "name": "CIM_NM_0x427.CIM_UsrData1_Bit5_IGNITION_AWAKE",
         "rawType": "object",
         "type": "string"
        },
        {
         "name": "CIM_NM_0x427.CIM_UsrData1_Bit4_NETWORK_AWAKE",
         "rawType": "object",
         "type": "string"
        },
        {
         "name": "CIM_NM_0x427.CIM_UsrData1_Bit3_ECUSPEC_WAKEUP",
         "rawType": "object",
         "type": "string"
        },
        {
         "name": "CIM_NM_0x427.CIM_UsrData1_Bit2_NETWORK_WAKEUP",
         "rawType": "object",
         "type": "string"
        },
        {
         "name": "CIM_NM_0x427.CIM_UsrData1_Bit1_RESET_WAKEUP",
         "rawType": "object",
         "type": "string"
        },
        {
         "name": "CIM_NM_0x427.CIM_UsrData1_Bit0_IGN_WAKEUP",
         "rawType": "object",
         "type": "string"
        },
        {
         "name": "CIM_NM_0x427.CIM_UsrData2",
         "rawType": "float64",
         "type": "float"
        },
        {
         "name": "CIM_NM_0x427.CIM_UsrData3",
         "rawType": "float64",
         "type": "float"
        },
        {
         "name": "CIM_NM_0x427.CIM_UsrData4_PN_Info1",
         "rawType": "float64",
         "type": "float"
        },
        {
         "name": "CIM_NM_0x427.CIM_UsrData5_PN_Info2",
         "rawType": "float64",
         "type": "float"
        },
        {
         "name": "VSP_NM_0x418.VSP_SrcNodeID",
         "rawType": "float64",
         "type": "float"
        },
        {
         "name": "VSP_NM_0x418.VSP_CtrlBitVector_Bit7_Res",
         "rawType": "float64",
         "type": "float"
        },
        {
         "name": "VSP_NM_0x418.VSP_CtrlBitVector_Bit6_PNI",
         "rawType": "object",
         "type": "string"
        },
        {
         "name": "VSP_NM_0x418.VSP_CtrlBitVector_Bit5_Res",
         "rawType": "float64",
         "type": "float"
        },
        {
         "name": "VSP_NM_0x418.VSP_CtrlBitVector_Bit4_ActWake",
         "rawType": "object",
         "type": "string"
        },
        {
         "name": "VSP_NM_0x418.VSP_CtrlBitVector_Bit3_NMCoord",
         "rawType": "object",
         "type": "string"
        },
        {
         "name": "VSP_NM_0x418.VSP_CtrlBitVector_Bit2_Res",
         "rawType": "float64",
         "type": "float"
        },
        {
         "name": "VSP_NM_0x418.VSP_CtrlBitVector_Bit1_Res",
         "rawType": "float64",
         "type": "float"
        },
        {
         "name": "VSP_NM_0x418.VSP_CtrlBitVector_Bit0_RMR",
         "rawType": "object",
         "type": "string"
        },
        {
         "name": "VSP_NM_0x418.VSP_UsrData0",
         "rawType": "object",
         "type": "string"
        },
        {
         "name": "VSP_NM_0x418.VSP_UsrData1_Bit7_ECUSPEC_AWAKE",
         "rawType": "object",
         "type": "string"
        },
        {
         "name": "VSP_NM_0x418.VSP_UsrData1_Bit6_DIAGN_AWAKE",
         "rawType": "object",
         "type": "string"
        },
        {
         "name": "VSP_NM_0x418.VSP_UsrData1_Bit5_IGNITION_AWAKE",
         "rawType": "object",
         "type": "string"
        },
        {
         "name": "VSP_NM_0x418.VSP_UsrData1_Bit4_NETWORK_AWAKE",
         "rawType": "object",
         "type": "string"
        },
        {
         "name": "VSP_NM_0x418.VSP_UsrData1_Bit3_ECUSPEC_WAKEUP",
         "rawType": "object",
         "type": "string"
        },
        {
         "name": "VSP_NM_0x418.VSP_UsrData1_Bit2_NETWORK_WAKEUP",
         "rawType": "object",
         "type": "string"
        },
        {
         "name": "VSP_NM_0x418.VSP_UsrData1_Bit1_RESET_WAKEUP",
         "rawType": "object",
         "type": "string"
        },
        {
         "name": "VSP_NM_0x418.VSP_UsrData1_Bit0_IGN_WAKEUP",
         "rawType": "object",
         "type": "string"
        },
        {
         "name": "VSP_NM_0x418.VSP_UsrData2",
         "rawType": "float64",
         "type": "float"
        },
        {
         "name": "VSP_NM_0x418.VSP_UsrData3",
         "rawType": "float64",
         "type": "float"
        },
        {
         "name": "VSP_NM_0x418.VSP_UsrData4_PN_Info1",
         "rawType": "float64",
         "type": "float"
        },
        {
         "name": "VSP_NM_0x418.VSP_UsrData5_PN_Info2",
         "rawType": "float64",
         "type": "float"
        },
        {
         "name": "VSP_0x588.VSP_VoiceTypFb",
         "rawType": "object",
         "type": "string"
        },
        {
         "name": "VSP_0x588.VSP_WngSts",
         "rawType": "object",
         "type": "string"
        },
        {
         "name": "VSP_0x588.VSP_SwtOutpSts",
         "rawType": "object",
         "type": "string"
        },
        {
         "name": "VSP_0x588.VSP_SwtInpIndcrLampSts",
         "rawType": "object",
         "type": "string"
        },
        {
         "name": "VSP_0x588.VSP_OTARdy_Fb",
         "rawType": "object",
         "type": "string"
        },
        {
         "name": "VSP_0x588.VSP_WngMod",
         "rawType": "object",
         "type": "string"
        },
        {
         "name": "VSP_0x588.VSP_HornWngSts",
         "rawType": "object",
         "type": "string"
        },
        {
         "name": "PLGM_NM_0x426.PLGM_SrcNodeID",
         "rawType": "float64",
         "type": "float"
        },
        {
         "name": "PLGM_NM_0x426.PLGM_CtrlBitVector_Bit7_Res",
         "rawType": "float64",
         "type": "float"
        },
        {
         "name": "PLGM_NM_0x426.PLGM_CtrlBitVector_Bit6_PNI",
         "rawType": "object",
         "type": "string"
        },
        {
         "name": "PLGM_NM_0x426.PLGM_CtrlBitVector_Bit5_Res",
         "rawType": "float64",
         "type": "float"
        },
        {
         "name": "PLGM_NM_0x426.PLGM_CtrlBitVector_Bit4_ActWake",
         "rawType": "object",
         "type": "string"
        },
        {
         "name": "PLGM_NM_0x426.PLGM_CtrlBitVector_Bit3_NMCoord",
         "rawType": "object",
         "type": "string"
        },
        {
         "name": "PLGM_NM_0x426.PLGM_CtrlBitVector_Bit2_Res",
         "rawType": "float64",
         "type": "float"
        },
        {
         "name": "PLGM_NM_0x426.PLGM_CtrlBitVector_Bit1_Res",
         "rawType": "float64",
         "type": "float"
        },
        {
         "name": "PLGM_NM_0x426.PLGM_CtrlBitVector_Bit0_RMR",
         "rawType": "object",
         "type": "string"
        },
        {
         "name": "PLGM_NM_0x426.PLGM_UsrData0",
         "rawType": "object",
         "type": "string"
        },
        {
         "name": "PLGM_NM_0x426.PLGM_UsrData1_Bit7_ECUSPEC_AWAKE",
         "rawType": "object",
         "type": "string"
        },
        {
         "name": "PLGM_NM_0x426.PLGM_UsrData1_Bit6_DIAGN_AWAKE",
         "rawType": "object",
         "type": "string"
        },
        {
         "name": "PLGM_NM_0x426.PLGM_UsrData1_Bit5_IGNITION_AWAKE",
         "rawType": "object",
         "type": "string"
        },
        {
         "name": "PLGM_NM_0x426.PLGM_UsrData1_Bit4_NETWORK_AWAKE",
         "rawType": "object",
         "type": "string"
        },
        {
         "name": "PLGM_NM_0x426.PLGM_UsrData1_Bit3_ECUSPEC_WAKEUP",
         "rawType": "object",
         "type": "string"
        },
        {
         "name": "PLGM_NM_0x426.PLGM_UsrData1_Bit2_NETWORK_WAKEUP",
         "rawType": "object",
         "type": "string"
        },
        {
         "name": "PLGM_NM_0x426.PLGM_UsrData1_Bit1_RESET_WAKEUP",
         "rawType": "object",
         "type": "string"
        },
        {
         "name": "PLGM_NM_0x426.PLGM_UsrData1_Bit0_IGN_WAKEUP",
         "rawType": "object",
         "type": "string"
        },
        {
         "name": "PLGM_NM_0x426.PLGM_UsrData2",
         "rawType": "float64",
         "type": "float"
        },
        {
         "name": "PLGM_NM_0x426.PLGM_UsrData3",
         "rawType": "float64",
         "type": "float"
        },
        {
         "name": "PLGM_NM_0x426.PLGM_UsrData4_PN_Info1",
         "rawType": "float64",
         "type": "float"
        },
        {
         "name": "PLGM_NM_0x426.PLGM_UsrData5_PN_Info2",
         "rawType": "float64",
         "type": "float"
        },
        {
         "name": "Rotator_0x587.Rotator_0x587_CheckSum",
         "rawType": "float64",
         "type": "float"
        },
        {
         "name": "Rotator_0x587.Rotator_PosVld",
         "rawType": "object",
         "type": "string"
        },
        {
         "name": "Rotator_0x587.Rotator_ECUSts",
         "rawType": "object",
         "type": "string"
        },
        {
         "name": "Rotator_0x587.Rotator_0x587_AliveCounter",
         "rawType": "float64",
         "type": "float"
        },
        {
         "name": "Rotator_0x587.Rotator_PosSts",
         "rawType": "float64",
         "type": "float"
        },
        {
         "name": "Rotator_0x587.Rotator_HallSnsrFlt",
         "rawType": "float64",
         "type": "float"
        },
        {
         "name": "Rotator_0x587.Rotator_OpticSnsrFlt",
         "rawType": "float64",
         "type": "float"
        },
        {
         "name": "Rotator_0x587.Rotator_Pos_rotator",
         "rawType": "object",
         "type": "string"
        },
        {
         "name": "Rotator_0x587.Rotator_RotationReqSteerClmn",
         "rawType": "object",
         "type": "string"
        },
        {
         "name": "GW_NM_0x420.GW_SrcNodeID",
         "rawType": "float64",
         "type": "float"
        },
        {
         "name": "GW_NM_0x420.GW_CtrlBitVector_Bit7_Res",
         "rawType": "float64",
         "type": "float"
        },
        {
         "name": "GW_NM_0x420.GW_CtrlBitVector_Bit6_PNI",
         "rawType": "object",
         "type": "string"
        },
        {
         "name": "GW_NM_0x420.GW_CtrlBitVector_Bit5_Res",
         "rawType": "float64",
         "type": "float"
        },
        {
         "name": "GW_NM_0x420.GW_CtrlBitVector_Bit4_ActWake",
         "rawType": "object",
         "type": "string"
        },
        {
         "name": "GW_NM_0x420.GW_CtrlBitVector_Bit3_NMCoord",
         "rawType": "object",
         "type": "string"
        },
        {
         "name": "GW_NM_0x420.GW_CtrlBitVector_Bit2_Res",
         "rawType": "float64",
         "type": "float"
        },
        {
         "name": "GW_NM_0x420.GW_CtrlBitVector_Bit1_Res",
         "rawType": "float64",
         "type": "float"
        },
        {
         "name": "GW_NM_0x420.GW_CtrlBitVector_Bit0_RMR",
         "rawType": "object",
         "type": "string"
        },
        {
         "name": "GW_NM_0x420.GW_UsrData0",
         "rawType": "object",
         "type": "string"
        },
        {
         "name": "GW_NM_0x420.GW_UsrData1_Bit7_ECUSPEC_AWAKE",
         "rawType": "object",
         "type": "string"
        },
        {
         "name": "GW_NM_0x420.GW_UsrData1_Bit6_DIAGN_AWAKE",
         "rawType": "object",
         "type": "string"
        },
        {
         "name": "GW_NM_0x420.GW_UsrData1_Bit5_IGNITION_AWAKE",
         "rawType": "object",
         "type": "string"
        },
        {
         "name": "GW_NM_0x420.GW_UsrData1_Bit4_NETWORK_AWAKE",
         "rawType": "object",
         "type": "string"
        },
        {
         "name": "GW_NM_0x420.GW_UsrData1_Bit3_ECUSPEC_WAKEUP",
         "rawType": "object",
         "type": "string"
        },
        {
         "name": "GW_NM_0x420.GW_UsrData1_Bit2_NETWORK_WAKEUP",
         "rawType": "object",
         "type": "string"
        },
        {
         "name": "GW_NM_0x420.GW_UsrData1_Bit1_RESET_WAKEUP",
         "rawType": "object",
         "type": "string"
        },
        {
         "name": "GW_NM_0x420.GW_UsrData1_Bit0_IGN_WAKEUP",
         "rawType": "object",
         "type": "string"
        },
        {
         "name": "GW_NM_0x420.GW_UsrData2",
         "rawType": "float64",
         "type": "float"
        },
        {
         "name": "GW_NM_0x420.GW_UsrData3",
         "rawType": "float64",
         "type": "float"
        },
        {
         "name": "GW_NM_0x420.GW_UsrData4_PN_Info1",
         "rawType": "float64",
         "type": "float"
        },
        {
         "name": "GW_NM_0x420.GW_UsrData5_PN_Info2",
         "rawType": "float64",
         "type": "float"
        },
        {
         "name": "DSMC_0x625.DSMC_DrvrSeatT1",
         "rawType": "float64",
         "type": "float"
        },
        {
         "name": "DSMC_0x625.DSMC_DrvrSeatT2",
         "rawType": "float64",
         "type": "float"
        },
        {
         "name": "DSMC_0x625.DSMC_DrvrSeatHumSts",
         "rawType": "float64",
         "type": "float"
        },
        {
         "name": "DSMC_0x67B.DSMC_SwVersS",
         "rawType": "float64",
         "type": "float"
        },
        {
         "name": "DSMC_0x67B.DSMC_PartVers",
         "rawType": "float64",
         "type": "float"
        },
        {
         "name": "DSMC_0x67B.DSMC_HwVers",
         "rawType": "float64",
         "type": "float"
        },
        {
         "name": "DSMC_0x67B.DSMC_SwVersM",
         "rawType": "float64",
         "type": "float"
        },
        {
         "name": "ICC_0x31F.ICC_SetSpeedLimit",
         "rawType": "int64",
         "type": "integer"
        },
        {
         "name": "ICC_0x563.ICC_0x563_CheckSum",
         "rawType": "int64",
         "type": "integer"
        },
        {
         "name": "ICC_0x563.ICC_CID_Command_Valid",
         "rawType": "object",
         "type": "string"
        },
        {
         "name": "ICC_0x563.ICC_CID_Pos_Learn",
         "rawType": "object",
         "type": "string"
        },
        {
         "name": "ICC_0x563.ICC_0x563_AliveCounter",
         "rawType": "int64",
         "type": "integer"
        },
        {
         "name": "ICC_0x563.ICC_CID_Target_Position",
         "rawType": "float64",
         "type": "float"
        },
        {
         "name": "ICC_0x563.ICC_CID_Rot_Speed",
         "rawType": "int64",
         "type": "integer"
        },
        {
         "name": "GW_Syn_All.Syn_TripCntrVal_Byte0_All",
         "rawType": "int64",
         "type": "integer"
        },
        {
         "name": "GW_Syn_All.Syn_TripCntrVal_Byte1_All",
         "rawType": "int64",
         "type": "integer"
        },
        {
         "name": "GW_Syn_All.Syn_RstCntrVal_Byte0_All",
         "rawType": "int64",
         "type": "integer"
        },
        {
         "name": "GW_Syn_All.Syn_RstCntrVal_Byte1_All",
         "rawType": "int64",
         "type": "integer"
        },
        {
         "name": "GW_Syn_All.Syn_RstCntrVal_Byte2_All",
         "rawType": "int64",
         "type": "integer"
        },
        {
         "name": "GW_Syn_All.Syn_MACInfo_Byte0_All",
         "rawType": "int64",
         "type": "integer"
        },
        {
         "name": "GW_Syn_All.Syn_MACInfo_Byte1_All",
         "rawType": "int64",
         "type": "integer"
        },
        {
         "name": "GW_Syn_All.Syn_MACInfo_Byte2_All",
         "rawType": "int64",
         "type": "integer"
        },
        {
         "name": "ICC_0x46.ICC_IntrLampTiSet",
         "rawType": "int64",
         "type": "integer"
        },
        {
         "name": "ICC_0x46.ICC_FolwMeHomeTiSet",
         "rawType": "int64",
         "type": "integer"
        },
        {
         "name": "ICC_0x46.ICC_BluetoothWifiKeyPay",
         "rawType": "object",
         "type": "string"
        },
        {
         "name": "ICC_0x46.ICC_BluetoothWifiKeyPaySucFlg",
         "rawType": "object",
         "type": "string"
        },
        {
         "name": "ICC_0x46.ICC_MuteCtrl",
         "rawType": "object",
         "type": "string"
        },
        {
         "name": "ICC_0x46.ICC_MaiVolSet",
         "rawType": "object",
         "type": "string"
        },
        {
         "name": "ICC_0x46.ICC_VSCModReq",
         "rawType": "object",
         "type": "string"
        },
        {
         "name": "ICC_0x46.ICC_IESSModReq",
         "rawType": "object",
         "type": "string"
        },
        {
         "name": "ICC_0x46.ICC_ChimeVolSet",
         "rawType": "object",
         "type": "string"
        },
        {
         "name": "ICC_0x46.ICC_SurrndCtrl",
         "rawType": "object",
         "type": "string"
        },
        {
         "name": "ICC_0x46.ICC_EmgyCallSet",
         "rawType": "object",
         "type": "string"
        },
        {
         "name": "ICC_0x46.ICC_HFTVolSet",
         "rawType": "object",
         "type": "string"
        },
        {
         "name": "ICC_0x46.ICC_GetVoltReq",
         "rawType": "object",
         "type": "string"
        },
        {
         "name": "ICC_0x46.ICC_NavVolSet",
         "rawType": "object",
         "type": "string"
        },
        {
         "name": "ICC_0x46.ICC_GetSwVer",
         "rawType": "object",
         "type": "string"
        },
        {
         "name": "ICC_0x46.ICC_GetDTCInfo",
         "rawType": "object",
         "type": "string"
        },
        {
         "name": "ICC_0x46.ICC_RTVolSet",
         "rawType": "object",
         "type": "string"
        },
        {
         "name": "ICC_0x46.ICC_GetTempReq",
         "rawType": "object",
         "type": "string"
        },
        {
         "name": "ICC_0x46.ICC_GetHwVer",
         "rawType": "object",
         "type": "string"
        },
        {
         "name": "ICC_0x46.ICC_VrTtsVolSet",
         "rawType": "object",
         "type": "string"
        },
        {
         "name": "GW_NM_0x436.GW_SrcNodeID",
         "rawType": "float64",
         "type": "float"
        },
        {
         "name": "GW_NM_0x436.GW_CtrlBitVector_Bit7_Res",
         "rawType": "float64",
         "type": "float"
        },
        {
         "name": "GW_NM_0x436.GW_CtrlBitVector_Bit6_PNI",
         "rawType": "object",
         "type": "string"
        },
        {
         "name": "GW_NM_0x436.GW_CtrlBitVector_Bit5_Res",
         "rawType": "float64",
         "type": "float"
        },
        {
         "name": "GW_NM_0x436.GW_CtrlBitVector_Bit4_ActWake",
         "rawType": "object",
         "type": "string"
        },
        {
         "name": "GW_NM_0x436.GW_CtrlBitVector_Bit3_NMCoord",
         "rawType": "object",
         "type": "string"
        },
        {
         "name": "GW_NM_0x436.GW_CtrlBitVector_Bit2_Res",
         "rawType": "float64",
         "type": "float"
        },
        {
         "name": "GW_NM_0x436.GW_CtrlBitVector_Bit1_Res",
         "rawType": "float64",
         "type": "float"
        },
        {
         "name": "GW_NM_0x436.GW_CtrlBitVector_Bit0_RMR",
         "rawType": "object",
         "type": "string"
        },
        {
         "name": "GW_NM_0x436.GW_UsrData0",
         "rawType": "object",
         "type": "string"
        },
        {
         "name": "GW_NM_0x436.GW_UsrData1_Bit7_ECUSPEC_AWAKE",
         "rawType": "object",
         "type": "string"
        },
        {
         "name": "GW_NM_0x436.GW_UsrData1_Bit6_DIAGN_AWAKE",
         "rawType": "object",
         "type": "string"
        },
        {
         "name": "GW_NM_0x436.GW_UsrData1_Bit5_IGNITION_AWAKE",
         "rawType": "object",
         "type": "string"
        },
        {
         "name": "GW_NM_0x436.GW_UsrData1_Bit4_NETWORK_AWAKE",
         "rawType": "object",
         "type": "string"
        },
        {
         "name": "GW_NM_0x436.GW_UsrData1_Bit3_ECUSPEC_WAKEUP",
         "rawType": "object",
         "type": "string"
        },
        {
         "name": "GW_NM_0x436.GW_UsrData1_Bit2_NETWORK_WAKEUP",
         "rawType": "object",
         "type": "string"
        },
        {
         "name": "GW_NM_0x436.GW_UsrData1_Bit1_RESET_WAKEUP",
         "rawType": "object",
         "type": "string"
        },
        {
         "name": "GW_NM_0x436.GW_UsrData1_Bit0_IGN_WAKEUP",
         "rawType": "object",
         "type": "string"
        },
        {
         "name": "GW_NM_0x436.GW_UsrData2",
         "rawType": "float64",
         "type": "float"
        },
        {
         "name": "GW_NM_0x436.GW_UsrData3",
         "rawType": "float64",
         "type": "float"
        },
        {
         "name": "GW_NM_0x436.GW_UsrData4_PN_Info1",
         "rawType": "float64",
         "type": "float"
        },
        {
         "name": "GW_NM_0x436.GW_UsrData5_PN_Info2",
         "rawType": "float64",
         "type": "float"
        },
        {
         "name": "VCU_NM_0x401.VCU_SrcNodeID",
         "rawType": "float64",
         "type": "float"
        },
        {
         "name": "VCU_NM_0x401.VCU_CtrlBitVector_Bit7_Res",
         "rawType": "float64",
         "type": "float"
        },
        {
         "name": "VCU_NM_0x401.VCU_CtrlBitVector_Bit6_PNI",
         "rawType": "object",
         "type": "string"
        },
        {
         "name": "VCU_NM_0x401.VCU_CtrlBitVector_Bit5_Res",
         "rawType": "float64",
         "type": "float"
        },
        {
         "name": "VCU_NM_0x401.VCU_CtrlBitVector_Bit4_ActWake",
         "rawType": "object",
         "type": "string"
        },
        {
         "name": "VCU_NM_0x401.VCU_CtrlBitVector_Bit3_NMCoord",
         "rawType": "object",
         "type": "string"
        },
        {
         "name": "VCU_NM_0x401.VCU_CtrlBitVector_Bit2_Res",
         "rawType": "float64",
         "type": "float"
        },
        {
         "name": "VCU_NM_0x401.VCU_CtrlBitVector_Bit1_Res",
         "rawType": "float64",
         "type": "float"
        },
        {
         "name": "VCU_NM_0x401.VCU_CtrlBitVector_Bit0_RMR",
         "rawType": "object",
         "type": "string"
        },
        {
         "name": "VCU_NM_0x401.VCU_UsrData0",
         "rawType": "object",
         "type": "string"
        },
        {
         "name": "VCU_NM_0x401.VCU_UsrData1_Bit7_ECUSPEC_AWAKE",
         "rawType": "object",
         "type": "string"
        },
        {
         "name": "VCU_NM_0x401.VCU_UsrData1_Bit6_DIAGN_AWAKE",
         "rawType": "object",
         "type": "string"
        },
        {
         "name": "VCU_NM_0x401.VCU_UsrData1_Bit5_IGNITION_AWAKE",
         "rawType": "object",
         "type": "string"
        },
        {
         "name": "VCU_NM_0x401.VCU_UsrData1_Bit4_NETWORK_AWAKE",
         "rawType": "object",
         "type": "string"
        },
        {
         "name": "VCU_NM_0x401.VCU_UsrData1_Bit3_ECUSPEC_WAKEUP",
         "rawType": "object",
         "type": "string"
        },
        {
         "name": "VCU_NM_0x401.VCU_UsrData1_Bit2_NETWORK_WAKEUP",
         "rawType": "object",
         "type": "string"
        },
        {
         "name": "VCU_NM_0x401.VCU_UsrData1_Bit1_RESET_WAKEUP",
         "rawType": "object",
         "type": "string"
        },
        {
         "name": "VCU_NM_0x401.VCU_UsrData1_Bit0_IGN_WAKEUP",
         "rawType": "object",
         "type": "string"
        },
        {
         "name": "VCU_NM_0x401.VCU_UsrData2",
         "rawType": "float64",
         "type": "float"
        },
        {
         "name": "VCU_NM_0x401.VCU_UsrData3",
         "rawType": "float64",
         "type": "float"
        },
        {
         "name": "VCU_NM_0x401.VCU_UsrData4_PN_Info1",
         "rawType": "float64",
         "type": "float"
        },
        {
         "name": "VCU_NM_0x401.VCU_UsrData5_PN_Info2",
         "rawType": "float64",
         "type": "float"
        },
        {
         "name": "ECC_NM_0x413.ECC_SrcNodeID",
         "rawType": "float64",
         "type": "float"
        },
        {
         "name": "ECC_NM_0x413.ECC_CtrlBitVector_Bit7_Res",
         "rawType": "float64",
         "type": "float"
        },
        {
         "name": "ECC_NM_0x413.ECC_CtrlBitVector_Bit6_PNI",
         "rawType": "object",
         "type": "string"
        },
        {
         "name": "ECC_NM_0x413.ECC_CtrlBitVector_Bit5_Res",
         "rawType": "float64",
         "type": "float"
        },
        {
         "name": "ECC_NM_0x413.ECC_CtrlBitVector_Bit4_ActWake",
         "rawType": "object",
         "type": "string"
        },
        {
         "name": "ECC_NM_0x413.ECC_CtrlBitVector_Bit3_NMCoord",
         "rawType": "object",
         "type": "string"
        },
        {
         "name": "ECC_NM_0x413.ECC_CtrlBitVector_Bit2_Res",
         "rawType": "float64",
         "type": "float"
        },
        {
         "name": "ECC_NM_0x413.ECC_CtrlBitVector_Bit1_Res",
         "rawType": "float64",
         "type": "float"
        },
        {
         "name": "ECC_NM_0x413.ECC_CtrlBitVector_Bit0_RMR",
         "rawType": "object",
         "type": "string"
        },
        {
         "name": "ECC_NM_0x413.ECC_UsrData0",
         "rawType": "object",
         "type": "string"
        },
        {
         "name": "ECC_NM_0x413.ECC_UsrData1_Bit7_ECUSPEC_AWAKE",
         "rawType": "object",
         "type": "string"
        },
        {
         "name": "ECC_NM_0x413.ECC_UsrData1_Bit6_DIAGN_AWAKE",
         "rawType": "object",
         "type": "string"
        },
        {
         "name": "ECC_NM_0x413.ECC_UsrData1_Bit5_IGNITION_AWAKE",
         "rawType": "object",
         "type": "string"
        },
        {
         "name": "ECC_NM_0x413.ECC_UsrData1_Bit4_NETWORK_AWAKE",
         "rawType": "object",
         "type": "string"
        },
        {
         "name": "ECC_NM_0x413.ECC_UsrData1_Bit3_ECUSPEC_WAKEUP",
         "rawType": "object",
         "type": "string"
        },
        {
         "name": "ECC_NM_0x413.ECC_UsrData1_Bit2_NETWORK_WAKEUP",
         "rawType": "object",
         "type": "string"
        },
        {
         "name": "ECC_NM_0x413.ECC_UsrData1_Bit1_RESET_WAKEUP",
         "rawType": "object",
         "type": "string"
        },
        {
         "name": "ECC_NM_0x413.ECC_UsrData1_Bit0_IGN_WAKEUP",
         "rawType": "object",
         "type": "string"
        },
        {
         "name": "ECC_NM_0x413.ECC_UsrData2",
         "rawType": "float64",
         "type": "float"
        },
        {
         "name": "ECC_NM_0x413.ECC_UsrData3",
         "rawType": "float64",
         "type": "float"
        },
        {
         "name": "ECC_NM_0x413.ECC_UsrData4_PN_Info1",
         "rawType": "float64",
         "type": "float"
        },
        {
         "name": "ECC_NM_0x413.ECC_UsrData5_PN_Info2",
         "rawType": "float64",
         "type": "float"
        },
        {
         "name": "OBC_0x653.OBC_SwVersS",
         "rawType": "float64",
         "type": "float"
        },
        {
         "name": "OBC_0x653.OBC_PartVers",
         "rawType": "float64",
         "type": "float"
        },
        {
         "name": "OBC_0x653.OBC_HwVers",
         "rawType": "float64",
         "type": "float"
        },
        {
         "name": "OBC_0x653.OBC_SwVersM",
         "rawType": "float64",
         "type": "float"
        },
        {
         "name": "WTC_H_0x665.WTC_H_SwVersS",
         "rawType": "float64",
         "type": "float"
        },
        {
         "name": "WTC_H_0x665.WTC_H_PartVers",
         "rawType": "float64",
         "type": "float"
        },
        {
         "name": "WTC_H_0x665.WTC_H_HwVers",
         "rawType": "float64",
         "type": "float"
        },
        {
         "name": "WTC_H_0x665.WTC_H_SwVersM",
         "rawType": "float64",
         "type": "float"
        },
        {
         "name": "WTC_B_0x666.WTC_B_SwVersS",
         "rawType": "float64",
         "type": "float"
        },
        {
         "name": "WTC_B_0x666.WTC_B_PartVers",
         "rawType": "float64",
         "type": "float"
        },
        {
         "name": "WTC_B_0x666.WTC_B_HwVers",
         "rawType": "float64",
         "type": "float"
        },
        {
         "name": "WTC_B_0x666.WTC_B_SwVersM",
         "rawType": "float64",
         "type": "float"
        },
        {
         "name": "EAS_0x69F.EAS_SwVersS",
         "rawType": "float64",
         "type": "float"
        },
        {
         "name": "EAS_0x69F.EAS_PartVers",
         "rawType": "float64",
         "type": "float"
        },
        {
         "name": "EAS_0x69F.EAS_HwVers",
         "rawType": "float64",
         "type": "float"
        },
        {
         "name": "EAS_0x69F.EAS_SwVersM",
         "rawType": "float64",
         "type": "float"
        },
        {
         "name": "OHC_NM_0x43C.OHC_SrcNodeID",
         "rawType": "float64",
         "type": "float"
        },
        {
         "name": "OHC_NM_0x43C.OHC_CtrlBitVector_Bit7_Res",
         "rawType": "float64",
         "type": "float"
        },
        {
         "name": "OHC_NM_0x43C.OHC_CtrlBitVector_Bit6_PNI",
         "rawType": "object",
         "type": "string"
        },
        {
         "name": "OHC_NM_0x43C.OHC_CtrlBitVector_Bit5_Res",
         "rawType": "float64",
         "type": "float"
        },
        {
         "name": "OHC_NM_0x43C.OHC_CtrlBitVector_Bit4_ActWake",
         "rawType": "object",
         "type": "string"
        },
        {
         "name": "OHC_NM_0x43C.OHC_CtrlBitVector_Bit3_NMCoord",
         "rawType": "object",
         "type": "string"
        },
        {
         "name": "OHC_NM_0x43C.OHC_CtrlBitVector_Bit2_Res",
         "rawType": "float64",
         "type": "float"
        },
        {
         "name": "OHC_NM_0x43C.OHC_CtrlBitVector_Bit1_Res",
         "rawType": "float64",
         "type": "float"
        },
        {
         "name": "OHC_NM_0x43C.OHC_CtrlBitVector_Bit0_RMR",
         "rawType": "object",
         "type": "string"
        },
        {
         "name": "OHC_NM_0x43C.OHC_UsrData0",
         "rawType": "object",
         "type": "string"
        },
        {
         "name": "OHC_NM_0x43C.OHC_UsrData1_Bit7_ECUSPEC_AWAKE",
         "rawType": "object",
         "type": "string"
        },
        {
         "name": "OHC_NM_0x43C.OHC_UsrData1_Bit6_DIAGN_AWAKE",
         "rawType": "object",
         "type": "string"
        },
        {
         "name": "OHC_NM_0x43C.OHC_UsrData1_Bit5_IGNITION_AWAKE",
         "rawType": "object",
         "type": "string"
        },
        {
         "name": "OHC_NM_0x43C.OHC_UsrData1_Bit4_NETWORK_AWAKE",
         "rawType": "object",
         "type": "string"
        },
        {
         "name": "OHC_NM_0x43C.OHC_UsrData1_Bit3_ECUSPEC_WAKEUP",
         "rawType": "object",
         "type": "string"
        },
        {
         "name": "OHC_NM_0x43C.OHC_UsrData1_Bit2_NETWORK_WAKEUP",
         "rawType": "object",
         "type": "string"
        },
        {
         "name": "OHC_NM_0x43C.OHC_UsrData1_Bit1_RESET_WAKEUP",
         "rawType": "object",
         "type": "string"
        },
        {
         "name": "OHC_NM_0x43C.OHC_UsrData1_Bit0_IGN_WAKEUP",
         "rawType": "object",
         "type": "string"
        },
        {
         "name": "OHC_NM_0x43C.OHC_UsrData2",
         "rawType": "float64",
         "type": "float"
        },
        {
         "name": "OHC_NM_0x43C.OHC_UsrData3",
         "rawType": "float64",
         "type": "float"
        },
        {
         "name": "OHC_NM_0x43C.OHC_UsrData4_PN_Info1",
         "rawType": "float64",
         "type": "float"
        },
        {
         "name": "OHC_NM_0x43C.OHC_UsrData5_PN_Info2",
         "rawType": "float64",
         "type": "float"
        },
        {
         "name": "ECC_0x600.EWP_H_SpdRatSts",
         "rawType": "float64",
         "type": "float"
        },
        {
         "name": "ECC_0x600.EWP_B_SpdRatSts",
         "rawType": "float64",
         "type": "float"
        },
        {
         "name": "ECC_0x600.EWP_FD_SpdRatSts",
         "rawType": "float64",
         "type": "float"
        },
        {
         "name": "ECC_0x600.EWP_RD_SpdRatSts",
         "rawType": "float64",
         "type": "float"
        },
        {
         "name": "ECC_0x600.ECC_HPLinePSts",
         "rawType": "object",
         "type": "string"
        },
        {
         "name": "ECC_0x600.ECC_FourWayVlvSts",
         "rawType": "object",
         "type": "string"
        },
        {
         "name": "ECC_0x600.ECC_ETXVSts",
         "rawType": "object",
         "type": "string"
        },
        {
         "name": "ECC_0x600.ECC_HPTSnsrP",
         "rawType": "float64",
         "type": "float"
        },
        {
         "name": "ECC_0x600.ECC_RiTHybThrPercReqSts",
         "rawType": "object",
         "type": "string"
        },
        {
         "name": "ECC_0x600.ECC_LeTHybThrPercReqSts",
         "rawType": "object",
         "type": "string"
        },
        {
         "name": "ECC_0x600.ECC_LPTSnsrP",
         "rawType": "float64",
         "type": "float"
        },
        {
         "name": "ECC_0x644.ECC_644_CheckSum",
         "rawType": "float64",
         "type": "float"
        },
        {
         "name": "ECC_0x644.ECC_644_AliveCounter",
         "rawType": "float64",
         "type": "float"
        },
        {
         "name": "ECC_0x644.ECC_ReMotOutlT",
         "rawType": "float64",
         "type": "float"
        },
        {
         "name": "ECC_0x644.ECC_CooltHomSts",
         "rawType": "object",
         "type": "string"
        },
        {
         "name": "ECC_0x644.ECC_CoolgDfct",
         "rawType": "object",
         "type": "string"
        },
        {
         "name": "ECC_0x644.ECC_PDUInlT",
         "rawType": "float64",
         "type": "float"
        },
        {
         "name": "ECC_0x644.ECC_FrntMotOutlT",
         "rawType": "float64",
         "type": "float"
        },
        {
         "name": "ECC_0x644.ECC_MCURInlT",
         "rawType": "float64",
         "type": "float"
        },
        {
         "name": "ECC_0x645.ECC_RiModThrMotFlt",
         "rawType": "object",
         "type": "string"
        },
        {
         "name": "ECC_0x645.ECC_LeModThrMotFlt",
         "rawType": "object",
         "type": "string"
        },
        {
         "name": "ECC_0x645.ECC_IntExtCircMotFlt",
         "rawType": "object",
         "type": "string"
        },
        {
         "name": "ECC_0x645.ECC_EvaprTSnsrFlt",
         "rawType": "object",
         "type": "string"
        },
        {
         "name": "ECC_0x645.ECC_InsdTSnsrFlt",
         "rawType": "object",
         "type": "string"
        },
        {
         "name": "ECC_0x645.ECC_OutdTSnsrFlt",
         "rawType": "object",
         "type": "string"
        },
        {
         "name": "ECC_0x645.ECC_ComLost_EAS",
         "rawType": "object",
         "type": "string"
        },
        {
         "name": "ECC_0x645.ECC_DefrstAirOutlTSnsrFlt",
         "rawType": "object",
         "type": "string"
        },
        {
         "name": "ECC_0x645.ECC_ComLost_WTC_B",
         "rawType": "object",
         "type": "string"
        },
        {
         "name": "ECC_0x645.ECC_ComLost_WTC_H",
         "rawType": "object",
         "type": "string"
        },
        {
         "name": "ECC_0x645.ECC_ComLost_CDS",
         "rawType": "object",
         "type": "string"
        },
        {
         "name": "ECC_0x645.ECC_ReMotOutlTSnsrFlt",
         "rawType": "object",
         "type": "string"
        },
        {
         "name": "ECC_0x645.ECC_FrntMotOutlTSnsrFlt",
         "rawType": "object",
         "type": "string"
        },
        {
         "name": "ECC_0x645.ECC_PDUInlTSnsrFlt",
         "rawType": "object",
         "type": "string"
        },
        {
         "name": "ECC_0x645.ECC_CtrlrFlt",
         "rawType": "object",
         "type": "string"
        },
        {
         "name": "ECC_0x645.ECC_HPSnsrFlt",
         "rawType": "object",
         "type": "string"
        },
        {
         "name": "ECC_0x645.ECC_ReBlowFaceFootMotFlt",
         "rawType": "object",
         "type": "string"
        },
        {
         "name": "ECC_0x645.ECC_BlowFaceRiAirOutlTSnsrFlt",
         "rawType": "object",
         "type": "string"
        },
        {
         "name": "ECC_0x645.ECC_BlowFaceLeAirOutlTSnsrFlt",
         "rawType": "object",
         "type": "string"
        },
        {
         "name": "ECC_0x645.ECC_LPTSnsrFlt",
         "rawType": "object",
         "type": "string"
        },
        {
         "name": "ECC_0x645.ECC_HPTSnsrFlt",
         "rawType": "object",
         "type": "string"
        },
        {
         "name": "ECC_0x645.ECC_MCURInlTSnsrFlt",
         "rawType": "object",
         "type": "string"
        },
        {
         "name": "ECC_0x645.ECC_RiHybThrMotFlt",
         "rawType": "object",
         "type": "string"
        },
        {
         "name": "ECC_0x645.ECC_LeHybThrMotFlt",
         "rawType": "object",
         "type": "string"
        },
        {
         "name": "ECC_0x645.ECC_BlowFootRiAirOutlTSnsrFlt",
         "rawType": "object",
         "type": "string"
        },
        {
         "name": "ECC_0x645.ECC_BlowFootLeAirOutlTSnsrFlt",
         "rawType": "object",
         "type": "string"
        },
        {
         "name": "ECC_0x645.ECC_BattCoolgEXVFlt",
         "rawType": "object",
         "type": "string"
        },
        {
         "name": "ECC_0x645.ECC_HeatPmpHeatgEXVFlt",
         "rawType": "object",
         "type": "string"
        },
        {
         "name": "ECC_0x645.ECC_LPSnsrFlt",
         "rawType": "object",
         "type": "string"
        },
        {
         "name": "ECC_0x645.ECC_ComLost_AGS",
         "rawType": "object",
         "type": "string"
        },
        {
         "name": "ECC_0x645.ECC_ComLost_CFM",
         "rawType": "object",
         "type": "string"
        },
        {
         "name": "ECC_0x645.ECC_ComLost_EXV_H",
         "rawType": "object",
         "type": "string"
        },
        {
         "name": "ECC_0x645.ECC_ComLost_EXV_B",
         "rawType": "object",
         "type": "string"
        },
        {
         "name": "ECC_0x645.ECC_ComLost_EWP_B",
         "rawType": "object",
         "type": "string"
        },
        {
         "name": "ECC_0x645.ECC_ComLost_EWP_H",
         "rawType": "object",
         "type": "string"
        },
        {
         "name": "ECC_0x645.ECC_ComLost_EWP_RD",
         "rawType": "object",
         "type": "string"
        },
        {
         "name": "ECC_0x645.ECC_ComLost_EWP_FD",
         "rawType": "object",
         "type": "string"
        },
        {
         "name": "ECC_0x645.ECC_ComLost_MDV",
         "rawType": "object",
         "type": "string"
        },
        {
         "name": "ECC_0x645.ECC_ComLost_CVM",
         "rawType": "object",
         "type": "string"
        },
        {
         "name": "ECC_0x664.ECC_SwVersS",
         "rawType": "float64",
         "type": "float"
        },
        {
         "name": "ECC_0x664.ECC_PartVers",
         "rawType": "float64",
         "type": "float"
        },
        {
         "name": "ECC_0x664.ECC_HwVers",
         "rawType": "float64",
         "type": "float"
        },
        {
         "name": "ECC_0x664.ECC_SwVersM",
         "rawType": "float64",
         "type": "float"
        },
        {
         "name": "BCM_0x641.BCM_MilgRstCntr_ODO",
         "rawType": "object",
         "type": "string"
        },
        {
         "name": "BCM_0x641.BCM_MilgDataVld_ODO",
         "rawType": "object",
         "type": "string"
        },
        {
         "name": "BCM_0x641.BCM_TotMilg_ODO",
         "rawType": "float64",
         "type": "float"
        },
        {
         "name": "BCM_0x641.BCM_MilgOffs_ODO",
         "rawType": "float64",
         "type": "float"
        },
        {
         "name": "BCM_0x679.BCM_SwVersS",
         "rawType": "float64",
         "type": "float"
        },
        {
         "name": "BCM_0x679.BCM_PartVers",
         "rawType": "float64",
         "type": "float"
        },
        {
         "name": "BCM_0x679.BCM_HwVers",
         "rawType": "float64",
         "type": "float"
        },
        {
         "name": "BCM_0x679.BCM_SwVersM",
         "rawType": "float64",
         "type": "float"
        },
        {
         "name": "PLGM_0x67A.PLGM_SwVersS",
         "rawType": "float64",
         "type": "float"
        },
        {
         "name": "PLGM_0x67A.PLGM_PartVers",
         "rawType": "float64",
         "type": "float"
        },
        {
         "name": "PLGM_0x67A.PLGM_HwVers",
         "rawType": "float64",
         "type": "float"
        },
        {
         "name": "PLGM_0x67A.PLGM_SwVersM",
         "rawType": "float64",
         "type": "float"
        },
        {
         "name": "TBOX_0x61A.TBOX_RemDTCDmd",
         "rawType": "object",
         "type": "string"
        },
        {
         "name": "TBOX_0x61A.TBOX_DrvRngCld",
         "rawType": "float64",
         "type": "float"
        },
        {
         "name": "TBOX_0x61A.TBOX_DrvRngCldVld",
         "rawType": "object",
         "type": "string"
        },
        {
         "name": "TBOX_0x474.TBOX_ICC_UpdSched",
         "rawType": "object",
         "type": "string"
        },
        {
         "name": "TBOX_0x474.TBOX_OTAReq_OBC",
         "rawType": "object",
         "type": "string"
        },
        {
         "name": "TBOX_0x474.TBOX_OTAReq_ECC",
         "rawType": "object",
         "type": "string"
        },
        {
         "name": "TBOX_0x474.TBOX_OTAReq_VCU",
         "rawType": "object",
         "type": "string"
        },
        {
         "name": "TBOX_0x474.TBOX_OTAReq_BMS",
         "rawType": "object",
         "type": "string"
        },
        {
         "name": "TBOX_0x474.TBOX_OTAReq_FCM",
         "rawType": "object",
         "type": "string"
        },
        {
         "name": "TBOX_0x474.TBOX_OTAReq_ADAS",
         "rawType": "object",
         "type": "string"
        },
        {
         "name": "TBOX_0x474.TBOX_OTAReq_MCU_R",
         "rawType": "object",
         "type": "string"
        },
        {
         "name": "TBOX_0x474.TBOX_OTAReq_MCU_F",
         "rawType": "object",
         "type": "string"
        },
        {
         "name": "TBOX_0x474.TBOX_OTAReq_iBooster",
         "rawType": "object",
         "type": "string"
        },
        {
         "name": "TBOX_0x474.TBOX_OTAReq_ESP",
         "rawType": "object",
         "type": "string"
        },
        {
         "name": "TBOX_0x474.TBOX_OTAReq_EPS",
         "rawType": "object",
         "type": "string"
        },
        {
         "name": "TBOX_0x474.TBOX_OTAReq_GW",
         "rawType": "object",
         "type": "string"
        },
        {
         "name": "TBOX_0x474.TBOX_OTAReq_BCM",
         "rawType": "object",
         "type": "string"
        },
        {
         "name": "TBOX_0x474.TBOX_OTAReq_OHC",
         "rawType": "object",
         "type": "string"
        },
        {
         "name": "TBOX_0x474.TBOX_OTAReq_ICC",
         "rawType": "object",
         "type": "string"
        },
        {
         "name": "TBOX_0x474.TBOX_OTAReq_SCM",
         "rawType": "object",
         "type": "string"
        },
        {
         "name": "TBOX_0x474.TBOX_OTAReq_TRM",
         "rawType": "object",
         "type": "string"
        },
        {
         "name": "TBOX_0x474.TBOX_OTAReq_PLGM",
         "rawType": "object",
         "type": "string"
        },
        {
         "name": "TBOX_0x474.TBOX_OTAReq_PKC",
         "rawType": "object",
         "type": "string"
        },
        {
         "name": "TBOX_0x474.TBOX_OTAReq_CIM",
         "rawType": "object",
         "type": "string"
        },
        {
         "name": "TBOX_0x474.TBOX_OTAReq_TBOX",
         "rawType": "object",
         "type": "string"
        },
        {
         "name": "TBOX_0x474.TBOX_OTAReq_VSP",
         "rawType": "object",
         "type": "string"
        },
        {
         "name": "TBOX_0x474.TBOX_OTAReq_PSM",
         "rawType": "object",
         "type": "string"
        },
        {
         "name": "TBOX_0x474.TBOX_OTAReq_DSMC",
         "rawType": "object",
         "type": "string"
        },
        {
         "name": "BMS_ChargingTime.BMS_RmChrgTi_FullChrg",
         "rawType": "float64",
         "type": "float"
        },
        {
         "name": "BMS_ChargingTime.BMS_RmChrgTi_TrgtSoC",
         "rawType": "float64",
         "type": "float"
        },
        {
         "name": "BMS_TBOX_Info_2.BMS_PwrBattTyp",
         "rawType": "object",
         "type": "string"
        },
        {
         "name": "BMS_TBOX_Info_2.BMS_Splr",
         "rawType": "object",
         "type": "string"
        },
        {
         "name": "BMS_TBOX_Info_2.BMS_PwrBattPwrStsSOH",
         "rawType": "float64",
         "type": "float"
        },
        {
         "name": "BMS_TBOX_Info_2.BMS_PwrBattPackSerlNr",
         "rawType": "float64",
         "type": "float"
        },
        {
         "name": "BMS_TBOX_Info_2.BMS_PwrBattPackPrllNr",
         "rawType": "float64",
         "type": "float"
        },
        {
         "name": "BMS_TBOX_Info_2.BMS_CellCp",
         "rawType": "float64",
         "type": "float"
        },
        {
         "name": "BMS_TBOX_Info_2.BMS_DchaEndCellVolt",
         "rawType": "float64",
         "type": "float"
        },
        {
         "name": "BMS_TBOX_Info_1.BMS_SwVers",
         "rawType": "float64",
         "type": "float"
        },
        {
         "name": "BMS_TBOX_Info_1.BMS_SwVersS",
         "rawType": "float64",
         "type": "float"
        },
        {
         "name": "BMS_TBOX_Info_1.BMS_PartVers",
         "rawType": "float64",
         "type": "float"
        },
        {
         "name": "BMS_TBOX_Info_1.BMS_HwVers",
         "rawType": "float64",
         "type": "float"
        },
        {
         "name": "BMS_TBOX_Info_1.BMS_SwVersM",
         "rawType": "float64",
         "type": "float"
        },
        {
         "name": "BMS_C_D_Ah.BMS_AccueChrgTotAh",
         "rawType": "float64",
         "type": "float"
        },
        {
         "name": "BMS_C_D_Ah.BMS_AccueDchaTotAh",
         "rawType": "float64",
         "type": "float"
        },
        {
         "name": "ICC_0x30F.ICC_QuickBootMode",
         "rawType": "object",
         "type": "string"
        },
        {
         "name": "BMS_TBOX_Info_33.BMS_CellMaxTOffset",
         "rawType": "float64",
         "type": "float"
        },
        {
         "name": "BMS_TBOX_Info_33.BMS_CellMinTOffset",
         "rawType": "float64",
         "type": "float"
        },
        {
         "name": "BMS_TBOX_Info_33.BMS_MinTCod",
         "rawType": "float64",
         "type": "float"
        },
        {
         "name": "BMS_TBOX_Info_33.BMS_MinCellVoltCod",
         "rawType": "float64",
         "type": "float"
        },
        {
         "name": "BMS_TBOX_Info_33.BMS_MaxTPackNr",
         "rawType": "object",
         "type": "string"
        },
        {
         "name": "BMS_TBOX_Info_33.BMS_MaxCellVoltPackNr",
         "rawType": "object",
         "type": "string"
        },
        {
         "name": "BMS_TBOX_Info_33.BMS_MinCellVoltPackNr",
         "rawType": "object",
         "type": "string"
        },
        {
         "name": "BMS_TBOX_Info_33.BMS_MinTPackNr",
         "rawType": "object",
         "type": "string"
        },
        {
         "name": "BMS_TBOX_Info_33.BMS_MaxCellVoltCod",
         "rawType": "float64",
         "type": "float"
        },
        {
         "name": "BMS_TBOX_Info_33.BMS_MaxTCod",
         "rawType": "float64",
         "type": "float"
        },
        {
         "name": "BMS_TBOX_Info_8.BMS_CellVolt1",
         "rawType": "object",
         "type": "unknown"
        },
        {
         "name": "BMS_TBOX_Info_8.BMS_CellVolt2",
         "rawType": "object",
         "type": "unknown"
        },
        {
         "name": "BMS_TBOX_Info_8.BMS_CellVolt3",
         "rawType": "object",
         "type": "unknown"
        },
        {
         "name": "BMS_TBOX_Info_8.BMS_CellVolt4",
         "rawType": "object",
         "type": "unknown"
        },
        {
         "name": "BMS_TBOX_Info_9.BMS_CellVolt5",
         "rawType": "object",
         "type": "unknown"
        },
        {
         "name": "BMS_TBOX_Info_9.BMS_CellVolt6",
         "rawType": "object",
         "type": "unknown"
        },
        {
         "name": "BMS_TBOX_Info_9.BMS_CellVolt7",
         "rawType": "object",
         "type": "unknown"
        },
        {
         "name": "BMS_TBOX_Info_9.BMS_CellVolt8",
         "rawType": "object",
         "type": "unknown"
        },
        {
         "name": "BMS_TBOX_Info_10.BMS_CellVolt9",
         "rawType": "object",
         "type": "unknown"
        },
        {
         "name": "BMS_TBOX_Info_10.BMS_CellVolt10",
         "rawType": "object",
         "type": "unknown"
        },
        {
         "name": "BMS_TBOX_Info_10.BMS_CellVolt11",
         "rawType": "object",
         "type": "unknown"
        },
        {
         "name": "BMS_TBOX_Info_10.BMS_CellVolt12",
         "rawType": "object",
         "type": "unknown"
        },
        {
         "name": "BMS_TBOX_Info_11.BMS_CellVolt13",
         "rawType": "object",
         "type": "unknown"
        },
        {
         "name": "BMS_TBOX_Info_11.BMS_CellVolt14",
         "rawType": "object",
         "type": "unknown"
        },
        {
         "name": "BMS_TBOX_Info_11.BMS_CellVolt15",
         "rawType": "object",
         "type": "unknown"
        },
        {
         "name": "BMS_TBOX_Info_11.BMS_CellVolt16",
         "rawType": "object",
         "type": "unknown"
        },
        {
         "name": "BMS_TBOX_Info_12.BMS_CellVolt17",
         "rawType": "object",
         "type": "unknown"
        },
        {
         "name": "BMS_TBOX_Info_12.BMS_CellVolt18",
         "rawType": "object",
         "type": "unknown"
        },
        {
         "name": "BMS_TBOX_Info_12.BMS_CellVolt19",
         "rawType": "object",
         "type": "unknown"
        },
        {
         "name": "BMS_TBOX_Info_12.BMS_CellVolt20",
         "rawType": "object",
         "type": "unknown"
        },
        {
         "name": "BMS_TBOX_Info_13.BMS_CellVolt21",
         "rawType": "object",
         "type": "unknown"
        },
        {
         "name": "BMS_TBOX_Info_13.BMS_CellVolt22",
         "rawType": "object",
         "type": "unknown"
        },
        {
         "name": "BMS_TBOX_Info_13.BMS_CellVolt23",
         "rawType": "object",
         "type": "unknown"
        },
        {
         "name": "BMS_TBOX_Info_13.BMS_CellVolt24",
         "rawType": "object",
         "type": "unknown"
        },
        {
         "name": "BMS_TBOX_Info_14.BMS_CellVolt25",
         "rawType": "object",
         "type": "unknown"
        },
        {
         "name": "BMS_TBOX_Info_14.BMS_CellVolt26",
         "rawType": "object",
         "type": "unknown"
        },
        {
         "name": "BMS_TBOX_Info_14.BMS_CellVolt27",
         "rawType": "object",
         "type": "unknown"
        },
        {
         "name": "BMS_TBOX_Info_14.BMS_CellVolt28",
         "rawType": "object",
         "type": "unknown"
        },
        {
         "name": "BMS_TBOX_Info_15.BMS_CellVolt29",
         "rawType": "object",
         "type": "unknown"
        },
        {
         "name": "BMS_TBOX_Info_15.BMS_CellVolt30",
         "rawType": "object",
         "type": "unknown"
        },
        {
         "name": "BMS_TBOX_Info_15.BMS_CellVolt31",
         "rawType": "object",
         "type": "unknown"
        },
        {
         "name": "BMS_TBOX_Info_15.BMS_CellVolt32",
         "rawType": "object",
         "type": "unknown"
        },
        {
         "name": "BMS_TBOX_Info_16.BMS_CellVolt33",
         "rawType": "object",
         "type": "unknown"
        },
        {
         "name": "BMS_TBOX_Info_16.BMS_CellVolt34",
         "rawType": "object",
         "type": "unknown"
        },
        {
         "name": "BMS_TBOX_Info_16.BMS_CellVolt35",
         "rawType": "object",
         "type": "unknown"
        },
        {
         "name": "BMS_TBOX_Info_16.BMS_CellVolt36",
         "rawType": "object",
         "type": "unknown"
        },
        {
         "name": "BMS_TBOX_Info_17.BMS_CellVolt37",
         "rawType": "object",
         "type": "unknown"
        },
        {
         "name": "BMS_TBOX_Info_17.BMS_CellVolt38",
         "rawType": "object",
         "type": "unknown"
        },
        {
         "name": "BMS_TBOX_Info_17.BMS_CellVolt39",
         "rawType": "object",
         "type": "unknown"
        },
        {
         "name": "BMS_TBOX_Info_17.BMS_CellVolt40",
         "rawType": "object",
         "type": "unknown"
        },
        {
         "name": "BMS_TBOX_Info_18.BMS_CellVolt41",
         "rawType": "object",
         "type": "unknown"
        },
        {
         "name": "BMS_TBOX_Info_18.BMS_CellVolt42",
         "rawType": "object",
         "type": "unknown"
        },
        {
         "name": "BMS_TBOX_Info_18.BMS_CellVolt43",
         "rawType": "object",
         "type": "unknown"
        },
        {
         "name": "BMS_TBOX_Info_18.BMS_CellVolt44",
         "rawType": "object",
         "type": "unknown"
        },
        {
         "name": "BMS_TBOX_Info_19.BMS_CellVolt45",
         "rawType": "object",
         "type": "unknown"
        },
        {
         "name": "BMS_TBOX_Info_19.BMS_CellVolt46",
         "rawType": "object",
         "type": "unknown"
        },
        {
         "name": "BMS_TBOX_Info_19.BMS_CellVolt47",
         "rawType": "object",
         "type": "unknown"
        },
        {
         "name": "BMS_TBOX_Info_19.BMS_CellVolt48",
         "rawType": "object",
         "type": "unknown"
        },
        {
         "name": "BMS_TBOX_Info_20.BMS_CellVolt49",
         "rawType": "object",
         "type": "unknown"
        },
        {
         "name": "BMS_TBOX_Info_20.BMS_CellVolt50",
         "rawType": "object",
         "type": "unknown"
        },
        {
         "name": "BMS_TBOX_Info_20.BMS_CellVolt51",
         "rawType": "object",
         "type": "unknown"
        },
        {
         "name": "BMS_TBOX_Info_20.BMS_CellVolt52",
         "rawType": "object",
         "type": "unknown"
        },
        {
         "name": "BMS_TBOX_Info_21.BMS_CellVolt53",
         "rawType": "object",
         "type": "unknown"
        },
        {
         "name": "BMS_TBOX_Info_21.BMS_CellVolt54",
         "rawType": "object",
         "type": "unknown"
        },
        {
         "name": "BMS_TBOX_Info_21.BMS_CellVolt55",
         "rawType": "object",
         "type": "unknown"
        },
        {
         "name": "BMS_TBOX_Info_21.BMS_CellVolt56",
         "rawType": "object",
         "type": "unknown"
        },
        {
         "name": "BMS_TBOX_Info_34.BMS_CellVolt57",
         "rawType": "object",
         "type": "unknown"
        },
        {
         "name": "BMS_TBOX_Info_34.BMS_CellVolt58",
         "rawType": "object",
         "type": "unknown"
        },
        {
         "name": "BMS_TBOX_Info_34.BMS_CellVolt59",
         "rawType": "object",
         "type": "unknown"
        },
        {
         "name": "BMS_TBOX_Info_34.BMS_CellVolt60",
         "rawType": "object",
         "type": "unknown"
        },
        {
         "name": "BMS_TBOX_Info_35.BMS_CellVolt61",
         "rawType": "object",
         "type": "unknown"
        },
        {
         "name": "BMS_TBOX_Info_35.BMS_CellVolt62",
         "rawType": "object",
         "type": "unknown"
        },
        {
         "name": "BMS_TBOX_Info_35.BMS_CellVolt63",
         "rawType": "object",
         "type": "unknown"
        },
        {
         "name": "BMS_TBOX_Info_35.BMS_CellVolt64",
         "rawType": "object",
         "type": "unknown"
        },
        {
         "name": "BMS_TBOX_Info_36.BMS_CellVolt65",
         "rawType": "object",
         "type": "unknown"
        },
        {
         "name": "BMS_TBOX_Info_36.BMS_CellVolt66",
         "rawType": "object",
         "type": "unknown"
        },
        {
         "name": "BMS_TBOX_Info_36.BMS_CellVolt67",
         "rawType": "object",
         "type": "unknown"
        },
        {
         "name": "BMS_TBOX_Info_36.BMS_CellVolt68",
         "rawType": "object",
         "type": "unknown"
        },
        {
         "name": "BMS_TBOX_Info_37.BMS_CellVolt69",
         "rawType": "object",
         "type": "unknown"
        },
        {
         "name": "BMS_TBOX_Info_37.BMS_CellVolt70",
         "rawType": "object",
         "type": "unknown"
        },
        {
         "name": "BMS_TBOX_Info_37.BMS_CellVolt71",
         "rawType": "object",
         "type": "unknown"
        },
        {
         "name": "BMS_TBOX_Info_37.BMS_CellVolt72",
         "rawType": "object",
         "type": "unknown"
        },
        {
         "name": "BMS_TBOX_Info_38.BMS_CellVolt73",
         "rawType": "object",
         "type": "unknown"
        },
        {
         "name": "BMS_TBOX_Info_38.BMS_CellVolt74",
         "rawType": "object",
         "type": "unknown"
        },
        {
         "name": "BMS_TBOX_Info_38.BMS_CellVolt75",
         "rawType": "object",
         "type": "unknown"
        },
        {
         "name": "BMS_TBOX_Info_38.BMS_CellVolt76",
         "rawType": "object",
         "type": "unknown"
        },
        {
         "name": "BMS_TBOX_Info_39.BMS_CellVolt77",
         "rawType": "object",
         "type": "unknown"
        },
        {
         "name": "BMS_TBOX_Info_39.BMS_CellVolt78",
         "rawType": "object",
         "type": "unknown"
        },
        {
         "name": "BMS_TBOX_Info_39.BMS_CellVolt79",
         "rawType": "object",
         "type": "unknown"
        },
        {
         "name": "BMS_TBOX_Info_39.BMS_CellVolt80",
         "rawType": "object",
         "type": "unknown"
        },
        {
         "name": "BMS_TBOX_Info_40.BMS_CellVolt81",
         "rawType": "object",
         "type": "unknown"
        },
        {
         "name": "BMS_TBOX_Info_40.BMS_CellVolt82",
         "rawType": "object",
         "type": "unknown"
        },
        {
         "name": "BMS_TBOX_Info_40.BMS_CellVolt83",
         "rawType": "object",
         "type": "unknown"
        },
        {
         "name": "BMS_TBOX_Info_40.BMS_CellVolt84",
         "rawType": "object",
         "type": "unknown"
        },
        {
         "name": "BMS_TBOX_Info_41.BMS_CellVolt85",
         "rawType": "object",
         "type": "unknown"
        },
        {
         "name": "BMS_TBOX_Info_41.BMS_CellVolt86",
         "rawType": "object",
         "type": "unknown"
        },
        {
         "name": "BMS_TBOX_Info_41.BMS_CellVolt87",
         "rawType": "object",
         "type": "unknown"
        },
        {
         "name": "BMS_TBOX_Info_41.BMS_CellVolt88",
         "rawType": "object",
         "type": "unknown"
        },
        {
         "name": "BMS_TBOX_Info_42.BMS_CellVolt89",
         "rawType": "object",
         "type": "unknown"
        },
        {
         "name": "BMS_TBOX_Info_42.BMS_CellVolt90",
         "rawType": "object",
         "type": "unknown"
        },
        {
         "name": "BMS_TBOX_Info_42.BMS_CellVolt91",
         "rawType": "object",
         "type": "unknown"
        },
        {
         "name": "BMS_TBOX_Info_42.BMS_CellVolt92",
         "rawType": "object",
         "type": "unknown"
        },
        {
         "name": "BMS_TBOX_Info_43.BMS_CellVolt93",
         "rawType": "object",
         "type": "unknown"
        },
        {
         "name": "BMS_TBOX_Info_43.BMS_CellVolt94",
         "rawType": "object",
         "type": "unknown"
        },
        {
         "name": "BMS_TBOX_Info_43.BMS_CellVolt95",
         "rawType": "object",
         "type": "unknown"
        },
        {
         "name": "BMS_TBOX_Info_43.BMS_CellVolt96",
         "rawType": "object",
         "type": "unknown"
        },
        {
         "name": "BMS_TBOX_Info_44.BMS_CellVolt97",
         "rawType": "object",
         "type": "unknown"
        },
        {
         "name": "BMS_TBOX_Info_44.BMS_CellVolt98",
         "rawType": "object",
         "type": "unknown"
        },
        {
         "name": "BMS_TBOX_Info_44.BMS_CellVolt99",
         "rawType": "object",
         "type": "unknown"
        },
        {
         "name": "BMS_TBOX_Info_44.BMS_CellVolt100",
         "rawType": "object",
         "type": "unknown"
        },
        {
         "name": "ICC_0x610.ICC_UsrSetChrgRmnMilg",
         "rawType": "object",
         "type": "string"
        },
        {
         "name": "ICC_0x610.ICC_EgyCnseClrFlg",
         "rawType": "object",
         "type": "string"
        },
        {
         "name": "ICC_0x610.ICC_BoostMode",
         "rawType": "object",
         "type": "string"
        },
        {
         "name": "ICC_0x610.ICC_AccelMod",
         "rawType": "object",
         "type": "string"
        },
        {
         "name": "ICC_0x610.ICC_EPedlSts",
         "rawType": "object",
         "type": "string"
        },
        {
         "name": "ICC_0x610.ICC_EgyCnseStcClrFlg",
         "rawType": "object",
         "type": "string"
        },
        {
         "name": "ICC_0x610.ICC_VehiMod",
         "rawType": "object",
         "type": "string"
        },
        {
         "name": "ICC_0x610.ICC_UsrSetDchaEndDrvgMilg",
         "rawType": "object",
         "type": "string"
        },
        {
         "name": "ICC_0x610.ICC_StopChrgBtn",
         "rawType": "object",
         "type": "string"
        },
        {
         "name": "ICC_0x610.ICC_ChrgInsulFctReq",
         "rawType": "object",
         "type": "string"
        },
        {
         "name": "ICC_0x610.ICC_UsrSetChrgGunAntithft",
         "rawType": "object",
         "type": "string"
        },
        {
         "name": "ICC_0x610.ICC_KickFctOpenSts",
         "rawType": "object",
         "type": "string"
        },
        {
         "name": "ICC_0x610.ICC_PollingFctOpenSts",
         "rawType": "object",
         "type": "string"
        },
        {
         "name": "ICC_0x610.ICC_DrvModSig",
         "rawType": "object",
         "type": "string"
        },
        {
         "name": "ICC_0x610.ICC_RegenLvl",
         "rawType": "object",
         "type": "string"
        },
        {
         "name": "ICC_0x610.ICC_SetTrvlMod",
         "rawType": "object",
         "type": "string"
        },
        {
         "name": "ICC_0x610.ICC_SetACChrgLmtCrt",
         "rawType": "object",
         "type": "string"
        },
        {
         "name": "ICC_0x610.ICC_StartChrgBtn",
         "rawType": "object",
         "type": "string"
        },
        {
         "name": "ICC_0x610.ICC_SetChrgEndSOC",
         "rawType": "float64",
         "type": "float"
        },
        {
         "name": "BMS_TBOX_Info_45.BMS_CellVolt101",
         "rawType": "object",
         "type": "unknown"
        },
        {
         "name": "BMS_TBOX_Info_45.BMS_CellVolt102",
         "rawType": "object",
         "type": "unknown"
        },
        {
         "name": "BMS_TBOX_Info_45.BMS_CellVolt103",
         "rawType": "object",
         "type": "unknown"
        },
        {
         "name": "BMS_TBOX_Info_45.BMS_CellVolt104",
         "rawType": "object",
         "type": "unknown"
        },
        {
         "name": "BMS_TBOX_Info_46.BMS_CellVolt105",
         "rawType": "object",
         "type": "unknown"
        },
        {
         "name": "BMS_TBOX_Info_46.BMS_CellVolt106",
         "rawType": "object",
         "type": "unknown"
        },
        {
         "name": "BMS_TBOX_Info_46.BMS_CellVolt107",
         "rawType": "object",
         "type": "unknown"
        },
        {
         "name": "BMS_TBOX_Info_46.BMS_CellVolt108",
         "rawType": "object",
         "type": "unknown"
        },
        {
         "name": "BMS_TBOX_Info_47.BMS_CellVolt109",
         "rawType": "object",
         "type": "unknown"
        },
        {
         "name": "BMS_TBOX_Info_47.BMS_CellVolt110",
         "rawType": "object",
         "type": "unknown"
        },
        {
         "name": "BMS_TBOX_Info_47.BMS_CellVolt111",
         "rawType": "object",
         "type": "unknown"
        },
        {
         "name": "BMS_TBOX_Info_47.BMS_CellVolt112",
         "rawType": "object",
         "type": "unknown"
        },
        {
         "name": "BMS_TBOX_Info_48.BMS_CellVolt113",
         "rawType": "object",
         "type": "unknown"
        },
        {
         "name": "BMS_TBOX_Info_48.BMS_CellVolt114",
         "rawType": "object",
         "type": "unknown"
        },
        {
         "name": "BMS_TBOX_Info_48.BMS_CellVolt115",
         "rawType": "object",
         "type": "unknown"
        },
        {
         "name": "BMS_TBOX_Info_48.BMS_CellVolt116",
         "rawType": "object",
         "type": "unknown"
        },
        {
         "name": "BMS_TBOX_Info_49.BMS_CellVolt117",
         "rawType": "object",
         "type": "unknown"
        },
        {
         "name": "BMS_TBOX_Info_49.BMS_CellVolt118",
         "rawType": "object",
         "type": "unknown"
        },
        {
         "name": "BMS_TBOX_Info_49.BMS_CellVolt119",
         "rawType": "object",
         "type": "unknown"
        },
        {
         "name": "BMS_TBOX_Info_49.BMS_CellVolt120",
         "rawType": "object",
         "type": "unknown"
        },
        {
         "name": "BMS_TBOX_Info_22.BMS_CellT1",
         "rawType": "object",
         "type": "unknown"
        },
        {
         "name": "BMS_TBOX_Info_22.BMS_CellT2",
         "rawType": "object",
         "type": "unknown"
        },
        {
         "name": "BMS_TBOX_Info_22.BMS_CellT3",
         "rawType": "object",
         "type": "unknown"
        },
        {
         "name": "BMS_TBOX_Info_22.BMS_CellT4",
         "rawType": "object",
         "type": "unknown"
        },
        {
         "name": "BMS_TBOX_Info_22.BMS_CellT5",
         "rawType": "object",
         "type": "unknown"
        },
        {
         "name": "BMS_TBOX_Info_22.BMS_CellT6",
         "rawType": "object",
         "type": "unknown"
        },
        {
         "name": "BMS_TBOX_Info_22.BMS_CellT7",
         "rawType": "object",
         "type": "unknown"
        },
        {
         "name": "BMS_TBOX_Info_22.BMS_CellT8",
         "rawType": "object",
         "type": "unknown"
        },
        {
         "name": "BMS_TBOX_Info_23.BMS_CellT9",
         "rawType": "object",
         "type": "unknown"
        },
        {
         "name": "BMS_TBOX_Info_23.BMS_CellT10",
         "rawType": "object",
         "type": "unknown"
        },
        {
         "name": "BMS_TBOX_Info_23.BMS_CellT11",
         "rawType": "object",
         "type": "unknown"
        },
        {
         "name": "BMS_TBOX_Info_23.BMS_CellT12",
         "rawType": "object",
         "type": "unknown"
        },
        {
         "name": "BMS_TBOX_Info_23.BMS_CellT13",
         "rawType": "object",
         "type": "unknown"
        },
        {
         "name": "BMS_TBOX_Info_23.BMS_CellT14",
         "rawType": "object",
         "type": "unknown"
        },
        {
         "name": "BMS_TBOX_Info_23.BMS_CellT15",
         "rawType": "object",
         "type": "unknown"
        },
        {
         "name": "BMS_TBOX_Info_23.BMS_CellT16",
         "rawType": "object",
         "type": "unknown"
        },
        {
         "name": "BMS_TBOX_Info_24.BMS_CellT17",
         "rawType": "object",
         "type": "unknown"
        },
        {
         "name": "BMS_TBOX_Info_24.BMS_CellT18",
         "rawType": "object",
         "type": "unknown"
        },
        {
         "name": "BMS_TBOX_Info_24.BMS_CellT19",
         "rawType": "object",
         "type": "unknown"
        },
        {
         "name": "BMS_TBOX_Info_24.BMS_CellT20",
         "rawType": "object",
         "type": "unknown"
        },
        {
         "name": "BMS_TBOX_Info_24.BMS_CellT21",
         "rawType": "object",
         "type": "unknown"
        },
        {
         "name": "BMS_TBOX_Info_24.BMS_CellT22",
         "rawType": "object",
         "type": "unknown"
        },
        {
         "name": "BMS_TBOX_Info_24.BMS_CellT23",
         "rawType": "object",
         "type": "unknown"
        },
        {
         "name": "BMS_TBOX_Info_24.BMS_CellT24",
         "rawType": "object",
         "type": "unknown"
        },
        {
         "name": "BMS_TBOX_Info_25.BMS_CellT25",
         "rawType": "object",
         "type": "unknown"
        },
        {
         "name": "BMS_TBOX_Info_25.BMS_CellT26",
         "rawType": "object",
         "type": "unknown"
        },
        {
         "name": "BMS_TBOX_Info_25.BMS_CellT27",
         "rawType": "object",
         "type": "unknown"
        },
        {
         "name": "BMS_TBOX_Info_25.BMS_CellT28",
         "rawType": "object",
         "type": "unknown"
        },
        {
         "name": "BMS_TBOX_Info_25.BMS_CellT29",
         "rawType": "object",
         "type": "unknown"
        },
        {
         "name": "BMS_TBOX_Info_25.BMS_CellT30",
         "rawType": "object",
         "type": "unknown"
        },
        {
         "name": "BMS_TBOX_Info_25.BMS_CellT31",
         "rawType": "object",
         "type": "unknown"
        },
        {
         "name": "BMS_TBOX_Info_25.BMS_CellT32",
         "rawType": "object",
         "type": "unknown"
        },
        {
         "name": "BMS_TBOX_Info_26.BMS_CellT33",
         "rawType": "float64",
         "type": "float"
        },
        {
         "name": "BMS_TBOX_Info_26.BMS_CellT34",
         "rawType": "float64",
         "type": "float"
        },
        {
         "name": "BMS_TBOX_Info_26.BMS_CellT35",
         "rawType": "float64",
         "type": "float"
        },
        {
         "name": "BMS_TBOX_Info_26.BMS_CellT36",
         "rawType": "float64",
         "type": "float"
        },
        {
         "name": "BMS_TBOX_Info_26.BMS_CellT37",
         "rawType": "float64",
         "type": "float"
        },
        {
         "name": "BMS_TBOX_Info_26.BMS_CellT38",
         "rawType": "float64",
         "type": "float"
        },
        {
         "name": "BMS_TBOX_Info_26.BMS_CellT39",
         "rawType": "float64",
         "type": "float"
        },
        {
         "name": "BMS_TBOX_Info_26.BMS_CellT40",
         "rawType": "float64",
         "type": "float"
        },
        {
         "name": "BMS_TBOX_Info_27.BMS_CellT41",
         "rawType": "float64",
         "type": "float"
        },
        {
         "name": "BMS_TBOX_Info_27.BMS_CellT42",
         "rawType": "float64",
         "type": "float"
        },
        {
         "name": "BMS_TBOX_Info_27.BMS_CellT43",
         "rawType": "float64",
         "type": "float"
        },
        {
         "name": "BMS_TBOX_Info_27.BMS_CellT44",
         "rawType": "float64",
         "type": "float"
        },
        {
         "name": "BMS_TBOX_Info_27.BMS_CellT45",
         "rawType": "float64",
         "type": "float"
        },
        {
         "name": "BMS_TBOX_Info_27.BMS_CellT46",
         "rawType": "float64",
         "type": "float"
        },
        {
         "name": "BMS_TBOX_Info_27.BMS_CellT47",
         "rawType": "float64",
         "type": "float"
        },
        {
         "name": "BMS_TBOX_Info_27.BMS_CellT48",
         "rawType": "float64",
         "type": "float"
        },
        {
         "name": "BMS_TBOX_Info_28.BMS_CellT49",
         "rawType": "float64",
         "type": "float"
        },
        {
         "name": "BMS_TBOX_Info_28.BMS_CellT50",
         "rawType": "float64",
         "type": "float"
        },
        {
         "name": "BMS_TBOX_Info_28.BMS_CellT51",
         "rawType": "float64",
         "type": "float"
        },
        {
         "name": "BMS_TBOX_Info_28.BMS_CellT52",
         "rawType": "float64",
         "type": "float"
        },
        {
         "name": "BMS_TBOX_Info_28.BMS_CellT53",
         "rawType": "float64",
         "type": "float"
        },
        {
         "name": "BMS_TBOX_Info_28.BMS_CellT54",
         "rawType": "float64",
         "type": "float"
        },
        {
         "name": "BMS_TBOX_Info_28.BMS_CellT55",
         "rawType": "float64",
         "type": "float"
        },
        {
         "name": "BMS_TBOX_Info_28.BMS_CellT56",
         "rawType": "float64",
         "type": "float"
        },
        {
         "name": "BMS_TBOX_Info_29.BMS_CellT57",
         "rawType": "float64",
         "type": "float"
        },
        {
         "name": "BMS_TBOX_Info_29.BMS_CellT58",
         "rawType": "float64",
         "type": "float"
        },
        {
         "name": "BMS_TBOX_Info_29.BMS_CellT59",
         "rawType": "float64",
         "type": "float"
        },
        {
         "name": "BMS_TBOX_Info_29.BMS_CellT60",
         "rawType": "float64",
         "type": "float"
        },
        {
         "name": "BMS_TBOX_Info_29.BMS_CellT61",
         "rawType": "float64",
         "type": "float"
        },
        {
         "name": "BMS_TBOX_Info_29.BMS_CellT62",
         "rawType": "float64",
         "type": "float"
        },
        {
         "name": "BMS_TBOX_Info_29.BMS_CellT63",
         "rawType": "float64",
         "type": "float"
        },
        {
         "name": "BMS_TBOX_Info_29.BMS_CellT64",
         "rawType": "float64",
         "type": "float"
        },
        {
         "name": "BMS_TBOX_Info_30.BMS_CellT65",
         "rawType": "float64",
         "type": "float"
        },
        {
         "name": "BMS_TBOX_Info_30.BMS_CellT66",
         "rawType": "float64",
         "type": "float"
        },
        {
         "name": "BMS_TBOX_Info_30.BMS_CellT67",
         "rawType": "float64",
         "type": "float"
        },
        {
         "name": "BMS_TBOX_Info_30.BMS_CellT68",
         "rawType": "float64",
         "type": "float"
        },
        {
         "name": "BMS_TBOX_Info_30.BMS_CellT69",
         "rawType": "float64",
         "type": "float"
        },
        {
         "name": "BMS_TBOX_Info_30.BMS_CellT70",
         "rawType": "float64",
         "type": "float"
        },
        {
         "name": "BMS_TBOX_Info_30.BMS_CellT71",
         "rawType": "float64",
         "type": "float"
        },
        {
         "name": "BMS_TBOX_Info_30.BMS_CellT72",
         "rawType": "float64",
         "type": "float"
        },
        {
         "name": "BMS_TBOX_Info_31.BMS_CellT73",
         "rawType": "float64",
         "type": "float"
        },
        {
         "name": "BMS_TBOX_Info_31.BMS_CellT74",
         "rawType": "float64",
         "type": "float"
        },
        {
         "name": "BMS_TBOX_Info_31.BMS_CellT75",
         "rawType": "float64",
         "type": "float"
        },
        {
         "name": "BMS_TBOX_Info_31.BMS_CellT76",
         "rawType": "float64",
         "type": "float"
        },
        {
         "name": "BMS_TBOX_Info_31.BMS_CellT77",
         "rawType": "float64",
         "type": "float"
        },
        {
         "name": "BMS_TBOX_Info_31.BMS_CellT78",
         "rawType": "float64",
         "type": "float"
        },
        {
         "name": "BMS_TBOX_Info_31.BMS_CellT79",
         "rawType": "float64",
         "type": "float"
        },
        {
         "name": "BMS_TBOX_Info_31.BMS_CellT80",
         "rawType": "float64",
         "type": "float"
        },
        {
         "name": "BMS_TBOX_Info_32.BMS_CellT81",
         "rawType": "float64",
         "type": "float"
        },
        {
         "name": "BMS_TBOX_Info_32.BMS_CellT82",
         "rawType": "float64",
         "type": "float"
        },
        {
         "name": "BMS_TBOX_Info_32.BMS_CellT83",
         "rawType": "float64",
         "type": "float"
        },
        {
         "name": "BMS_TBOX_Info_32.BMS_CellT84",
         "rawType": "float64",
         "type": "float"
        },
        {
         "name": "BMS_TBOX_Info_32.BMS_CellT85",
         "rawType": "float64",
         "type": "float"
        },
        {
         "name": "BMS_TBOX_Info_32.BMS_CellT86",
         "rawType": "float64",
         "type": "float"
        },
        {
         "name": "BMS_TBOX_Info_32.BMS_CellT87",
         "rawType": "float64",
         "type": "float"
        },
        {
         "name": "BMS_TBOX_Info_32.BMS_CellT88",
         "rawType": "float64",
         "type": "float"
        },
        {
         "name": "BMS_PVIU_ActualPower.BMS_PVIU_actPower",
         "rawType": "float64",
         "type": "float"
        },
        {
         "name": "BMS_PVIU_ActualPower.BMS_PVIU_EnergyOverall",
         "rawType": "float64",
         "type": "float"
        },
        {
         "name": "BMS_PVIU_ActualPower.BMS_PVIU_ActEngyYear",
         "rawType": "float64",
         "type": "float"
        },
        {
         "name": "BMS_PVIU_StatusInfo.DCDC_CheckSum2",
         "rawType": "float64",
         "type": "float"
        },
        {
         "name": "BMS_PVIU_StatusInfo.BMS_RollCounter2",
         "rawType": "float64",
         "type": "float"
        },
        {
         "name": "BMS_PVIU_StatusInfo.PVIU_DCDC_ActLVVolt",
         "rawType": "float64",
         "type": "float"
        },
        {
         "name": "BMS_PVIU_StatusInfo.PVIU_DCDC_ActLVCurr",
         "rawType": "float64",
         "type": "float"
        },
        {
         "name": "BMS_PVIU_StatusInfo.PVIU_DCDC_ActHVVolt",
         "rawType": "float64",
         "type": "float"
        },
        {
         "name": "BMS_PVIU_StatusInfo.PVIU_DCDC_ActHVCurr",
         "rawType": "float64",
         "type": "float"
        },
        {
         "name": "BMS_PVIU_ErrorStatus.BMS_0x6DF_CheckSum",
         "rawType": "float64",
         "type": "float"
        },
        {
         "name": "BMS_PVIU_ErrorStatus.BMS_PVIU_ModeSt",
         "rawType": "object",
         "type": "string"
        },
        {
         "name": "BMS_PVIU_ErrorStatus.BMS_PVIU_ModeReqSt",
         "rawType": "object",
         "type": "string"
        },
        {
         "name": "BMS_PVIU_ErrorStatus.BMS_0x6DF_RollCounter",
         "rawType": "float64",
         "type": "float"
        },
        {
         "name": "BMS_PVIU_ErrorStatus.BMS_PVIU_AvailInputPower",
         "rawType": "float64",
         "type": "float"
        },
        {
         "name": "BMS_PVIU_ErrorStatus.BMS_PVIU_ActOutputPower",
         "rawType": "float64",
         "type": "float"
        },
        {
         "name": "BMS_PVIU_ErrorStatus.BMS_PVIU_ActOutputEnergy",
         "rawType": "float64",
         "type": "float"
        },
        {
         "name": "BMS_PVIU_ErrorStatus.BMS_PVIU_F_Output_OVP",
         "rawType": "object",
         "type": "string"
        },
        {
         "name": "BMS_PVIU_ErrorStatus.BMS_PVIU_F_Input_UVP",
         "rawType": "object",
         "type": "string"
        },
        {
         "name": "BMS_PVIU_ErrorStatus.BMS_PVIU_F_Input_OVP",
         "rawType": "object",
         "type": "string"
        },
        {
         "name": "BMS_PVIU_ErrorStatus.BMS_PVIU_FailSt",
         "rawType": "object",
         "type": "string"
        },
        {
         "name": "BMS_PVIU_ErrorStatus.BMS_PVIU_F_Output_OCP",
         "rawType": "object",
         "type": "string"
        },
        {
         "name": "BMS_PVIU_ErrorStatus.BMS_PVIU_F_CANRx_Timeout",
         "rawType": "object",
         "type": "string"
        },
        {
         "name": "BMS_PVIU_ErrorStatus.BMS_PVIU_F_HVIL",
         "rawType": "object",
         "type": "string"
        },
        {
         "name": "BMS_PVIU_ErrorStatus.BMS_PVIU_F_OTP",
         "rawType": "object",
         "type": "string"
        },
        {
         "name": "BMS_PVIU_ErrorStatus.BMS_PVIU_F_Output_SCP",
         "rawType": "object",
         "type": "string"
        },
        {
         "name": "BMS_PVIU_ErrorStatus.BMS_PVIU_F_12V_UVP",
         "rawType": "object",
         "type": "string"
        },
        {
         "name": "BMS_PVIU_ErrorStatus.BMS_PVIU_F_12V_OVP",
         "rawType": "object",
         "type": "string"
        },
        {
         "name": "BMS_PVIU_ErrorStatus.BMS_PVIU_F_Output_UVP",
         "rawType": "object",
         "type": "string"
        },
        {
         "name": "VCU_0x3E0.VCU_HVEMBoostModSt",
         "rawType": "object",
         "type": "string"
        },
        {
         "name": "VCU_0x3E0.VCU_reqFullEDUCooltFlow",
         "rawType": "object",
         "type": "string"
        },
        {
         "name": "VCU_0x3E0.VCU_MaxBoostCntr",
         "rawType": "float64",
         "type": "float"
        },
        {
         "name": "VCU_0x3E0.VCU_BoostEnStatCoded",
         "rawType": "float64",
         "type": "float"
        },
        {
         "name": "VCU_0x58B.VCU_HVEgyCnsMovg",
         "rawType": "float64",
         "type": "float"
        },
        {
         "name": "VCU_0x58B.VCU_HVEgyCnsStandstill",
         "rawType": "float64",
         "type": "float"
        },
        {
         "name": "VCU_0x58B.VCU_HVEgyCnsAverage",
         "rawType": "float64",
         "type": "float"
        },
        {
         "name": "VCU_0x58B.VCU_HVCustSOC",
         "rawType": "float64",
         "type": "float"
        },
        {
         "name": "VCU_0x58E.VCU_EgyCnsHist01",
         "rawType": "float64",
         "type": "float"
        },
        {
         "name": "VCU_0x58E.VCU_EgyCnsHist02",
         "rawType": "float64",
         "type": "float"
        },
        {
         "name": "VCU_0x58E.VCU_EgyCnsHist03",
         "rawType": "float64",
         "type": "float"
        },
        {
         "name": "VCU_0x58E.VCU_EgyCnsHist04",
         "rawType": "float64",
         "type": "float"
        },
        {
         "name": "VCU_0x591.VCU_EgyCnsHist05",
         "rawType": "float64",
         "type": "float"
        },
        {
         "name": "VCU_0x591.VCU_EgyCnsHist06",
         "rawType": "float64",
         "type": "float"
        },
        {
         "name": "VCU_0x591.VCU_EgyCnsHist07",
         "rawType": "float64",
         "type": "float"
        },
        {
         "name": "VCU_0x591.VCU_EgyCnsHist08",
         "rawType": "float64",
         "type": "float"
        },
        {
         "name": "VCU_0x598.VCU_EgyCnsHist09",
         "rawType": "float64",
         "type": "float"
        },
        {
         "name": "VCU_0x598.VCU_EgyCnsHist10",
         "rawType": "float64",
         "type": "float"
        },
        {
         "name": "VCU_0x616.VCU_FreestartMod",
         "rawType": "object",
         "type": "string"
        },
        {
         "name": "VCU_0x616.VCU_PwrAntitheftErrTyp",
         "rawType": "object",
         "type": "string"
        },
        {
         "name": "VCU_0x616.VCU_PwrAntitheftAuthentLrngSts",
         "rawType": "object",
         "type": "string"
        },
        {
         "name": "VCU_0x616.VCU_DataPartVers",
         "rawType": "float64",
         "type": "float"
        },
        {
         "name": "VCU_0x616.VCU_CalSwVersM",
         "rawType": "float64",
         "type": "float"
        },
        {
         "name": "VCU_0x616.VCU_CalSwVersS",
         "rawType": "float64",
         "type": "float"
        },
        {
         "name": "VCU_0x617.VCU_ATIC232ComFlt",
         "rawType": "object",
         "type": "string"
        },
        {
         "name": "VCU_0x617.VCU_BREAKCANBusFlt",
         "rawType": "object",
         "type": "string"
        },
        {
         "name": "VCU_0x617.VCU_CCANBusFlt",
         "rawType": "object",
         "type": "string"
        },
        {
         "name": "VCU_0x617.VCU_EVCANBusFlt",
         "rawType": "object",
         "type": "string"
        },
        {
         "name": "VCU_0x617.VCU_TMonFlt",
         "rawType": "object",
         "type": "string"
        },
        {
         "name": "VCU_0x617.VCU_E2PROMWrFlt",
         "rawType": "object",
         "type": "string"
        },
        {
         "name": "VCU_0x617.VCU_E2PROMReadFlt",
         "rawType": "object",
         "type": "string"
        },
        {
         "name": "VCU_0x617.VCU_E2PROMAPICallFlt",
         "rawType": "object",
         "type": "string"
        },
        {
         "name": "VCU_0x617.VCU_LVbattCtrlSigOpenFlt",
         "rawType": "object",
         "type": "string"
        },
        {
         "name": "VCU_0x617.VCU_SftyFctMonrMemFlt",
         "rawType": "object",
         "type": "string"
        },
        {
         "name": "VCU_0x617.VCU_SftyFctMonrFlt",
         "rawType": "object",
         "type": "string"
        },
        {
         "name": "VCU_0x617.VCU_ADCnvrFlt",
         "rawType": "object",
         "type": "string"
        },
        {
         "name": "VCU_0x617.VCU_ATIC239UnderOverVotFlt",
         "rawType": "object",
         "type": "string"
        },
        {
         "name": "VCU_0x617.VCU_ATIC239VotSplyMngComFlt",
         "rawType": "object",
         "type": "string"
        },
        {
         "name": "VCU_0x617.VCU_ATIC239LowSideOutpComFlt",
         "rawType": "object",
         "type": "string"
        },
        {
         "name": "VCU_0x617.VCU_ATIC280ComFlt",
         "rawType": "object",
         "type": "string"
        },
        {
         "name": "VCU_0x617.VCU_PDUWakeUpSigSTGFlt",
         "rawType": "object",
         "type": "string"
        },
        {
         "name": "VCU_0x617.VCU_PDUWakeUpSigOpenFlt",
         "rawType": "object",
         "type": "string"
        },
        {
         "name": "VCU_0x617.VCU_PDUWakeUpSigSTBFlt",
         "rawType": "object",
         "type": "string"
        },
        {
         "name": "VCU_0x617.VCU_BMSWakeUpSigSTGFlt",
         "rawType": "object",
         "type": "string"
        },
        {
         "name": "VCU_0x617.VCU_BMSWakeUpSigSTBFlt",
         "rawType": "object",
         "type": "string"
        },
        {
         "name": "VCU_0x617.VCU_BMSWakeUpSigOpenFlt",
         "rawType": "object",
         "type": "string"
        },
        {
         "name": "VCU_0x617.VCU_LVbattCtrlSigSTGFlt",
         "rawType": "object",
         "type": "string"
        },
        {
         "name": "VCU_0x617.VCU_LVbattCtrlSigSTBFlt",
         "rawType": "object",
         "type": "string"
        },
        {
         "name": "VCU_0x617.VCU_ComLostFlt_CCU",
         "rawType": "object",
         "type": "string"
        },
        {
         "name": "VCU_0x617.VCU_MCUWakeUpSigSTGFlt",
         "rawType": "object",
         "type": "string"
        },
        {
         "name": "VCU_0x617.VCU_MCUWakeUpSigSTBFlt",
         "rawType": "object",
         "type": "string"
        },
        {
         "name": "VCU_0x617.VCU_MCUWakeUpSigOpenFlt",
         "rawType": "object",
         "type": "string"
        },
        {
         "name": "VCU_0x617.VCU_CCUCMUWakeUpSigSTGFlt",
         "rawType": "object",
         "type": "string"
        },
        {
         "name": "VCU_0x617.VCU_CCUCMUWakeUpSigSTBFlt",
         "rawType": "object",
         "type": "string"
        },
        {
         "name": "VCU_0x617.VCU_CCUCMUWakeUpSigOpenFlt",
         "rawType": "object",
         "type": "string"
        },
        {
         "name": "VCU_0x630.VCU_CellTotVolt",
         "rawType": "float64",
         "type": "float"
        },
        {
         "name": "VCU_0x630.VCU_CellMinVolt",
         "rawType": "float64",
         "type": "float"
        },
        {
         "name": "VCU_0x630.VCU_CellMaxVolt",
         "rawType": "float64",
         "type": "float"
        },
        {
         "name": "VCU_0x634.VCU_SCPwrSplyEquipFactry",
         "rawType": "object",
         "type": "string"
        },
        {
         "name": "VCU_0x634.VCU_DCChrgShttrSts",
         "rawType": "object",
         "type": "string"
        },
        {
         "name": "VCU_0x634.VCU_ACChrgShttrSts",
         "rawType": "object",
         "type": "string"
        },
        {
         "name": "VCU_0x634.VCU_ACChrgCrtUpprLmt",
         "rawType": "float64",
         "type": "float"
        },
        {
         "name": "VCU_0x650.VCU_PartVers",
         "rawType": "float64",
         "type": "float"
        },
        {
         "name": "VCU_0x650.VCU_SwVersPatch",
         "rawType": "float64",
         "type": "float"
        },
        {
         "name": "VCU_0x650.VCU_HwVers",
         "rawType": "float64",
         "type": "float"
        },
        {
         "name": "VCU_0x650.VCU_SwVersMain",
         "rawType": "float64",
         "type": "float"
        },
        {
         "name": "VCU_0x650.VCU_SwVersMinor",
         "rawType": "float64",
         "type": "float"
        },
        {
         "name": "VCU_0x6DA.VCU_PwrGridAllwMaxPwrSplyCrt",
         "rawType": "float64",
         "type": "float"
        },
        {
         "name": "VCU_0x6DA.VCU_ChrgLineAllwtCrt",
         "rawType": "float64",
         "type": "float"
        },
        {
         "name": "VCU_0x6DA.VCU_DchaLineAllwCrt",
         "rawType": "float64",
         "type": "float"
        },
        {
         "name": "VCU_0x6DA.VCU_DchaVehSts",
         "rawType": "object",
         "type": "string"
        },
        {
         "name": "VCU_0x6DA.VCU_DCChrgSoktT1",
         "rawType": "float64",
         "type": "float"
        },
        {
         "name": "VCU_0x6DA.VCU_DCChrgSoktT2",
         "rawType": "float64",
         "type": "float"
        },
        {
         "name": "VCU_0x6DA.VCU_ACChrgDchaSoktT1",
         "rawType": "float64",
         "type": "float"
        },
        {
         "name": "VCU_0x6DA.VCU_6DA_SSecOC_Fresh_Byte0",
         "rawType": "float64",
         "type": "float"
        },
        {
         "name": "VCU_0x6DA.VCU_6DA_SSecOC_MAC_Byte0",
         "rawType": "float64",
         "type": "float"
        },
        {
         "name": "VCU_0x6DA.VCU_6DA_SSecOC_MAC_Byte1",
         "rawType": "float64",
         "type": "float"
        },
        {
         "name": "VCU_0x6DA.VCU_6DA_SSecOC_MAC_Byte2",
         "rawType": "float64",
         "type": "float"
        },
        {
         "name": "VSP_0x669.VSP_SwVersS",
         "rawType": "float64",
         "type": "float"
        },
        {
         "name": "VSP_0x669.VSP_PartVers",
         "rawType": "float64",
         "type": "float"
        },
        {
         "name": "VSP_0x669.VSP_HwVers",
         "rawType": "float64",
         "type": "float"
        },
        {
         "name": "VSP_0x669.VSP_SwVersM",
         "rawType": "float64",
         "type": "float"
        },
        {
         "name": "TBOX_0x62F.TBOX_ZoneT",
         "rawType": "float64",
         "type": "float"
        },
        {
         "name": "TBOX_0x62F.TBOX_CrtTi_Day",
         "rawType": "float64",
         "type": "float"
        },
        {
         "name": "TBOX_0x62F.TBOX_CrtTi_Hr",
         "rawType": "float64",
         "type": "float"
        },
        {
         "name": "TBOX_0x62F.TBOX_CrtTi_Mins",
         "rawType": "float64",
         "type": "float"
        },
        {
         "name": "TBOX_0x62F.TBOX_CrtTi_Yr",
         "rawType": "float64",
         "type": "float"
        },
        {
         "name": "TBOX_0x62F.TBOX_CrtTi_Mth",
         "rawType": "float64",
         "type": "float"
        },
        {
         "name": "TBOX_0x62F.TBOX_CrtTi_Sec",
         "rawType": "float64",
         "type": "float"
        },
        {
         "name": "VCU_0x6A2.VCU_SCChrgCnt",
         "rawType": "float64",
         "type": "float"
        },
        {
         "name": "VCU_0x6A2.VCU_VehHVPwrOffTi",
         "rawType": "float64",
         "type": "float"
        },
        {
         "name": "VCU_0x6A2.VCU_FCChrgCnt",
         "rawType": "float64",
         "type": "float"
        },
        {
         "name": "BCM_0x6E0.BCM_VIN_Byte1",
         "rawType": "float64",
         "type": "float"
        },
        {
         "name": "BCM_0x6E0.BCM_VIN_Byte2",
         "rawType": "float64",
         "type": "float"
        },
        {
         "name": "BCM_0x6E0.BCM_VIN_Byte3",
         "rawType": "float64",
         "type": "float"
        },
        {
         "name": "BCM_0x6E0.BCM_VIN_Byte4",
         "rawType": "float64",
         "type": "float"
        },
        {
         "name": "BCM_0x6E0.BCM_VIN_Byte5",
         "rawType": "float64",
         "type": "float"
        },
        {
         "name": "BCM_0x6E0.BCM_VIN_Byte6",
         "rawType": "float64",
         "type": "float"
        },
        {
         "name": "BCM_0x6E0.BCM_VIN_Byte7",
         "rawType": "float64",
         "type": "float"
        },
        {
         "name": "VCU_0x6E5.VCU_VINCod1",
         "rawType": "float64",
         "type": "float"
        },
        {
         "name": "VCU_0x6E6.VCU_VINCod2",
         "rawType": "float64",
         "type": "float"
        },
        {
         "name": "VCU_0x6E7.VCU_VINCod3",
         "rawType": "float64",
         "type": "float"
        },
        {
         "name": "VCU_0x6FF.VCU_BattChrgSOC",
         "rawType": "float64",
         "type": "float"
        },
        {
         "name": "VCU_0x6FF.VCU_BattChrgSOCEEPROM",
         "rawType": "float64",
         "type": "float"
        },
        {
         "name": "VCU_0x6FF.VCU_UsrAvrgPwrCns",
         "rawType": "float64",
         "type": "float"
        },
        {
         "name": "VCU_0x6FF.VCU_DrvgMilgReqReducePwrLvl",
         "rawType": "object",
         "type": "unknown"
        },
        {
         "name": "BMS_TBOX_Info_3.BMS_PwrBattPackCod1",
         "rawType": "float64",
         "type": "float"
        },
        {
         "name": "BMS_TBOX_Info_4.BMS_PwrBattPackCod2",
         "rawType": "float64",
         "type": "float"
        },
        {
         "name": "BMS_TBOX_Info_5.BMS_PwrBattPackCod3",
         "rawType": "float64",
         "type": "float"
        },
        {
         "name": "BMS_TBOX_Info_6.BMS_PwrBattPackCod4",
         "rawType": "float64",
         "type": "float"
        },
        {
         "name": "BMS_TBOX_Info_7.BMS_PwrBattPackNr",
         "rawType": "float64",
         "type": "float"
        },
        {
         "name": "BMS_TBOX_Info_7.BMS_PwrBattPackCodLen",
         "rawType": "float64",
         "type": "float"
        },
        {
         "name": "BMS_TBOX_Info_7.BMS_PwrBattSubsysNr",
         "rawType": "float64",
         "type": "float"
        },
        {
         "name": "BMS_TBOX_Info_7.BMS_PwrBattCellSum",
         "rawType": "float64",
         "type": "float"
        },
        {
         "name": "BMS_TBOX_Info_7.BMS_PwrBattCellTSum",
         "rawType": "float64",
         "type": "float"
        },
        {
         "name": "BMS_TBOX_Info_7.BMS_PwrBattFltSum",
         "rawType": "float64",
         "type": "float"
        },
        {
         "name": "BMS_PVIU_EnergyCounterActual.BMS_mxCounterActEnergy",
         "rawType": "object",
         "type": "unknown"
        },
        {
         "name": "BMS_PVIU_EnergyCounterActual.BMS_mxEnergyActValue1",
         "rawType": "float64",
         "type": "float"
        },
        {
         "name": "BMS_PVIU_EnergyCounterActual.BMS_mxEnergyActValue2",
         "rawType": "float64",
         "type": "float"
        },
        {
         "name": "BMS_PVIU_EnergyCounterActual.DCDC_ActTemp",
         "rawType": "float64",
         "type": "float"
        },
        {
         "name": "BMS_PVIU_EnergyCounterHistory.BMS_mxCounterEnergy",
         "rawType": "object",
         "type": "unknown"
        },
        {
         "name": "BMS_PVIU_EnergyCounterHistory.BMS_mxEnergyValue1",
         "rawType": "float64",
         "type": "float"
        },
        {
         "name": "BMS_PVIU_EnergyCounterHistory.BMS_mxEnergyValue2",
         "rawType": "float64",
         "type": "float"
        },
        {
         "name": "Diag_BCM_Req.BCM_TPCI_Req",
         "rawType": "float64",
         "type": "float"
        },
        {
         "name": "Diag_BCM_Req.BCM_Byte2_Req",
         "rawType": "float64",
         "type": "float"
        },
        {
         "name": "Diag_BCM_Req.BCM_Byte3_Req",
         "rawType": "float64",
         "type": "float"
        },
        {
         "name": "Diag_BCM_Req.BCM_Byte4_Req",
         "rawType": "float64",
         "type": "float"
        },
        {
         "name": "Diag_BCM_Req.BCM_Byte5_Req",
         "rawType": "float64",
         "type": "float"
        },
        {
         "name": "Diag_BCM_Req.BCM_Byte6_Req",
         "rawType": "float64",
         "type": "float"
        },
        {
         "name": "Diag_BCM_Req.BCM_Byte7_Req",
         "rawType": "float64",
         "type": "float"
        },
        {
         "name": "Diag_BCM_Req.BCM_Byte8_Req",
         "rawType": "float64",
         "type": "float"
        },
        {
         "name": "Diag_BCM_Resp.BCM_TPCI_Resp",
         "rawType": "float64",
         "type": "float"
        },
        {
         "name": "Diag_BCM_Resp.BCM_Byte2_Resp",
         "rawType": "float64",
         "type": "float"
        },
        {
         "name": "Diag_BCM_Resp.BCM_Byte3_Resp",
         "rawType": "float64",
         "type": "float"
        },
        {
         "name": "Diag_BCM_Resp.BCM_Byte4_Resp",
         "rawType": "float64",
         "type": "float"
        },
        {
         "name": "Diag_BCM_Resp.BCM_Byte5_Resp",
         "rawType": "float64",
         "type": "float"
        },
        {
         "name": "Diag_BCM_Resp.BCM_Byte6_Resp",
         "rawType": "float64",
         "type": "float"
        },
        {
         "name": "Diag_BCM_Resp.BCM_Byte7_Resp",
         "rawType": "float64",
         "type": "float"
        },
        {
         "name": "Diag_BCM_Resp.BCM_Byte8_Resp",
         "rawType": "float64",
         "type": "float"
        },
        {
         "name": "Diag_BMS_Req.BMS_TPCI_Req",
         "rawType": "float64",
         "type": "float"
        },
        {
         "name": "Diag_BMS_Req.BMS_Byte2_Req",
         "rawType": "float64",
         "type": "float"
        },
        {
         "name": "Diag_BMS_Req.BMS_Byte3_Req",
         "rawType": "float64",
         "type": "float"
        },
        {
         "name": "Diag_BMS_Req.BMS_Byte4_Req",
         "rawType": "float64",
         "type": "float"
        },
        {
         "name": "Diag_BMS_Req.BMS_Byte5_Req",
         "rawType": "float64",
         "type": "float"
        },
        {
         "name": "Diag_BMS_Req.BMS_Byte6_Req",
         "rawType": "float64",
         "type": "float"
        },
        {
         "name": "Diag_BMS_Req.BMS_Byte7_Req",
         "rawType": "float64",
         "type": "float"
        },
        {
         "name": "Diag_BMS_Req.BMS_Byte8_Req",
         "rawType": "float64",
         "type": "float"
        },
        {
         "name": "Diag_CIM_Req.CIM_TPCI_Req",
         "rawType": "float64",
         "type": "float"
        },
        {
         "name": "Diag_CIM_Req.CIM_Byte2_Req",
         "rawType": "float64",
         "type": "float"
        },
        {
         "name": "Diag_CIM_Req.CIM_Byte3_Req",
         "rawType": "float64",
         "type": "float"
        },
        {
         "name": "Diag_CIM_Req.CIM_Byte4_Req",
         "rawType": "float64",
         "type": "float"
        },
        {
         "name": "Diag_CIM_Req.CIM_Byte5_Req",
         "rawType": "float64",
         "type": "float"
        },
        {
         "name": "Diag_CIM_Req.CIM_Byte6_Req",
         "rawType": "float64",
         "type": "float"
        },
        {
         "name": "Diag_CIM_Req.CIM_Byte7_Req",
         "rawType": "float64",
         "type": "float"
        },
        {
         "name": "Diag_CIM_Req.CIM_Byte8_Req",
         "rawType": "float64",
         "type": "float"
        },
        {
         "name": "Diag_CIM_Resp.CIM_TPCI_Resp",
         "rawType": "float64",
         "type": "float"
        },
        {
         "name": "Diag_CIM_Resp.CIM_Byte2_Resp",
         "rawType": "float64",
         "type": "float"
        },
        {
         "name": "Diag_CIM_Resp.CIM_Byte3_Resp",
         "rawType": "float64",
         "type": "float"
        },
        {
         "name": "Diag_CIM_Resp.CIM_Byte4_Resp",
         "rawType": "float64",
         "type": "float"
        },
        {
         "name": "Diag_CIM_Resp.CIM_Byte5_Resp",
         "rawType": "float64",
         "type": "float"
        },
        {
         "name": "Diag_CIM_Resp.CIM_Byte6_Resp",
         "rawType": "float64",
         "type": "float"
        },
        {
         "name": "Diag_CIM_Resp.CIM_Byte7_Resp",
         "rawType": "float64",
         "type": "float"
        },
        {
         "name": "Diag_CIM_Resp.CIM_Byte8_Resp",
         "rawType": "float64",
         "type": "float"
        },
        {
         "name": "Diag_DSMC_Req.DSMC_TPCI_Req",
         "rawType": "float64",
         "type": "float"
        },
        {
         "name": "Diag_DSMC_Req.DSMC_Byte2_Req",
         "rawType": "float64",
         "type": "float"
        },
        {
         "name": "Diag_DSMC_Req.DSMC_Byte3_Req",
         "rawType": "float64",
         "type": "float"
        },
        {
         "name": "Diag_DSMC_Req.DSMC_Byte4_Req",
         "rawType": "float64",
         "type": "float"
        },
        {
         "name": "Diag_DSMC_Req.DSMC_Byte5_Req",
         "rawType": "float64",
         "type": "float"
        },
        {
         "name": "Diag_DSMC_Req.DSMC_Byte6_Req",
         "rawType": "float64",
         "type": "float"
        },
        {
         "name": "Diag_DSMC_Req.DSMC_Byte7_Req",
         "rawType": "float64",
         "type": "float"
        },
        {
         "name": "Diag_DSMC_Req.DSMC_Byte8_Req",
         "rawType": "float64",
         "type": "float"
        },
        {
         "name": "Diag_DSMC_Resp.DSMC_TPCI_Resp",
         "rawType": "float64",
         "type": "float"
        },
        {
         "name": "Diag_DSMC_Resp.DSMC_Byte2_Resp",
         "rawType": "float64",
         "type": "float"
        },
        {
         "name": "Diag_DSMC_Resp.DSMC_Byte3_Resp",
         "rawType": "float64",
         "type": "float"
        },
        {
         "name": "Diag_DSMC_Resp.DSMC_Byte4_Resp",
         "rawType": "float64",
         "type": "float"
        },
        {
         "name": "Diag_DSMC_Resp.DSMC_Byte5_Resp",
         "rawType": "float64",
         "type": "float"
        },
        {
         "name": "Diag_DSMC_Resp.DSMC_Byte6_Resp",
         "rawType": "float64",
         "type": "float"
        },
        {
         "name": "Diag_DSMC_Resp.DSMC_Byte7_Resp",
         "rawType": "float64",
         "type": "float"
        },
        {
         "name": "Diag_DSMC_Resp.DSMC_Byte8_Resp",
         "rawType": "float64",
         "type": "float"
        },
        {
         "name": "Diag_EAS_Req.EAS_TPCI_Req",
         "rawType": "float64",
         "type": "float"
        },
        {
         "name": "Diag_EAS_Req.EAS_Byte2_Req",
         "rawType": "float64",
         "type": "float"
        },
        {
         "name": "Diag_EAS_Req.EAS_Byte3_Req",
         "rawType": "float64",
         "type": "float"
        },
        {
         "name": "Diag_EAS_Req.EAS_Byte4_Req",
         "rawType": "float64",
         "type": "float"
        },
        {
         "name": "Diag_EAS_Req.EAS_Byte5_Req",
         "rawType": "float64",
         "type": "float"
        },
        {
         "name": "Diag_EAS_Req.EAS_Byte6_Req",
         "rawType": "float64",
         "type": "float"
        },
        {
         "name": "Diag_EAS_Req.EAS_Byte7_Req",
         "rawType": "float64",
         "type": "float"
        },
        {
         "name": "Diag_EAS_Req.EAS_Byte8_Req",
         "rawType": "float64",
         "type": "float"
        },
        {
         "name": "Diag_ECC_Req.ECC_TPCI_Req",
         "rawType": "float64",
         "type": "float"
        },
        {
         "name": "Diag_ECC_Req.ECC_Byte2_Req",
         "rawType": "float64",
         "type": "float"
        },
        {
         "name": "Diag_ECC_Req.ECC_Byte3_Req",
         "rawType": "float64",
         "type": "float"
        },
        {
         "name": "Diag_ECC_Req.ECC_Byte4_Req",
         "rawType": "float64",
         "type": "float"
        },
        {
         "name": "Diag_ECC_Req.ECC_Byte5_Req",
         "rawType": "float64",
         "type": "float"
        },
        {
         "name": "Diag_ECC_Req.ECC_Byte6_Req",
         "rawType": "float64",
         "type": "float"
        },
        {
         "name": "Diag_ECC_Req.ECC_Byte7_Req",
         "rawType": "float64",
         "type": "float"
        },
        {
         "name": "Diag_ECC_Req.ECC_Byte8_Req",
         "rawType": "float64",
         "type": "float"
        },
        {
         "name": "Diag_ECC_Resp.ECC_TPCI_Resp",
         "rawType": "float64",
         "type": "float"
        },
        {
         "name": "Diag_ECC_Resp.ECC_Byte2_Resp",
         "rawType": "float64",
         "type": "float"
        },
        {
         "name": "Diag_ECC_Resp.ECC_Byte3_Resp",
         "rawType": "float64",
         "type": "float"
        },
        {
         "name": "Diag_ECC_Resp.ECC_Byte4_Resp",
         "rawType": "float64",
         "type": "float"
        },
        {
         "name": "Diag_ECC_Resp.ECC_Byte5_Resp",
         "rawType": "float64",
         "type": "float"
        },
        {
         "name": "Diag_ECC_Resp.ECC_Byte6_Resp",
         "rawType": "float64",
         "type": "float"
        },
        {
         "name": "Diag_ECC_Resp.ECC_Byte7_Resp",
         "rawType": "float64",
         "type": "float"
        },
        {
         "name": "Diag_ECC_Resp.ECC_Byte8_Resp",
         "rawType": "float64",
         "type": "float"
        },
        {
         "name": "Diag_OBC_Req.OBC_TPCI_Req",
         "rawType": "float64",
         "type": "float"
        },
        {
         "name": "Diag_OBC_Req.OBC_Byte2_Req",
         "rawType": "float64",
         "type": "float"
        },
        {
         "name": "Diag_OBC_Req.OBC_Byte3_Req",
         "rawType": "float64",
         "type": "float"
        },
        {
         "name": "Diag_OBC_Req.OBC_Byte4_Req",
         "rawType": "float64",
         "type": "float"
        },
        {
         "name": "Diag_OBC_Req.OBC_Byte5_Req",
         "rawType": "float64",
         "type": "float"
        },
        {
         "name": "Diag_OBC_Req.OBC_Byte6_Req",
         "rawType": "float64",
         "type": "float"
        },
        {
         "name": "Diag_OBC_Req.OBC_Byte7_Req",
         "rawType": "float64",
         "type": "float"
        },
        {
         "name": "Diag_OBC_Req.OBC_Byte8_Req",
         "rawType": "float64",
         "type": "float"
        },
        {
         "name": "Diag_OHC_Req.OHC_TPCI_Req",
         "rawType": "float64",
         "type": "float"
        },
        {
         "name": "Diag_OHC_Req.OHC_Byte2_Req",
         "rawType": "float64",
         "type": "float"
        },
        {
         "name": "Diag_OHC_Req.OHC_Byte3_Req",
         "rawType": "float64",
         "type": "float"
        },
        {
         "name": "Diag_OHC_Req.OHC_Byte4_Req",
         "rawType": "float64",
         "type": "float"
        },
        {
         "name": "Diag_OHC_Req.OHC_Byte5_Req",
         "rawType": "float64",
         "type": "float"
        },
        {
         "name": "Diag_OHC_Req.OHC_Byte6_Req",
         "rawType": "float64",
         "type": "float"
        },
        {
         "name": "Diag_OHC_Req.OHC_Byte7_Req",
         "rawType": "float64",
         "type": "float"
        },
        {
         "name": "Diag_OHC_Req.OHC_Byte8_Req",
         "rawType": "float64",
         "type": "float"
        },
        {
         "name": "Diag_PLGM_Req.PLGM_TPCI_Req",
         "rawType": "float64",
         "type": "float"
        },
        {
         "name": "Diag_PLGM_Req.PLGM_Byte2_Req",
         "rawType": "float64",
         "type": "float"
        },
        {
         "name": "Diag_PLGM_Req.PLGM_Byte3_Req",
         "rawType": "float64",
         "type": "float"
        },
        {
         "name": "Diag_PLGM_Req.PLGM_Byte4_Req",
         "rawType": "float64",
         "type": "float"
        },
        {
         "name": "Diag_PLGM_Req.PLGM_Byte5_Req",
         "rawType": "float64",
         "type": "float"
        },
        {
         "name": "Diag_PLGM_Req.PLGM_Byte6_Req",
         "rawType": "float64",
         "type": "float"
        },
        {
         "name": "Diag_PLGM_Req.PLGM_Byte7_Req",
         "rawType": "float64",
         "type": "float"
        },
        {
         "name": "Diag_PLGM_Req.PLGM_Byte8_Req",
         "rawType": "float64",
         "type": "float"
        },
        {
         "name": "Diag_PSM_Req.PSM_TPCI_Req",
         "rawType": "float64",
         "type": "float"
        },
        {
         "name": "Diag_PSM_Req.PSM_Byte2_Req",
         "rawType": "float64",
         "type": "float"
        },
        {
         "name": "Diag_PSM_Req.PSM_Byte3_Req",
         "rawType": "float64",
         "type": "float"
        },
        {
         "name": "Diag_PSM_Req.PSM_Byte4_Req",
         "rawType": "float64",
         "type": "float"
        },
        {
         "name": "Diag_PSM_Req.PSM_Byte5_Req",
         "rawType": "float64",
         "type": "float"
        },
        {
         "name": "Diag_PSM_Req.PSM_Byte6_Req",
         "rawType": "float64",
         "type": "float"
        },
        {
         "name": "Diag_PSM_Req.PSM_Byte7_Req",
         "rawType": "float64",
         "type": "float"
        },
        {
         "name": "Diag_PSM_Req.PSM_Byte8_Req",
         "rawType": "float64",
         "type": "float"
        },
        {
         "name": "Diag_PSM_Resp.PSM_TPCI_Resp",
         "rawType": "float64",
         "type": "float"
        },
        {
         "name": "Diag_PSM_Resp.PSM_Byte2_Resp",
         "rawType": "float64",
         "type": "float"
        },
        {
         "name": "Diag_PSM_Resp.PSM_Byte3_Resp",
         "rawType": "float64",
         "type": "float"
        },
        {
         "name": "Diag_PSM_Resp.PSM_Byte4_Resp",
         "rawType": "float64",
         "type": "float"
        },
        {
         "name": "Diag_PSM_Resp.PSM_Byte5_Resp",
         "rawType": "float64",
         "type": "float"
        },
        {
         "name": "Diag_PSM_Resp.PSM_Byte6_Resp",
         "rawType": "float64",
         "type": "float"
        },
        {
         "name": "Diag_PSM_Resp.PSM_Byte7_Resp",
         "rawType": "float64",
         "type": "float"
        },
        {
         "name": "Diag_PSM_Resp.PSM_Byte8_Resp",
         "rawType": "float64",
         "type": "float"
        },
        {
         "name": "Diag_PVIU_Req.PVIU_TPCI_Req",
         "rawType": "float64",
         "type": "float"
        },
        {
         "name": "Diag_PVIU_Req.PVIU_Byte2_Req",
         "rawType": "float64",
         "type": "float"
        },
        {
         "name": "Diag_PVIU_Req.PVIU_Byte3_Req",
         "rawType": "float64",
         "type": "float"
        },
        {
         "name": "Diag_PVIU_Req.PVIU_Byte4_Req",
         "rawType": "float64",
         "type": "float"
        },
        {
         "name": "Diag_PVIU_Req.PVIU_Byte5_Req",
         "rawType": "float64",
         "type": "float"
        },
        {
         "name": "Diag_PVIU_Req.PVIU_Byte6_Req",
         "rawType": "float64",
         "type": "float"
        },
        {
         "name": "Diag_PVIU_Req.PVIU_Byte7_Req",
         "rawType": "float64",
         "type": "float"
        },
        {
         "name": "Diag_PVIU_Req.PVIU_Byte8_Req",
         "rawType": "float64",
         "type": "float"
        },
        {
         "name": "Diag_TRM_Req.TRM_TPCI_Req",
         "rawType": "float64",
         "type": "float"
        },
        {
         "name": "Diag_TRM_Req.TRM_Byte2_Req",
         "rawType": "float64",
         "type": "float"
        },
        {
         "name": "Diag_TRM_Req.TRM_Byte3_Req",
         "rawType": "float64",
         "type": "float"
        },
        {
         "name": "Diag_TRM_Req.TRM_Byte4_Req",
         "rawType": "float64",
         "type": "float"
        },
        {
         "name": "Diag_TRM_Req.TRM_Byte5_Req",
         "rawType": "float64",
         "type": "float"
        },
        {
         "name": "Diag_TRM_Req.TRM_Byte6_Req",
         "rawType": "float64",
         "type": "float"
        },
        {
         "name": "Diag_TRM_Req.TRM_Byte7_Req",
         "rawType": "float64",
         "type": "float"
        },
        {
         "name": "Diag_TRM_Req.TRM_Byte8_Req",
         "rawType": "float64",
         "type": "float"
        },
        {
         "name": "Diag_VCU_Req.VCU_TPCI_Req",
         "rawType": "float64",
         "type": "float"
        },
        {
         "name": "Diag_VCU_Req.VCU_Byte2_Req",
         "rawType": "float64",
         "type": "float"
        },
        {
         "name": "Diag_VCU_Req.VCU_Byte3_Req",
         "rawType": "float64",
         "type": "float"
        },
        {
         "name": "Diag_VCU_Req.VCU_Byte4_Req",
         "rawType": "float64",
         "type": "float"
        },
        {
         "name": "Diag_VCU_Req.VCU_Byte5_Req",
         "rawType": "float64",
         "type": "float"
        },
        {
         "name": "Diag_VCU_Req.VCU_Byte6_Req",
         "rawType": "float64",
         "type": "float"
        },
        {
         "name": "Diag_VCU_Req.VCU_Byte7_Req",
         "rawType": "float64",
         "type": "float"
        },
        {
         "name": "Diag_VCU_Req.VCU_Byte8_Req",
         "rawType": "float64",
         "type": "float"
        },
        {
         "name": "Diag_VCU_Resp.VCU_TPCI_Resp",
         "rawType": "float64",
         "type": "float"
        },
        {
         "name": "Diag_VCU_Resp.VCU_Byte2_Resp",
         "rawType": "float64",
         "type": "float"
        },
        {
         "name": "Diag_VCU_Resp.VCU_Byte3_Resp",
         "rawType": "float64",
         "type": "float"
        },
        {
         "name": "Diag_VCU_Resp.VCU_Byte4_Resp",
         "rawType": "float64",
         "type": "float"
        },
        {
         "name": "Diag_VCU_Resp.VCU_Byte5_Resp",
         "rawType": "float64",
         "type": "float"
        },
        {
         "name": "Diag_VCU_Resp.VCU_Byte6_Resp",
         "rawType": "float64",
         "type": "float"
        },
        {
         "name": "Diag_VCU_Resp.VCU_Byte7_Resp",
         "rawType": "float64",
         "type": "float"
        },
        {
         "name": "Diag_VCU_Resp.VCU_Byte8_Resp",
         "rawType": "float64",
         "type": "float"
        },
        {
         "name": "Diag_VSP_Req.VSP_TPCI_Req",
         "rawType": "float64",
         "type": "float"
        },
        {
         "name": "Diag_VSP_Req.VSP_Byte2_Req",
         "rawType": "float64",
         "type": "float"
        },
        {
         "name": "Diag_VSP_Req.VSP_Byte3_Req",
         "rawType": "float64",
         "type": "float"
        },
        {
         "name": "Diag_VSP_Req.VSP_Byte4_Req",
         "rawType": "float64",
         "type": "float"
        },
        {
         "name": "Diag_VSP_Req.VSP_Byte5_Req",
         "rawType": "float64",
         "type": "float"
        },
        {
         "name": "Diag_VSP_Req.VSP_Byte6_Req",
         "rawType": "float64",
         "type": "float"
        },
        {
         "name": "Diag_VSP_Req.VSP_Byte7_Req",
         "rawType": "float64",
         "type": "float"
        },
        {
         "name": "Diag_VSP_Req.VSP_Byte8_Req",
         "rawType": "float64",
         "type": "float"
        },
        {
         "name": "Diag_VSP_Resp.VSP_TPCI_Resp",
         "rawType": "float64",
         "type": "float"
        },
        {
         "name": "Diag_VSP_Resp.VSP_Byte2_Resp",
         "rawType": "float64",
         "type": "float"
        },
        {
         "name": "Diag_VSP_Resp.VSP_Byte3_Resp",
         "rawType": "float64",
         "type": "float"
        },
        {
         "name": "Diag_VSP_Resp.VSP_Byte4_Resp",
         "rawType": "float64",
         "type": "float"
        },
        {
         "name": "Diag_VSP_Resp.VSP_Byte5_Resp",
         "rawType": "float64",
         "type": "float"
        },
        {
         "name": "Diag_VSP_Resp.VSP_Byte6_Resp",
         "rawType": "float64",
         "type": "float"
        },
        {
         "name": "Diag_VSP_Resp.VSP_Byte7_Resp",
         "rawType": "float64",
         "type": "float"
        },
        {
         "name": "Diag_VSP_Resp.VSP_Byte8_Resp",
         "rawType": "float64",
         "type": "float"
        },
        {
         "name": "Diag_WTC_B_Req.WTC_B_TPCI_Req",
         "rawType": "float64",
         "type": "float"
        },
        {
         "name": "Diag_WTC_B_Req.WTC_B_Byte2_Req",
         "rawType": "float64",
         "type": "float"
        },
        {
         "name": "Diag_WTC_B_Req.WTC_B_Byte3_Req",
         "rawType": "float64",
         "type": "float"
        },
        {
         "name": "Diag_WTC_B_Req.WTC_B_Byte4_Req",
         "rawType": "float64",
         "type": "float"
        },
        {
         "name": "Diag_WTC_B_Req.WTC_B_Byte5_Req",
         "rawType": "float64",
         "type": "float"
        },
        {
         "name": "Diag_WTC_B_Req.WTC_B_Byte6_Req",
         "rawType": "float64",
         "type": "float"
        },
        {
         "name": "Diag_WTC_B_Req.WTC_B_Byte7_Req",
         "rawType": "float64",
         "type": "float"
        },
        {
         "name": "Diag_WTC_B_Req.WTC_B_Byte8_Req",
         "rawType": "float64",
         "type": "float"
        },
        {
         "name": "Diag_WTC_B_Resp.WTC_B_TPCI_Resp",
         "rawType": "float64",
         "type": "float"
        },
        {
         "name": "Diag_WTC_B_Resp.WTC_B_Byte2_Resp",
         "rawType": "float64",
         "type": "float"
        },
        {
         "name": "Diag_WTC_B_Resp.WTC_B_Byte3_Resp",
         "rawType": "float64",
         "type": "float"
        },
        {
         "name": "Diag_WTC_B_Resp.WTC_B_Byte4_Resp",
         "rawType": "float64",
         "type": "float"
        },
        {
         "name": "Diag_WTC_B_Resp.WTC_B_Byte5_Resp",
         "rawType": "float64",
         "type": "float"
        },
        {
         "name": "Diag_WTC_B_Resp.WTC_B_Byte6_Resp",
         "rawType": "float64",
         "type": "float"
        },
        {
         "name": "Diag_WTC_B_Resp.WTC_B_Byte7_Resp",
         "rawType": "float64",
         "type": "float"
        },
        {
         "name": "Diag_WTC_B_Resp.WTC_B_Byte8_Resp",
         "rawType": "float64",
         "type": "float"
        },
        {
         "name": "Diag_WTC_H_Req.WTC_H_TPCI_Req",
         "rawType": "float64",
         "type": "float"
        },
        {
         "name": "Diag_WTC_H_Req.WTC_H_Byte2_Req",
         "rawType": "float64",
         "type": "float"
        },
        {
         "name": "Diag_WTC_H_Req.WTC_H_Byte3_Req",
         "rawType": "float64",
         "type": "float"
        },
        {
         "name": "Diag_WTC_H_Req.WTC_H_Byte4_Req",
         "rawType": "float64",
         "type": "float"
        },
        {
         "name": "Diag_WTC_H_Req.WTC_H_Byte5_Req",
         "rawType": "float64",
         "type": "float"
        },
        {
         "name": "Diag_WTC_H_Req.WTC_H_Byte6_Req",
         "rawType": "float64",
         "type": "float"
        },
        {
         "name": "Diag_WTC_H_Req.WTC_H_Byte7_Req",
         "rawType": "float64",
         "type": "float"
        },
        {
         "name": "Diag_WTC_H_Req.WTC_H_Byte8_Req",
         "rawType": "float64",
         "type": "float"
        },
        {
         "name": "Diag_WTC_H_Resp.WTC_H_TPCI_Resp",
         "rawType": "float64",
         "type": "float"
        },
        {
         "name": "Diag_WTC_H_Resp.WTC_H_Byte2_Resp",
         "rawType": "float64",
         "type": "float"
        },
        {
         "name": "Diag_WTC_H_Resp.WTC_H_Byte3_Resp",
         "rawType": "float64",
         "type": "float"
        },
        {
         "name": "Diag_WTC_H_Resp.WTC_H_Byte4_Resp",
         "rawType": "float64",
         "type": "float"
        },
        {
         "name": "Diag_WTC_H_Resp.WTC_H_Byte5_Resp",
         "rawType": "float64",
         "type": "float"
        },
        {
         "name": "Diag_WTC_H_Resp.WTC_H_Byte6_Resp",
         "rawType": "float64",
         "type": "float"
        },
        {
         "name": "Diag_WTC_H_Resp.WTC_H_Byte7_Resp",
         "rawType": "float64",
         "type": "float"
        },
        {
         "name": "Diag_WTC_H_Resp.WTC_H_Byte8_Resp",
         "rawType": "float64",
         "type": "float"
        },
        {
         "name": "ICC_0x534.ICC_MinChrgSoc_Setting",
         "rawType": "float64",
         "type": "float"
        },
        {
         "name": "ICC_0x534.ICC_PwrBattDrvgHeatSwtSts",
         "rawType": "object",
         "type": "unknown"
        },
        {
         "name": "ICC_0x534.ICC_DchaBtnAvlFlg",
         "rawType": "object",
         "type": "unknown"
        },
        {
         "name": "ICC_0x534.ICC_BackRowAirOutlModReq",
         "rawType": "object",
         "type": "unknown"
        },
        {
         "name": "ICC_0x534.ICC_PassBlowFootBtn",
         "rawType": "object",
         "type": "unknown"
        },
        {
         "name": "ICC_0x534.ICC_DrvrBlowFootBtn",
         "rawType": "object",
         "type": "unknown"
        },
        {
         "name": "ICC_0x534.ICC_PassBlowFacetBtn",
         "rawType": "object",
         "type": "unknown"
        },
        {
         "name": "ICC_0x534.ICC_DrvrBlowFaceBtn",
         "rawType": "object",
         "type": "unknown"
        },
        {
         "name": "ICC_0x534.ICC_PassBlowModReq",
         "rawType": "object",
         "type": "unknown"
        },
        {
         "name": "ICC_0x534.ICC_DrvrBlowModReq",
         "rawType": "object",
         "type": "unknown"
        },
        {
         "name": "ICC_0x534.ICC_ECCSysSwtCmd",
         "rawType": "object",
         "type": "unknown"
        },
        {
         "name": "ICC_0x530.ICC_DrvrTSet",
         "rawType": "object",
         "type": "unknown"
        },
        {
         "name": "ICC_0x530.ICC_PassTSet",
         "rawType": "object",
         "type": "unknown"
        },
        {
         "name": "ICC_0x530.ICC_ACSwtReq",
         "rawType": "object",
         "type": "unknown"
        },
        {
         "name": "ICC_0x530.ICC_DrvrSYNCReq",
         "rawType": "object",
         "type": "unknown"
        },
        {
         "name": "ICC_0x530.ICC_ECCAUTOReq",
         "rawType": "object",
         "type": "unknown"
        },
        {
         "name": "ICC_0x530.ICC_VSPVoiceTypSwt",
         "rawType": "object",
         "type": "unknown"
        },
        {
         "name": "ICC_0x530.ICC_VSPCtrlCmd",
         "rawType": "object",
         "type": "unknown"
        },
        {
         "name": "ICC_0x530.ICC_MaxFrntDefrstSet",
         "rawType": "object",
         "type": "unknown"
        },
        {
         "name": "ICC_0x530.ICC_AirClnSwtReq",
         "rawType": "object",
         "type": "unknown"
        },
        {
         "name": "ICC_0x530.ICC_ECCIntExtCircReq",
         "rawType": "object",
         "type": "unknown"
        },
        {
         "name": "ICC_0x530.ICC_AirVolSet",
         "rawType": "object",
         "type": "unknown"
        },
        {
         "name": "ICC_0x530.ICC_NavCtryCod",
         "rawType": "object",
         "type": "unknown"
        },
        {
         "name": "ICC_0x530.ICC_NavSpdLimSts",
         "rawType": "object",
         "type": "unknown"
        },
        {
         "name": "ICC_0x530.ICC_NavSpdLimUnit",
         "rawType": "object",
         "type": "unknown"
        },
        {
         "name": "ICC_0x530.ICC_NavRoadTyp",
         "rawType": "object",
         "type": "unknown"
        },
        {
         "name": "ICC_0x530.ICC_BlowWinBtn",
         "rawType": "object",
         "type": "unknown"
        },
        {
         "name": "ICC_0x530.ICC_NavSpdLim",
         "rawType": "object",
         "type": "unknown"
        },
        {
         "name": "ICC_0x530.ICC_NavSpdLimExitDst",
         "rawType": "object",
         "type": "unknown"
        },
        {
         "name": "Diag_BMS_Resp.BMS_TPCI_Resp",
         "rawType": "float64",
         "type": "float"
        },
        {
         "name": "Diag_BMS_Resp.BMS_Byte2_Resp",
         "rawType": "float64",
         "type": "float"
        },
        {
         "name": "Diag_BMS_Resp.BMS_Byte3_Resp",
         "rawType": "float64",
         "type": "float"
        },
        {
         "name": "Diag_BMS_Resp.BMS_Byte4_Resp",
         "rawType": "float64",
         "type": "float"
        },
        {
         "name": "Diag_BMS_Resp.BMS_Byte5_Resp",
         "rawType": "float64",
         "type": "float"
        },
        {
         "name": "Diag_BMS_Resp.BMS_Byte6_Resp",
         "rawType": "float64",
         "type": "float"
        },
        {
         "name": "Diag_BMS_Resp.BMS_Byte7_Resp",
         "rawType": "float64",
         "type": "float"
        },
        {
         "name": "Diag_BMS_Resp.BMS_Byte8_Resp",
         "rawType": "float64",
         "type": "float"
        },
        {
         "name": "Diag_OBC_Resp.OBC_TPCI_Resp",
         "rawType": "float64",
         "type": "float"
        },
        {
         "name": "Diag_OBC_Resp.OBC_Byte2_Resp",
         "rawType": "float64",
         "type": "float"
        },
        {
         "name": "Diag_OBC_Resp.OBC_Byte3_Resp",
         "rawType": "float64",
         "type": "float"
        },
        {
         "name": "Diag_OBC_Resp.OBC_Byte4_Resp",
         "rawType": "float64",
         "type": "float"
        },
        {
         "name": "Diag_OBC_Resp.OBC_Byte5_Resp",
         "rawType": "float64",
         "type": "float"
        },
        {
         "name": "Diag_OBC_Resp.OBC_Byte6_Resp",
         "rawType": "float64",
         "type": "float"
        },
        {
         "name": "Diag_OBC_Resp.OBC_Byte7_Resp",
         "rawType": "float64",
         "type": "float"
        },
        {
         "name": "Diag_OBC_Resp.OBC_Byte8_Resp",
         "rawType": "float64",
         "type": "float"
        },
        {
         "name": "Diag_PVIU_Resp.PVIU_TPCI_Resp",
         "rawType": "float64",
         "type": "float"
        },
        {
         "name": "Diag_PVIU_Resp.PVIU_Byte2_Resp",
         "rawType": "float64",
         "type": "float"
        },
        {
         "name": "Diag_PVIU_Resp.PVIU_Byte3_Resp",
         "rawType": "float64",
         "type": "float"
        },
        {
         "name": "Diag_PVIU_Resp.PVIU_Byte4_Resp",
         "rawType": "float64",
         "type": "float"
        },
        {
         "name": "Diag_PVIU_Resp.PVIU_Byte5_Resp",
         "rawType": "float64",
         "type": "float"
        },
        {
         "name": "Diag_PVIU_Resp.PVIU_Byte6_Resp",
         "rawType": "float64",
         "type": "float"
        },
        {
         "name": "Diag_PVIU_Resp.PVIU_Byte7_Resp",
         "rawType": "float64",
         "type": "float"
        },
        {
         "name": "Diag_PVIU_Resp.PVIU_Byte8_Resp",
         "rawType": "float64",
         "type": "float"
        }
       ],
       "ref": "8ff90bd2-70fc-4908-bf51-fa0dfb156ee4",
       "rows": [
        [
         "2025-06-29 12:10:35+00:00",
         "176",
         "remote_control_not_ended",
         "No_request",
         "Ready",
         "0",
         "Valid",
         "Normal",
         "gear_P",
         "Valid",
         "Not_ready",
         "Not_ready",
         "gear_P",
         "Standby",
         "0.0",
         "Not_enabled",
         "Normal",
         "Eco",
         "Valid",
         "brake_pedal_not_pressed",
         "0",
         "0",
         "0",
         "0",
         "20.0",
         "No_Abort",
         "10.0",
         "245.8125",
         "Valid",
         "No_rotation",
         "Valid",
         "Calibrated",
         "0.0",
         "Valid",
         "Available_For_Control",
         "0.0",
         "176",
         "remote_control_not_ended",
         "No_request",
         "Ready",
         "0",
         "Valid",
         "Normal",
         "gear_P",
         "Valid",
         "Not_ready",
         "Not_ready",
         "gear_P",
         "Standby",
         "0.0",
         "Not_enabled",
         "Normal",
         "Eco",
         "Valid",
         "brake_pedal_not_pressed",
         "87",
         "P-Button2_not_pressed",
         "P-Button1_not_pressed",
         "7",
         "No_fault",
         "Gear_Lever_neutral_position_(N)",
         "P_button_invalid",
         "Invalid",
         "208",
         "0",
         "Not_forbidden",
         "No_Boost",
         "Valid",
         "Standby",
         "0.0",
         "238",
         "0",
         "Not_forbidden",
         "No_Boost",
         "Valid",
         "Standby",
         "0.0",
         "110",
         "7",
         "Washing_OFF",
         "Neutral_middle_position",
         "Default_state",
         "Off_default",
         "145",
         "2",
         "Valid",
         "0.0",
         "Stop",
         "Stop",
         "Valid",
         "0.0",
         "0",
         "init",
         "0",
         "Not_repeated",
         "Not_repeated",
         "Not_repeated",
         "Not_repeated",
         "Not_repeated",
         "Not_repeated",
         "Not_repeated",
         "0.0",
         "0",
         "Invalid",
         "0",
         "117.0",
         "Standstill",
         "Valid",
         "7.0",
         "0.0",
         "Valid",
         "0.0",
         "Standby",
         "Completed",
         "Disable",
         "Slip_control_deactivated",
         "Not_discharged",
         "41.0",
         "Standby_state",
         "With_request",
         "7.0",
         "300.0",
         "360.0",
         "25.0",
         "22.0",
         "Normal",
         "Normal",
         "Normal",
         "Normal",
         "Normal",
         "Normal",
         "Normal",
         "Normal",
         "Normal",
         "Normal",
         "Normal",
         "Normal",
         "Normal",
         "Normal",
         "Normal",
         "Normal",
         "Normal",
         "Normal",
         "Normal",
         "Normal",
         "Normal",
         "Normal",
         "Normal",
         "Normal",
         "Normal",
         "Normal",
         "Normal",
         "Normal",
         "Normal",
         "Normal",
         "Normal",
         "Normal",
         "Normal",
         "Normal",
         "Normal",
         "Normal",
         "Normal",
         "Normal",
         "Normal",
         "Normal",
         "74.0",
         "Standstill",
         "Valid",
         "10.0",
         "0.0",
         "Valid",
         "0.0",
         "Disconnect_in_progress",
         "Standby",
         "Completed",
         "Disable",
         "Slip_control_deactivated",
         "Not_discharged",
         "7.0",
         "Standby_state",
         "With_request",
         "10.0",
         "300.0",
         "360.0",
         "24.0",
         "24.0",
         "Normal",
         "Normal",
         "Normal",
         "Normal",
         "Normal",
         "Normal",
         "Normal",
         "Normal",
         "Normal",
         "Normal",
         "Normal",
         "Normal",
         "Normal",
         "Normal",
         "Normal",
         "Normal",
         "Normal",
         "Normal",
         "Normal",
         "Normal",
         "Normal",
         "Normal",
         "Normal",
         "Normal",
         "Normal",
         "Normal",
         "Normal",
         "Normal",
         "Normal",
         "Normal",
         "Normal",
         "Normal",
         "Normal",
         "Normal",
         "Normal",
         "Normal",
         "Normal",
         "Normal",
         "Normal",
         "Normal",
         "152",
         "Reserved",
         "Reserved",
         "9",
         "Initial_value",
         "Standby",
         "Invalid",
         "26",
         "14",
         "3_meters_or_less",
         "On_line",
         "Reserved",
         "Not_Pressed",
         null,
         null,
         "Inactive",
         "Inactive",
         "Authentication_Valid",
         "96.5",
         "96.5",
         "97.5",
         "97.5",
         "250",
         "Tunnel/Tunnel",
         "without_remote_control",
         "Void",
         "Void",
         "without_remote_control",
         "without_remote_control",
         "without_remote_control",
         "No_remote_setting",
         "No_remote_setting",
         "without_remote_control",
         "without_remote_control",
         "No_request",
         "No_remote_view_command",
         "No_remote_setting",
         "No_remote_setting",
         "No_Req_/_Stop_heating",
         "EcallUnmute",
         "without_control",
         "Void",
         "eCall_DEACTIVATED",
         "95",
         "No_Announcement",
         "3",
         "Valid",
         "IGN_On",
         "Active",
         "Valid",
         "Valid",
         "No_Pressed",
         "Inactive",
         "Active",
         "Active",
         "98",
         "Not_Use",
         "No",
         "3",
         "Auto",
         "On",
         "Inactive",
         "On",
         "Off",
         "Inactive",
         "Inactive",
         "Inactive",
         "Inactive",
         "Inactive",
         "Inactive",
         "Off",
         "Off",
         "Off",
         "Off",
         "Off",
         "Off",
         "Off",
         "Off",
         "Off",
         "Off",
         "Off",
         "Off",
         "All_On",
         "On",
         "Off",
         "Inactive",
         "Off",
         "Off",
         "Active",
         "0",
         "Off",
         "300",
         "168",
         "Not_active_Not_enabled",
         "Successful",
         "3",
         "Closed",
         "Open",
         "Inactive",
         "Inactive",
         "Unlock",
         "Inactive",
         "Closed",
         "Closed",
         "Closed",
         "Closed",
         "driver's_door",
         "Inactive",
         "Anti_Theft_system_Unset",
         "Inactive",
         "Follow_Me_Closed",
         "Closed",
         "Closed",
         "Closed",
         "Closed",
         "Not_Active",
         "Inactive",
         "Inactive",
         "Off",
         "Off",
         "Inactive",
         "0",
         "Inactive",
         "Stopped",
         "Available",
         "Horizontal_sliding_zone",
         "165",
         "Stopped",
         "HUD_Measuring_Range_1(4cd/m2)",
         "3",
         "0.0",
         "0.0",
         "55.0",
         "18.0",
         "48",
         "0",
         "170",
         "Not_Inhibit",
         "Not_Ready",
         "13",
         "Not_buckled",
         "Not_buckled",
         "Invalid",
         "Seat_not_occupied",
         "Fault",
         "Fault",
         "Not_buckled",
         "Invalid",
         "Invalid",
         "Seat_not_occupied",
         "Seat_not_occupied",
         "0.0",
         "0.0",
         "0.0",
         "Level_1",
         "Closed",
         "Closed",
         "Closed",
         "Off",
         "Off",
         "Off",
         "Off",
         "Off",
         "0.0",
         "OFF_status",
         "No_Error",
         "no_signal",
         "OK",
         "Normal",
         "Normal",
         "Normal",
         "Not_closed",
         "Invalid",
         "Normal",
         "Normal",
         "Normal",
         "Normal",
         "Normal",
         "Invalid",
         "229",
         "13",
         "Not_Failed",
         "Not_Failed",
         "Not_Failed",
         "Not_Failed",
         "Not_Failed",
         "Not_Failed",
         "Not_Failed",
         "Not_Failed",
         "Not_Failed",
         "Not_Failed",
         "Not_Failed",
         "Not_Failed",
         "Not_Failed",
         "Not_Failed",
         "validkey_found",
         "Not_Failed",
         "Not_Failed",
         "Not_Failed",
         "Not_Failed",
         "15.0",
         "0.0",
         "2.49",
         "5",
         "Active",
         "NotActive",
         "NotActive",
         "BMS_ActiveSet_BMStoActiveMode_WhereitisAWakeAndOperating",
         "NO_Charging_NoChargerisConnected",
         "BALANCING_ON_BalancingisallowedByVCU",
         "HV_ON_BatteryShouldbeConnected",
         "0",
         "0",
         "0",
         "0",
         "154",
         "12",
         "0.0",
         "No_Failure",
         "No_Error",
         "No_Override_Not_Overcovered",
         "Initial_value",
         "Without_Request",
         "No_request",
         "Power_immobilizer_authentication_request_is_not_allowed",
         "0",
         "254",
         "No_Fault",
         "Not_Ready",
         "8",
         "No_Request",
         "DTC_Not_Active",
         "EBD_Not_Active",
         "TCS_Standby",
         "ESP_Standby",
         "Available",
         "Not_Active",
         "Available",
         "Not_Active",
         "Available",
         "Not_Active",
         "Available",
         "Not_Active",
         "No_Fault",
         "Not_High",
         "Standstill",
         "Available",
         "Not_Active",
         "No_Error",
         "Not_Active",
         "132.0",
         "Open",
         "Open",
         "8.0",
         "0.1",
         "374.6",
         "0.0",
         "98",
         "Initial_value",
         "Not_connected",
         "12",
         "No_Error",
         "Not_connected",
         "Initial_value",
         "Standby",
         "no_Error",
         "Initial_value",
         "131",
         "14",
         "443.58",
         "0.0",
         "Open",
         "V2L_trunk_active",
         "Initial_value",
         "Power_mode",
         "0",
         "0",
         "0",
         "0",
         "0",
         "196",
         "Initial",
         "6",
         "Initial_value",
         "Without_Request",
         "Initial_Value",
         "Init_value",
         "Initial_value",
         "Initial_value",
         "No_action",
         "0",
         "Initial_Value",
         "off",
         "no_trigger",
         "Invalid",
         "Default_Mode",
         "Scheduled_Charging_Req_Inactive",
         "233",
         "11",
         "11",
         "-4.9998775",
         "0.0",
         "Not_available",
         "196",
         "Initial",
         "6",
         "Initial_value",
         "Without_Request",
         "Initial_Value",
         "Init_value",
         "Initial_value",
         "Initial_value",
         "No_action",
         "0",
         "Initial_Value",
         "off",
         "no_trigger",
         "Invalid",
         "Default_Mode",
         "Scheduled_Charging_Req_Inactive",
         "231",
         "19",
         "167",
         "217",
         "Flag_inactive",
         "Flag_active",
         "Flag_inactive",
         "Flag_inactive",
         "Flag_inactive",
         "No_active_wakeup_demand",
         "5",
         "4",
         "22.0",
         "12.0",
         "131",
         "14",
         "443.58",
         "0.0",
         "Open",
         "V2L_trunk_active",
         "Initial_value",
         "Power_mode",
         "11.668",
         "14.042",
         "22.5",
         "IBS_OK",
         "Current_range_I2",
         "75.0",
         "13.0",
         "1.8",
         "374.5",
         "74",
         "Immo_Inactive",
         "No_request",
         "11",
         "Standby",
         "Initialization",
         "Initializing",
         "Not_enabled",
         "No_request",
         "Initial_value",
         "No_Request_No_Request",
         "Valid",
         "Initializing",
         "No_Request",
         "No_Request_No_Request",
         "No_Request_No_Request",
         "Idle",
         "Inhibit",
         "False_Unintervened",
         "Initializing",
         "No_Request",
         null,
         null,
         "79.0",
         "ErrorNotActive",
         "WarningNotActive",
         "ErrorNotActive",
         "WarningNotActive",
         "13.0",
         "ErrorNotActive",
         "WarningNotActive",
         "ErrorNotActive",
         "WarningNotActive",
         "ErrorNotActive",
         "WarningNotActive",
         "ErrorNotActive",
         "WarningNotActive",
         "ErrorNotActive",
         "ErrorNotActive",
         "ErrorNotActive",
         "WarningNotActive",
         "ErrorNotActive",
         "ErrorNotActive",
         "ErrorNotActive",
         "ErrorNotActive",
         "ErrorNotActive",
         "ErrorNotActive",
         "ErrorNotActive",
         "ErrorNotActive",
         "WarningNotActive",
         "ErrorNotActive",
         "ErrorNotActive",
         "ErrorNotActive",
         "ErrorNotActive",
         "WarningNotActive",
         "ErrorNotActive",
         "WarningNotActive",
         "ErrorNotActive",
         "ErrorNotActive",
         "ErrorNotActive",
         "ErrorNotActive",
         "ErrorNotActive",
         "WarningNotActive",
         "ErrorNotActive",
         "WarningNotActive",
         "ErrorNotActive",
         "WarningNotActive",
         "ErrorNotActive",
         "WarningNotActive",
         "ErrorNotActive",
         "73.0",
         "66.0",
         "SNA",
         "14.05",
         "6.07",
         "155.0",
         "13.0",
         "1687.7",
         "926.0",
         "33.0",
         "30.5",
         "50",
         "Not_recalibrated",
         "42.0",
         "13.0",
         "BMS_BALC_DEActivATED",
         "BMS_OperatIONAL",
         "CATOK",
         "CATOK",
         "CATOK",
         "CATOK",
         "CATOK",
         "CATOK",
         "CATOK",
         "CATFailure",
         "On",
         "On",
         "OK",
         "OK",
         "OK",
         "OK",
         "OK",
         "CATOK",
         "OK",
         "OK",
         "OK",
         "OK",
         "OK",
         "On",
         "HV_active",
         "0.0",
         "122.0",
         "13.0",
         "0.0",
         "0.0",
         "22.0",
         "13.0",
         "Normal",
         "Normal",
         "Normal",
         "Normal",
         "Normal",
         "Normal",
         "Normal",
         "Normal",
         "Normal",
         "Normal",
         "374.1",
         "Function_safety_mechanism_startup_state_code",
         "2",
         "Off",
         "8",
         "Off",
         "On",
         "Available",
         "Closed_caliper_is_clamped",
         "Valid",
         "Neutral",
         "Off",
         null,
         "Press_Keep_The_Seatbelt_Attached_And_The_Door_Closed",
         "208",
         "Brake_Pedal_Not_Pressed",
         "Valid",
         "8",
         "No_Telltale_Requested",
         "No_Telltale_Requested",
         "No_Telltale_Requested",
         "No_Telltale_Requested",
         "Valid",
         "0",
         "0.0",
         "Inactive_not_enabled",
         "Exist_Brk_Force",
         "Available",
         "Off",
         "No_Telltale_Requested",
         "Not_In_Initialization_Mode",
         "193.0",
         "13.0",
         "1.76",
         "-0.92",
         "374.5",
         "Normal",
         "Normal",
         "Normal",
         "Normal",
         "Normal",
         "Normal",
         "Normal",
         "Normal",
         "Normal",
         "Normal",
         "Normal",
         "Normal",
         "Normal",
         "Normal",
         "Normal",
         "Normal",
         "Normal",
         "Normal",
         "Normal",
         "Normal",
         "Normal",
         "Normal",
         "Normal",
         "Normal",
         "Normal",
         "Normal",
         "Normal",
         "Normal",
         "Normal",
         "Normal",
         "Normal",
         "Normal",
         "Normal",
         "Normal",
         "Normal",
         "Normal",
         "Normal",
         "Normal",
         "Normal",
         "Normal",
         "Normal",
         "Normal",
         "Normal",
         "Normal",
         "Normal",
         "Normal",
         "Normal",
         "Normal",
         "Normal",
         "Normal",
         "Normal",
         "Normal",
         "high-voltage_power-off",
         "high-voltage_power-off",
         "Normal",
         "Normal",
         "Normal",
         "Normal",
         "Normal",
         "Normal",
         "Initial_value",
         "Initial_value",
         "Initial_value",
         "Not_set",
         "Not_set",
         "0.0",
         "0.0",
         "Initial_value",
         "0",
         "0.0",
         "0.0",
         "Enable",
         "Request_shutdown",
         "15.0",
         "0",
         "0",
         "154",
         "10",
         "No_Percieved_Speed_Limit_change_notification_request",
         "No_high_priority_popup_requested",
         "KPH",
         "No_low_priority_popup_requested",
         "0",
         "0",
         "0",
         "Invalid",
         "Not_completed",
         "Do_not_wake_up",
         "Normal_mode",
         "Not_waken_up",
         "Not_waken_up",
         "Not_waken_up",
         "Not_waken_up",
         "Not_waken_up",
         "Not_waken_up",
         "Not_waken_up",
         "Not_ended",
         "Not_ended",
         "Unlocking_command_state",
         "Not_ended",
         "Not_waken_up",
         "READY_allowed",
         "Not_waken_up",
         "No",
         "Initial_value",
         "Initial_value",
         "Yes",
         "No",
         "No",
         "No",
         "Idle",
         "Initial_value",
         null,
         "90",
         "Not_ended",
         "Reserved",
         "No_demand",
         "Initial_value",
         "gear_P",
         "165",
         "Enable",
         "Inactive",
         "11",
         "Roll",
         "High",
         "High",
         "Normal",
         "Normal",
         "no_display",
         "MPH",
         "No_Display",
         "Off",
         "No_Inhibit_request",
         "Not_Ready",
         "Boost_unavailable:_Drive_Mode",
         "Inhibition_not_ok",
         "OTA_veh_cond_ok",
         "0.0",
         "0.32",
         "0.66",
         "0.0",
         "0",
         "0",
         "off",
         "Not_power_off",
         "off",
         "Not_waken_up",
         "0.0",
         "-0.6",
         "0",
         "10",
         "Init",
         "0",
         "0.0",
         "0.0",
         "182",
         "Initial_value",
         "11",
         "0",
         "brake_OFF",
         "Do_not_wake_up",
         "0",
         "Initial_value",
         "Initial_value",
         "Not_waken_up",
         "Initialization",
         "Not_ended",
         "Not_Inhibit",
         "Initial_value",
         "initializing",
         "Initial_value",
         "Initial_value",
         "No_fault",
         "No_fault",
         "No_fault",
         "No_fault",
         "No_fault",
         "Not_active",
         "No_demand",
         "Not_fully_charged",
         "No",
         "No",
         "No",
         "No",
         "No",
         "No",
         "No_fault",
         "Initial_value",
         "off",
         "No_request",
         "No_fault",
         "Initial_value",
         "Initial_value",
         "Not_arrived",
         "Normal",
         "Initial_value",
         "0",
         "Initial_value",
         "Initial_value",
         "Thermal_insulation_off",
         "60",
         "11",
         "Inactve",
         "ESA_OffCoded",
         "No_Suppressed",
         "Off",
         "LKA_Off",
         "Off",
         "On_available",
         "Off",
         "Off",
         "Off",
         "Off",
         "Default",
         "0.0",
         "0.0",
         "0",
         "Initial_value",
         "Not_Reached_per_km",
         "not_displayed",
         "No_fault",
         "No_fault",
         "0.1097",
         "0.0",
         "Initial_value",
         "Normal",
         "Not_displayed",
         "Light_out",
         "Normal_lamp_off",
         "Normal",
         "Normal",
         "Invalid",
         "Invalid",
         "No_display",
         "No_fault",
         "0.0",
         "237.0",
         "Not_set",
         "-3",
         "Valid",
         "0.0",
         "0.0",
         "0.0",
         "Disable",
         "Normal",
         "Normal",
         "Light_out",
         "Energy_recovery_allowed",
         "not_displayed",
         "Kwh/100_km_displayed",
         "Light_out",
         "Shutdown",
         "Light_out",
         "Normal",
         "OTA_veh_cond_ok",
         "OTA_veh_cond_not_ok",
         "Normal",
         "Normal",
         "Initial_value",
         "Not_collided",
         "Invalid",
         "Disconnect",
         "Enable",
         "Enable",
         "No_fault",
         "No_fault",
         "No_fault",
         "No_fault",
         "14.2",
         "0.0",
         "Initial_value",
         "Neutral",
         "14.042",
         "Normal",
         "Normal",
         "Normal",
         "Normal",
         "Normal",
         "Initial_value",
         "Normal",
         "Normal",
         "Normal",
         "Normal",
         "Normal",
         "Normal",
         "Normal",
         "Normal",
         "Normal",
         "Normal",
         "Normal",
         "Normal",
         "Normal",
         "Normal",
         "NTC2_open_circuit",
         "Normal",
         "Normal",
         "Normal",
         "Normal",
         "Normal",
         "0.0",
         "Normal",
         "Normal",
         "Normal",
         "12.0",
         "256",
         "0",
         "31",
         "3673.0",
         "3667.0",
         "3671.0",
         "13.336",
         "241.0",
         "7.0",
         "1288.0",
         "775.4",
         "77",
         "Not_Inhibit",
         "Not_Illuminate",
         "Not_Active",
         "9",
         "Not_Active",
         "Available",
         "Standby",
         "Not_Active",
         "Available",
         "Not_Active",
         "init_not_active",
         "HBB_Normal_Mode",
         "Not_Active",
         "Available",
         "231.0",
         "7.0",
         "0.0",
         "0.0",
         "226.0",
         "7.0",
         "Normal",
         "Normal",
         "38.0",
         "288.12",
         "Thermally_insulated",
         "Normal",
         "No_Thermal_Runaway",
         "No_fault",
         "0.0",
         "0.0",
         "0.0",
         "0.0",
         "On",
         "Off",
         "turn_on_ambient_light",
         "100",
         "10",
         "0",
         "Level_1",
         "236",
         "Not_Ready",
         "2",
         "Off",
         "Off",
         "Off",
         "Off",
         "Off",
         "neutral",
         "Off",
         "No_request",
         "No_remote_control",
         "No_remote_control",
         "Not_waken_up",
         "No_Request",
         "No_remote_control",
         "No_remote_control",
         "Disable",
         "Inactive",
         "Inactive",
         "0",
         "Normal",
         "Normal",
         "Normal",
         "3G_or_4G_LTE_CAT-1_and_below_(downllink_less_than_10_Mbps)",
         "Strong",
         "No_Inhibit_request",
         "No_request",
         "Normal",
         "Normal",
         "Normal",
         "Normal",
         "159",
         "87",
         "106",
         "59",
         "No_request",
         "No_remote_control",
         "No_remote_control",
         "Not_waken_up",
         "No_Request",
         "No_remote_control",
         "No_remote_control",
         "Disable",
         "Inactive",
         "Inactive",
         "0",
         "Normal",
         "Normal",
         "Normal",
         "3G_or_4G_LTE_CAT-1_and_below_(downllink_less_than_10_Mbps)",
         "Strong",
         "No_Inhibit_request",
         "No_request",
         "Normal",
         "Normal",
         "Normal",
         "Normal",
         "MaxHeight_Setting",
         "0",
         "0",
         "No_Failure",
         "Inactive",
         "No_whistle",
         "No_Blink",
         "Full_Latched_PawlSwOff_tail_door_lock_full_locking_state",
         "Trunk_Closed",
         "Inactive",
         "Inactive",
         "Inactive",
         "Inactive",
         "Inactive",
         "Learnt,_With_Maximum_Height_Customization_Allowed",
         "Inactive",
         "Not_Ready",
         "Not_Inhibit",
         "Closed",
         "No_Pinch",
         "29",
         "103.0",
         "no_crash,_level_0",
         "1.0",
         "no_crash,_level_0",
         "no_crash,_level_0",
         "no_crash,_level_0",
         "no_crash,_level_0",
         "no_crash",
         "68",
         "Default",
         "6",
         "No_Blind",
         "No_Failure",
         "Default",
         "Low_Beam_Request",
         "0",
         "76",
         "No_request",
         "No_request",
         "6",
         "No_Req",
         "Not_moving",
         "No_hazard_warning",
         "No_request",
         "TP_Replay_failed",
         "TP_Replay_not_available",
         "RAP_not_available",
         "Inactive",
         "Inactive",
         "No_request",
         "Off",
         "off",
         "Invalid",
         "0",
         "without_remote_control",
         "0",
         "167",
         "105",
         "84",
         "231",
         "68",
         "Initial",
         "Initial",
         "4",
         "Invalid",
         "Auth_Valid",
         "No_Request",
         "Not_In_Learning_Mode",
         "Inactive",
         null,
         null,
         "46",
         "202",
         "4",
         "124",
         "68",
         "Initial",
         "Initial",
         "4",
         "Invalid",
         "Auth_Valid",
         "No_Request",
         "Not_In_Learning_Mode",
         "Inactive",
         null,
         null,
         "173.0",
         "Normal",
         "12.0",
         "Parklock_engaged",
         "208.0",
         "Seat_not_occupied",
         "1.0",
         "Seat_not_occupied",
         "LED_1_2_ON/OFF",
         "Warning_lamp_off",
         "Seat_not_formost_position",
         "Seat_not_formost_position",
         "Not_Buckled",
         "Not_Buckled",
         "62.0",
         "No_Pressed",
         "No_Pressed",
         "13.0",
         "No_Pressed_Not_pressed",
         "No_Pressed",
         "No_Pressed",
         "No_Pressed",
         "No_Pressed",
         "No_Pressed_Not_pressed",
         "No_Pressed",
         "No_Pressed",
         "No_Pressed",
         "No_Pressed",
         "No_Pressed_Not_pressed",
         "No_Pressed_Not_pressed",
         "No_failure",
         "No_failure",
         "43.0",
         "0.0",
         "NM_PDU_contains_no_Partial_Network_request_information",
         "0.0",
         "Node_has_not_woken_up_the_network_(passive_wakeup)",
         "Start_of_synchronized_shutdown_is_not_requested_by_main_coordinator",
         "0.0",
         "0.0",
         "Repeat_Message_State_not_requested",
         "User_data_not_used",
         "inactive",
         "inactive",
         "inactive",
         "inactive",
         "inactive",
         "inactive",
         "inactive",
         "inactive",
         "255.0",
         "255.0",
         "255.0",
         "255.0",
         "53.0",
         "0.0",
         "NM_PDU_contains_no_Partial_Network_request_information",
         "0.0",
         "Node_has_not_woken_up_the_network_(passive_wakeup)",
         "Start_of_synchronized_shutdown_is_not_requested_by_main_coordinator",
         "0.0",
         "0.0",
         "Repeat_Message_State_not_requested",
         "User_data_not_used",
         "inactive",
         "inactive",
         "inactive",
         "inactive",
         "inactive",
         "inactive",
         "inactive",
         "inactive",
         "255.0",
         "255.0",
         "255.0",
         "255.0",
         "OTA_no_request",
         "0",
         "0",
         "184",
         "Initial",
         "Initial",
         "3",
         "On",
         "0",
         "0",
         "159",
         "11",
         "196",
         "34",
         "Inactive",
         "Reserved",
         "Reserved",
         "Reserved",
         "Reserved",
         "Inactive",
         "Invalid",
         "Invalid",
         "Inactive",
         "Inactive",
         "Inside",
         "Initial/Welcome_Light_0ff",
         "Initial",
         "14",
         "0",
         "0",
         "0",
         "159",
         "244",
         "183",
         "105",
         "37.0",
         "0.0",
         "NM_PDU_contains_no_Partial_Network_request_information",
         "0.0",
         "Node_has_not_woken_up_the_network_(passive_wakeup)",
         "Start_of_synchronized_shutdown_is_not_requested_by_main_coordinator",
         "0.0",
         "0.0",
         "Repeat_Message_State_not_requested",
         "User_data_not_used",
         "active",
         "active",
         "active",
         "active",
         "active",
         "active",
         "active",
         "active",
         "255.0",
         "255.0",
         "255.0",
         "255.0",
         "25",
         "0.0",
         "Normal",
         "Normal",
         "Normal",
         "Normal",
         "Normal",
         "Normal",
         "Standby",
         "Normal",
         "Normal",
         "Normal",
         "Normal",
         "Normal",
         "Normal",
         "Normal",
         "Normal",
         "35",
         "0.0",
         "Normal",
         "Normal",
         "Normal",
         "Normal",
         "Normal",
         "Normal",
         "Standby",
         "Normal",
         "Normal",
         "Normal",
         "Normal",
         "Normal",
         "Normal",
         "Normal",
         "Normal",
         "21",
         "21",
         "0",
         "21",
         "Power_working_mode",
         "Gear_0",
         "Power_supply",
         "initialized",
         "Passvive",
         "Inactive",
         "Invalid",
         "System_Warning_Invalid",
         "Initial",
         "Inactive",
         "No_Information",
         "No_Information",
         "No_Information",
         "Reserved",
         "No_error",
         "Invalid",
         "Reserved",
         "Passvive",
         "Inactive",
         "Invalid",
         "System_Warning_Invalid",
         "Initial",
         "Inactive",
         "No_Information",
         "No_Information",
         "No_Information",
         "Reserved",
         "No_error",
         "Invalid",
         "Reserved",
         "42",
         "83",
         "63",
         "198",
         "Invalid",
         "Valid",
         "Invalid",
         "375.68",
         "0.0",
         "0.0",
         "-48",
         "25",
         "0",
         "25",
         "Power_working_mode",
         "Gear_0",
         "Power_supply",
         "initialized",
         "Default",
         "No_Forget",
         "No_Charge",
         "NO_Exist",
         "Off",
         "Off",
         "Off",
         "Initial",
         "inactive",
         "no_connection_",
         "known_device_connected",
         "inactive",
         "Auto_Unlock/Lock_Disabled",
         "0",
         "User_Profile_ID_number1(guest/default)",
         "0",
         "0",
         "0",
         "0",
         "225.0",
         "13.0",
         "36.5",
         "374.8",
         "1.6",
         "14.2",
         "5",
         "62",
         "72",
         "62",
         "Off",
         "Off",
         "Off",
         "Off",
         "0",
         "INIT",
         "0",
         "163",
         "205",
         "170",
         "59",
         "36.0",
         "13.0",
         "23.0",
         "Working",
         "Normal",
         "Normal",
         "Normal",
         "Normal",
         "Normal",
         "Normal",
         "Normal",
         "Normal",
         "Normal",
         "Normal",
         "No_Fault",
         "Normal",
         "20.0",
         "115.0",
         "Inovance",
         "13.0",
         "0.0",
         "0.0",
         "0.0",
         "59.0",
         "Unlocking_state",
         "111.0",
         "220V",
         "13.0",
         "250.0",
         "480.0",
         "0.3",
         "189.0",
         "13.0",
         "Normal",
         "Normal",
         "Normal",
         "Normal",
         "Normal",
         "Normal",
         "Normal",
         "Normal",
         "Normal",
         "Normal",
         "Normal",
         "Normal",
         "Normal",
         "Normal",
         "Normal",
         "Normal",
         "No_Fault",
         "158.0",
         "13.0",
         "119.6",
         "11.4",
         "0.9",
         "33",
         "87",
         "75",
         "0.0",
         "0.0",
         "25.0",
         "28.0",
         "14.0",
         "29.0",
         "53.0",
         "Buck",
         "Discharging",
         "117.0",
         "Initial_value",
         "0.0",
         "0.0",
         "0.0",
         "initialized",
         "Standby",
         "Normal",
         "Normal",
         "Normal",
         "Normal",
         "Normal",
         "Normal",
         "Normal",
         "Normal",
         "28",
         "0.0",
         "190.0",
         "20.0",
         "711.5",
         "25.0",
         "Off",
         "Off",
         "Off",
         "Off",
         "Off",
         "Off",
         "83.0",
         "6.6kw",
         "OK",
         "13.0",
         "Initial",
         "Initial",
         "1.5",
         "23.0",
         "VTOL_Trunk_Discharge",
         "Normal",
         "Normal",
         "Working",
         "Initial",
         "Normal",
         "Normal",
         "Normal",
         "Normal",
         "Normal",
         "Normal",
         "144.0",
         "18.0",
         "82.0",
         "6.0",
         "Off",
         "Off",
         "Normal_operating_state",
         "initialization_completed",
         "42",
         "80",
         "Rotation_allowed",
         "RelayOpen",
         "RelayOpen",
         "0.0",
         "5938.0",
         "RelayOpen",
         "RelayOpen",
         "0.0",
         "8877.0",
         "RelayClosed",
         "RelayClosed",
         "0.0",
         "10717.0",
         "RelayClosed",
         "RelayClosed",
         "0.0",
         "10856.0",
         "RelayOpen",
         "RelayOpen",
         "0.0",
         "9875.0",
         "246.0",
         "ErrorNotActive",
         "WarningNotActive",
         "ErrorNotActive",
         "WarningNotActive",
         "10.0",
         "ErrorNotActive",
         "WarningNotActive",
         "ErrorNotActive",
         "ErrorNotActive",
         "ErrorNotActive",
         "ErrorNotActive",
         "ErrorNotActive",
         "WarningNotActive",
         "ErrorNotActive",
         "ErrorNotActive",
         "ErrorNotActive",
         "ErrorNotActive",
         "WarningNotActive",
         "ErrorNotActive",
         "ErrorNotActive",
         "WarningNotActive",
         "ErrorNotActive",
         "ErrorNotActive",
         "ErrorNotActive",
         "WarningNotActive",
         "ErrorNotActive",
         "ErrorNotActive",
         "ErrorNotActive",
         "WarningNotActive",
         "ErrorNotActive",
         "WarningNotActive",
         "ErrorNotActive",
         "ErrorNotActive",
         "0.0",
         "38.0",
         "41.2",
         "98.0",
         "255.0",
         "107.0",
         "10.0",
         "1000.0",
         "457.3",
         "4347.0",
         "2500.0",
         "1310.7",
         "926.0",
         "6.0",
         "10.0",
         "0.0",
         "0.0",
         "443.6",
         "255.0",
         "17.0",
         "18.0",
         "5976.0",
         "5971.0",
         "2668.0",
         "2666.0",
         "Normal",
         "No_fault",
         "No_fault",
         "Not_balanced",
         "No_fault",
         "Fault",
         "No_fault",
         "No_fault",
         "Normal",
         "Normal",
         "Normal",
         "Normal",
         "Normal",
         "Normal",
         "Normal",
         "Normal",
         "Normal",
         "Normal",
         "Normal",
         "Normal",
         "Normal",
         "Normal",
         "Normal",
         "Normal",
         "Normal",
         "Normal",
         "Normal",
         "Normal",
         "Normal",
         "Normal",
         "Normal",
         "Normal",
         "Normal",
         "Normal",
         "Normal",
         "Normal",
         "Normal",
         "Normal",
         "Reserved",
         "Abnormal",
         "Reserved",
         "Normal",
         "Normal",
         "Normal",
         "Normal",
         "Normal",
         "Normal",
         "Normal",
         "Normal",
         "Abnormal",
         "Abnormal",
         "Abnormal",
         "Normal",
         "Normal",
         "Normal",
         "Normal",
         "Normal",
         "Normal",
         "Normal",
         "Normal",
         "3.0",
         "Initial",
         "10.0",
         "24.0",
         "2.0",
         "26.0",
         "25.0",
         "Power_reduction_not_allowed",
         "cycling",
         "-48.0",
         "255.0",
         "255.0",
         "255.0",
         "255.0",
         "255.0",
         "973733900.0",
         "50.0",
         "255.0",
         "CountersOK",
         "RelayOK",
         "RelayOK",
         "10717.0",
         "0.0",
         "0.0",
         "0.0",
         "0.0",
         "0.0",
         "CountersOK",
         "RelayOK",
         "RelayOK",
         "10856.0",
         "0.0",
         "0.0",
         "0.0",
         "0.0",
         "0.0",
         "CountersOK",
         "RelayOK",
         "RelayOK",
         "9875.0",
         "0.0",
         "0.0",
         "0.0",
         "0.0",
         "0.0",
         "25.5",
         "25.5",
         "25.0",
         "0.0",
         "0.0",
         "CountersOK",
         "RelayOK",
         "RelayOK",
         "0.0",
         "0.0",
         "0.0",
         "0.0",
         "0.0",
         "0.0",
         "CountersOK",
         "RelayOK",
         "RelayOK",
         "0.0",
         "0.0",
         "0.0",
         "0.0",
         "0.0",
         "0.0",
         "Off",
         "Off",
         "Off",
         "No_Action",
         "No_Action",
         "No_Action",
         "No_Action",
         "No_Action",
         "No_Action",
         "No_Action",
         "No_Action",
         "No_Action",
         "No_Action",
         "No_Action",
         "No_Action",
         "Not_Change",
         "Off",
         "Initial",
         "Off",
         "Off",
         "PSK",
         "Inactive",
         "Inactive",
         "Check",
         "Inactive",
         "Check",
         "118",
         "Level_1",
         "11",
         "Normal",
         "turn_on_ambient_light",
         "Initial",
         "Normal",
         "Init,_No_request",
         "Normal",
         "No_Pressed",
         "Level_1",
         "OFF",
         "no_reset",
         "0",
         "Init",
         "Init",
         "No_Failure",
         "No_Failure",
         "Initial",
         "Idle",
         "Idle",
         "Low",
         "Not_Change",
         "Reserved(Nobody)",
         "Not_Change",
         "Not_Change",
         "Not_Change",
         "Not_Change",
         "Not_Change",
         "No_Request",
         "Not_Change",
         "Init",
         "Not_Change",
         "windless_gear",
         "Incoming_Call",
         "on",
         "off",
         "mi_(miles)",
         "Closed",
         "Closed",
         "Fahrnheit",
         "Level_5",
         "Yes",
         "No",
         "No",
         "No",
         "No",
         "0",
         "Not_ON",
         "Guisance_Inactive",
         "Initial_value",
         "Inactive",
         "English_(CA)",
         "Default",
         "No_Display",
         "Value_OK",
         "35490.0",
         "0",
         "Init",
         "No_Error_No_error",
         "No_Failure",
         "MPH",
         "0",
         "35490.0",
         "Not_cleared",
         "Value_OK",
         "Off",
         "Off",
         "Off",
         "Off",
         "Off",
         "Off",
         "Release",
         "Release",
         "Release",
         "Release",
         "Void",
         "Void",
         "Void",
         "void",
         "No_Request",
         "0.0",
         "Ready",
         "Air_Conditioning_power_on_(Short)",
         "no_warning",
         "3.1",
         "2.8",
         "No_Action",
         "Reserved",
         "Reserved",
         "Invalid",
         "Invalid",
         "No_Action",
         "No_Action",
         "No_Action",
         "Level_3_upwards_60%",
         "Invalid",
         "Invalid",
         "No_Action",
         "ON_state",
         "Self_circulation_state",
         "initialization_completed",
         "Load_initialization",
         "Rear_face_blowing",
         "Windless_gear",
         "On",
         "Low",
         "Low",
         "Initializing",
         "Inner_circulation_state",
         "Natural_wind",
         "On",
         "Off",
         "Off_state",
         "22.0",
         "driver_face_blowing_mode",
         "Functional",
         "Normal",
         "Not_opened",
         "Valid",
         "Initial",
         "Standby",
         "front_passenger_face_blowing_mode",
         "0",
         "0",
         "0.0",
         "Standby",
         "Disable",
         "Standby",
         "Gear_0",
         "Gear_0",
         "20.0",
         "Valid",
         "Inactive",
         "Invalid",
         "Off",
         "0",
         "56",
         "0",
         "0",
         "21",
         "20",
         "Gear_0",
         "Gear_0",
         "21",
         "21",
         "20",
         "21",
         "20",
         "22",
         "24",
         "21",
         "Run",
         "Run",
         "Run",
         "Shutdown",
         "Standby_Standby",
         "Shutdown",
         "Normal",
         "Normal",
         "0",
         "52",
         "26",
         "100",
         "0",
         "Normal",
         "0.0",
         "0.0",
         "0.0",
         "0.0",
         "0.0",
         "0.0",
         "41.18",
         "117",
         "Hands-off_detected",
         "4",
         "Hands-off_detected",
         "No_Response_Error",
         "No_error",
         "OFF",
         "0.0",
         "0.0",
         "0.0",
         "0.0",
         "0.0",
         "0.0",
         "0.0",
         "0.0",
         "303",
         "Init",
         "above_50_miles-no_warning",
         "0.0",
         "0.0",
         "0.0",
         "0.0",
         "0.0",
         "0.0",
         "0.0",
         "0.0",
         "0.0",
         "0.0",
         "0.0",
         "0.0",
         "0.0",
         "0.0",
         "Default",
         "0.0",
         "0.0",
         "0",
         "6.0",
         "1881342000.0",
         "161.0",
         "211.0",
         "39.0",
         "0.0",
         "NM_PDU_contains_no_Partial_Network_request_information",
         "0.0",
         "Node_has_not_woken_up_the_network_(passive_wakeup)",
         "Start_of_synchronized_shutdown_is_not_requested_by_main_coordinator",
         "0.0",
         "0.0",
         "Repeat_Message_State_not_requested",
         "User_data_for_current_vehicle_without_partial_networking",
         "inactive",
         "inactive",
         "active",
         "inactive",
         "inactive",
         "inactive",
         "inactive",
         "inactive",
         "255.0",
         "255.0",
         "255.0",
         "255.0",
         "24.0",
         "0.0",
         "NM_PDU_contains_no_Partial_Network_request_information",
         "0.0",
         "Node_has_not_woken_up_the_network_(passive_wakeup)",
         "Start_of_synchronized_shutdown_is_not_requested_by_main_coordinator",
         "0.0",
         "0.0",
         "Repeat_Message_State_not_requested",
         "User_data_for_current_vehicle_without_partial_networking",
         "active",
         "inactive",
         "inactive",
         "inactive",
         "inactive",
         "active",
         "inactive",
         "inactive",
         "255.0",
         "255.0",
         "255.0",
         "255.0",
         "Sound_I",
         "Working_Status",
         "No_Output_No_input",
         "Indicator_Off_(VSP_Enable)_indicator_off",
         "Initial",
         "Not_Work_Inoperative",
         "Speaker_Not_Working_horn_not_ringing",
         "38.0",
         "0.0",
         "NM_PDU_contains_no_Partial_Network_request_information",
         "0.0",
         "Node_has_not_woken_up_the_network_(passive_wakeup)",
         "Start_of_synchronized_shutdown_is_not_requested_by_main_coordinator",
         "0.0",
         "0.0",
         "Repeat_Message_State_not_requested",
         "User_data_for_current_vehicle_without_partial_networking",
         "inactive",
         "inactive",
         "active",
         "active",
         "inactive",
         "inactive",
         "inactive",
         "inactive",
         "255.0",
         "255.0",
         "255.0",
         "255.0",
         "105.0",
         "valid",
         "Idle",
         "3.0",
         "0.0",
         null,
         null,
         "0_degree",
         "no_rotation",
         "32.0",
         "0.0",
         "NM_PDU_contains_no_Partial_Network_request_information",
         "0.0",
         "Node_has_woken_up_the_network_(active_Wakeup)",
         "Start_of_synchronized_shutdown_is_not_requested_by_main_coordinator",
         "0.0",
         "0.0",
         "Repeat_Message_State_not_requested",
         "User_data_for_current_vehicle_without_partial_networking",
         "inactive",
         "inactive",
         "active",
         "active",
         "inactive",
         "active",
         "inactive",
         "inactive",
         "255.0",
         "255.0",
         "255.0",
         "255.0",
         "17.0",
         "18.0",
         "0.0",
         "255.0",
         "973733900.0",
         "50.0",
         "255.0",
         "0",
         "191",
         "valid",
         "no_action",
         "5",
         "0.0",
         "10",
         "0",
         "1",
         "0",
         "1",
         "246",
         "199",
         "179",
         "201",
         "0",
         "0",
         "NC",
         "NC",
         "Unmute",
         "Main_Volume_Step_0~39",
         "Low",
         "iESS_Mode_1",
         "Chime_Volume_Step_5",
         "Surround",
         "OFF",
         "HFM_Colume_Step_0~39",
         "No_Action",
         "Navi_Volume_Step_0~39",
         "Action",
         "No_Action",
         "RT_Step_0~39",
         "No_Action",
         "No_Action",
         "VR/TTS_Step_0~39",
         "54.0",
         "0.0",
         "NM_PDU_contains_no_Partial_Network_request_information",
         "0.0",
         "Node_has_woken_up_the_network_(active_Wakeup)",
         "Start_of_synchronized_shutdown_is_not_requested_by_main_coordinator",
         "0.0",
         "0.0",
         "Repeat_Message_State_not_requested",
         "User_data_for_current_vehicle_without_partial_networking",
         "inactive",
         "inactive",
         "active",
         "active",
         "inactive",
         "active",
         "inactive",
         "inactive",
         "255.0",
         "255.0",
         "255.0",
         "255.0",
         "1.0",
         "0.0",
         "NM_PDU_contains_no_Partial_Network_request_information",
         "0.0",
         "Node_has_not_woken_up_the_network_(passive_wakeup)",
         "Start_of_synchronized_shutdown_is_not_requested_by_main_coordinator",
         "0.0",
         "0.0",
         "Repeat_Message_State_not_requested",
         "User_data_for_current_vehicle_without_partial_networking",
         "inactive",
         "inactive",
         "inactive",
         "active",
         "inactive",
         "active",
         "inactive",
         "inactive",
         "255.0",
         "255.0",
         "255.0",
         "255.0",
         "19.0",
         "0.0",
         "NM_PDU_contains_no_Partial_Network_request_information",
         "0.0",
         "Node_has_woken_up_the_network_(active_Wakeup)",
         "Start_of_synchronized_shutdown_is_not_requested_by_main_coordinator",
         "0.0",
         "0.0",
         "Repeat_Message_State_not_requested",
         "User_data_not_used",
         "active",
         "inactive",
         "inactive",
         "inactive",
         "inactive",
         "active",
         "inactive",
         "inactive",
         "255.0",
         "255.0",
         "255.0",
         "255.0",
         "2.0",
         "1.0",
         "1.0",
         "8.0",
         "1.0",
         "2930200000.0",
         "2.0",
         "2.0",
         "1.0",
         "2930200000.0",
         "2.0",
         "2.0",
         "2.0",
         "120521.0",
         "1.0",
         "10.0",
         "60.0",
         "0.0",
         "NM_PDU_contains_no_Partial_Network_request_information",
         "0.0",
         "Node_has_not_woken_up_the_network_(passive_wakeup)",
         "Start_of_synchronized_shutdown_is_not_requested_by_main_coordinator",
         "0.0",
         "0.0",
         "Repeat_Message_State_not_requested",
         "User_data_for_current_vehicle_without_partial_networking",
         "active",
         "inactive",
         "active",
         "inactive",
         "inactive",
         "inactive",
         "inactive",
         "inactive",
         "255.0",
         "255.0",
         "255.0",
         "255.0",
         "0.0",
         "40.0",
         "40.0",
         "40.0",
         "Normal",
         "Cooling",
         "Not_triggered",
         "0.6",
         "Gear_0_request",
         "Gear_0_request",
         "0.6",
         "200.0",
         "9.0",
         "22.0",
         "not_homogenized",
         "Inactive",
         "22.0",
         "22.0",
         "22.0",
         "Normal",
         "Normal",
         "Normal",
         "Normal",
         "Normal",
         "Normal",
         "Normal",
         "Normal",
         "Normal",
         "Normal",
         "Normal",
         "Normal",
         "Normal",
         "Normal",
         "Normal",
         "Normal",
         "Normal",
         "Normal",
         "Normal",
         "Normal",
         "Normal",
         "Normal",
         "Normal",
         "Normal",
         "Normal",
         "Normal",
         "Normal",
         "Normal",
         "Normal",
         "Communication_normal",
         "Communication_normal",
         "Communication_normal",
         "Communication_normal",
         "Communication_normal",
         "Communication_normal",
         "Normal",
         "Normal",
         "Communication_normal",
         "Communication_normal",
         "25.0",
         "2930200000.0",
         "2.0",
         "2.0",
         "Not_cleared",
         "Value_OK",
         "35490.0",
         "0.0",
         "0.0",
         "1.0",
         "0.0",
         "0.0",
         "0.0",
         "0.0",
         "0.0",
         "0.0",
         "No_demand",
         "0.0",
         "Initializing",
         "Initial_Value",
         "No_request",
         "No_request",
         "No_request",
         "No_request",
         "No_request",
         "No_request",
         "No_request",
         "No_request",
         "No_request",
         "No_request",
         "No_request",
         "No_request",
         "No_request",
         "No_request",
         "No_request",
         "No_request",
         "No_request",
         "No_request",
         "No_request",
         "No_request",
         "No_request",
         "No_request",
         "No_request",
         "No_request",
         "0.0",
         "0.0",
         "NCM",
         "CATL",
         "1.0",
         "102.0",
         "2.0",
         "149.0",
         "2.5",
         "202.0",
         "11.0",
         "229122.0",
         "0.0",
         "36.0",
         "28131.0",
         "28565.0",
         "Off",
         "0.0",
         "0.0",
         "12.0",
         "27.0",
         "Battery_pack_2",
         "Battery_pack_1",
         "Battery_pack_1",
         "Battery_pack_3",
         "1.0",
         "6.0",
         "3673.0",
         "3673.0",
         "3672.0",
         "3673.0",
         "3673.0",
         "3673.0",
         "3672.0",
         "3672.0",
         "3672.0",
         "3673.0",
         "3673.0",
         "3671.0",
         "3672.0",
         "3671.0",
         "3672.0",
         "3671.0",
         "3672.0",
         "3671.0",
         "3671.0",
         "3671.0",
         "3670.0",
         "3671.0",
         "3671.0",
         "3671.0",
         "3672.0",
         "3669.0",
         "3667.0",
         "3670.0",
         "3671.0",
         "3670.0",
         "3670.0",
         "3670.0",
         "3670.0",
         "3670.0",
         "3670.0",
         "3671.0",
         "3670.0",
         "3669.0",
         "3671.0",
         "3672.0",
         "3672.0",
         "3672.0",
         "3671.0",
         "3671.0",
         "3671.0",
         "3668.0",
         "3671.0",
         "3671.0",
         "3671.0",
         "3670.0",
         "3671.0",
         "3673.0",
         "3672.0",
         "3673.0",
         "3672.0",
         "3671.0",
         "3672.0",
         "3672.0",
         "3672.0",
         "3669.0",
         "3673.0",
         "3673.0",
         "3671.0",
         "3671.0",
         "3672.0",
         "3671.0",
         "3671.0",
         "3671.0",
         "3672.0",
         "3673.0",
         "3672.0",
         "3673.0",
         "3672.0",
         "3673.0",
         "3673.0",
         "3673.0",
         "3672.0",
         "3673.0",
         "3673.0",
         "3673.0",
         "3672.0",
         "3671.0",
         "3672.0",
         "3670.0",
         "3672.0",
         "3672.0",
         "3672.0",
         "3673.0",
         "3672.0",
         "3673.0",
         "3672.0",
         "3673.0",
         "3672.0",
         "3672.0",
         "3672.0",
         "3673.0",
         "3672.0",
         "3670.0",
         "3672.0",
         "3670.0",
         "Invalid",
         "flag_bit_not_reached",
         "Default",
         "High",
         "Roll",
         "flag_bit_not_reached",
         "Default_Mode",
         "Invalid",
         "No_action",
         "No_action",
         "Anti-theft",
         "Default",
         "Default",
         "Eco",
         "High",
         "Initial_value",
         "Invalid_(treat_same_as_0x3)",
         "No_action",
         "90.0",
         "3671.0",
         "3672.0",
         "Invalid",
         "Invalid",
         "Invalid",
         "Invalid",
         "Invalid",
         "Invalid",
         "Invalid",
         "Invalid",
         "Invalid",
         "Invalid",
         "Invalid",
         "Invalid",
         "Invalid",
         "Invalid",
         "Invalid",
         "Invalid",
         "Invalid",
         "Invalid",
         "25.0",
         "24.0",
         "25.0",
         "25.0",
         "25.0",
         "26.0",
         "24.0",
         "25.0",
         "26.0",
         "25.0",
         "25.0",
         "24.0",
         "24.0",
         "25.0",
         "25.0",
         "Invalid",
         "Invalid",
         "Invalid",
         "Invalid",
         "Invalid",
         "Invalid",
         "Invalid",
         "Invalid",
         "Invalid",
         "Invalid",
         "Invalid",
         "Invalid",
         "Invalid",
         "Invalid",
         "Invalid",
         "Invalid",
         "Invalid",
         "0.0",
         "0.0",
         "0.0",
         "0.0",
         "0.0",
         "0.0",
         "0.0",
         "0.0",
         "0.0",
         "0.0",
         "0.0",
         "0.0",
         "0.0",
         "0.0",
         "0.0",
         "0.0",
         "0.0",
         "0.0",
         "0.0",
         "0.0",
         "0.0",
         "0.0",
         "0.0",
         "0.0",
         "0.0",
         "0.0",
         "0.0",
         "0.0",
         "0.0",
         "0.0",
         "0.0",
         "0.0",
         "0.0",
         "0.0",
         "0.0",
         "0.0",
         "0.0",
         "0.0",
         "0.0",
         "0.0",
         "0.0",
         "0.0",
         "0.0",
         "0.0",
         "0.0",
         "0.0",
         "0.0",
         "0.0",
         "0.0",
         "0.0",
         "0.0",
         "0.0",
         "0.0",
         "0.0",
         "0.0",
         "0.0",
         "0.0",
         "274038.0",
         "274038.0",
         "146.0",
         "6.0",
         "0.0",
         "0.0",
         "0.0",
         "0.0",
         "22.0",
         "Standby",
         "Standby",
         "6.0",
         "0.0",
         "0.0",
         "0.0",
         "No_error",
         "No_error",
         "No_error",
         "No_error",
         "No_error",
         "No_error",
         "No_error",
         "No_error",
         "No_error",
         "No_error",
         "No_error",
         "No_error",
         "Denied",
         "Inactive",
         "497.0",
         "0.0",
         "0.0",
         "544.0",
         "170.0",
         "0.0",
         "255.0",
         "214.0",
         "181.0",
         "165.0",
         "159.0",
         "157.0",
         "159.0",
         "162.0",
         "167.0",
         "174.0",
         "Freestart_mode",
         "Normal",
         "Not_learned",
         "55775504.0",
         "0.0",
         "0.0",
         "Normal",
         "Normal",
         "Normal",
         "Normal",
         "Normal",
         "Normal",
         "Normal",
         "Normal",
         "Normal",
         "Normal",
         "Normal",
         "Normal",
         "Normal",
         "Normal",
         "Normal",
         "Normal",
         "Normal",
         "Normal",
         "Normal",
         "Normal",
         "Normal",
         "Normal",
         "Normal",
         "Normal",
         "Normal",
         "Normal",
         "Normal",
         "Normal",
         "Normal",
         "Normal",
         "Normal",
         "0.0",
         "0.0",
         "0.0",
         "Initial_value",
         "Off",
         "Off",
         "0.0",
         "0.0",
         "6.0",
         "1.0",
         "11.0",
         "3.0",
         "13.0",
         "13.0",
         "0.0",
         "Initial_value",
         "19.0",
         "19.0",
         "19.0",
         "0.0",
         "0.0",
         "0.0",
         "0.0",
         "0.0",
         "1.0",
         "0.0",
         "0.0",
         "-420.0",
         "29.0",
         "15.0",
         "10.0",
         "2025.0",
         "6.0",
         "35.0",
         null,
         null,
         null,
         null,
         null,
         null,
         null,
         null,
         null,
         null,
         null,
         null,
         null,
         null,
         null,
         null,
         null,
         null,
         null,
         null,
         null,
         null,
         null,
         null,
         null,
         null,
         null,
         null,
         null,
         null,
         null,
         null,
         null,
         null,
         null,
         null,
         null,
         null,
         null,
         null,
         null,
         null,
         null,
         null,
         null,
         null,
         null,
         null,
         null,
         null,
         null,
         null,
         null,
         null,
         null,
         null,
         null,
         null,
         null,
         null,
         null,
         null,
         null,
         null,
         null,
         null,
         null,
         null,
         null,
         null,
         null,
         null,
         null,
         null,
         null,
         null,
         null,
         null,
         null,
         null,
         null,
         null,
         null,
         null,
         null,
         null,
         null,
         null,
         null,
         null,
         null,
         null,
         null,
         null,
         null,
         null,
         null,
         null,
         null,
         null,
         null,
         null,
         null,
         null,
         null,
         null,
         null,
         null,
         null,
         null,
         null,
         null,
         null,
         null,
         null,
         null,
         null,
         null,
         null,
         null,
         null,
         null,
         null,
         null,
         null,
         null,
         null,
         null,
         null,
         null,
         null,
         null,
         null,
         null,
         null,
         null,
         null,
         null,
         null,
         null,
         null,
         null,
         null,
         null,
         null,
         null,
         null,
         null,
         null,
         null,
         null,
         null,
         null,
         null,
         null,
         null,
         null,
         null,
         null,
         null,
         null,
         null,
         null,
         null,
         null,
         null,
         null,
         null,
         null,
         null,
         null,
         null,
         null,
         null,
         null,
         null,
         null,
         null,
         null,
         null,
         null,
         null,
         null,
         null,
         null,
         null,
         null,
         null,
         null,
         null,
         null,
         null,
         null,
         null,
         null,
         null,
         null,
         null,
         null,
         null,
         null,
         null,
         null,
         null,
         null,
         null,
         null,
         null,
         null,
         null,
         null,
         null,
         null,
         null,
         null,
         null,
         null,
         null,
         null,
         null,
         null,
         null,
         null,
         null,
         null,
         null,
         null,
         null,
         null,
         null,
         null,
         null,
         null,
         null,
         null,
         null,
         null,
         null,
         null,
         null,
         null,
         null,
         null,
         null,
         null,
         null,
         null,
         null,
         null,
         null,
         null,
         null,
         null,
         null,
         null,
         null,
         null,
         null,
         null,
         null,
         null,
         null,
         null,
         null,
         null,
         null,
         null,
         null,
         null,
         null,
         null,
         null,
         null,
         null,
         null,
         null,
         null,
         null,
         null,
         null,
         null,
         null,
         null,
         null,
         null,
         null,
         null
        ],
        [
         "2025-06-29 12:10:36+00:00",
         "216",
         "remote_control_not_ended",
         "No_request",
         "Ready",
         "10",
         "Valid",
         "Normal",
         "gear_P",
         "Valid",
         "Not_ready",
         "Not_ready",
         "gear_P",
         "Standby",
         "0.0",
         "Not_enabled",
         "Normal",
         "Eco",
         "Valid",
         "brake_pedal_not_pressed",
         "0",
         "0",
         "0",
         "0",
         "72.0",
         "No_Abort",
         "5.0",
         "245.8125",
         "Valid",
         "No_rotation",
         "Valid",
         "Calibrated",
         "0.0",
         "Valid",
         "Available_For_Control",
         "0.0",
         "216",
         "remote_control_not_ended",
         "No_request",
         "Ready",
         "10",
         "Valid",
         "Normal",
         "gear_P",
         "Valid",
         "Not_ready",
         "Not_ready",
         "gear_P",
         "Standby",
         "0.0",
         "Not_enabled",
         "Normal",
         "Eco",
         "Valid",
         "brake_pedal_not_pressed",
         "98",
         "P-Button2_not_pressed",
         "P-Button1_not_pressed",
         "12",
         "No_fault",
         "Gear_Lever_neutral_position_(N)",
         "P_button_invalid",
         "Invalid",
         "184",
         "10",
         "Not_forbidden",
         "No_Boost",
         "Valid",
         "Standby",
         "0.0",
         "134",
         "10",
         "Not_forbidden",
         "No_Boost",
         "Valid",
         "Standby",
         "0.0",
         "91",
         "12",
         "Washing_OFF",
         "Neutral_middle_position",
         "Default_state",
         "Off_default",
         "144",
         "12",
         "Valid",
         "0.0",
         "Stop",
         "Stop",
         "Valid",
         "0.0",
         "0",
         "init",
         "0",
         "Not_repeated",
         "Not_repeated",
         "Not_repeated",
         "Not_repeated",
         "Not_repeated",
         "Not_repeated",
         "Not_repeated",
         "0.0",
         "0",
         "Invalid",
         "0",
         "173.0",
         "Standstill",
         "Valid",
         "2.0",
         "-1.0",
         "Valid",
         "-0.5",
         "Standby",
         "Completed",
         "Disable",
         "Slip_control_deactivated",
         "Not_discharged",
         "29.0",
         "Standby_state",
         "With_request",
         "2.0",
         "300.0",
         "360.0",
         "25.0",
         "22.0",
         "Normal",
         "Normal",
         "Normal",
         "Normal",
         "Normal",
         "Normal",
         "Normal",
         "Normal",
         "Normal",
         "Normal",
         "Normal",
         "Normal",
         "Normal",
         "Normal",
         "Normal",
         "Normal",
         "Normal",
         "Normal",
         "Normal",
         "Normal",
         "Normal",
         "Normal",
         "Normal",
         "Normal",
         "Normal",
         "Normal",
         "Normal",
         "Normal",
         "Normal",
         "Normal",
         "Normal",
         "Normal",
         "Normal",
         "Normal",
         "Normal",
         "Normal",
         "Normal",
         "Normal",
         "Normal",
         "Normal",
         "240.0",
         "Standstill",
         "Valid",
         "5.0",
         "-1.0",
         "Valid",
         "0.0",
         "Disconnect_in_progress",
         "Standby",
         "Completed",
         "Disable",
         "Slip_control_deactivated",
         "Not_discharged",
         "91.0",
         "Standby_state",
         "With_request",
         "5.0",
         "300.0",
         "360.0",
         "24.0",
         "24.0",
         "Normal",
         "Normal",
         "Normal",
         "Normal",
         "Normal",
         "Normal",
         "Normal",
         "Normal",
         "Normal",
         "Normal",
         "Normal",
         "Normal",
         "Normal",
         "Normal",
         "Normal",
         "Normal",
         "Normal",
         "Normal",
         "Normal",
         "Normal",
         "Normal",
         "Normal",
         "Normal",
         "Normal",
         "Normal",
         "Normal",
         "Normal",
         "Normal",
         "Normal",
         "Normal",
         "Normal",
         "Normal",
         "Normal",
         "Normal",
         "Normal",
         "Normal",
         "Normal",
         "Normal",
         "Normal",
         "Normal",
         "176",
         "Reserved",
         "Reserved",
         "4",
         "Initial_value",
         "Standby",
         "Invalid",
         "26",
         "1",
         "3_meters_or_less",
         "On_line",
         "Reserved",
         "Not_Pressed",
         null,
         null,
         "Inactive",
         "Inactive",
         "Authentication_Valid",
         "96.5",
         "96.5",
         "97.5",
         "97.5",
         "250",
         "Tunnel/Tunnel",
         "without_remote_control",
         "Void",
         "Void",
         "without_remote_control",
         "without_remote_control",
         "without_remote_control",
         "No_remote_setting",
         "No_remote_setting",
         "without_remote_control",
         "without_remote_control",
         "No_request",
         "No_remote_view_command",
         "No_remote_setting",
         "No_remote_setting",
         "No_Req_/_Stop_heating",
         "EcallUnmute",
         "without_control",
         "Void",
         "eCall_DEACTIVATED",
         "106",
         "No_Announcement",
         "8",
         "Valid",
         "IGN_On",
         "Active",
         "Valid",
         "Valid",
         "No_Pressed",
         "Inactive",
         "Active",
         "Active",
         "87",
         "Not_Use",
         "No",
         "8",
         "Auto",
         "On",
         "Inactive",
         "On",
         "Off",
         "Inactive",
         "Inactive",
         "Inactive",
         "Inactive",
         "Inactive",
         "Inactive",
         "Off",
         "Off",
         "Off",
         "Off",
         "Off",
         "Off",
         "Off",
         "Off",
         "Off",
         "Off",
         "Off",
         "Off",
         "All_On",
         "On",
         "Off",
         "Inactive",
         "Off",
         "Off",
         "Active",
         "0",
         "Off",
         "300",
         "157",
         "Not_active_Not_enabled",
         "Successful",
         "8",
         "Closed",
         "Open",
         "Inactive",
         "Inactive",
         "Unlock",
         "Inactive",
         "Closed",
         "Closed",
         "Closed",
         "Closed",
         "driver's_door",
         "Inactive",
         "Anti_Theft_system_Unset",
         "Inactive",
         "Follow_Me_Closed",
         "Closed",
         "Closed",
         "Closed",
         "Closed",
         "Not_Active",
         "Inactive",
         "Inactive",
         "Off",
         "Off",
         "Inactive",
         "0",
         "Inactive",
         "Stopped",
         "Available",
         "Horizontal_sliding_zone",
         "42",
         "Stopped",
         "HUD_Measuring_Range_1(4cd/m2)",
         "8",
         "0.0",
         "0.0",
         "54.5",
         "18.0",
         "48",
         "0",
         "158",
         "Not_Inhibit",
         "Not_Ready",
         "8",
         "Not_buckled",
         "Not_buckled",
         "Invalid",
         "Seat_not_occupied",
         "Fault",
         "Fault",
         "Not_buckled",
         "Invalid",
         "Invalid",
         "Seat_not_occupied",
         "Seat_not_occupied",
         "0.0",
         "0.0",
         "0.0",
         "Level_1",
         "Closed",
         "Closed",
         "Closed",
         "Off",
         "Off",
         "Off",
         "Off",
         "Off",
         "0.0",
         "OFF_status",
         "No_Error",
         "no_signal",
         "OK",
         "Normal",
         "Normal",
         "Normal",
         "Not_closed",
         "Invalid",
         "Normal",
         "Normal",
         "Normal",
         "Normal",
         "Normal",
         "Invalid",
         "209",
         "8",
         "Not_Failed",
         "Not_Failed",
         "Not_Failed",
         "Not_Failed",
         "Not_Failed",
         "Not_Failed",
         "Not_Failed",
         "Not_Failed",
         "Not_Failed",
         "Not_Failed",
         "Not_Failed",
         "Not_Failed",
         "Not_Failed",
         "Not_Failed",
         "validkey_found",
         "Not_Failed",
         "Not_Failed",
         "Not_Failed",
         "Not_Failed",
         "15.0",
         "0.0",
         "2.49",
         "49",
         "Active",
         "NotActive",
         "5",
         "BMS_ActiveSet_BMStoActiveMode_WhereitisAWakeAndOperating",
         "NO_Charging_NoChargerisConnected",
         "BALANCING_ON_BalancingisallowedByVCU",
         "HV_ON_BatteryShouldbeConnected",
         "0",
         "0",
         "0",
         "0",
         "155",
         "2",
         "0.0",
         "No_Failure",
         "No_Error",
         "No_Override_Not_Overcovered",
         "Initial_value",
         "Without_Request",
         "No_request",
         "Power_immobilizer_authentication_request_is_not_allowed",
         "0",
         "202",
         "No_Fault",
         "Not_Ready",
         "13",
         "No_Request",
         "DTC_Not_Active",
         "EBD_Not_Active",
         "TCS_Standby",
         "ESP_Standby",
         "Available",
         "Not_Active",
         "Available",
         "Not_Active",
         "Available",
         "Not_Active",
         "Available",
         "Not_Active",
         "No_Fault",
         "Not_High",
         "Standstill",
         "Available",
         "Not_Active",
         "No_Error",
         "Not_Active",
         "166.0",
         "Open",
         "Open",
         "13.0",
         "0.12",
         "374.6",
         "0.0",
         "99",
         "Initial_value",
         "Not_connected",
         "2",
         "No_Error",
         "Not_connected",
         "Initial_value",
         "Standby",
         "no_Error",
         "Initial_value",
         "235",
         "4",
         "443.58",
         "0.0",
         "Open",
         "V2L_trunk_active",
         "Initial_value",
         "Power_mode",
         "0",
         "0",
         "0",
         "0",
         "0",
         "74",
         "Initial",
         "1",
         "Initial_value",
         "Without_Request",
         "Initial_Value",
         "Init_value",
         "Initial_value",
         "Initial_value",
         "No_action",
         "0",
         "Initial_Value",
         "off",
         "no_trigger",
         "Invalid",
         "Default_Mode",
         "Scheduled_Charging_Req_Inactive",
         "15",
         "11",
         "6",
         "-4.9998775",
         "0.0",
         "Not_available",
         "74",
         "Initial",
         "1",
         "Initial_value",
         "Without_Request",
         "Initial_Value",
         "Init_value",
         "Initial_value",
         "Initial_value",
         "No_action",
         "0",
         "Initial_Value",
         "off",
         "no_trigger",
         "Invalid",
         "Default_Mode",
         "Scheduled_Charging_Req_Inactive",
         "15",
         "67",
         "16",
         "141",
         "Flag_inactive",
         "Flag_active",
         "Flag_inactive",
         "Flag_inactive",
         "Flag_inactive",
         "No_active_wakeup_demand",
         "5",
         "4",
         "22.0",
         "12.0",
         "235",
         "4",
         "443.58",
         "0.0",
         "Open",
         "V2L_trunk_active",
         "Initial_value",
         "Power_mode",
         "11.644",
         "14.042",
         "22.5",
         "IBS_OK",
         "Current_range_I2",
         "79.0",
         "3.0",
         "1.7",
         "374.5",
         "34",
         "Immo_Inactive",
         "No_request",
         "1",
         "Standby",
         "Initialization",
         "Initializing",
         "Not_enabled",
         "No_request",
         "Initial_value",
         "No_Request_No_Request",
         "Valid",
         "Initializing",
         "No_Request",
         "No_Request_No_Request",
         "No_Request_No_Request",
         "Idle",
         "Inhibit",
         "False_Unintervened",
         "Initializing",
         "No_Request",
         null,
         null,
         "78.0",
         "ErrorNotActive",
         "WarningNotActive",
         "ErrorNotActive",
         "WarningNotActive",
         "3.0",
         "ErrorNotActive",
         "WarningNotActive",
         "ErrorNotActive",
         "WarningNotActive",
         "ErrorNotActive",
         "WarningNotActive",
         "ErrorNotActive",
         "WarningNotActive",
         "ErrorNotActive",
         "ErrorNotActive",
         "ErrorNotActive",
         "WarningNotActive",
         "ErrorNotActive",
         "ErrorNotActive",
         "ErrorNotActive",
         "ErrorNotActive",
         "ErrorNotActive",
         "ErrorNotActive",
         "ErrorNotActive",
         "ErrorNotActive",
         "WarningNotActive",
         "ErrorNotActive",
         "ErrorNotActive",
         "ErrorNotActive",
         "ErrorNotActive",
         "WarningNotActive",
         "ErrorNotActive",
         "WarningNotActive",
         "ErrorNotActive",
         "ErrorNotActive",
         "ErrorNotActive",
         "ErrorNotActive",
         "ErrorNotActive",
         "WarningNotActive",
         "ErrorNotActive",
         "WarningNotActive",
         "ErrorNotActive",
         "WarningNotActive",
         "ErrorNotActive",
         "WarningNotActive",
         "ErrorNotActive",
         "73.0",
         "66.0",
         "SNA",
         "14.05",
         "6.07",
         "154.0",
         "3.0",
         "1687.7",
         "926.0",
         "33.0",
         "30.5",
         "50",
         "Not_recalibrated",
         "43.0",
         "3.0",
         "BMS_BALC_DEActivATED",
         "BMS_OperatIONAL",
         "CATOK",
         "CATOK",
         "CATOK",
         "CATOK",
         "CATOK",
         "CATOK",
         "CATOK",
         "CATFailure",
         "On",
         "On",
         "OK",
         "OK",
         "OK",
         "OK",
         "OK",
         "CATOK",
         "OK",
         "OK",
         "OK",
         "OK",
         "OK",
         "On",
         "HV_active",
         "0.0",
         "123.0",
         "3.0",
         "0.0",
         "0.0",
         "23.0",
         "3.0",
         "Normal",
         "Normal",
         "Normal",
         "Normal",
         "Normal",
         "Normal",
         "Normal",
         "Normal",
         "Normal",
         "Normal",
         "374.1",
         "Function_safety_mechanism_startup_state_code",
         "54",
         "Off",
         "13",
         "Off",
         "On",
         "Available",
         "Closed_caliper_is_clamped",
         "Valid",
         "Neutral",
         "Off",
         null,
         "Press_Keep_The_Seatbelt_Attached_And_The_Door_Closed",
         "228",
         "Brake_Pedal_Not_Pressed",
         "Valid",
         "13",
         "No_Telltale_Requested",
         "No_Telltale_Requested",
         "No_Telltale_Requested",
         "No_Telltale_Requested",
         "Valid",
         "0",
         "0.0",
         "Inactive_not_enabled",
         "Exist_Brk_Force",
         "Available",
         "Off",
         "No_Telltale_Requested",
         "Not_In_Initialization_Mode",
         "242.0",
         "3.0",
         "1.72",
         "0.92",
         "374.5",
         "Normal",
         "Normal",
         "Normal",
         "Normal",
         "Normal",
         "Normal",
         "Normal",
         "Normal",
         "Normal",
         "Normal",
         "Normal",
         "Normal",
         "Normal",
         "Normal",
         "Normal",
         "Normal",
         "Normal",
         "Normal",
         "Normal",
         "Normal",
         "Normal",
         "Normal",
         "Normal",
         "Normal",
         "Normal",
         "Normal",
         "Normal",
         "Normal",
         "Normal",
         "Normal",
         "Normal",
         "Normal",
         "Normal",
         "Normal",
         "Normal",
         "Normal",
         "Normal",
         "Normal",
         "Normal",
         "Normal",
         "Normal",
         "Normal",
         "Normal",
         "Normal",
         "Normal",
         "Normal",
         "Normal",
         "Normal",
         "Normal",
         "Normal",
         "Normal",
         "Normal",
         "high-voltage_power-off",
         "high-voltage_power-off",
         "Normal",
         "Normal",
         "Normal",
         "Normal",
         "Normal",
         "Normal",
         "Initial_value",
         "Initial_value",
         "Initial_value",
         "Not_set",
         "Not_set",
         "0.0",
         "0.0",
         "Initial_value",
         "0",
         "0.0",
         "0.0",
         "Enable",
         "Request_shutdown",
         "15.0",
         "0",
         "0",
         "242",
         "0",
         "No_Percieved_Speed_Limit_change_notification_request",
         "No_high_priority_popup_requested",
         "KPH",
         "No_low_priority_popup_requested",
         "0",
         "0",
         "0",
         "Invalid",
         "Not_completed",
         "Do_not_wake_up",
         "Normal_mode",
         "Not_waken_up",
         "Not_waken_up",
         "Not_waken_up",
         "Not_waken_up",
         "Not_waken_up",
         "Not_waken_up",
         "Not_waken_up",
         "Not_ended",
         "Not_ended",
         "Unlocking_command_state",
         "Not_ended",
         "Not_waken_up",
         "READY_allowed",
         "Not_waken_up",
         "No",
         "Initial_value",
         "Initial_value",
         "Yes",
         "No",
         "No",
         "No",
         "Idle",
         "Initial_value",
         null,
         "90",
         "Not_ended",
         "Reserved",
         "No_demand",
         "Initial_value",
         "gear_P",
         "67",
         "Enable",
         "Inactive",
         "6",
         "Roll",
         "High",
         "High",
         "Normal",
         "Normal",
         "no_display",
         "MPH",
         "No_Display",
         "Off",
         "No_Inhibit_request",
         "Not_Ready",
         "Boost_unavailable:_Drive_Mode",
         "Inhibition_not_ok",
         "OTA_veh_cond_ok",
         "0.0",
         "0.32",
         "0.66",
         "0.0",
         "0",
         "0",
         "off",
         "Not_power_off",
         "off",
         "Not_waken_up",
         "0.0",
         "-0.6",
         "0",
         "10",
         "Init",
         "0",
         "0.0",
         "0.0",
         "80",
         "Initial_value",
         "6",
         "0",
         "brake_OFF",
         "Do_not_wake_up",
         "0",
         "Initial_value",
         "Initial_value",
         "Not_waken_up",
         "Initialization",
         "Not_ended",
         "Not_Inhibit",
         "Initial_value",
         "initializing",
         "Initial_value",
         "Initial_value",
         "No_fault",
         "No_fault",
         "No_fault",
         "No_fault",
         "No_fault",
         "Not_active",
         "No_demand",
         "Not_fully_charged",
         "No",
         "No",
         "No",
         "No",
         "No",
         "No",
         "No_fault",
         "Initial_value",
         "off",
         "No_request",
         "No_fault",
         "Initial_value",
         "Initial_value",
         "Not_arrived",
         "Normal",
         "Initial_value",
         "0",
         "Initial_value",
         "Initial_value",
         "Thermal_insulation_off",
         "84",
         "1",
         "Inactve",
         "ESA_OffCoded",
         "No_Suppressed",
         "Off",
         "LKA_Off",
         "Off",
         "On_available",
         "Off",
         "Off",
         "Off",
         "Off",
         "Default",
         "0.0",
         "0.0",
         "0",
         "Initial_value",
         "Not_Reached_per_km",
         "not_displayed",
         "No_fault",
         "No_fault",
         "0.1097",
         "0.0",
         "Initial_value",
         "Normal",
         "Not_displayed",
         "Light_out",
         "Normal_lamp_off",
         "Normal",
         "Normal",
         "Invalid",
         "Invalid",
         "No_display",
         "No_fault",
         "0.0",
         "237.0",
         "Not_set",
         "-3",
         "Valid",
         "0.0",
         "0.0",
         "0.0",
         "Disable",
         "Normal",
         "Normal",
         "Light_out",
         "Energy_recovery_allowed",
         "not_displayed",
         "Kwh/100_km_displayed",
         "Light_out",
         "Shutdown",
         "Light_out",
         "Normal",
         "OTA_veh_cond_ok",
         "OTA_veh_cond_not_ok",
         "Normal",
         "Normal",
         "Initial_value",
         "Not_collided",
         "Invalid",
         "Disconnect",
         "Enable",
         "Enable",
         "No_fault",
         "No_fault",
         "No_fault",
         "No_fault",
         "14.2",
         "0.0",
         "Initial_value",
         "Neutral",
         "14.042",
         "Normal",
         "Normal",
         "Normal",
         "Normal",
         "Normal",
         "Initial_value",
         "Normal",
         "Normal",
         "Normal",
         "Normal",
         "Normal",
         "Normal",
         "Normal",
         "Normal",
         "Normal",
         "Normal",
         "Normal",
         "Normal",
         "Normal",
         "Normal",
         "NTC2_open_circuit",
         "Normal",
         "Normal",
         "Normal",
         "Normal",
         "Normal",
         "0.0",
         "Normal",
         "Normal",
         "Normal",
         "12.0",
         "256",
         "0",
         "31",
         "3673.0",
         "3667.0",
         "3671.0",
         "13.363",
         "196.0",
         "12.0",
         "1288.0",
         "775.4",
         "195",
         "Not_Inhibit",
         "Not_Illuminate",
         "Not_Active",
         "14",
         "Not_Active",
         "Available",
         "Standby",
         "Not_Active",
         "Available",
         "Not_Active",
         "init_not_active",
         "HBB_Normal_Mode",
         "Not_Active",
         "Available",
         "210.0",
         "12.0",
         "0.0",
         "0.0",
         "215.0",
         "12.0",
         "Normal",
         "Normal",
         "38.0",
         "288.12",
         "Thermally_insulated",
         "Normal",
         "No_Thermal_Runaway",
         "No_fault",
         "0.0",
         "0.0",
         "0.0",
         "0.0",
         "On",
         "Off",
         "turn_on_ambient_light",
         "100",
         "10",
         "0",
         "Level_1",
         "237",
         "Not_Ready",
         "12",
         "Off",
         "Off",
         "Off",
         "Off",
         "Off",
         "neutral",
         "Off",
         "No_request",
         "No_remote_control",
         "No_remote_control",
         "Not_waken_up",
         "No_Request",
         "No_remote_control",
         "No_remote_control",
         "Disable",
         "Inactive",
         "Inactive",
         "0",
         "Normal",
         "Normal",
         "Normal",
         "3G_or_4G_LTE_CAT-1_and_below_(downllink_less_than_10_Mbps)",
         "Strong",
         "No_Inhibit_request",
         "No_request",
         "Normal",
         "Normal",
         "Normal",
         "Normal",
         "199",
         "102",
         "38",
         "73",
         "No_request",
         "No_remote_control",
         "No_remote_control",
         "Not_waken_up",
         "No_Request",
         "No_remote_control",
         "No_remote_control",
         "Disable",
         "Inactive",
         "Inactive",
         "0",
         "Normal",
         "Normal",
         "Normal",
         "3G_or_4G_LTE_CAT-1_and_below_(downllink_less_than_10_Mbps)",
         "Strong",
         "No_Inhibit_request",
         "No_request",
         "Normal",
         "Normal",
         "Normal",
         "Normal",
         "MaxHeight_Setting",
         "0",
         "0",
         "No_Failure",
         "Inactive",
         "No_whistle",
         "No_Blink",
         "Full_Latched_PawlSwOff_tail_door_lock_full_locking_state",
         "Trunk_Closed",
         "Inactive",
         "Inactive",
         "Inactive",
         "Inactive",
         "Inactive",
         "Learnt,_With_Maximum_Height_Customization_Allowed",
         "Inactive",
         "Not_Ready",
         "Not_Inhibit",
         "Closed",
         "No_Pinch",
         "29",
         "233.0",
         "no_crash,_level_0",
         "6.0",
         "no_crash,_level_0",
         "no_crash,_level_0",
         "no_crash,_level_0",
         "no_crash,_level_0",
         "no_crash",
         "162",
         "Default",
         "11",
         "No_Blind",
         "No_Failure",
         "Default",
         "Low_Beam_Request",
         "0",
         "170",
         "No_request",
         "No_request",
         "11",
         "No_Req",
         "Not_moving",
         "No_hazard_warning",
         "No_request",
         "TP_Replay_failed",
         "TP_Replay_not_available",
         "RAP_not_available",
         "Inactive",
         "Inactive",
         "No_request",
         "Off",
         "off",
         "Invalid",
         "0",
         "without_remote_control",
         "0",
         "207",
         "230",
         "34",
         "174",
         "162",
         "Initial",
         "Initial",
         "9",
         "Invalid",
         "Auth_Valid",
         "No_Request",
         "Not_In_Learning_Mode",
         "Inactive",
         null,
         null,
         "43",
         "213",
         "255",
         "59",
         "162",
         "Initial",
         "Initial",
         "9",
         "Invalid",
         "Auth_Valid",
         "No_Request",
         "Not_In_Learning_Mode",
         "Inactive",
         null,
         null,
         "152.0",
         "Normal",
         "7.0",
         "Parklock_engaged",
         "94.0",
         "Seat_not_occupied",
         "6.0",
         "Seat_not_occupied",
         "LED_1_2_ON/OFF",
         "Warning_lamp_off",
         "Seat_not_formost_position",
         "Seat_not_formost_position",
         "Not_Buckled",
         "Not_Buckled",
         "63.0",
         "No_Pressed",
         "No_Pressed",
         "3.0",
         "No_Pressed_Not_pressed",
         "No_Pressed",
         "No_Pressed",
         "No_Pressed",
         "No_Pressed",
         "No_Pressed_Not_pressed",
         "No_Pressed",
         "No_Pressed",
         "No_Pressed",
         "No_Pressed",
         "No_Pressed_Not_pressed",
         "No_Pressed_Not_pressed",
         "No_failure",
         "No_failure",
         "43.0",
         "0.0",
         "NM_PDU_contains_no_Partial_Network_request_information",
         "0.0",
         "Node_has_not_woken_up_the_network_(passive_wakeup)",
         "Start_of_synchronized_shutdown_is_not_requested_by_main_coordinator",
         "0.0",
         "0.0",
         "Repeat_Message_State_not_requested",
         "User_data_not_used",
         "inactive",
         "inactive",
         "inactive",
         "inactive",
         "inactive",
         "inactive",
         "inactive",
         "inactive",
         "255.0",
         "255.0",
         "255.0",
         "255.0",
         "53.0",
         "0.0",
         "NM_PDU_contains_no_Partial_Network_request_information",
         "0.0",
         "Node_has_not_woken_up_the_network_(passive_wakeup)",
         "Start_of_synchronized_shutdown_is_not_requested_by_main_coordinator",
         "0.0",
         "0.0",
         "Repeat_Message_State_not_requested",
         "User_data_not_used",
         "inactive",
         "inactive",
         "inactive",
         "inactive",
         "inactive",
         "inactive",
         "inactive",
         "inactive",
         "255.0",
         "255.0",
         "255.0",
         "255.0",
         "OTA_no_request",
         "0",
         "0",
         "185",
         "Initial",
         "Initial",
         "13",
         "On",
         "0",
         "0",
         "199",
         "51",
         "161",
         "31",
         "Inactive",
         "Reserved",
         "Reserved",
         "Reserved",
         "Reserved",
         "Inactive",
         "Invalid",
         "Invalid",
         "Inactive",
         "Inactive",
         "Inside",
         "Initial/Welcome_Light_0ff",
         "Initial",
         "14",
         "0",
         "0",
         "0",
         "199",
         "186",
         "97",
         "93",
         "37.0",
         "0.0",
         "NM_PDU_contains_no_Partial_Network_request_information",
         "0.0",
         "Node_has_not_woken_up_the_network_(passive_wakeup)",
         "Start_of_synchronized_shutdown_is_not_requested_by_main_coordinator",
         "0.0",
         "0.0",
         "Repeat_Message_State_not_requested",
         "User_data_not_used",
         "active",
         "active",
         "active",
         "active",
         "active",
         "active",
         "active",
         "active",
         "255.0",
         "255.0",
         "255.0",
         "255.0",
         "25",
         "0.0",
         "Normal",
         "Normal",
         "Normal",
         "Normal",
         "Normal",
         "Normal",
         "Standby",
         "Normal",
         "Normal",
         "Normal",
         "Normal",
         "Normal",
         "Normal",
         "Normal",
         "Normal",
         "35",
         "0.0",
         "Normal",
         "Normal",
         "Normal",
         "Normal",
         "Normal",
         "Normal",
         "Standby",
         "Normal",
         "Normal",
         "Normal",
         "Normal",
         "Normal",
         "Normal",
         "Normal",
         "Normal",
         "21",
         "21",
         "0",
         "21",
         "Power_working_mode",
         "Gear_0",
         "Power_supply",
         "initialized",
         "Passvive",
         "Inactive",
         "Invalid",
         "System_Warning_Invalid",
         "Initial",
         "Inactive",
         "No_Information",
         "No_Information",
         "No_Information",
         "Reserved",
         "No_error",
         "Invalid",
         "Reserved",
         "Passvive",
         "Inactive",
         "Invalid",
         "System_Warning_Invalid",
         "Initial",
         "Inactive",
         "No_Information",
         "No_Information",
         "No_Information",
         "Reserved",
         "No_error",
         "Invalid",
         "Reserved",
         "39",
         "137",
         "217",
         "252",
         "Invalid",
         "Valid",
         "Invalid",
         "376.2",
         "0.0",
         "0.0",
         "-48",
         "25",
         "0",
         "25",
         "Power_working_mode",
         "Gear_0",
         "Power_supply",
         "initialized",
         "Default",
         "No_Forget",
         "No_Charge",
         "NO_Exist",
         "Off",
         "Off",
         "Off",
         "Initial",
         "inactive",
         "no_connection_",
         "known_device_connected",
         "inactive",
         "Auto_Unlock/Lock_Disabled",
         "0",
         "User_Profile_ID_number1(guest/default)",
         "0",
         "0",
         "0",
         "0",
         "2.0",
         "8.0",
         "36.8",
         "375.1",
         "1.6",
         "14.2",
         "5",
         "62",
         "72",
         "62",
         "Off",
         "Off",
         "Off",
         "Off",
         "0",
         "INIT",
         "0",
         "203",
         "219",
         "143",
         "196",
         "16.0",
         "8.0",
         "23.0",
         "Working",
         "Normal",
         "Normal",
         "Normal",
         "Normal",
         "Normal",
         "Normal",
         "Normal",
         "Normal",
         "Normal",
         "Normal",
         "No_Fault",
         "Normal",
         "20.0",
         "71.0",
         "Inovance",
         "8.0",
         "0.0",
         "0.0",
         "0.0",
         "59.0",
         "Unlocking_state",
         "50.0",
         "220V",
         "8.0",
         "250.0",
         "480.0",
         "0.2",
         "137.0",
         "8.0",
         "Normal",
         "Normal",
         "Normal",
         "Normal",
         "Normal",
         "Normal",
         "Normal",
         "Normal",
         "Normal",
         "Normal",
         "Normal",
         "Normal",
         "Normal",
         "Normal",
         "Normal",
         "Normal",
         "No_Fault",
         "220.0",
         "8.0",
         "119.6",
         "11.4",
         "1.0",
         "33",
         "87",
         "75",
         "0.0",
         "0.0",
         "25.0",
         "28.0",
         "14.0",
         "29.0",
         "53.0",
         "Buck",
         "Discharging",
         "117.0",
         "Initial_value",
         "0.0",
         "0.0",
         "0.0",
         "initialized",
         "Standby",
         "Normal",
         "Normal",
         "Normal",
         "Normal",
         "Normal",
         "Normal",
         "Normal",
         "Normal",
         "27",
         "0.0",
         "190.0",
         "20.0",
         "561.7",
         "25.0",
         "Off",
         "Off",
         "Off",
         "Off",
         "Off",
         "Off",
         "103.0",
         "6.6kw",
         "OK",
         "8.0",
         "Initial",
         "Initial",
         "1.5",
         "23.0",
         "VTOL_Trunk_Discharge",
         "Normal",
         "Normal",
         "Working",
         "Initial",
         "Normal",
         "Normal",
         "Normal",
         "Normal",
         "Normal",
         "Normal",
         "184.0",
         "233.0",
         "66.0",
         "54.0",
         "Off",
         "Off",
         "Normal_operating_state",
         "initialization_completed",
         "42",
         "80",
         "Rotation_allowed",
         "RelayOpen",
         "RelayOpen",
         "0.0",
         "5938.0",
         "RelayOpen",
         "RelayOpen",
         "0.0",
         "8877.0",
         "RelayClosed",
         "RelayClosed",
         "0.0",
         "10717.0",
         "RelayClosed",
         "RelayClosed",
         "0.0",
         "10856.0",
         "RelayOpen",
         "RelayOpen",
         "0.0",
         "9875.0",
         "170.0",
         "ErrorNotActive",
         "WarningNotActive",
         "ErrorNotActive",
         "WarningNotActive",
         "5.0",
         "ErrorNotActive",
         "WarningNotActive",
         "ErrorNotActive",
         "ErrorNotActive",
         "ErrorNotActive",
         "ErrorNotActive",
         "ErrorNotActive",
         "WarningNotActive",
         "ErrorNotActive",
         "ErrorNotActive",
         "ErrorNotActive",
         "ErrorNotActive",
         "WarningNotActive",
         "ErrorNotActive",
         "ErrorNotActive",
         "WarningNotActive",
         "ErrorNotActive",
         "ErrorNotActive",
         "ErrorNotActive",
         "WarningNotActive",
         "ErrorNotActive",
         "ErrorNotActive",
         "ErrorNotActive",
         "WarningNotActive",
         "ErrorNotActive",
         "WarningNotActive",
         "ErrorNotActive",
         "ErrorNotActive",
         "0.0",
         "38.0",
         "41.2",
         "98.0",
         "255.0",
         "55.0",
         "5.0",
         "1000.0",
         "457.3",
         "4347.0",
         "2500.0",
         "1310.7",
         "926.0",
         "90.0",
         "5.0",
         "0.0",
         "0.0",
         "443.6",
         "255.0",
         "17.0",
         "18.0",
         "5976.0",
         "5971.0",
         "2668.0",
         "2666.0",
         "Normal",
         "No_fault",
         "No_fault",
         "Not_balanced",
         "No_fault",
         "Fault",
         "No_fault",
         "No_fault",
         "Normal",
         "Normal",
         "Normal",
         "Normal",
         "Normal",
         "Normal",
         "Normal",
         "Normal",
         "Normal",
         "Normal",
         "Normal",
         "Normal",
         "Normal",
         "Normal",
         "Normal",
         "Normal",
         "Normal",
         "Normal",
         "Normal",
         "Normal",
         "Normal",
         "Normal",
         "Normal",
         "Normal",
         "Normal",
         "Normal",
         "Normal",
         "Normal",
         "Normal",
         "Normal",
         "Reserved",
         "Abnormal",
         "Reserved",
         "Normal",
         "Normal",
         "Normal",
         "Normal",
         "Normal",
         "Normal",
         "Normal",
         "Normal",
         "Abnormal",
         "Abnormal",
         "Abnormal",
         "Normal",
         "Normal",
         "Normal",
         "Normal",
         "Normal",
         "Normal",
         "Normal",
         "Normal",
         "95.0",
         "Initial",
         "5.0",
         "24.0",
         "2.0",
         "26.0",
         "25.0",
         "Power_reduction_not_allowed",
         "cycling",
         "-48.0",
         "255.0",
         "255.0",
         "255.0",
         "255.0",
         "255.0",
         "973733900.0",
         "50.0",
         "255.0",
         "CountersOK",
         "RelayOK",
         "RelayOK",
         "10717.0",
         "0.0",
         "0.0",
         "0.0",
         "0.0",
         "0.0",
         "CountersOK",
         "RelayOK",
         "RelayOK",
         "10856.0",
         "0.0",
         "0.0",
         "0.0",
         "0.0",
         "0.0",
         "CountersOK",
         "RelayOK",
         "RelayOK",
         "9875.0",
         "0.0",
         "0.0",
         "0.0",
         "0.0",
         "0.0",
         "25.0",
         "25.5",
         "25.0",
         "0.0",
         "0.0",
         "CountersOK",
         "RelayOK",
         "RelayOK",
         "0.0",
         "0.0",
         "0.0",
         "0.0",
         "0.0",
         "0.0",
         "CountersOK",
         "RelayOK",
         "RelayOK",
         "0.0",
         "0.0",
         "0.0",
         "0.0",
         "0.0",
         "0.0",
         "Off",
         "Off",
         "Off",
         "No_Action",
         "No_Action",
         "No_Action",
         "No_Action",
         "No_Action",
         "No_Action",
         "No_Action",
         "No_Action",
         "No_Action",
         "No_Action",
         "No_Action",
         "No_Action",
         "Not_Change",
         "Off",
         "Initial",
         "Off",
         "Off",
         "PSK",
         "Inactive",
         "Inactive",
         "Check",
         "Inactive",
         "Check",
         "144",
         "Level_1",
         "6",
         "Normal",
         "turn_on_ambient_light",
         "Initial",
         "Normal",
         "Init,_No_request",
         "Normal",
         "No_Pressed",
         "Level_1",
         "OFF",
         "no_reset",
         "0",
         "Init",
         "Init",
         "No_Failure",
         "No_Failure",
         "Initial",
         "Idle",
         "Idle",
         "Low",
         "Not_Change",
         "Reserved(Nobody)",
         "Not_Change",
         "Not_Change",
         "Not_Change",
         "Not_Change",
         "Not_Change",
         "No_Request",
         "Not_Change",
         "Init",
         "Not_Change",
         "windless_gear",
         "Incoming_Call",
         "on",
         "off",
         "mi_(miles)",
         "Closed",
         "Closed",
         "Fahrnheit",
         "Level_5",
         "Yes",
         "No",
         "No",
         "No",
         "No",
         "0",
         "Not_ON",
         "Guisance_Inactive",
         "Initial_value",
         "Inactive",
         "English_(CA)",
         "Default",
         "No_Display",
         "Value_OK",
         "35490.0",
         "0",
         "Init",
         "No_Error_No_error",
         "No_Failure",
         "MPH",
         "0",
         "35490.0",
         "Not_cleared",
         "Value_OK",
         "Off",
         "Off",
         "Off",
         "Off",
         "Off",
         "Off",
         "Release",
         "Release",
         "Release",
         "Release",
         "Void",
         "Void",
         "Void",
         "void",
         "No_Request",
         "0.0",
         "Ready",
         "Air_Conditioning_power_on_(Short)",
         "no_warning",
         "3.1",
         "2.8",
         "No_Action",
         "Reserved",
         "Reserved",
         "Invalid",
         "Invalid",
         "No_Action",
         "No_Action",
         "No_Action",
         "Level_3_upwards_60%",
         "Invalid",
         "Invalid",
         "No_Action",
         "ON_state",
         "Self_circulation_state",
         "initialization_completed",
         "Load_initialization",
         "Rear_face_blowing",
         "Windless_gear",
         "On",
         "Low",
         "Low",
         "Initializing",
         "Inner_circulation_state",
         "Natural_wind",
         "On",
         "Off",
         "Off_state",
         "22.0",
         "driver_face_blowing_mode",
         "Functional",
         "Normal",
         "Not_opened",
         "Valid",
         "Initial",
         "Standby",
         "front_passenger_face_blowing_mode",
         "0",
         "0",
         "0.0",
         "Standby",
         "Disable",
         "Standby",
         "Gear_0",
         "Gear_0",
         "20.0",
         "Valid",
         "Inactive",
         "Invalid",
         "Off",
         "0",
         "56",
         "0",
         "0",
         "21",
         "20",
         "Gear_0",
         "Gear_0",
         "21",
         "21",
         "20",
         "21",
         "20",
         "22",
         "24",
         "21",
         "Run",
         "Run",
         "Run",
         "Shutdown",
         "Standby_Standby",
         "Shutdown",
         "Normal",
         "Normal",
         "0",
         "52",
         "26",
         "100",
         "0",
         "Normal",
         "0.0",
         "0.0",
         "0.0",
         "0.0",
         "0.0",
         "0.0",
         "41.18",
         "40",
         "Hands-off_detected",
         "5",
         "Hands-off_detected",
         "No_Response_Error",
         "No_error",
         "OFF",
         "0.0",
         "0.0",
         "0.0",
         "0.0",
         "0.0",
         "0.0",
         "0.0",
         "0.0",
         "303",
         "Init",
         "above_50_miles-no_warning",
         "0.0",
         "0.0",
         "0.0",
         "0.0",
         "0.0",
         "0.0",
         "0.0",
         "0.0",
         "0.0",
         "0.0",
         "0.0",
         "0.0",
         "0.0",
         "0.0",
         "Default",
         "0.0",
         "0.0",
         "0",
         "6.0",
         "1881342000.0",
         "161.0",
         "211.0",
         "39.0",
         "0.0",
         "NM_PDU_contains_no_Partial_Network_request_information",
         "0.0",
         "Node_has_not_woken_up_the_network_(passive_wakeup)",
         "Start_of_synchronized_shutdown_is_not_requested_by_main_coordinator",
         "0.0",
         "0.0",
         "Repeat_Message_State_not_requested",
         "User_data_for_current_vehicle_without_partial_networking",
         "inactive",
         "inactive",
         "active",
         "inactive",
         "inactive",
         "inactive",
         "inactive",
         "inactive",
         "255.0",
         "255.0",
         "255.0",
         "255.0",
         "24.0",
         "0.0",
         "NM_PDU_contains_no_Partial_Network_request_information",
         "0.0",
         "Node_has_not_woken_up_the_network_(passive_wakeup)",
         "Start_of_synchronized_shutdown_is_not_requested_by_main_coordinator",
         "0.0",
         "0.0",
         "Repeat_Message_State_not_requested",
         "User_data_for_current_vehicle_without_partial_networking",
         "active",
         "inactive",
         "inactive",
         "inactive",
         "inactive",
         "active",
         "inactive",
         "inactive",
         "255.0",
         "255.0",
         "255.0",
         "255.0",
         "Sound_I",
         "Working_Status",
         "No_Output_No_input",
         "Indicator_Off_(VSP_Enable)_indicator_off",
         "Initial",
         "Not_Work_Inoperative",
         "Speaker_Not_Working_horn_not_ringing",
         "38.0",
         "0.0",
         "NM_PDU_contains_no_Partial_Network_request_information",
         "0.0",
         "Node_has_not_woken_up_the_network_(passive_wakeup)",
         "Start_of_synchronized_shutdown_is_not_requested_by_main_coordinator",
         "0.0",
         "0.0",
         "Repeat_Message_State_not_requested",
         "User_data_for_current_vehicle_without_partial_networking",
         "inactive",
         "inactive",
         "active",
         "active",
         "inactive",
         "inactive",
         "inactive",
         "inactive",
         "255.0",
         "255.0",
         "255.0",
         "255.0",
         "92.0",
         "valid",
         "Idle",
         "8.0",
         "0.0",
         null,
         null,
         "0_degree",
         "no_rotation",
         "32.0",
         "0.0",
         "NM_PDU_contains_no_Partial_Network_request_information",
         "0.0",
         "Node_has_woken_up_the_network_(active_Wakeup)",
         "Start_of_synchronized_shutdown_is_not_requested_by_main_coordinator",
         "0.0",
         "0.0",
         "Repeat_Message_State_not_requested",
         "User_data_for_current_vehicle_without_partial_networking",
         "inactive",
         "inactive",
         "active",
         "active",
         "inactive",
         "active",
         "inactive",
         "inactive",
         "255.0",
         "255.0",
         "255.0",
         "255.0",
         "17.0",
         "18.0",
         "0.0",
         "255.0",
         "973733900.0",
         "50.0",
         "255.0",
         "0",
         "227",
         "valid",
         "no_action",
         "10",
         "0.0",
         "10",
         "0",
         "1",
         "0",
         "1",
         "247",
         "68",
         "157",
         "252",
         "0",
         "0",
         "NC",
         "NC",
         "Unmute",
         "Main_Volume_Step_0~39",
         "Low",
         "iESS_Mode_1",
         "Chime_Volume_Step_5",
         "Surround",
         "OFF",
         "HFM_Colume_Step_0~39",
         "No_Action",
         "Navi_Volume_Step_0~39",
         "Action",
         "No_Action",
         "RT_Step_0~39",
         "No_Action",
         "No_Action",
         "VR/TTS_Step_0~39",
         "54.0",
         "0.0",
         "NM_PDU_contains_no_Partial_Network_request_information",
         "0.0",
         "Node_has_woken_up_the_network_(active_Wakeup)",
         "Start_of_synchronized_shutdown_is_not_requested_by_main_coordinator",
         "0.0",
         "0.0",
         "Repeat_Message_State_not_requested",
         "User_data_for_current_vehicle_without_partial_networking",
         "inactive",
         "inactive",
         "active",
         "active",
         "inactive",
         "active",
         "inactive",
         "inactive",
         "255.0",
         "255.0",
         "255.0",
         "255.0",
         "1.0",
         "0.0",
         "NM_PDU_contains_no_Partial_Network_request_information",
         "0.0",
         "Node_has_not_woken_up_the_network_(passive_wakeup)",
         "Start_of_synchronized_shutdown_is_not_requested_by_main_coordinator",
         "0.0",
         "0.0",
         "Repeat_Message_State_not_requested",
         "User_data_for_current_vehicle_without_partial_networking",
         "inactive",
         "inactive",
         "inactive",
         "active",
         "inactive",
         "active",
         "inactive",
         "inactive",
         "255.0",
         "255.0",
         "255.0",
         "255.0",
         "19.0",
         "0.0",
         "NM_PDU_contains_no_Partial_Network_request_information",
         "0.0",
         "Node_has_woken_up_the_network_(active_Wakeup)",
         "Start_of_synchronized_shutdown_is_not_requested_by_main_coordinator",
         "0.0",
         "0.0",
         "Repeat_Message_State_not_requested",
         "User_data_not_used",
         "active",
         "inactive",
         "inactive",
         "inactive",
         "inactive",
         "active",
         "inactive",
         "inactive",
         "255.0",
         "255.0",
         "255.0",
         "255.0",
         "2.0",
         "1.0",
         "1.0",
         "8.0",
         "1.0",
         "2930200000.0",
         "2.0",
         "2.0",
         "1.0",
         "2930200000.0",
         "2.0",
         "2.0",
         "2.0",
         "120521.0",
         "1.0",
         "10.0",
         "60.0",
         "0.0",
         "NM_PDU_contains_no_Partial_Network_request_information",
         "0.0",
         "Node_has_not_woken_up_the_network_(passive_wakeup)",
         "Start_of_synchronized_shutdown_is_not_requested_by_main_coordinator",
         "0.0",
         "0.0",
         "Repeat_Message_State_not_requested",
         "User_data_for_current_vehicle_without_partial_networking",
         "active",
         "inactive",
         "active",
         "inactive",
         "inactive",
         "inactive",
         "inactive",
         "inactive",
         "255.0",
         "255.0",
         "255.0",
         "255.0",
         "0.0",
         "40.0",
         "40.0",
         "40.0",
         "Normal",
         "Cooling",
         "Not_triggered",
         "0.6",
         "Gear_0_request",
         "Gear_0_request",
         "0.6",
         "47.0",
         "10.0",
         "22.0",
         "not_homogenized",
         "Inactive",
         "22.0",
         "22.0",
         "22.0",
         "Normal",
         "Normal",
         "Normal",
         "Normal",
         "Normal",
         "Normal",
         "Normal",
         "Normal",
         "Normal",
         "Normal",
         "Normal",
         "Normal",
         "Normal",
         "Normal",
         "Normal",
         "Normal",
         "Normal",
         "Normal",
         "Normal",
         "Normal",
         "Normal",
         "Normal",
         "Normal",
         "Normal",
         "Normal",
         "Normal",
         "Normal",
         "Normal",
         "Normal",
         "Communication_normal",
         "Communication_normal",
         "Communication_normal",
         "Communication_normal",
         "Communication_normal",
         "Communication_normal",
         "Normal",
         "Normal",
         "Communication_normal",
         "Communication_normal",
         "25.0",
         "2930200000.0",
         "2.0",
         "2.0",
         "Not_cleared",
         "Value_OK",
         "35490.0",
         "0.0",
         "0.0",
         "1.0",
         "0.0",
         "0.0",
         "0.0",
         "0.0",
         "0.0",
         "0.0",
         "No_demand",
         "0.0",
         "Initializing",
         "Initial_Value",
         "No_request",
         "No_request",
         "No_request",
         "No_request",
         "No_request",
         "No_request",
         "No_request",
         "No_request",
         "No_request",
         "No_request",
         "No_request",
         "No_request",
         "No_request",
         "No_request",
         "No_request",
         "No_request",
         "No_request",
         "No_request",
         "No_request",
         "No_request",
         "No_request",
         "No_request",
         "No_request",
         "No_request",
         "0.0",
         "0.0",
         "NCM",
         "CATL",
         "1.0",
         "102.0",
         "2.0",
         "149.0",
         "2.5",
         "202.0",
         "11.0",
         "229122.0",
         "0.0",
         "36.0",
         null,
         null,
         "Off",
         "0.0",
         "0.0",
         "12.0",
         "27.0",
         "Battery_pack_2",
         "Battery_pack_1",
         "Battery_pack_1",
         "Battery_pack_3",
         "1.0",
         "6.0",
         null,
         null,
         null,
         null,
         null,
         null,
         null,
         null,
         null,
         null,
         null,
         null,
         null,
         null,
         null,
         null,
         null,
         null,
         null,
         null,
         null,
         null,
         null,
         null,
         null,
         null,
         null,
         null,
         null,
         null,
         null,
         null,
         null,
         null,
         null,
         null,
         null,
         null,
         null,
         null,
         null,
         null,
         null,
         null,
         null,
         null,
         null,
         null,
         null,
         null,
         null,
         null,
         null,
         null,
         null,
         null,
         null,
         null,
         null,
         null,
         null,
         null,
         null,
         null,
         null,
         null,
         null,
         null,
         null,
         null,
         null,
         null,
         null,
         null,
         null,
         null,
         null,
         null,
         null,
         null,
         null,
         null,
         null,
         null,
         null,
         null,
         null,
         null,
         null,
         null,
         null,
         null,
         null,
         null,
         null,
         null,
         null,
         null,
         null,
         null,
         "Invalid",
         "flag_bit_not_reached",
         "Default",
         "High",
         "Roll",
         "flag_bit_not_reached",
         "Default_Mode",
         "Invalid",
         "No_action",
         "No_action",
         "Anti-theft",
         "Default",
         "Default",
         "Eco",
         "High",
         "Initial_value",
         "Invalid_(treat_same_as_0x3)",
         "No_action",
         "90.0",
         null,
         null,
         null,
         null,
         null,
         null,
         null,
         null,
         null,
         null,
         null,
         null,
         null,
         null,
         null,
         null,
         null,
         null,
         null,
         null,
         null,
         null,
         null,
         null,
         null,
         null,
         null,
         null,
         null,
         null,
         null,
         null,
         null,
         null,
         null,
         null,
         null,
         null,
         null,
         null,
         null,
         null,
         null,
         null,
         null,
         null,
         null,
         null,
         null,
         null,
         null,
         null,
         null,
         null,
         null,
         null,
         null,
         null,
         null,
         null,
         null,
         null,
         null,
         null,
         null,
         null,
         null,
         null,
         null,
         null,
         null,
         null,
         null,
         null,
         null,
         null,
         null,
         null,
         null,
         null,
         null,
         null,
         null,
         null,
         null,
         null,
         null,
         null,
         null,
         null,
         null,
         null,
         null,
         null,
         null,
         null,
         null,
         null,
         null,
         null,
         null,
         null,
         null,
         null,
         null,
         null,
         null,
         null,
         "0.0",
         "274038.0",
         "274038.0",
         "207.0",
         "7.0",
         "0.0",
         "0.0",
         "0.0",
         "0.0",
         "75.0",
         "Standby",
         "Standby",
         "7.0",
         "0.0",
         "0.0",
         "0.0",
         "No_error",
         "No_error",
         "No_error",
         "No_error",
         "No_error",
         "No_error",
         "No_error",
         "No_error",
         "No_error",
         "No_error",
         "No_error",
         "No_error",
         "Denied",
         "Inactive",
         "497.0",
         "0.0",
         "0.0",
         "640.0",
         "170.0",
         "0.0",
         "255.0",
         "214.0",
         "181.0",
         "165.0",
         "159.0",
         "157.0",
         "159.0",
         "162.0",
         "167.0",
         "174.0",
         "Freestart_mode",
         "Normal",
         "Not_learned",
         "55775504.0",
         "0.0",
         "0.0",
         "Normal",
         "Normal",
         "Normal",
         "Normal",
         "Normal",
         "Normal",
         "Normal",
         "Normal",
         "Normal",
         "Normal",
         "Normal",
         "Normal",
         "Normal",
         "Normal",
         "Normal",
         "Normal",
         "Normal",
         "Normal",
         "Normal",
         "Normal",
         "Normal",
         "Normal",
         "Normal",
         "Normal",
         "Normal",
         "Normal",
         "Normal",
         "Normal",
         "Normal",
         "Normal",
         "Normal",
         "0.0",
         "0.0",
         "0.0",
         "Initial_value",
         "Off",
         "Off",
         "0.0",
         "0.0",
         "6.0",
         "1.0",
         "11.0",
         "3.0",
         "13.0",
         "13.0",
         "0.0",
         "Initial_value",
         "19.0",
         "19.0",
         "19.0",
         "0.0",
         "0.0",
         "0.0",
         "0.0",
         "0.0",
         "1.0",
         "0.0",
         "0.0",
         "-420.0",
         "29.0",
         "15.0",
         "10.0",
         "2025.0",
         "6.0",
         "36.0",
         "0.0",
         "0.0",
         "0.0",
         null,
         null,
         null,
         null,
         null,
         null,
         null,
         null,
         null,
         null,
         null,
         null,
         null,
         null,
         null,
         null,
         null,
         null,
         null,
         null,
         null,
         null,
         null,
         null,
         null,
         null,
         null,
         null,
         null,
         null,
         null,
         null,
         null,
         null,
         null,
         null,
         null,
         null,
         null,
         null,
         null,
         null,
         null,
         null,
         null,
         null,
         null,
         null,
         null,
         null,
         null,
         null,
         null,
         null,
         null,
         null,
         null,
         null,
         null,
         null,
         null,
         null,
         null,
         null,
         null,
         null,
         null,
         null,
         null,
         null,
         null,
         null,
         null,
         null,
         null,
         null,
         null,
         null,
         null,
         null,
         null,
         null,
         null,
         null,
         null,
         null,
         null,
         null,
         null,
         null,
         null,
         null,
         null,
         null,
         null,
         null,
         null,
         null,
         null,
         null,
         null,
         null,
         null,
         null,
         null,
         null,
         null,
         null,
         null,
         null,
         null,
         null,
         null,
         null,
         null,
         null,
         null,
         null,
         null,
         null,
         null,
         null,
         null,
         null,
         null,
         null,
         null,
         null,
         null,
         null,
         null,
         null,
         null,
         null,
         null,
         null,
         null,
         null,
         null,
         null,
         null,
         null,
         null,
         null,
         null,
         null,
         null,
         null,
         null,
         null,
         null,
         null,
         null,
         null,
         null,
         null,
         null,
         null,
         null,
         null,
         null,
         null,
         null,
         null,
         null,
         null,
         null,
         null,
         null,
         null,
         null,
         null,
         null,
         null,
         null,
         null,
         null,
         null,
         null,
         null,
         null,
         null,
         null,
         null,
         null,
         null,
         null,
         null,
         null,
         null,
         null,
         null,
         null,
         null,
         null,
         null,
         null,
         null,
         null,
         null,
         null,
         null,
         null,
         null,
         null,
         null,
         null,
         null,
         null,
         null,
         null,
         null,
         null,
         null,
         null,
         null,
         null,
         null,
         null,
         null,
         null,
         null,
         null,
         null,
         null,
         null,
         null,
         null,
         null,
         null,
         null,
         null,
         null,
         null,
         null,
         null,
         null,
         null,
         null,
         null,
         null,
         null,
         null,
         null,
         null,
         null,
         null,
         null,
         null,
         null,
         null,
         null,
         null,
         null,
         null,
         null,
         null,
         null,
         null,
         null,
         null,
         null,
         null,
         null,
         null,
         null,
         null,
         null,
         null,
         null,
         null,
         null,
         null,
         null,
         null,
         null,
         null,
         null,
         null,
         null,
         null,
         null,
         null,
         null
        ],
        [
         "2025-06-29 12:10:37+00:00",
         "132",
         "remote_control_not_ended",
         "No_request",
         "Ready",
         "5",
         "Valid",
         "Normal",
         "gear_P",
         "Valid",
         "Not_ready",
         "Not_ready",
         "gear_P",
         "Standby",
         "0.0",
         "Not_enabled",
         "Normal",
         "Eco",
         "Valid",
         "brake_pedal_not_pressed",
         "0",
         "0",
         "0",
         "0",
         "124.0",
         "No_Abort",
         "0.0",
         "245.8125",
         "Valid",
         "No_rotation",
         "Valid",
         "Calibrated",
         "0.0",
         "Valid",
         "Available_For_Control",
         "0.0",
         "132",
         "remote_control_not_ended",
         "No_request",
         "Ready",
         "5",
         "Valid",
         "Normal",
         "gear_P",
         "Valid",
         "Not_ready",
         "Not_ready",
         "gear_P",
         "Standby",
         "0.0",
         "Not_enabled",
         "Normal",
         "Eco",
         "Valid",
         "brake_pedal_not_pressed",
         "132",
         "P-Button2_not_pressed",
         "P-Button1_not_pressed",
         "1",
         "No_fault",
         "Gear_Lever_neutral_position_(N)",
         "P_button_invalid",
         "Invalid",
         "228",
         "5",
         "Not_forbidden",
         "No_Boost",
         "Valid",
         "Standby",
         "0.0",
         "218",
         "5",
         "Not_forbidden",
         "No_Boost",
         "Valid",
         "Standby",
         "0.0",
         "189",
         "1",
         "Washing_OFF",
         "Neutral_middle_position",
         "Default_state",
         "Off_default",
         "165",
         "7",
         "Valid",
         "0.0",
         "Stop",
         "Stop",
         "Valid",
         "0.0",
         "0",
         "init",
         "0",
         "Not_repeated",
         "Not_repeated",
         "Not_repeated",
         "Not_repeated",
         "Not_repeated",
         "Not_repeated",
         "Not_repeated",
         "0.0",
         "0",
         "Invalid",
         "0",
         "166.0",
         "Standstill",
         "Valid",
         "12.0",
         "-1.0",
         "Valid",
         "0.0",
         "Standby",
         "Completed",
         "Disable",
         "Slip_control_deactivated",
         "Not_discharged",
         "28.0",
         "Standby_state",
         "With_request",
         "12.0",
         "300.0",
         "360.0",
         "25.0",
         "22.0",
         "Normal",
         "Normal",
         "Normal",
         "Normal",
         "Normal",
         "Normal",
         "Normal",
         "Normal",
         "Normal",
         "Normal",
         "Normal",
         "Normal",
         "Normal",
         "Normal",
         "Normal",
         "Normal",
         "Normal",
         "Normal",
         "Normal",
         "Normal",
         "Normal",
         "Normal",
         "Normal",
         "Normal",
         "Normal",
         "Normal",
         "Normal",
         "Normal",
         "Normal",
         "Normal",
         "Normal",
         "Normal",
         "Normal",
         "Normal",
         "Normal",
         "Normal",
         "Normal",
         "Normal",
         "Normal",
         "Normal",
         "34.0",
         "Standstill",
         "Valid",
         "0.0",
         "0.0",
         "Valid",
         "0.0",
         "Disconnect_in_progress",
         "Standby",
         "Completed",
         "Disable",
         "Slip_control_deactivated",
         "Not_discharged",
         "111.0",
         "Standby_state",
         "With_request",
         "0.0",
         "300.0",
         "360.0",
         "24.0",
         "24.0",
         "Normal",
         "Normal",
         "Normal",
         "Normal",
         "Normal",
         "Normal",
         "Normal",
         "Normal",
         "Normal",
         "Normal",
         "Normal",
         "Normal",
         "Normal",
         "Normal",
         "Normal",
         "Normal",
         "Normal",
         "Normal",
         "Normal",
         "Normal",
         "Normal",
         "Normal",
         "Normal",
         "Normal",
         "Normal",
         "Normal",
         "Normal",
         "Normal",
         "Normal",
         "Normal",
         "Normal",
         "Normal",
         "Normal",
         "Normal",
         "Normal",
         "Normal",
         "Normal",
         "Normal",
         "Normal",
         "Normal",
         "147",
         "Reserved",
         "Reserved",
         "0",
         "Initial_value",
         "Standby",
         "Invalid",
         "26",
         "3",
         "3_meters_or_less",
         "On_line",
         "Reserved",
         "Not_Pressed",
         null,
         null,
         "Inactive",
         "Inactive",
         "Authentication_Valid",
         "96.5",
         "96.5",
         "97.5",
         "97.5",
         "250",
         "Tunnel/Tunnel",
         "without_remote_control",
         "Void",
         "Void",
         "without_remote_control",
         "without_remote_control",
         "without_remote_control",
         "No_remote_setting",
         "No_remote_setting",
         "without_remote_control",
         "without_remote_control",
         "No_request",
         "No_remote_view_command",
         "No_remote_setting",
         "No_remote_setting",
         "No_Req_/_Stop_heating",
         "EcallUnmute",
         "without_control",
         "Void",
         "eCall_DEACTIVATED",
         "94",
         "No_Announcement",
         "13",
         "Valid",
         "IGN_On",
         "Active",
         "Valid",
         "Valid",
         "No_Pressed",
         "Inactive",
         "Active",
         "Active",
         "99",
         "Not_Use",
         "No",
         "13",
         "Auto",
         "On",
         "Inactive",
         "On",
         "Off",
         "Inactive",
         "Inactive",
         "Inactive",
         "Inactive",
         "Inactive",
         "Inactive",
         "Off",
         "Off",
         "Off",
         "Off",
         "Off",
         "Off",
         "Off",
         "Off",
         "Off",
         "Off",
         "Off",
         "Off",
         "All_On",
         "On",
         "Off",
         "Inactive",
         "Off",
         "Off",
         "Active",
         "0",
         "Off",
         "300",
         "169",
         "Not_active_Not_enabled",
         "Successful",
         "13",
         "Closed",
         "Open",
         "Inactive",
         "Inactive",
         "Unlock",
         "Inactive",
         "Closed",
         "Closed",
         "Closed",
         "Closed",
         "driver's_door",
         "Inactive",
         "Anti_Theft_system_Unset",
         "Inactive",
         "Follow_Me_Closed",
         "Closed",
         "Closed",
         "Closed",
         "Closed",
         "Not_Active",
         "Inactive",
         "Inactive",
         "Off",
         "Off",
         "Inactive",
         "0",
         "Inactive",
         "Stopped",
         "Available",
         "Horizontal_sliding_zone",
         "161",
         "Stopped",
         "HUD_Measuring_Range_1(4cd/m2)",
         "13",
         "0.0",
         "0.0",
         "55.0",
         "17.5",
         "45",
         "0",
         "171",
         "Not_Inhibit",
         "Not_Ready",
         "3",
         "Not_buckled",
         "Not_buckled",
         "Invalid",
         "Seat_not_occupied",
         "Fault",
         "Fault",
         "Not_buckled",
         "Invalid",
         "Invalid",
         "Seat_not_occupied",
         "Seat_not_occupied",
         "0.0",
         "0.0",
         "0.0",
         "Level_1",
         "Closed",
         "Closed",
         "Closed",
         "Off",
         "Off",
         "Off",
         "Off",
         "Off",
         "0.0",
         "OFF_status",
         "No_Error",
         "no_signal",
         "OK",
         "Normal",
         "Normal",
         "Normal",
         "Not_closed",
         "Invalid",
         "Normal",
         "Normal",
         "Normal",
         "Normal",
         "Normal",
         "Invalid",
         "228",
         "3",
         "Not_Failed",
         "Not_Failed",
         "Not_Failed",
         "Not_Failed",
         "Not_Failed",
         "Not_Failed",
         "Not_Failed",
         "Not_Failed",
         "Not_Failed",
         "Not_Failed",
         "Not_Failed",
         "Not_Failed",
         "Not_Failed",
         "Not_Failed",
         "validkey_found",
         "Not_Failed",
         "Not_Failed",
         "Not_Failed",
         "Not_Failed",
         "15.0",
         "0.0",
         "2.49",
         "109",
         "Active",
         "NotActive",
         "10",
         "BMS_ActiveSet_BMStoActiveMode_WhereitisAWakeAndOperating",
         "NO_Charging_NoChargerisConnected",
         "BALANCING_ON_BalancingisallowedByVCU",
         "HV_ON_BatteryShouldbeConnected",
         "0",
         "0",
         "0",
         "0",
         "175",
         "7",
         "0.0",
         "No_Failure",
         "No_Error",
         "No_Override_Not_Overcovered",
         "Initial_value",
         "Without_Request",
         "No_request",
         "Power_immobilizer_authentication_request_is_not_allowed",
         "0",
         "203",
         "No_Fault",
         "Not_Ready",
         "3",
         "No_Request",
         "DTC_Not_Active",
         "EBD_Not_Active",
         "TCS_Standby",
         "ESP_Standby",
         "Available",
         "Not_Active",
         "Available",
         "Not_Active",
         "Available",
         "Not_Active",
         "Available",
         "Not_Active",
         "No_Fault",
         "Not_High",
         "Standstill",
         "Available",
         "Not_Active",
         "No_Error",
         "Not_Active",
         "245.0",
         "Open",
         "Open",
         "3.0",
         "0.14",
         "374.5",
         "0.0",
         "10",
         "Initial_value",
         "Not_connected",
         "6",
         "No_Error",
         "Not_connected",
         "Initial_value",
         "Standby",
         "no_Error",
         "Initial_value",
         "13",
         "9",
         "443.58",
         "0.0",
         "Open",
         "V2L_trunk_active",
         "Initial_value",
         "Power_mode",
         "0",
         "0",
         "0",
         "0",
         "0",
         "34",
         "Initial",
         "11",
         "Initial_value",
         "Without_Request",
         "Initial_Value",
         "Init_value",
         "Initial_value",
         "Initial_value",
         "No_action",
         "0",
         "Initial_Value",
         "off",
         "no_trigger",
         "Invalid",
         "Default_Mode",
         "Scheduled_Charging_Req_Inactive",
         "129",
         "11",
         "1",
         "-4.9998775",
         "0.0",
         "Not_available",
         "34",
         "Initial",
         "11",
         "Initial_value",
         "Without_Request",
         "Initial_Value",
         "Init_value",
         "Initial_value",
         "Initial_value",
         "No_action",
         "0",
         "Initial_Value",
         "off",
         "no_trigger",
         "Invalid",
         "Default_Mode",
         "Scheduled_Charging_Req_Inactive",
         "55",
         "221",
         "81",
         "184",
         "Flag_inactive",
         "Flag_active",
         "Flag_inactive",
         "Flag_inactive",
         "Flag_inactive",
         "No_active_wakeup_demand",
         "5",
         "4",
         "22.0",
         "12.0",
         "13",
         "9",
         "443.58",
         "0.0",
         "Open",
         "V2L_trunk_active",
         "Initial_value",
         "Power_mode",
         "11.573",
         "14.041",
         "22.5",
         "IBS_OK",
         "Current_range_I2",
         "88.0",
         "8.0",
         "1.5",
         "374.5",
         "172",
         "Immo_Inactive",
         "No_request",
         "6",
         "Standby",
         "Initialization",
         "Initializing",
         "Not_enabled",
         "No_request",
         "Initial_value",
         "No_Request_No_Request",
         "Valid",
         "Initializing",
         "No_Request",
         "No_Request_No_Request",
         "No_Request_No_Request",
         "Idle",
         "Inhibit",
         "False_Unintervened",
         "Initializing",
         "No_Request",
         null,
         null,
         "123.0",
         "ErrorNotActive",
         "WarningNotActive",
         "ErrorNotActive",
         "WarningNotActive",
         "8.0",
         "ErrorNotActive",
         "WarningNotActive",
         "ErrorNotActive",
         "WarningNotActive",
         "ErrorNotActive",
         "WarningNotActive",
         "ErrorNotActive",
         "WarningNotActive",
         "ErrorNotActive",
         "ErrorNotActive",
         "ErrorNotActive",
         "WarningNotActive",
         "ErrorNotActive",
         "ErrorNotActive",
         "ErrorNotActive",
         "ErrorNotActive",
         "ErrorNotActive",
         "ErrorNotActive",
         "ErrorNotActive",
         "ErrorNotActive",
         "WarningNotActive",
         "ErrorNotActive",
         "ErrorNotActive",
         "ErrorNotActive",
         "ErrorNotActive",
         "WarningNotActive",
         "ErrorNotActive",
         "WarningNotActive",
         "ErrorNotActive",
         "ErrorNotActive",
         "ErrorNotActive",
         "ErrorNotActive",
         "ErrorNotActive",
         "WarningNotActive",
         "ErrorNotActive",
         "WarningNotActive",
         "ErrorNotActive",
         "WarningNotActive",
         "ErrorNotActive",
         "WarningNotActive",
         "ErrorNotActive",
         "73.0",
         "66.0",
         "SNA",
         "14.05",
         "6.07",
         "175.0",
         "8.0",
         "1687.7",
         "926.0",
         "33.0",
         "30.5",
         "50",
         "Not_recalibrated",
         "30.0",
         "8.0",
         "BMS_BALC_DEActivATED",
         "BMS_OperatIONAL",
         "CATOK",
         "CATOK",
         "CATOK",
         "CATOK",
         "CATOK",
         "CATOK",
         "CATOK",
         "CATFailure",
         "On",
         "On",
         "OK",
         "OK",
         "OK",
         "OK",
         "OK",
         "CATOK",
         "OK",
         "OK",
         "OK",
         "OK",
         "OK",
         "On",
         "HV_active",
         "0.0",
         "78.0",
         "8.0",
         "0.0",
         "0.0",
         "34.0",
         "8.0",
         "Normal",
         "Normal",
         "Normal",
         "Normal",
         "Normal",
         "Normal",
         "Normal",
         "Normal",
         "Normal",
         "Normal",
         "374.1",
         "Function_safety_mechanism_startup_state_code",
         "55",
         "Off",
         "3",
         "Off",
         "On",
         "Available",
         "Closed_caliper_is_clamped",
         "Valid",
         "Neutral",
         "Off",
         null,
         "Press_Keep_The_Seatbelt_Attached_And_The_Door_Closed",
         "229",
         "Brake_Pedal_Not_Pressed",
         "Valid",
         "3",
         "No_Telltale_Requested",
         "No_Telltale_Requested",
         "No_Telltale_Requested",
         "No_Telltale_Requested",
         "Valid",
         "0",
         "0.0",
         "Inactive_not_enabled",
         "Exist_Brk_Force",
         "Available",
         "Off",
         "No_Telltale_Requested",
         "Not_In_Initialization_Mode",
         "6.0",
         "8.0",
         "1.48",
         "-0.92",
         "374.5",
         "Normal",
         "Normal",
         "Normal",
         "Normal",
         "Normal",
         "Normal",
         "Normal",
         "Normal",
         "Normal",
         "Normal",
         "Normal",
         "Normal",
         "Normal",
         "Normal",
         "Normal",
         "Normal",
         "Normal",
         "Normal",
         "Normal",
         "Normal",
         "Normal",
         "Normal",
         "Normal",
         "Normal",
         "Normal",
         "Normal",
         "Normal",
         "Normal",
         "Normal",
         "Normal",
         "Normal",
         "Normal",
         "Normal",
         "Normal",
         "Normal",
         "Normal",
         "Normal",
         "Normal",
         "Normal",
         "Normal",
         "Normal",
         "Normal",
         "Normal",
         "Normal",
         "Normal",
         "Normal",
         "Normal",
         "Normal",
         "Normal",
         "Normal",
         "Normal",
         "Normal",
         "high-voltage_power-off",
         "high-voltage_power-off",
         "Normal",
         "Normal",
         "Normal",
         "Normal",
         "Normal",
         "Normal",
         "Initial_value",
         "Initial_value",
         "Initial_value",
         "Not_set",
         "Not_set",
         "0.0",
         "0.0",
         "Initial_value",
         "0",
         "0.0",
         "0.0",
         "Enable",
         "Request_shutdown",
         "15.0",
         "0",
         "0",
         "198",
         "5",
         "No_Percieved_Speed_Limit_change_notification_request",
         "No_high_priority_popup_requested",
         "KPH",
         "No_low_priority_popup_requested",
         "0",
         "0",
         "0",
         "Invalid",
         "Not_completed",
         "Do_not_wake_up",
         "Normal_mode",
         "Not_waken_up",
         "Not_waken_up",
         "Not_waken_up",
         "Not_waken_up",
         "Not_waken_up",
         "Not_waken_up",
         "Not_waken_up",
         "Not_ended",
         "Not_ended",
         "Unlocking_command_state",
         "Not_ended",
         "Not_waken_up",
         "READY_allowed",
         "Not_waken_up",
         "No",
         "Initial_value",
         "Initial_value",
         "Yes",
         "No",
         "No",
         "No",
         "Idle",
         "Initial_value",
         null,
         "90",
         "Not_ended",
         "Reserved",
         "No_demand",
         "Initial_value",
         "gear_P",
         "205",
         "Enable",
         "Inactive",
         "1",
         "Roll",
         "High",
         "High",
         "Normal",
         "Normal",
         "no_display",
         "MPH",
         "No_Display",
         "Off",
         "No_Inhibit_request",
         "Not_Ready",
         "Boost_unavailable:_Drive_Mode",
         "Inhibition_not_ok",
         "OTA_veh_cond_ok",
         "0.0",
         "0.32",
         "0.66",
         "0.0",
         "0",
         "0",
         "off",
         "Not_power_off",
         "off",
         "Not_waken_up",
         "0.0",
         "-0.7",
         "0",
         "10",
         "Init",
         "0",
         "0.0",
         "0.0",
         "222",
         "Initial_value",
         "1",
         "0",
         "brake_OFF",
         "Do_not_wake_up",
         "0",
         "Initial_value",
         "Initial_value",
         "Not_waken_up",
         "Initialization",
         "Not_ended",
         "Not_Inhibit",
         "Initial_value",
         "initializing",
         "Initial_value",
         "Initial_value",
         "No_fault",
         "No_fault",
         "No_fault",
         "No_fault",
         "No_fault",
         "Not_active",
         "No_demand",
         "Not_fully_charged",
         "No",
         "No",
         "No",
         "No",
         "No",
         "No",
         "No_fault",
         "Initial_value",
         "off",
         "No_request",
         "No_fault",
         "Initial_value",
         "Initial_value",
         "Not_arrived",
         "Normal",
         "Initial_value",
         "0",
         "Initial_value",
         "Initial_value",
         "Thermal_insulation_off",
         "218",
         "6",
         "Inactve",
         "ESA_OffCoded",
         "No_Suppressed",
         "Off",
         "LKA_Off",
         "Off",
         "On_available",
         "Off",
         "Off",
         "Off",
         "Off",
         "Default",
         "0.0",
         "0.0",
         "0",
         "Initial_value",
         "Not_Reached_per_km",
         "not_displayed",
         "No_fault",
         "No_fault",
         "0.1097",
         "0.0",
         "Initial_value",
         "Normal",
         "Not_displayed",
         "Light_out",
         "Normal_lamp_off",
         "Normal",
         "Normal",
         "Invalid",
         "Invalid",
         "No_display",
         "No_fault",
         "0.0",
         "237.0",
         "Not_set",
         "-3",
         "Valid",
         "0.0",
         "0.0",
         "0.0",
         "Disable",
         "Normal",
         "Normal",
         "Light_out",
         "Energy_recovery_allowed",
         "not_displayed",
         "Kwh/100_km_displayed",
         "Light_out",
         "Shutdown",
         "Light_out",
         "Normal",
         "OTA_veh_cond_ok",
         "OTA_veh_cond_not_ok",
         "Normal",
         "Normal",
         "Initial_value",
         "Not_collided",
         "Invalid",
         "Disconnect",
         "Enable",
         "Enable",
         "No_fault",
         "No_fault",
         "No_fault",
         "No_fault",
         "14.2",
         "0.0",
         "Initial_value",
         "Neutral",
         "14.041",
         "Normal",
         "Normal",
         "Normal",
         "Normal",
         "Normal",
         "Initial_value",
         "Normal",
         "Normal",
         "Normal",
         "Normal",
         "Normal",
         "Normal",
         "Normal",
         "Normal",
         "Normal",
         "Normal",
         "Normal",
         "Normal",
         "Normal",
         "Normal",
         "NTC2_open_circuit",
         "Normal",
         "Normal",
         "Normal",
         "Normal",
         "Normal",
         "0.0",
         "Normal",
         "Normal",
         "Normal",
         "12.0",
         "256",
         "0",
         "31",
         "3673.0",
         "3667.0",
         "3671.0",
         "13.336",
         "197.0",
         "2.0",
         "1288.0",
         "775.4",
         "171",
         "Not_Inhibit",
         "Not_Illuminate",
         "Not_Active",
         "4",
         "Not_Active",
         "Available",
         "Standby",
         "Not_Active",
         "Available",
         "Not_Active",
         "init_not_active",
         "HBB_Normal_Mode",
         "Not_Active",
         "Available",
         "211.0",
         "2.0",
         "0.0",
         "0.0",
         "214.0",
         "2.0",
         "Normal",
         "Normal",
         "38.0",
         "288.12",
         "Thermally_insulated",
         "Normal",
         "No_Thermal_Runaway",
         "No_fault",
         "0.0",
         "0.0",
         "0.0",
         "0.0",
         "On",
         "Off",
         "turn_on_ambient_light",
         "100",
         "10",
         "0",
         "Level_1",
         "216",
         "Not_Ready",
         "7",
         "Off",
         "Off",
         "Off",
         "Off",
         "Off",
         "neutral",
         "Off",
         "No_request",
         "No_remote_control",
         "No_remote_control",
         "Not_waken_up",
         "No_Request",
         "No_remote_control",
         "No_remote_control",
         "Disable",
         "Inactive",
         "Inactive",
         "0",
         "Normal",
         "Normal",
         "Normal",
         "3G_or_4G_LTE_CAT-1_and_below_(downllink_less_than_10_Mbps)",
         "Strong",
         "No_Inhibit_request",
         "No_request",
         "Normal",
         "Normal",
         "Normal",
         "Normal",
         "239",
         "43",
         "102",
         "222",
         "No_request",
         "No_remote_control",
         "No_remote_control",
         "Not_waken_up",
         "No_Request",
         "No_remote_control",
         "No_remote_control",
         "Disable",
         "Inactive",
         "Inactive",
         "0",
         "Normal",
         "Normal",
         "Normal",
         "3G_or_4G_LTE_CAT-1_and_below_(downllink_less_than_10_Mbps)",
         "Strong",
         "No_Inhibit_request",
         "No_request",
         "Normal",
         "Normal",
         "Normal",
         "Normal",
         "MaxHeight_Setting",
         "0",
         "0",
         "No_Failure",
         "Inactive",
         "No_whistle",
         "No_Blink",
         "Full_Latched_PawlSwOff_tail_door_lock_full_locking_state",
         "Trunk_Closed",
         "Inactive",
         "Inactive",
         "Inactive",
         "Inactive",
         "Inactive",
         "Learnt,_With_Maximum_Height_Customization_Allowed",
         "Inactive",
         "Not_Ready",
         "Not_Inhibit",
         "Closed",
         "No_Pinch",
         "29",
         "15.0",
         "no_crash,_level_0",
         "11.0",
         "no_crash,_level_0",
         "no_crash,_level_0",
         "no_crash,_level_0",
         "no_crash,_level_0",
         "no_crash",
         "202",
         "Default",
         "1",
         "No_Blind",
         "No_Failure",
         "Default",
         "Low_Beam_Request",
         "0",
         "194",
         "No_request",
         "No_request",
         "1",
         "No_Req",
         "Not_moving",
         "No_hazard_warning",
         "No_request",
         "TP_Replay_failed",
         "TP_Replay_not_available",
         "RAP_not_available",
         "Inactive",
         "Inactive",
         "No_request",
         "Off",
         "off",
         "Invalid",
         "0",
         "without_remote_control",
         "0",
         "247",
         "75",
         "160",
         "223",
         "44",
         "Initial",
         "Initial",
         "14",
         "Invalid",
         "Auth_Valid",
         "No_Request",
         "Not_In_Learning_Mode",
         "Inactive",
         null,
         null,
         "40",
         "117",
         "5",
         "232",
         "44",
         "Initial",
         "Initial",
         "14",
         "Invalid",
         "Auth_Valid",
         "No_Request",
         "Not_In_Learning_Mode",
         "Inactive",
         null,
         null,
         "172.0",
         "Normal",
         "2.0",
         "Parklock_engaged",
         "184.0",
         "Seat_not_occupied",
         "11.0",
         "Seat_not_occupied",
         "LED_1_2_ON/OFF",
         "Warning_lamp_off",
         "Seat_not_formost_position",
         "Seat_not_formost_position",
         "Not_Buckled",
         "Not_Buckled",
         "10.0",
         "No_Pressed",
         "No_Pressed",
         "8.0",
         "No_Pressed_Not_pressed",
         "No_Pressed",
         "No_Pressed",
         "No_Pressed",
         "No_Pressed",
         "No_Pressed_Not_pressed",
         "No_Pressed",
         "No_Pressed",
         "No_Pressed",
         "No_Pressed",
         "No_Pressed_Not_pressed",
         "No_Pressed_Not_pressed",
         "No_failure",
         "No_failure",
         "43.0",
         "0.0",
         "NM_PDU_contains_no_Partial_Network_request_information",
         "0.0",
         "Node_has_not_woken_up_the_network_(passive_wakeup)",
         "Start_of_synchronized_shutdown_is_not_requested_by_main_coordinator",
         "0.0",
         "0.0",
         "Repeat_Message_State_not_requested",
         "User_data_not_used",
         "inactive",
         "inactive",
         "inactive",
         "inactive",
         "inactive",
         "inactive",
         "inactive",
         "inactive",
         "255.0",
         "255.0",
         "255.0",
         "255.0",
         "53.0",
         "0.0",
         "NM_PDU_contains_no_Partial_Network_request_information",
         "0.0",
         "Node_has_not_woken_up_the_network_(passive_wakeup)",
         "Start_of_synchronized_shutdown_is_not_requested_by_main_coordinator",
         "0.0",
         "0.0",
         "Repeat_Message_State_not_requested",
         "User_data_not_used",
         "inactive",
         "inactive",
         "inactive",
         "inactive",
         "inactive",
         "inactive",
         "inactive",
         "inactive",
         "255.0",
         "255.0",
         "255.0",
         "255.0",
         "OTA_no_request",
         "0",
         "0",
         "141",
         "Initial",
         "Initial",
         "8",
         "On",
         "0",
         "0",
         "239",
         "113",
         "32",
         "70",
         "Inactive",
         "Reserved",
         "Reserved",
         "Reserved",
         "Reserved",
         "Inactive",
         "Invalid",
         "Invalid",
         "Inactive",
         "Inactive",
         "Inside",
         "Initial/Welcome_Light_0ff",
         "Initial",
         "14",
         "0",
         "0",
         "0",
         "239",
         "172",
         "174",
         "139",
         "37.0",
         "0.0",
         "NM_PDU_contains_no_Partial_Network_request_information",
         "0.0",
         "Node_has_not_woken_up_the_network_(passive_wakeup)",
         "Start_of_synchronized_shutdown_is_not_requested_by_main_coordinator",
         "0.0",
         "0.0",
         "Repeat_Message_State_not_requested",
         "User_data_not_used",
         "active",
         "active",
         "active",
         "active",
         "active",
         "active",
         "active",
         "active",
         "255.0",
         "255.0",
         "255.0",
         "255.0",
         "25",
         "0.0",
         "Normal",
         "Normal",
         "Normal",
         "Normal",
         "Normal",
         "Normal",
         "Standby",
         "Normal",
         "Normal",
         "Normal",
         "Normal",
         "Normal",
         "Normal",
         "Normal",
         "Normal",
         "35",
         "0.0",
         "Normal",
         "Normal",
         "Normal",
         "Normal",
         "Normal",
         "Normal",
         "Standby",
         "Normal",
         "Normal",
         "Normal",
         "Normal",
         "Normal",
         "Normal",
         "Normal",
         "Normal",
         "21",
         "21",
         "0",
         "21",
         "Power_working_mode",
         "Gear_0",
         "Power_supply",
         "initialized",
         "Passvive",
         "Inactive",
         "Invalid",
         "System_Warning_Invalid",
         "Initial",
         "Inactive",
         "No_Information",
         "No_Information",
         "No_Information",
         "Reserved",
         "No_error",
         "Invalid",
         "Reserved",
         "Passvive",
         "Inactive",
         "Invalid",
         "System_Warning_Invalid",
         "Initial",
         "Inactive",
         "No_Information",
         "No_Information",
         "No_Information",
         "Reserved",
         "No_error",
         "Invalid",
         "Reserved",
         "36",
         "47",
         "74",
         "65",
         "Invalid",
         "Valid",
         "Invalid",
         "374.38",
         "0.0",
         "0.0",
         "-48",
         "25",
         "0",
         "25",
         "Power_working_mode",
         "Gear_0",
         "Power_supply",
         "initialized",
         "Default",
         "No_Forget",
         "No_Charge",
         "NO_Exist",
         "Off",
         "Off",
         "Off",
         "Initial",
         "inactive",
         "no_connection_",
         "known_device_connected",
         "inactive",
         "Auto_Unlock/Lock_Disabled",
         "0",
         "User_Profile_ID_number1(guest/default)",
         "0",
         "0",
         "0",
         "0",
         "200.0",
         "3.0",
         "36.2",
         "374.8",
         "1.5",
         "14.2",
         "5",
         "63",
         "72",
         "62",
         "Off",
         "Off",
         "Off",
         "Off",
         "0",
         "INIT",
         "0",
         "243",
         "153",
         "17",
         "190",
         "37.0",
         "3.0",
         "23.0",
         "Working",
         "Normal",
         "Normal",
         "Normal",
         "Normal",
         "Normal",
         "Normal",
         "Normal",
         "Normal",
         "Normal",
         "Normal",
         "No_Fault",
         "Normal",
         "20.0",
         "114.0",
         "Inovance",
         "3.0",
         "0.0",
         "0.0",
         "0.0",
         "59.0",
         "Unlocking_state",
         "108.0",
         "220V",
         "3.0",
         "250.0",
         "480.0",
         "0.4",
         "188.0",
         "3.0",
         "Normal",
         "Normal",
         "Normal",
         "Normal",
         "Normal",
         "Normal",
         "Normal",
         "Normal",
         "Normal",
         "Normal",
         "Normal",
         "Normal",
         "Normal",
         "Normal",
         "Normal",
         "Normal",
         "No_Fault",
         "233.0",
         "3.0",
         "119.6",
         "11.4",
         "1.0",
         "33",
         "87",
         "75",
         "0.0",
         "0.0",
         "25.0",
         "29.0",
         "14.0",
         "29.0",
         "53.0",
         "Buck",
         "Discharging",
         "117.0",
         "Initial_value",
         "0.0",
         "0.0",
         "0.0",
         "initialized",
         "Standby",
         "Normal",
         "Normal",
         "Normal",
         "Normal",
         "Normal",
         "Normal",
         "Normal",
         "Normal",
         "28",
         "0.0",
         "190.0",
         "20.0",
         "674.1",
         "25.0",
         "Off",
         "Off",
         "Off",
         "Off",
         "Off",
         "Off",
         "82.0",
         "6.6kw",
         "OK",
         "3.0",
         "Initial",
         "Initial",
         "1.5",
         "23.0",
         "VTOL_Trunk_Discharge",
         "Normal",
         "Normal",
         "Working",
         "Initial",
         "Normal",
         "Normal",
         "Normal",
         "Normal",
         "Normal",
         "Normal",
         "224.0",
         "6.0",
         "78.0",
         "102.0",
         "Off",
         "Off",
         "Normal_operating_state",
         "initialization_completed",
         "42",
         "80",
         "Rotation_allowed",
         "RelayOpen",
         "RelayOpen",
         "0.0",
         "5938.0",
         "RelayOpen",
         "RelayOpen",
         "0.0",
         "8877.0",
         "RelayClosed",
         "RelayClosed",
         "0.0",
         "10717.0",
         "RelayClosed",
         "RelayClosed",
         "0.0",
         "10856.0",
         "RelayOpen",
         "RelayOpen",
         "0.0",
         "9875.0",
         "158.0",
         "ErrorNotActive",
         "WarningNotActive",
         "ErrorNotActive",
         "WarningNotActive",
         "0.0",
         "ErrorNotActive",
         "WarningNotActive",
         "ErrorNotActive",
         "ErrorNotActive",
         "ErrorNotActive",
         "ErrorNotActive",
         "ErrorNotActive",
         "WarningNotActive",
         "ErrorNotActive",
         "ErrorNotActive",
         "ErrorNotActive",
         "ErrorNotActive",
         "WarningNotActive",
         "ErrorNotActive",
         "ErrorNotActive",
         "WarningNotActive",
         "ErrorNotActive",
         "ErrorNotActive",
         "ErrorNotActive",
         "WarningNotActive",
         "ErrorNotActive",
         "ErrorNotActive",
         "ErrorNotActive",
         "WarningNotActive",
         "ErrorNotActive",
         "WarningNotActive",
         "ErrorNotActive",
         "ErrorNotActive",
         "0.0",
         "38.0",
         "41.2",
         "98.0",
         "255.0",
         "3.0",
         "0.0",
         "1000.0",
         "457.3",
         "4347.0",
         "2500.0",
         "1310.7",
         "926.0",
         "110.0",
         "0.0",
         "0.0",
         "0.0",
         "443.6",
         "255.0",
         "17.0",
         "18.0",
         "5976.0",
         "5971.0",
         "2668.0",
         "2666.0",
         "Normal",
         "No_fault",
         "No_fault",
         "Not_balanced",
         "No_fault",
         "Fault",
         "No_fault",
         "No_fault",
         "Normal",
         "Normal",
         "Normal",
         "Normal",
         "Normal",
         "Normal",
         "Normal",
         "Normal",
         "Normal",
         "Normal",
         "Normal",
         "Normal",
         "Normal",
         "Normal",
         "Normal",
         "Normal",
         "Normal",
         "Normal",
         "Normal",
         "Normal",
         "Normal",
         "Normal",
         "Normal",
         "Normal",
         "Normal",
         "Normal",
         "Normal",
         "Normal",
         "Normal",
         "Normal",
         "Reserved",
         "Abnormal",
         "Reserved",
         "Normal",
         "Normal",
         "Normal",
         "Normal",
         "Normal",
         "Normal",
         "Normal",
         "Normal",
         "Abnormal",
         "Abnormal",
         "Abnormal",
         "Normal",
         "Normal",
         "Normal",
         "Normal",
         "Normal",
         "Normal",
         "Normal",
         "Normal",
         "107.0",
         "Initial",
         "0.0",
         "24.0",
         "2.0",
         "26.0",
         "25.0",
         "Power_reduction_not_allowed",
         "cycling",
         "-48.0",
         "255.0",
         "255.0",
         "255.0",
         "255.0",
         "255.0",
         "973733900.0",
         "50.0",
         "255.0",
         "CountersOK",
         "RelayOK",
         "RelayOK",
         "10717.0",
         "0.0",
         "0.0",
         "0.0",
         "0.0",
         "0.0",
         "CountersOK",
         "RelayOK",
         "RelayOK",
         "10856.0",
         "0.0",
         "0.0",
         "0.0",
         "0.0",
         "0.0",
         "CountersOK",
         "RelayOK",
         "RelayOK",
         "9875.0",
         "0.0",
         "0.0",
         "0.0",
         "0.0",
         "0.0",
         "25.5",
         "25.5",
         "25.0",
         "0.0",
         "0.0",
         "CountersOK",
         "RelayOK",
         "RelayOK",
         "0.0",
         "0.0",
         "0.0",
         "0.0",
         "0.0",
         "0.0",
         "CountersOK",
         "RelayOK",
         "RelayOK",
         "0.0",
         "0.0",
         "0.0",
         "0.0",
         "0.0",
         "0.0",
         "Off",
         "Off",
         "Off",
         "No_Action",
         "No_Action",
         "No_Action",
         "No_Action",
         "No_Action",
         "No_Action",
         "No_Action",
         "No_Action",
         "No_Action",
         "No_Action",
         "No_Action",
         "No_Action",
         "Not_Change",
         "Off",
         "Initial",
         "Off",
         "Off",
         "PSK",
         "Inactive",
         "Inactive",
         "Check",
         "Inactive",
         "Check",
         "30",
         "Level_1",
         "1",
         "Normal",
         "turn_on_ambient_light",
         "Initial",
         "Normal",
         "Init,_No_request",
         "Normal",
         "No_Pressed",
         "Level_1",
         "OFF",
         "no_reset",
         "0",
         "Init",
         "Init",
         "No_Failure",
         "No_Failure",
         "Initial",
         "Idle",
         "Idle",
         "Low",
         "Not_Change",
         "Reserved(Nobody)",
         "Not_Change",
         "Not_Change",
         "Not_Change",
         "Not_Change",
         "Not_Change",
         "No_Request",
         "Not_Change",
         "Init",
         "Not_Change",
         "windless_gear",
         "Incoming_Call",
         "on",
         "off",
         "mi_(miles)",
         "Closed",
         "Closed",
         "Fahrnheit",
         "Level_5",
         "Yes",
         "No",
         "No",
         "No",
         "No",
         "0",
         "Not_ON",
         "Guisance_Inactive",
         "Initial_value",
         "Inactive",
         "English_(CA)",
         "Default",
         "No_Display",
         "Value_OK",
         "35490.0",
         "0",
         "Init",
         "No_Error_No_error",
         "No_Failure",
         "MPH",
         "0",
         "35490.0",
         "Not_cleared",
         "Value_OK",
         "Off",
         "Off",
         "Off",
         "Off",
         "Off",
         "Off",
         "Release",
         "Release",
         "Release",
         "Release",
         "Void",
         "Void",
         "Void",
         "void",
         "No_Request",
         "0.0",
         "Ready",
         "Air_Conditioning_power_on_(Short)",
         "no_warning",
         "3.1",
         "2.8",
         "No_Action",
         "Reserved",
         "Reserved",
         "Invalid",
         "Invalid",
         "No_Action",
         "No_Action",
         "No_Action",
         "Level_3_upwards_60%",
         "Invalid",
         "Invalid",
         "No_Action",
         "ON_state",
         "Self_circulation_state",
         "initialization_completed",
         "Load_initialization",
         "Rear_face_blowing",
         "Windless_gear",
         "On",
         "Low",
         "Low",
         "Initializing",
         "Inner_circulation_state",
         "Natural_wind",
         "On",
         "Off",
         "Off_state",
         "22.0",
         "driver_face_blowing_mode",
         "Functional",
         "Normal",
         "Not_opened",
         "Valid",
         "Initial",
         "Standby",
         "front_passenger_face_blowing_mode",
         "0",
         "0",
         "0.0",
         "Standby",
         "Disable",
         "Standby",
         "Gear_0",
         "Gear_0",
         "20.0",
         "Valid",
         "Inactive",
         "Invalid",
         "Off",
         "0",
         "56",
         "0",
         "0",
         "21",
         "20",
         "Gear_0",
         "Gear_0",
         "21",
         "21",
         "20",
         "21",
         "20",
         "22",
         "24",
         "21",
         "Run",
         "Run",
         "Run",
         "Shutdown",
         "Standby_Standby",
         "Shutdown",
         "Normal",
         "Normal",
         "0",
         "52",
         "26",
         "100",
         "0",
         "Normal",
         "0.0",
         "0.0",
         "0.0",
         "0.0",
         "0.0",
         "0.0",
         "41.18",
         "40",
         "Hands-off_detected",
         "5",
         "Hands-off_detected",
         "No_Response_Error",
         "No_error",
         "OFF",
         "0.0",
         "0.0",
         "0.0",
         "0.0",
         "0.0",
         "0.0",
         "0.0",
         "0.0",
         "303",
         "Init",
         "above_50_miles-no_warning",
         "0.0",
         "0.0",
         "0.0",
         "0.0",
         "0.0",
         "0.0",
         "0.0",
         "0.0",
         "0.0",
         "0.0",
         "0.0",
         "0.0",
         "0.0",
         "0.0",
         "Default",
         "0.0",
         "0.0",
         "0",
         "6.0",
         "1881342000.0",
         "161.0",
         "211.0",
         "39.0",
         "0.0",
         "NM_PDU_contains_no_Partial_Network_request_information",
         "0.0",
         "Node_has_not_woken_up_the_network_(passive_wakeup)",
         "Start_of_synchronized_shutdown_is_not_requested_by_main_coordinator",
         "0.0",
         "0.0",
         "Repeat_Message_State_not_requested",
         "User_data_for_current_vehicle_without_partial_networking",
         "inactive",
         "inactive",
         "active",
         "inactive",
         "inactive",
         "inactive",
         "inactive",
         "inactive",
         "255.0",
         "255.0",
         "255.0",
         "255.0",
         "24.0",
         "0.0",
         "NM_PDU_contains_no_Partial_Network_request_information",
         "0.0",
         "Node_has_not_woken_up_the_network_(passive_wakeup)",
         "Start_of_synchronized_shutdown_is_not_requested_by_main_coordinator",
         "0.0",
         "0.0",
         "Repeat_Message_State_not_requested",
         "User_data_for_current_vehicle_without_partial_networking",
         "active",
         "inactive",
         "inactive",
         "inactive",
         "inactive",
         "active",
         "inactive",
         "inactive",
         "255.0",
         "255.0",
         "255.0",
         "255.0",
         "Sound_I",
         "Working_Status",
         "No_Output_No_input",
         "Indicator_Off_(VSP_Enable)_indicator_off",
         "Initial",
         "Not_Work_Inoperative",
         "Speaker_Not_Working_horn_not_ringing",
         "38.0",
         "0.0",
         "NM_PDU_contains_no_Partial_Network_request_information",
         "0.0",
         "Node_has_not_woken_up_the_network_(passive_wakeup)",
         "Start_of_synchronized_shutdown_is_not_requested_by_main_coordinator",
         "0.0",
         "0.0",
         "Repeat_Message_State_not_requested",
         "User_data_for_current_vehicle_without_partial_networking",
         "inactive",
         "inactive",
         "active",
         "active",
         "inactive",
         "inactive",
         "inactive",
         "inactive",
         "255.0",
         "255.0",
         "255.0",
         "255.0",
         "104.0",
         "valid",
         "Idle",
         "13.0",
         "0.0",
         null,
         null,
         "0_degree",
         "no_rotation",
         "32.0",
         "0.0",
         "NM_PDU_contains_no_Partial_Network_request_information",
         "0.0",
         "Node_has_woken_up_the_network_(active_Wakeup)",
         "Start_of_synchronized_shutdown_is_not_requested_by_main_coordinator",
         "0.0",
         "0.0",
         "Repeat_Message_State_not_requested",
         "User_data_for_current_vehicle_without_partial_networking",
         "inactive",
         "inactive",
         "active",
         "active",
         "inactive",
         "active",
         "inactive",
         "inactive",
         "255.0",
         "255.0",
         "255.0",
         "255.0",
         "17.0",
         "18.0",
         "0.0",
         "255.0",
         "973733900.0",
         "50.0",
         "255.0",
         "0",
         "139",
         "valid",
         "no_action",
         "0",
         "0.0",
         "10",
         "0",
         "1",
         "0",
         "1",
         "248",
         "86",
         "110",
         "132",
         "0",
         "0",
         "NC",
         "NC",
         "Unmute",
         "Main_Volume_Step_0~39",
         "Low",
         "iESS_Mode_1",
         "Chime_Volume_Step_5",
         "Surround",
         "OFF",
         "HFM_Colume_Step_0~39",
         "No_Action",
         "Navi_Volume_Step_0~39",
         "Action",
         "No_Action",
         "RT_Step_0~39",
         "No_Action",
         "No_Action",
         "VR/TTS_Step_0~39",
         "54.0",
         "0.0",
         "NM_PDU_contains_no_Partial_Network_request_information",
         "0.0",
         "Node_has_woken_up_the_network_(active_Wakeup)",
         "Start_of_synchronized_shutdown_is_not_requested_by_main_coordinator",
         "0.0",
         "0.0",
         "Repeat_Message_State_not_requested",
         "User_data_for_current_vehicle_without_partial_networking",
         "inactive",
         "inactive",
         "active",
         "active",
         "inactive",
         "active",
         "inactive",
         "inactive",
         "255.0",
         "255.0",
         "255.0",
         "255.0",
         "1.0",
         "0.0",
         "NM_PDU_contains_no_Partial_Network_request_information",
         "0.0",
         "Node_has_not_woken_up_the_network_(passive_wakeup)",
         "Start_of_synchronized_shutdown_is_not_requested_by_main_coordinator",
         "0.0",
         "0.0",
         "Repeat_Message_State_not_requested",
         "User_data_for_current_vehicle_without_partial_networking",
         "inactive",
         "inactive",
         "inactive",
         "active",
         "inactive",
         "active",
         "inactive",
         "inactive",
         "255.0",
         "255.0",
         "255.0",
         "255.0",
         "19.0",
         "0.0",
         "NM_PDU_contains_no_Partial_Network_request_information",
         "0.0",
         "Node_has_woken_up_the_network_(active_Wakeup)",
         "Start_of_synchronized_shutdown_is_not_requested_by_main_coordinator",
         "0.0",
         "0.0",
         "Repeat_Message_State_not_requested",
         "User_data_not_used",
         "active",
         "inactive",
         "inactive",
         "inactive",
         "inactive",
         "active",
         "inactive",
         "inactive",
         "255.0",
         "255.0",
         "255.0",
         "255.0",
         "2.0",
         "1.0",
         "1.0",
         "8.0",
         "1.0",
         "2930200000.0",
         "2.0",
         "2.0",
         "1.0",
         "2930200000.0",
         "2.0",
         "2.0",
         "2.0",
         "120521.0",
         "1.0",
         "10.0",
         "60.0",
         "0.0",
         "NM_PDU_contains_no_Partial_Network_request_information",
         "0.0",
         "Node_has_not_woken_up_the_network_(passive_wakeup)",
         "Start_of_synchronized_shutdown_is_not_requested_by_main_coordinator",
         "0.0",
         "0.0",
         "Repeat_Message_State_not_requested",
         "User_data_for_current_vehicle_without_partial_networking",
         "active",
         "inactive",
         "active",
         "inactive",
         "inactive",
         "inactive",
         "inactive",
         "inactive",
         "255.0",
         "255.0",
         "255.0",
         "255.0",
         "0.0",
         "40.0",
         "40.0",
         "40.0",
         "Normal",
         "Cooling",
         "Not_triggered",
         "0.6",
         "Gear_0_request",
         "Gear_0_request",
         "0.6",
         "114.0",
         "11.0",
         "22.0",
         "not_homogenized",
         "Inactive",
         "22.0",
         "22.0",
         "22.0",
         "Normal",
         "Normal",
         "Normal",
         "Normal",
         "Normal",
         "Normal",
         "Normal",
         "Normal",
         "Normal",
         "Normal",
         "Normal",
         "Normal",
         "Normal",
         "Normal",
         "Normal",
         "Normal",
         "Normal",
         "Normal",
         "Normal",
         "Normal",
         "Normal",
         "Normal",
         "Normal",
         "Normal",
         "Normal",
         "Normal",
         "Normal",
         "Normal",
         "Normal",
         "Communication_normal",
         "Communication_normal",
         "Communication_normal",
         "Communication_normal",
         "Communication_normal",
         "Communication_normal",
         "Normal",
         "Normal",
         "Communication_normal",
         "Communication_normal",
         "25.0",
         "2930200000.0",
         "2.0",
         "2.0",
         "Not_cleared",
         "Value_OK",
         "35490.0",
         "0.0",
         "0.0",
         "1.0",
         "0.0",
         "0.0",
         "0.0",
         "0.0",
         "0.0",
         "0.0",
         "No_demand",
         "0.0",
         "Initializing",
         "Initial_Value",
         "No_request",
         "No_request",
         "No_request",
         "No_request",
         "No_request",
         "No_request",
         "No_request",
         "No_request",
         "No_request",
         "No_request",
         "No_request",
         "No_request",
         "No_request",
         "No_request",
         "No_request",
         "No_request",
         "No_request",
         "No_request",
         "No_request",
         "No_request",
         "No_request",
         "No_request",
         "No_request",
         "No_request",
         "0.0",
         "0.0",
         "NCM",
         "CATL",
         "1.0",
         "102.0",
         "2.0",
         "149.0",
         "2.5",
         "202.0",
         "11.0",
         "229122.0",
         "0.0",
         "36.0",
         "28131.0",
         "28565.0",
         "Off",
         "0.0",
         "0.0",
         "12.0",
         "27.0",
         "Battery_pack_2",
         "Battery_pack_1",
         "Battery_pack_1",
         "Battery_pack_3",
         "1.0",
         "6.0",
         "3673.0",
         "3673.0",
         "3672.0",
         "3673.0",
         "3673.0",
         "3673.0",
         "3672.0",
         "3672.0",
         "3672.0",
         "3673.0",
         "3673.0",
         "3671.0",
         "3672.0",
         "3671.0",
         "3672.0",
         "3671.0",
         "3672.0",
         "3671.0",
         "3671.0",
         "3671.0",
         "3670.0",
         "3671.0",
         "3671.0",
         "3671.0",
         "3672.0",
         "3669.0",
         "3667.0",
         "3670.0",
         "3671.0",
         "3671.0",
         "3670.0",
         "3670.0",
         "3670.0",
         "3670.0",
         "3670.0",
         "3671.0",
         "3671.0",
         "3669.0",
         "3671.0",
         "3672.0",
         "3672.0",
         "3672.0",
         "3671.0",
         "3671.0",
         "3671.0",
         "3668.0",
         "3671.0",
         "3671.0",
         "3671.0",
         "3671.0",
         "3671.0",
         "3673.0",
         "3672.0",
         "3673.0",
         "3672.0",
         "3671.0",
         "3672.0",
         "3672.0",
         "3673.0",
         "3669.0",
         "3673.0",
         "3673.0",
         "3671.0",
         "3671.0",
         "3672.0",
         "3671.0",
         "3671.0",
         "3671.0",
         "3672.0",
         "3673.0",
         "3672.0",
         "3673.0",
         "3672.0",
         "3673.0",
         "3673.0",
         "3673.0",
         "3672.0",
         "3673.0",
         "3673.0",
         "3672.0",
         "3672.0",
         "3672.0",
         "3672.0",
         "3670.0",
         "3672.0",
         "3672.0",
         "3673.0",
         "3673.0",
         "3672.0",
         "3673.0",
         "3672.0",
         "3673.0",
         "3672.0",
         "3672.0",
         "3672.0",
         "3673.0",
         "3672.0",
         "3670.0",
         "3672.0",
         "3670.0",
         "Invalid",
         "flag_bit_not_reached",
         "Default",
         "High",
         "Roll",
         "flag_bit_not_reached",
         "Default_Mode",
         "Invalid",
         "No_action",
         "No_action",
         "Anti-theft",
         "Default",
         "Default",
         "Eco",
         "High",
         "Initial_value",
         "Invalid_(treat_same_as_0x3)",
         "No_action",
         "90.0",
         "3671.0",
         "3672.0",
         "Invalid",
         "Invalid",
         "Invalid",
         "Invalid",
         "Invalid",
         "Invalid",
         "Invalid",
         "Invalid",
         "Invalid",
         "Invalid",
         "Invalid",
         "Invalid",
         "Invalid",
         "Invalid",
         "Invalid",
         "Invalid",
         "Invalid",
         "Invalid",
         "25.0",
         "24.0",
         "25.0",
         "25.0",
         "25.0",
         "26.0",
         "24.0",
         "25.0",
         "26.0",
         "25.0",
         "25.0",
         "24.0",
         "24.0",
         "25.0",
         "25.0",
         "Invalid",
         "Invalid",
         "Invalid",
         "Invalid",
         "Invalid",
         "Invalid",
         "Invalid",
         "Invalid",
         "Invalid",
         "Invalid",
         "Invalid",
         "Invalid",
         "Invalid",
         "Invalid",
         "Invalid",
         "Invalid",
         "Invalid",
         "0.0",
         "0.0",
         "0.0",
         "0.0",
         "0.0",
         "0.0",
         "0.0",
         "0.0",
         "0.0",
         "0.0",
         "0.0",
         "0.0",
         "0.0",
         "0.0",
         "0.0",
         "0.0",
         "0.0",
         "0.0",
         "0.0",
         "0.0",
         "0.0",
         "0.0",
         "0.0",
         "0.0",
         "0.0",
         "0.0",
         "0.0",
         "0.0",
         "0.0",
         "0.0",
         "0.0",
         "0.0",
         "0.0",
         "0.0",
         "0.0",
         "0.0",
         "0.0",
         "0.0",
         "0.0",
         "0.0",
         "0.0",
         "0.0",
         "0.0",
         "0.0",
         "0.0",
         "0.0",
         "0.0",
         "0.0",
         "0.0",
         "0.0",
         "0.0",
         "0.0",
         "0.0",
         "0.0",
         "0.0",
         "0.0",
         "0.0",
         "274038.0",
         "274038.0",
         "147.0",
         "8.0",
         "0.0",
         "0.0",
         "0.0",
         "0.0",
         "23.0",
         "Standby",
         "Standby",
         "8.0",
         "0.0",
         "0.0",
         "0.0",
         "No_error",
         "No_error",
         "No_error",
         "No_error",
         "No_error",
         "No_error",
         "No_error",
         "No_error",
         "No_error",
         "No_error",
         "No_error",
         "No_error",
         "Denied",
         "Inactive",
         "497.0",
         "0.0",
         "0.0",
         "656.0",
         "170.0",
         "0.0",
         "255.0",
         "214.0",
         "181.0",
         "165.0",
         "159.0",
         "157.0",
         "159.0",
         "162.0",
         "167.0",
         "174.0",
         "Freestart_mode",
         "Normal",
         "Not_learned",
         "55775504.0",
         "0.0",
         "0.0",
         "Normal",
         "Normal",
         "Normal",
         "Normal",
         "Normal",
         "Normal",
         "Normal",
         "Normal",
         "Normal",
         "Normal",
         "Normal",
         "Normal",
         "Normal",
         "Normal",
         "Normal",
         "Normal",
         "Normal",
         "Normal",
         "Normal",
         "Normal",
         "Normal",
         "Normal",
         "Normal",
         "Normal",
         "Normal",
         "Normal",
         "Normal",
         "Normal",
         "Normal",
         "Normal",
         "Normal",
         "0.0",
         "0.0",
         "0.0",
         "Initial_value",
         "Off",
         "Off",
         "0.0",
         "0.0",
         "6.0",
         "1.0",
         "11.0",
         "3.0",
         "13.0",
         "13.0",
         "0.0",
         "Initial_value",
         "19.0",
         "19.0",
         "19.0",
         "0.0",
         "0.0",
         "0.0",
         "0.0",
         "0.0",
         "1.0",
         "0.0",
         "0.0",
         "-420.0",
         "29.0",
         "15.0",
         "10.0",
         "2025.0",
         "6.0",
         "37.0",
         null,
         null,
         null,
         "71.0",
         "48.0",
         "48.0",
         "49.0",
         "49.0",
         "56.0",
         "50.0",
         "0.0",
         "0.0",
         "0.0",
         "0.0",
         "0.0",
         "0.0",
         "Default",
         null,
         null,
         null,
         null,
         null,
         null,
         null,
         null,
         null,
         null,
         null,
         null,
         null,
         null,
         null,
         null,
         null,
         null,
         null,
         null,
         null,
         null,
         null,
         null,
         null,
         null,
         null,
         null,
         null,
         null,
         null,
         null,
         null,
         null,
         null,
         null,
         null,
         null,
         null,
         null,
         null,
         null,
         null,
         null,
         null,
         null,
         null,
         null,
         null,
         null,
         null,
         null,
         null,
         null,
         null,
         null,
         null,
         null,
         null,
         null,
         null,
         null,
         null,
         null,
         null,
         null,
         null,
         null,
         null,
         null,
         null,
         null,
         null,
         null,
         null,
         null,
         null,
         null,
         null,
         null,
         null,
         null,
         null,
         null,
         null,
         null,
         null,
         null,
         null,
         null,
         null,
         null,
         null,
         null,
         null,
         null,
         null,
         null,
         null,
         null,
         null,
         null,
         null,
         null,
         null,
         null,
         null,
         null,
         null,
         null,
         null,
         null,
         null,
         null,
         null,
         null,
         null,
         null,
         null,
         null,
         null,
         null,
         null,
         null,
         null,
         null,
         null,
         null,
         null,
         null,
         null,
         null,
         null,
         null,
         null,
         null,
         null,
         null,
         null,
         null,
         null,
         null,
         null,
         null,
         null,
         null,
         null,
         null,
         null,
         null,
         null,
         null,
         null,
         null,
         null,
         null,
         null,
         null,
         null,
         null,
         null,
         null,
         null,
         null,
         null,
         null,
         null,
         null,
         null,
         null,
         null,
         null,
         null,
         null,
         null,
         null,
         null,
         null,
         null,
         null,
         null,
         null,
         null,
         null,
         null,
         null,
         null,
         null,
         null,
         null,
         null,
         null,
         null,
         null,
         null,
         null,
         null,
         null,
         null,
         null,
         null,
         null,
         null,
         null,
         null,
         null,
         null,
         null,
         null,
         null,
         null,
         null,
         null,
         null,
         null,
         null,
         null,
         null,
         null,
         null,
         null,
         null,
         null,
         null,
         null,
         null,
         null,
         null,
         null,
         null,
         null,
         null,
         null,
         null,
         null,
         null,
         null,
         null,
         null,
         null,
         null,
         null,
         null,
         null,
         null,
         null,
         null,
         null,
         null,
         null,
         null,
         null,
         null,
         null,
         null,
         null,
         null,
         null,
         null,
         null,
         null,
         null,
         null,
         null,
         null,
         null,
         null,
         null,
         null,
         null
        ],
        [
         "2025-06-29 12:10:38+00:00",
         "176",
         "remote_control_not_ended",
         "No_request",
         "Ready",
         "0",
         "Valid",
         "Normal",
         "gear_P",
         "Valid",
         "Not_ready",
         "Not_ready",
         "gear_P",
         "Standby",
         "0.0",
         "Not_enabled",
         "Normal",
         "Eco",
         "Valid",
         "brake_pedal_not_pressed",
         "0",
         "0",
         "0",
         "0",
         "20.0",
         "No_Abort",
         "10.0",
         "245.8125",
         "Valid",
         "No_rotation",
         "Valid",
         "Calibrated",
         "0.0",
         "Valid",
         "Available_For_Control",
         "0.0",
         "176",
         "remote_control_not_ended",
         "No_request",
         "Ready",
         "0",
         "Valid",
         "Normal",
         "gear_P",
         "Valid",
         "Not_ready",
         "Not_ready",
         "gear_P",
         "Standby",
         "0.0",
         "Not_enabled",
         "Normal",
         "Eco",
         "Valid",
         "brake_pedal_not_pressed",
         "10",
         "P-Button2_not_pressed",
         "P-Button1_not_pressed",
         "6",
         "No_fault",
         "Gear_Lever_neutral_position_(N)",
         "P_button_invalid",
         "Invalid",
         "208",
         "0",
         "Not_forbidden",
         "No_Boost",
         "Valid",
         "Standby",
         "0.0",
         "238",
         "0",
         "Not_forbidden",
         "No_Boost",
         "Valid",
         "Standby",
         "0.0",
         "51",
         "6",
         "Washing_OFF",
         "Neutral_middle_position",
         "Default_state",
         "Off_default",
         "145",
         "2",
         "Valid",
         "0.0",
         "Stop",
         "Stop",
         "Valid",
         "0.0",
         "0",
         "init",
         "0",
         "Not_repeated",
         "Not_repeated",
         "Not_repeated",
         "Not_repeated",
         "Not_repeated",
         "Not_repeated",
         "Not_repeated",
         "0.0",
         "0",
         "Invalid",
         "0",
         "147.0",
         "Standstill",
         "Valid",
         "7.0",
         "-1.0",
         "Valid",
         "0.0",
         "Standby",
         "Completed",
         "Disable",
         "Slip_control_deactivated",
         "Not_discharged",
         "41.0",
         "Standby_state",
         "With_request",
         "7.0",
         "300.0",
         "360.0",
         "25.0",
         "22.0",
         "Normal",
         "Normal",
         "Normal",
         "Normal",
         "Normal",
         "Normal",
         "Normal",
         "Normal",
         "Normal",
         "Normal",
         "Normal",
         "Normal",
         "Normal",
         "Normal",
         "Normal",
         "Normal",
         "Normal",
         "Normal",
         "Normal",
         "Normal",
         "Normal",
         "Normal",
         "Normal",
         "Normal",
         "Normal",
         "Normal",
         "Normal",
         "Normal",
         "Normal",
         "Normal",
         "Normal",
         "Normal",
         "Normal",
         "Normal",
         "Normal",
         "Normal",
         "Normal",
         "Normal",
         "Normal",
         "Normal",
         "172.0",
         "Standstill",
         "Valid",
         "10.0",
         "-1.0",
         "Valid",
         "0.0",
         "Disconnect_in_progress",
         "Standby",
         "Completed",
         "Disable",
         "Slip_control_deactivated",
         "Not_discharged",
         "7.0",
         "Standby_state",
         "With_request",
         "10.0",
         "300.0",
         "360.0",
         "24.0",
         "24.0",
         "Normal",
         "Normal",
         "Normal",
         "Normal",
         "Normal",
         "Normal",
         "Normal",
         "Normal",
         "Normal",
         "Normal",
         "Normal",
         "Normal",
         "Normal",
         "Normal",
         "Normal",
         "Normal",
         "Normal",
         "Normal",
         "Normal",
         "Normal",
         "Normal",
         "Normal",
         "Normal",
         "Normal",
         "Normal",
         "Normal",
         "Normal",
         "Normal",
         "Normal",
         "Normal",
         "Normal",
         "Normal",
         "Normal",
         "Normal",
         "Normal",
         "Normal",
         "Normal",
         "Normal",
         "Normal",
         "Normal",
         "37",
         "Reserved",
         "Reserved",
         "10",
         "Initial_value",
         "Standby",
         "Invalid",
         "26",
         "5",
         "3_meters_or_less",
         "On_line",
         "Reserved",
         "Not_Pressed",
         null,
         null,
         "Inactive",
         "Inactive",
         "Authentication_Valid",
         "96.5",
         "96.5",
         "97.5",
         "97.5",
         "250",
         "Tunnel/Tunnel",
         "without_remote_control",
         "Void",
         "Void",
         "without_remote_control",
         "without_remote_control",
         "without_remote_control",
         "No_remote_setting",
         "No_remote_setting",
         "without_remote_control",
         "without_remote_control",
         "No_request",
         "No_remote_view_command",
         "No_remote_setting",
         "No_remote_setting",
         "No_Req_/_Stop_heating",
         "EcallUnmute",
         "without_control",
         "Void",
         "eCall_DEACTIVATED",
         "95",
         "No_Announcement",
         "3",
         "Valid",
         "IGN_On",
         "Active",
         "Valid",
         "Valid",
         "No_Pressed",
         "Inactive",
         "Active",
         "Active",
         "98",
         "Not_Use",
         "No",
         "3",
         "Auto",
         "On",
         "Inactive",
         "On",
         "Off",
         "Inactive",
         "Inactive",
         "Inactive",
         "Inactive",
         "Inactive",
         "Inactive",
         "Off",
         "Off",
         "Off",
         "Off",
         "Off",
         "Off",
         "Off",
         "Off",
         "Off",
         "Off",
         "Off",
         "Off",
         "All_On",
         "On",
         "Off",
         "Inactive",
         "Off",
         "Off",
         "Active",
         "0",
         "Off",
         "300",
         "168",
         "Not_active_Not_enabled",
         "Successful",
         "3",
         "Closed",
         "Open",
         "Inactive",
         "Inactive",
         "Unlock",
         "Inactive",
         "Closed",
         "Closed",
         "Closed",
         "Closed",
         "driver's_door",
         "Inactive",
         "Anti_Theft_system_Unset",
         "Inactive",
         "Follow_Me_Closed",
         "Closed",
         "Closed",
         "Closed",
         "Closed",
         "Not_Active",
         "Inactive",
         "Inactive",
         "Off",
         "Off",
         "Inactive",
         "0",
         "Inactive",
         "Stopped",
         "Available",
         "Horizontal_sliding_zone",
         "165",
         "Stopped",
         "HUD_Measuring_Range_1(4cd/m2)",
         "3",
         "0.0",
         "0.0",
         "55.0",
         "18.0",
         "48",
         "0",
         "170",
         "Not_Inhibit",
         "Not_Ready",
         "13",
         "Not_buckled",
         "Not_buckled",
         "Invalid",
         "Seat_not_occupied",
         "Fault",
         "Fault",
         "Not_buckled",
         "Invalid",
         "Invalid",
         "Seat_not_occupied",
         "Seat_not_occupied",
         "0.0",
         "0.0",
         "0.0",
         "Level_1",
         "Closed",
         "Closed",
         "Closed",
         "Off",
         "Off",
         "Off",
         "Off",
         "Off",
         "0.0",
         "OFF_status",
         "No_Error",
         "no_signal",
         "OK",
         "Normal",
         "Normal",
         "Normal",
         "Not_closed",
         "Invalid",
         "Normal",
         "Normal",
         "Normal",
         "Normal",
         "Normal",
         "Invalid",
         "229",
         "13",
         "Not_Failed",
         "Not_Failed",
         "Not_Failed",
         "Not_Failed",
         "Not_Failed",
         "Not_Failed",
         "Not_Failed",
         "Not_Failed",
         "Not_Failed",
         "Not_Failed",
         "Not_Failed",
         "Not_Failed",
         "Not_Failed",
         "Not_Failed",
         "validkey_found",
         "Not_Failed",
         "Not_Failed",
         "Not_Failed",
         "Not_Failed",
         "15.0",
         "0.0",
         "2.49",
         "5",
         "Active",
         "NotActive",
         "NotActive",
         "BMS_ActiveSet_BMStoActiveMode_WhereitisAWakeAndOperating",
         "NO_Charging_NoChargerisConnected",
         "BALANCING_ON_BalancingisallowedByVCU",
         "HV_ON_BatteryShouldbeConnected",
         "0",
         "0",
         "0",
         "0",
         "154",
         "12",
         "0.0",
         "No_Failure",
         "No_Error",
         "No_Override_Not_Overcovered",
         "Initial_value",
         "Without_Request",
         "No_request",
         "Power_immobilizer_authentication_request_is_not_allowed",
         "0",
         "254",
         "No_Fault",
         "Not_Ready",
         "8",
         "No_Request",
         "DTC_Not_Active",
         "EBD_Not_Active",
         "TCS_Standby",
         "ESP_Standby",
         "Available",
         "Not_Active",
         "Available",
         "Not_Active",
         "Available",
         "Not_Active",
         "Available",
         "Not_Active",
         "No_Fault",
         "Not_High",
         "Standstill",
         "Available",
         "Not_Active",
         "No_Error",
         "Not_Active",
         "146.0",
         "Open",
         "Open",
         "8.0",
         "0.12",
         "374.6",
         "0.0",
         "236",
         "Initial_value",
         "Not_connected",
         "11",
         "No_Error",
         "Not_connected",
         "Initial_value",
         "Standby",
         "no_Error",
         "Initial_value",
         "131",
         "14",
         "443.58",
         "0.0",
         "Open",
         "V2L_trunk_active",
         "Initial_value",
         "Power_mode",
         "0",
         "0",
         "0",
         "0",
         "0",
         "196",
         "Initial",
         "6",
         "Initial_value",
         "Without_Request",
         "Initial_Value",
         "Init_value",
         "Initial_value",
         "Initial_value",
         "No_action",
         "0",
         "Initial_Value",
         "off",
         "no_trigger",
         "Invalid",
         "Default_Mode",
         "Scheduled_Charging_Req_Inactive",
         "233",
         "11",
         "11",
         "-4.9998775",
         "0.0",
         "Not_available",
         "196",
         "Initial",
         "6",
         "Initial_value",
         "Without_Request",
         "Initial_Value",
         "Init_value",
         "Initial_value",
         "Initial_value",
         "No_action",
         "0",
         "Initial_Value",
         "off",
         "no_trigger",
         "Invalid",
         "Default_Mode",
         "Scheduled_Charging_Req_Inactive",
         "95",
         "113",
         "88",
         "185",
         "Flag_inactive",
         "Flag_active",
         "Flag_inactive",
         "Flag_inactive",
         "Flag_inactive",
         "No_active_wakeup_demand",
         "5",
         "4",
         "22.0",
         "12.0",
         "131",
         "14",
         "443.58",
         "0.0",
         "Open",
         "V2L_trunk_active",
         "Initial_value",
         "Power_mode",
         "11.525",
         "14.041",
         "22.5",
         "IBS_OK",
         "Current_range_I2",
         "72.0",
         "13.0",
         "1.9",
         "374.5",
         "74",
         "Immo_Inactive",
         "No_request",
         "11",
         "Standby",
         "Initialization",
         "Initializing",
         "Not_enabled",
         "No_request",
         "Initial_value",
         "No_Request_No_Request",
         "Valid",
         "Initializing",
         "No_Request",
         "No_Request_No_Request",
         "No_Request_No_Request",
         "Idle",
         "Inhibit",
         "False_Unintervened",
         "Initializing",
         "No_Request",
         null,
         null,
         "79.0",
         "ErrorNotActive",
         "WarningNotActive",
         "ErrorNotActive",
         "WarningNotActive",
         "13.0",
         "ErrorNotActive",
         "WarningNotActive",
         "ErrorNotActive",
         "WarningNotActive",
         "ErrorNotActive",
         "WarningNotActive",
         "ErrorNotActive",
         "WarningNotActive",
         "ErrorNotActive",
         "ErrorNotActive",
         "ErrorNotActive",
         "WarningNotActive",
         "ErrorNotActive",
         "ErrorNotActive",
         "ErrorNotActive",
         "ErrorNotActive",
         "ErrorNotActive",
         "ErrorNotActive",
         "ErrorNotActive",
         "ErrorNotActive",
         "WarningNotActive",
         "ErrorNotActive",
         "ErrorNotActive",
         "ErrorNotActive",
         "ErrorNotActive",
         "WarningNotActive",
         "ErrorNotActive",
         "WarningNotActive",
         "ErrorNotActive",
         "ErrorNotActive",
         "ErrorNotActive",
         "ErrorNotActive",
         "ErrorNotActive",
         "WarningNotActive",
         "ErrorNotActive",
         "WarningNotActive",
         "ErrorNotActive",
         "WarningNotActive",
         "ErrorNotActive",
         "WarningNotActive",
         "ErrorNotActive",
         "73.0",
         "66.0",
         "SNA",
         "14.05",
         "6.07",
         "155.0",
         "13.0",
         "1687.7",
         "926.0",
         "33.0",
         "30.6",
         "50",
         "Not_recalibrated",
         "42.0",
         "13.0",
         "BMS_BALC_DEActivATED",
         "BMS_OperatIONAL",
         "CATOK",
         "CATOK",
         "CATOK",
         "CATOK",
         "CATOK",
         "CATOK",
         "CATOK",
         "CATFailure",
         "On",
         "On",
         "OK",
         "OK",
         "OK",
         "OK",
         "OK",
         "CATOK",
         "OK",
         "OK",
         "OK",
         "OK",
         "OK",
         "On",
         "HV_active",
         "0.0",
         "122.0",
         "13.0",
         "0.0",
         "0.0",
         "22.0",
         "13.0",
         "Normal",
         "Normal",
         "Normal",
         "Normal",
         "Normal",
         "Normal",
         "Normal",
         "Normal",
         "Normal",
         "Normal",
         "374.1",
         "Function_safety_mechanism_startup_state_code",
         "2",
         "Off",
         "8",
         "Off",
         "On",
         "Available",
         "Closed_caliper_is_clamped",
         "Valid",
         "Neutral",
         "Off",
         null,
         "Press_Keep_The_Seatbelt_Attached_And_The_Door_Closed",
         "208",
         "Brake_Pedal_Not_Pressed",
         "Valid",
         "8",
         "No_Telltale_Requested",
         "No_Telltale_Requested",
         "No_Telltale_Requested",
         "No_Telltale_Requested",
         "Valid",
         "0",
         "0.0",
         "Inactive_not_enabled",
         "Exist_Brk_Force",
         "Available",
         "Off",
         "No_Telltale_Requested",
         "Not_In_Initialization_Mode",
         "127.0",
         "13.0",
         "1.88",
         "-0.92",
         "374.5",
         "Normal",
         "Normal",
         "Normal",
         "Normal",
         "Normal",
         "Normal",
         "Normal",
         "Normal",
         "Normal",
         "Normal",
         "Normal",
         "Normal",
         "Normal",
         "Normal",
         "Normal",
         "Normal",
         "Normal",
         "Normal",
         "Normal",
         "Normal",
         "Normal",
         "Normal",
         "Normal",
         "Normal",
         "Normal",
         "Normal",
         "Normal",
         "Normal",
         "Normal",
         "Normal",
         "Normal",
         "Normal",
         "Normal",
         "Normal",
         "Normal",
         "Normal",
         "Normal",
         "Normal",
         "Normal",
         "Normal",
         "Normal",
         "Normal",
         "Normal",
         "Normal",
         "Normal",
         "Normal",
         "Normal",
         "Normal",
         "Normal",
         "Normal",
         "Normal",
         "Normal",
         "high-voltage_power-off",
         "high-voltage_power-off",
         "Normal",
         "Normal",
         "Normal",
         "Normal",
         "Normal",
         "Normal",
         "Initial_value",
         "Initial_value",
         "Initial_value",
         "Not_set",
         "Not_set",
         "0.0",
         "0.0",
         "Initial_value",
         "0",
         "0.0",
         "0.0",
         "Enable",
         "Request_shutdown",
         "15.0",
         "0",
         "0",
         "154",
         "10",
         "No_Percieved_Speed_Limit_change_notification_request",
         "No_high_priority_popup_requested",
         "KPH",
         "No_low_priority_popup_requested",
         "0",
         "0",
         "0",
         "Invalid",
         "Not_completed",
         "Do_not_wake_up",
         "Normal_mode",
         "Not_waken_up",
         "Not_waken_up",
         "Not_waken_up",
         "Not_waken_up",
         "Not_waken_up",
         "Not_waken_up",
         "Not_waken_up",
         "Not_ended",
         "Not_ended",
         "Unlocking_command_state",
         "Not_ended",
         "Not_waken_up",
         "READY_allowed",
         "Not_waken_up",
         "No",
         "Initial_value",
         "Initial_value",
         "Yes",
         "No",
         "No",
         "No",
         "Idle",
         "Initial_value",
         null,
         "90",
         "Not_ended",
         "Reserved",
         "No_demand",
         "Initial_value",
         "gear_P",
         "165",
         "Enable",
         "Inactive",
         "11",
         "Roll",
         "High",
         "High",
         "Normal",
         "Normal",
         "no_display",
         "MPH",
         "No_Display",
         "Off",
         "No_Inhibit_request",
         "Not_Ready",
         "Boost_unavailable:_Drive_Mode",
         "Inhibition_not_ok",
         "OTA_veh_cond_ok",
         "0.0",
         "0.32",
         "0.66",
         "0.0",
         "0",
         "0",
         "off",
         "Not_power_off",
         "off",
         "Not_waken_up",
         "0.0",
         "-0.7",
         "0",
         "10",
         "Init",
         "0",
         "0.0",
         "0.0",
         "182",
         "Initial_value",
         "11",
         "0",
         "brake_OFF",
         "Do_not_wake_up",
         "0",
         "Initial_value",
         "Initial_value",
         "Not_waken_up",
         "Initialization",
         "Not_ended",
         "Not_Inhibit",
         "Initial_value",
         "initializing",
         "Initial_value",
         "Initial_value",
         "No_fault",
         "No_fault",
         "No_fault",
         "No_fault",
         "No_fault",
         "Not_active",
         "No_demand",
         "Not_fully_charged",
         "No",
         "No",
         "No",
         "No",
         "No",
         "No",
         "No_fault",
         "Initial_value",
         "off",
         "No_request",
         "No_fault",
         "Initial_value",
         "Initial_value",
         "Not_arrived",
         "Normal",
         "Initial_value",
         "0",
         "Initial_value",
         "Initial_value",
         "Thermal_insulation_off",
         "60",
         "11",
         "Inactve",
         "ESA_OffCoded",
         "No_Suppressed",
         "Off",
         "LKA_Off",
         "Off",
         "On_available",
         "Off",
         "Off",
         "Off",
         "Off",
         "Default",
         "0.0",
         "0.0",
         "0",
         "Initial_value",
         "Not_Reached_per_km",
         "not_displayed",
         "No_fault",
         "No_fault",
         "0.1097",
         "0.0",
         "Initial_value",
         "Normal",
         "Not_displayed",
         "Light_out",
         "Normal_lamp_off",
         "Normal",
         "Normal",
         "Invalid",
         "Invalid",
         "No_display",
         "No_fault",
         "0.0",
         "237.0",
         "Not_set",
         "-3",
         "Valid",
         "0.0",
         "0.0",
         "0.0",
         "Disable",
         "Normal",
         "Normal",
         "Light_out",
         "Energy_recovery_allowed",
         "not_displayed",
         "Kwh/100_km_displayed",
         "Light_out",
         "Shutdown",
         "Light_out",
         "Normal",
         "OTA_veh_cond_ok",
         "OTA_veh_cond_not_ok",
         "Normal",
         "Normal",
         "Initial_value",
         "Not_collided",
         "Invalid",
         "Disconnect",
         "Enable",
         "Enable",
         "No_fault",
         "No_fault",
         "No_fault",
         "No_fault",
         "14.2",
         "0.0",
         "Initial_value",
         "Neutral",
         "14.041",
         "Normal",
         "Normal",
         "Normal",
         "Normal",
         "Normal",
         "Initial_value",
         "Normal",
         "Normal",
         "Normal",
         "Normal",
         "Normal",
         "Normal",
         "Normal",
         "Normal",
         "Normal",
         "Normal",
         "Normal",
         "Normal",
         "Normal",
         "Normal",
         "NTC2_open_circuit",
         "Normal",
         "Normal",
         "Normal",
         "Normal",
         "Normal",
         "0.0",
         "Normal",
         "Normal",
         "Normal",
         "12.0",
         "256",
         "0",
         "31",
         "3673.0",
         "3667.0",
         "3671.0",
         "13.336",
         "241.0",
         "7.0",
         "1288.0",
         "775.4",
         "77",
         "Not_Inhibit",
         "Not_Illuminate",
         "Not_Active",
         "9",
         "Not_Active",
         "Available",
         "Standby",
         "Not_Active",
         "Available",
         "Not_Active",
         "init_not_active",
         "HBB_Normal_Mode",
         "Not_Active",
         "Available",
         "231.0",
         "7.0",
         "0.0",
         "0.0",
         "226.0",
         "7.0",
         "Normal",
         "Normal",
         "38.0",
         "288.12",
         "Thermally_insulated",
         "Normal",
         "No_Thermal_Runaway",
         "No_fault",
         "0.0",
         "0.0",
         "0.0",
         "0.0",
         "On",
         "Off",
         "turn_on_ambient_light",
         "100",
         "10",
         "0",
         "Level_1",
         "236",
         "Not_Ready",
         "2",
         "Off",
         "Off",
         "Off",
         "Off",
         "Off",
         "neutral",
         "Off",
         "No_request",
         "No_remote_control",
         "No_remote_control",
         "Not_waken_up",
         "No_Request",
         "No_remote_control",
         "No_remote_control",
         "Disable",
         "Inactive",
         "Inactive",
         "0",
         "Normal",
         "Normal",
         "Normal",
         "3G_or_4G_LTE_CAT-1_and_below_(downllink_less_than_10_Mbps)",
         "Strong",
         "No_Inhibit_request",
         "No_request",
         "Normal",
         "Normal",
         "Normal",
         "Normal",
         "23",
         "96",
         "152",
         "225",
         "No_request",
         "No_remote_control",
         "No_remote_control",
         "Not_waken_up",
         "No_Request",
         "No_remote_control",
         "No_remote_control",
         "Disable",
         "Inactive",
         "Inactive",
         "0",
         "Normal",
         "Normal",
         "Normal",
         "3G_or_4G_LTE_CAT-1_and_below_(downllink_less_than_10_Mbps)",
         "Strong",
         "No_Inhibit_request",
         "No_request",
         "Normal",
         "Normal",
         "Normal",
         "Normal",
         "MaxHeight_Setting",
         "0",
         "0",
         "No_Failure",
         "Inactive",
         "No_whistle",
         "No_Blink",
         "Full_Latched_PawlSwOff_tail_door_lock_full_locking_state",
         "Trunk_Closed",
         "Inactive",
         "Inactive",
         "Inactive",
         "Inactive",
         "Inactive",
         "Learnt,_With_Maximum_Height_Customization_Allowed",
         "Inactive",
         "Not_Ready",
         "Not_Inhibit",
         "Closed",
         "No_Pinch",
         "29",
         "103.0",
         "no_crash,_level_0",
         "1.0",
         "no_crash,_level_0",
         "no_crash,_level_0",
         "no_crash,_level_0",
         "no_crash,_level_0",
         "no_crash",
         "68",
         "Default",
         "6",
         "No_Blind",
         "No_Failure",
         "Default",
         "Low_Beam_Request",
         "0",
         "76",
         "No_request",
         "No_request",
         "6",
         "No_Req",
         "Not_moving",
         "No_hazard_warning",
         "No_request",
         "TP_Replay_failed",
         "TP_Replay_not_available",
         "RAP_not_available",
         "Inactive",
         "Inactive",
         "No_request",
         "Off",
         "off",
         "Invalid",
         "0",
         "without_remote_control",
         "0",
         "31",
         "235",
         "238",
         "109",
         "68",
         "Initial",
         "Initial",
         "4",
         "Invalid",
         "Auth_Valid",
         "No_Request",
         "Not_In_Learning_Mode",
         "Inactive",
         null,
         null,
         "41",
         "248",
         "60",
         "127",
         "68",
         "Initial",
         "Initial",
         "4",
         "Invalid",
         "Auth_Valid",
         "No_Request",
         "Not_In_Learning_Mode",
         "Inactive",
         null,
         null,
         "173.0",
         "Normal",
         "12.0",
         "Parklock_engaged",
         "208.0",
         "Seat_not_occupied",
         "1.0",
         "Seat_not_occupied",
         "LED_1_2_ON/OFF",
         "Warning_lamp_off",
         "Seat_not_formost_position",
         "Seat_not_formost_position",
         "Not_Buckled",
         "Not_Buckled",
         "62.0",
         "No_Pressed",
         "No_Pressed",
         "13.0",
         "No_Pressed_Not_pressed",
         "No_Pressed",
         "No_Pressed",
         "No_Pressed",
         "No_Pressed",
         "No_Pressed_Not_pressed",
         "No_Pressed",
         "No_Pressed",
         "No_Pressed",
         "No_Pressed",
         "No_Pressed_Not_pressed",
         "No_Pressed_Not_pressed",
         "No_failure",
         "No_failure",
         "43.0",
         "0.0",
         "NM_PDU_contains_no_Partial_Network_request_information",
         "0.0",
         "Node_has_not_woken_up_the_network_(passive_wakeup)",
         "Start_of_synchronized_shutdown_is_not_requested_by_main_coordinator",
         "0.0",
         "0.0",
         "Repeat_Message_State_not_requested",
         "User_data_not_used",
         "inactive",
         "inactive",
         "inactive",
         "inactive",
         "inactive",
         "inactive",
         "inactive",
         "inactive",
         "255.0",
         "255.0",
         "255.0",
         "255.0",
         "53.0",
         "0.0",
         "NM_PDU_contains_no_Partial_Network_request_information",
         "0.0",
         "Node_has_not_woken_up_the_network_(passive_wakeup)",
         "Start_of_synchronized_shutdown_is_not_requested_by_main_coordinator",
         "0.0",
         "0.0",
         "Repeat_Message_State_not_requested",
         "User_data_not_used",
         "inactive",
         "inactive",
         "inactive",
         "inactive",
         "inactive",
         "inactive",
         "inactive",
         "inactive",
         "255.0",
         "255.0",
         "255.0",
         "255.0",
         "OTA_no_request",
         "0",
         "0",
         "184",
         "Initial",
         "Initial",
         "3",
         "On",
         "0",
         "0",
         "23",
         "242",
         "226",
         "75",
         "Inactive",
         "Reserved",
         "Reserved",
         "Reserved",
         "Reserved",
         "Inactive",
         "Invalid",
         "Invalid",
         "Inactive",
         "Inactive",
         "Inside",
         "Initial/Welcome_Light_0ff",
         "Initial",
         "14",
         "0",
         "0",
         "0",
         "23",
         "209",
         "143",
         "163",
         "37.0",
         "0.0",
         "NM_PDU_contains_no_Partial_Network_request_information",
         "0.0",
         "Node_has_not_woken_up_the_network_(passive_wakeup)",
         "Start_of_synchronized_shutdown_is_not_requested_by_main_coordinator",
         "0.0",
         "0.0",
         "Repeat_Message_State_not_requested",
         "User_data_not_used",
         "active",
         "active",
         "active",
         "active",
         "active",
         "active",
         "active",
         "active",
         "255.0",
         "255.0",
         "255.0",
         "255.0",
         "25",
         "0.0",
         "Normal",
         "Normal",
         "Normal",
         "Normal",
         "Normal",
         "Normal",
         "Standby",
         "Normal",
         "Normal",
         "Normal",
         "Normal",
         "Normal",
         "Normal",
         "Normal",
         "Normal",
         "35",
         "0.0",
         "Normal",
         "Normal",
         "Normal",
         "Normal",
         "Normal",
         "Normal",
         "Standby",
         "Normal",
         "Normal",
         "Normal",
         "Normal",
         "Normal",
         "Normal",
         "Normal",
         "Normal",
         "21",
         "21",
         "0",
         "21",
         "Power_working_mode",
         "Gear_0",
         "Power_supply",
         "initialized",
         "Passvive",
         "Inactive",
         "Invalid",
         "System_Warning_Invalid",
         "Initial",
         "Inactive",
         "No_Information",
         "No_Information",
         "No_Information",
         "Reserved",
         "No_error",
         "Invalid",
         "Reserved",
         "Passvive",
         "Inactive",
         "Invalid",
         "System_Warning_Invalid",
         "Initial",
         "Inactive",
         "No_Information",
         "No_Information",
         "No_Information",
         "Reserved",
         "No_error",
         "Invalid",
         "Reserved",
         "37",
         "129",
         "210",
         "196",
         "Invalid",
         "Valid",
         "Invalid",
         "375.32",
         "0.0",
         "0.0",
         "-48",
         "25",
         "0",
         "25",
         "Power_working_mode",
         "Gear_0",
         "Power_supply",
         "initialized",
         "Default",
         "No_Forget",
         "No_Charge",
         "NO_Exist",
         "Off",
         "Off",
         "Off",
         "Initial",
         "inactive",
         "no_connection_",
         "known_device_connected",
         "inactive",
         "Auto_Unlock/Lock_Disabled",
         "0",
         "User_Profile_ID_number1(guest/default)",
         "0",
         "0",
         "0",
         "0",
         "144.0",
         "13.0",
         "35.4",
         "374.8",
         "1.5",
         "14.2",
         "5",
         "62",
         "72",
         "62",
         "Off",
         "Off",
         "Off",
         "Off",
         "0",
         "INIT",
         "0",
         "27",
         "142",
         "102",
         "34",
         "36.0",
         "13.0",
         "23.0",
         "Working",
         "Normal",
         "Normal",
         "Normal",
         "Normal",
         "Normal",
         "Normal",
         "Normal",
         "Normal",
         "Normal",
         "Normal",
         "No_Fault",
         "Normal",
         "20.0",
         "115.0",
         "Inovance",
         "13.0",
         "0.0",
         "0.0",
         "0.0",
         "59.0",
         "Unlocking_state",
         "111.0",
         "220V",
         "13.0",
         "250.0",
         "480.0",
         "0.3",
         "189.0",
         "13.0",
         "Normal",
         "Normal",
         "Normal",
         "Normal",
         "Normal",
         "Normal",
         "Normal",
         "Normal",
         "Normal",
         "Normal",
         "Normal",
         "Normal",
         "Normal",
         "Normal",
         "Normal",
         "Normal",
         "No_Fault",
         "158.0",
         "13.0",
         "119.6",
         "11.4",
         "0.9",
         "33",
         "87",
         "75",
         "0.0",
         "0.0",
         "25.0",
         "29.0",
         "14.0",
         "29.0",
         "53.0",
         "Buck",
         "Discharging",
         "117.0",
         "Initial_value",
         "0.0",
         "0.0",
         "0.0",
         "initialized",
         "Standby",
         "Normal",
         "Normal",
         "Normal",
         "Normal",
         "Normal",
         "Normal",
         "Normal",
         "Normal",
         "28",
         "0.0",
         "190.0",
         "20.0",
         "561.7",
         "25.0",
         "Off",
         "Off",
         "Off",
         "Off",
         "Off",
         "Off",
         "83.0",
         "6.6kw",
         "OK",
         "13.0",
         "Initial",
         "Initial",
         "1.5",
         "23.0",
         "VTOL_Trunk_Discharge",
         "Normal",
         "Normal",
         "Working",
         "Initial",
         "Normal",
         "Normal",
         "Normal",
         "Normal",
         "Normal",
         "Normal",
         "8.0",
         "123.0",
         "218.0",
         "66.0",
         "Off",
         "Off",
         "Normal_operating_state",
         "initialization_completed",
         "42",
         "80",
         "Rotation_allowed",
         "RelayOpen",
         "RelayOpen",
         "0.0",
         "5938.0",
         "RelayOpen",
         "RelayOpen",
         "0.0",
         "8877.0",
         "RelayClosed",
         "RelayClosed",
         "0.0",
         "10717.0",
         "RelayClosed",
         "RelayClosed",
         "0.0",
         "10856.0",
         "RelayOpen",
         "RelayOpen",
         "0.0",
         "9875.0",
         "246.0",
         "ErrorNotActive",
         "WarningNotActive",
         "ErrorNotActive",
         "WarningNotActive",
         "10.0",
         "ErrorNotActive",
         "WarningNotActive",
         "ErrorNotActive",
         "ErrorNotActive",
         "ErrorNotActive",
         "ErrorNotActive",
         "ErrorNotActive",
         "WarningNotActive",
         "ErrorNotActive",
         "ErrorNotActive",
         "ErrorNotActive",
         "ErrorNotActive",
         "WarningNotActive",
         "ErrorNotActive",
         "ErrorNotActive",
         "WarningNotActive",
         "ErrorNotActive",
         "ErrorNotActive",
         "ErrorNotActive",
         "WarningNotActive",
         "ErrorNotActive",
         "ErrorNotActive",
         "ErrorNotActive",
         "WarningNotActive",
         "ErrorNotActive",
         "WarningNotActive",
         "ErrorNotActive",
         "ErrorNotActive",
         "0.0",
         "38.0",
         "41.2",
         "98.0",
         "255.0",
         "107.0",
         "10.0",
         "1000.0",
         "457.3",
         "4347.0",
         "2500.0",
         "1310.7",
         "926.0",
         "6.0",
         "10.0",
         "0.0",
         "0.0",
         "443.6",
         "255.0",
         "17.0",
         "18.0",
         "5976.0",
         "5971.0",
         "2668.0",
         "2666.0",
         "Normal",
         "No_fault",
         "No_fault",
         "Not_balanced",
         "No_fault",
         "Fault",
         "No_fault",
         "No_fault",
         "Normal",
         "Normal",
         "Normal",
         "Normal",
         "Normal",
         "Normal",
         "Normal",
         "Normal",
         "Normal",
         "Normal",
         "Normal",
         "Normal",
         "Normal",
         "Normal",
         "Normal",
         "Normal",
         "Normal",
         "Normal",
         "Normal",
         "Normal",
         "Normal",
         "Normal",
         "Normal",
         "Normal",
         "Normal",
         "Normal",
         "Normal",
         "Normal",
         "Normal",
         "Normal",
         "Reserved",
         "Abnormal",
         "Reserved",
         "Normal",
         "Normal",
         "Normal",
         "Normal",
         "Normal",
         "Normal",
         "Normal",
         "Normal",
         "Abnormal",
         "Abnormal",
         "Abnormal",
         "Normal",
         "Normal",
         "Normal",
         "Normal",
         "Normal",
         "Normal",
         "Normal",
         "Normal",
         "3.0",
         "Initial",
         "10.0",
         "24.0",
         "2.0",
         "26.0",
         "25.0",
         "Power_reduction_not_allowed",
         "cycling",
         "-48.0",
         "255.0",
         "255.0",
         "255.0",
         "255.0",
         "255.0",
         "973733900.0",
         "50.0",
         "255.0",
         "CountersOK",
         "RelayOK",
         "RelayOK",
         "10717.0",
         "0.0",
         "0.0",
         "0.0",
         "0.0",
         "0.0",
         "CountersOK",
         "RelayOK",
         "RelayOK",
         "10856.0",
         "0.0",
         "0.0",
         "0.0",
         "0.0",
         "0.0",
         "CountersOK",
         "RelayOK",
         "RelayOK",
         "9875.0",
         "0.0",
         "0.0",
         "0.0",
         "0.0",
         "0.0",
         "25.5",
         "25.5",
         "25.0",
         "0.0",
         "0.0",
         "CountersOK",
         "RelayOK",
         "RelayOK",
         "0.0",
         "0.0",
         "0.0",
         "0.0",
         "0.0",
         "0.0",
         "CountersOK",
         "RelayOK",
         "RelayOK",
         "0.0",
         "0.0",
         "0.0",
         "0.0",
         "0.0",
         "0.0",
         "Off",
         "Off",
         "Off",
         "No_Action",
         "No_Action",
         "No_Action",
         "No_Action",
         "No_Action",
         "No_Action",
         "No_Action",
         "No_Action",
         "No_Action",
         "No_Action",
         "No_Action",
         "No_Action",
         "Not_Change",
         "Off",
         "Initial",
         "Off",
         "Off",
         "PSK",
         "Inactive",
         "Inactive",
         "Check",
         "Inactive",
         "Check",
         "118",
         "Level_1",
         "11",
         "Normal",
         "turn_on_ambient_light",
         "Initial",
         "Normal",
         "Init,_No_request",
         "Normal",
         "No_Pressed",
         "Level_1",
         "OFF",
         "no_reset",
         "0",
         "Init",
         "Init",
         "No_Failure",
         "No_Failure",
         "Initial",
         "Idle",
         "Idle",
         "Low",
         "Not_Change",
         "Reserved(Nobody)",
         "Not_Change",
         "Not_Change",
         "Not_Change",
         "Not_Change",
         "Not_Change",
         "No_Request",
         "Not_Change",
         "Init",
         "Not_Change",
         "windless_gear",
         "Incoming_Call",
         "on",
         "off",
         "mi_(miles)",
         "Closed",
         "Closed",
         "Fahrnheit",
         "Level_5",
         "Yes",
         "No",
         "No",
         "No",
         "No",
         "0",
         "Not_ON",
         "Guisance_Inactive",
         "Initial_value",
         "Inactive",
         "English_(CA)",
         "Default",
         "No_Display",
         "Value_OK",
         "35490.0",
         "0",
         "Init",
         "No_Error_No_error",
         "No_Failure",
         "MPH",
         "0",
         "35490.0",
         "Not_cleared",
         "Value_OK",
         "Off",
         "Off",
         "Off",
         "Off",
         "Off",
         "Off",
         "Release",
         "Release",
         "Release",
         "Release",
         "Void",
         "Void",
         "Void",
         "void",
         "No_Request",
         "0.0",
         "Ready",
         "Air_Conditioning_power_on_(Short)",
         "no_warning",
         "3.1",
         "2.8",
         "No_Action",
         "Reserved",
         "Reserved",
         "Invalid",
         "Invalid",
         "No_Action",
         "No_Action",
         "No_Action",
         "Level_3_upwards_60%",
         "Invalid",
         "Invalid",
         "No_Action",
         "ON_state",
         "Self_circulation_state",
         "initialization_completed",
         "Load_initialization",
         "Rear_face_blowing",
         "Windless_gear",
         "On",
         "Low",
         "Low",
         "Initializing",
         "Inner_circulation_state",
         "Natural_wind",
         "On",
         "Off",
         "Off_state",
         "22.0",
         "driver_face_blowing_mode",
         "Functional",
         "Normal",
         "Not_opened",
         "Valid",
         "Initial",
         "Standby",
         "front_passenger_face_blowing_mode",
         "0",
         "0",
         "0.0",
         "Standby",
         "Disable",
         "Standby",
         "Gear_0",
         "Gear_0",
         "20.0",
         "Valid",
         "Inactive",
         "Invalid",
         "Off",
         "0",
         "56",
         "0",
         "0",
         "21",
         "20",
         "Gear_0",
         "Gear_0",
         "21",
         "21",
         "20",
         "21",
         "20",
         "22",
         "24",
         "21",
         "Run",
         "Run",
         "Run",
         "Shutdown",
         "Standby_Standby",
         "Shutdown",
         "Normal",
         "Normal",
         "0",
         "52",
         "26",
         "100",
         "0",
         "Normal",
         "0.0",
         "0.0",
         "0.0",
         "0.0",
         "0.0",
         "0.0",
         "41.18",
         "40",
         "Hands-off_detected",
         "5",
         "Hands-off_detected",
         "No_Response_Error",
         "No_error",
         "OFF",
         "0.0",
         "0.0",
         "0.0",
         "0.0",
         "0.0",
         "0.0",
         "0.0",
         "0.0",
         "303",
         "Init",
         "above_50_miles-no_warning",
         "0.0",
         "0.0",
         "0.0",
         "0.0",
         "0.0",
         "0.0",
         "0.0",
         "0.0",
         "0.0",
         "0.0",
         "0.0",
         "0.0",
         "0.0",
         "0.0",
         "Default",
         "0.0",
         "0.0",
         "0",
         "6.0",
         "1881342000.0",
         "161.0",
         "211.0",
         "39.0",
         "0.0",
         "NM_PDU_contains_no_Partial_Network_request_information",
         "0.0",
         "Node_has_not_woken_up_the_network_(passive_wakeup)",
         "Start_of_synchronized_shutdown_is_not_requested_by_main_coordinator",
         "0.0",
         "0.0",
         "Repeat_Message_State_not_requested",
         "User_data_for_current_vehicle_without_partial_networking",
         "inactive",
         "inactive",
         "active",
         "inactive",
         "inactive",
         "inactive",
         "inactive",
         "inactive",
         "255.0",
         "255.0",
         "255.0",
         "255.0",
         "24.0",
         "0.0",
         "NM_PDU_contains_no_Partial_Network_request_information",
         "0.0",
         "Node_has_not_woken_up_the_network_(passive_wakeup)",
         "Start_of_synchronized_shutdown_is_not_requested_by_main_coordinator",
         "0.0",
         "0.0",
         "Repeat_Message_State_not_requested",
         "User_data_for_current_vehicle_without_partial_networking",
         "active",
         "inactive",
         "inactive",
         "inactive",
         "inactive",
         "active",
         "inactive",
         "inactive",
         "255.0",
         "255.0",
         "255.0",
         "255.0",
         "Sound_I",
         "Working_Status",
         "No_Output_No_input",
         "Indicator_Off_(VSP_Enable)_indicator_off",
         "Initial",
         "Not_Work_Inoperative",
         "Speaker_Not_Working_horn_not_ringing",
         "38.0",
         "0.0",
         "NM_PDU_contains_no_Partial_Network_request_information",
         "0.0",
         "Node_has_not_woken_up_the_network_(passive_wakeup)",
         "Start_of_synchronized_shutdown_is_not_requested_by_main_coordinator",
         "0.0",
         "0.0",
         "Repeat_Message_State_not_requested",
         "User_data_for_current_vehicle_without_partial_networking",
         "inactive",
         "inactive",
         "active",
         "active",
         "inactive",
         "inactive",
         "inactive",
         "inactive",
         "255.0",
         "255.0",
         "255.0",
         "255.0",
         "105.0",
         "valid",
         "Idle",
         "3.0",
         "0.0",
         null,
         null,
         "0_degree",
         "no_rotation",
         "32.0",
         "0.0",
         "NM_PDU_contains_no_Partial_Network_request_information",
         "0.0",
         "Node_has_woken_up_the_network_(active_Wakeup)",
         "Start_of_synchronized_shutdown_is_not_requested_by_main_coordinator",
         "0.0",
         "0.0",
         "Repeat_Message_State_not_requested",
         "User_data_for_current_vehicle_without_partial_networking",
         "inactive",
         "inactive",
         "active",
         "active",
         "inactive",
         "active",
         "inactive",
         "inactive",
         "255.0",
         "255.0",
         "255.0",
         "255.0",
         "17.0",
         "18.0",
         "0.0",
         "255.0",
         "973733900.0",
         "50.0",
         "255.0",
         "0",
         "191",
         "valid",
         "no_action",
         "5",
         "0.0",
         "10",
         "0",
         "1",
         "0",
         "1",
         "249",
         "159",
         "85",
         "109",
         "0",
         "0",
         "NC",
         "NC",
         "Unmute",
         "Main_Volume_Step_0~39",
         "Low",
         "iESS_Mode_1",
         "Chime_Volume_Step_5",
         "Surround",
         "OFF",
         "HFM_Colume_Step_0~39",
         "No_Action",
         "Navi_Volume_Step_0~39",
         "Action",
         "No_Action",
         "RT_Step_0~39",
         "No_Action",
         "No_Action",
         "VR/TTS_Step_0~39",
         "54.0",
         "0.0",
         "NM_PDU_contains_no_Partial_Network_request_information",
         "0.0",
         "Node_has_woken_up_the_network_(active_Wakeup)",
         "Start_of_synchronized_shutdown_is_not_requested_by_main_coordinator",
         "0.0",
         "0.0",
         "Repeat_Message_State_not_requested",
         "User_data_for_current_vehicle_without_partial_networking",
         "inactive",
         "inactive",
         "active",
         "active",
         "inactive",
         "active",
         "inactive",
         "inactive",
         "255.0",
         "255.0",
         "255.0",
         "255.0",
         "1.0",
         "0.0",
         "NM_PDU_contains_no_Partial_Network_request_information",
         "0.0",
         "Node_has_not_woken_up_the_network_(passive_wakeup)",
         "Start_of_synchronized_shutdown_is_not_requested_by_main_coordinator",
         "0.0",
         "0.0",
         "Repeat_Message_State_not_requested",
         "User_data_for_current_vehicle_without_partial_networking",
         "inactive",
         "inactive",
         "inactive",
         "active",
         "inactive",
         "active",
         "inactive",
         "inactive",
         "255.0",
         "255.0",
         "255.0",
         "255.0",
         "19.0",
         "0.0",
         "NM_PDU_contains_no_Partial_Network_request_information",
         "0.0",
         "Node_has_woken_up_the_network_(active_Wakeup)",
         "Start_of_synchronized_shutdown_is_not_requested_by_main_coordinator",
         "0.0",
         "0.0",
         "Repeat_Message_State_not_requested",
         "User_data_not_used",
         "active",
         "inactive",
         "inactive",
         "inactive",
         "inactive",
         "active",
         "inactive",
         "inactive",
         "255.0",
         "255.0",
         "255.0",
         "255.0",
         "2.0",
         "1.0",
         "1.0",
         "8.0",
         "1.0",
         "2930200000.0",
         "2.0",
         "2.0",
         "1.0",
         "2930200000.0",
         "2.0",
         "2.0",
         "2.0",
         "120521.0",
         "1.0",
         "10.0",
         "60.0",
         "0.0",
         "NM_PDU_contains_no_Partial_Network_request_information",
         "0.0",
         "Node_has_not_woken_up_the_network_(passive_wakeup)",
         "Start_of_synchronized_shutdown_is_not_requested_by_main_coordinator",
         "0.0",
         "0.0",
         "Repeat_Message_State_not_requested",
         "User_data_for_current_vehicle_without_partial_networking",
         "active",
         "inactive",
         "active",
         "inactive",
         "inactive",
         "inactive",
         "inactive",
         "inactive",
         "255.0",
         "255.0",
         "255.0",
         "255.0",
         "0.0",
         "40.0",
         "40.0",
         "40.0",
         "Normal",
         "Cooling",
         "Not_triggered",
         "0.6",
         "Gear_0_request",
         "Gear_0_request",
         "0.6",
         "252.0",
         "12.0",
         "22.0",
         "not_homogenized",
         "Inactive",
         "22.0",
         "22.0",
         "22.0",
         "Normal",
         "Normal",
         "Normal",
         "Normal",
         "Normal",
         "Normal",
         "Normal",
         "Normal",
         "Normal",
         "Normal",
         "Normal",
         "Normal",
         "Normal",
         "Normal",
         "Normal",
         "Normal",
         "Normal",
         "Normal",
         "Normal",
         "Normal",
         "Normal",
         "Normal",
         "Normal",
         "Normal",
         "Normal",
         "Normal",
         "Normal",
         "Normal",
         "Normal",
         "Communication_normal",
         "Communication_normal",
         "Communication_normal",
         "Communication_normal",
         "Communication_normal",
         "Communication_normal",
         "Normal",
         "Normal",
         "Communication_normal",
         "Communication_normal",
         "25.0",
         "2930200000.0",
         "2.0",
         "2.0",
         "Not_cleared",
         "Value_OK",
         "35490.0",
         "0.0",
         "0.0",
         "1.0",
         "0.0",
         "0.0",
         "0.0",
         "0.0",
         "0.0",
         "0.0",
         "No_demand",
         "0.0",
         "Initializing",
         "Initial_Value",
         "No_request",
         "No_request",
         "No_request",
         "No_request",
         "No_request",
         "No_request",
         "No_request",
         "No_request",
         "No_request",
         "No_request",
         "No_request",
         "No_request",
         "No_request",
         "No_request",
         "No_request",
         "No_request",
         "No_request",
         "No_request",
         "No_request",
         "No_request",
         "No_request",
         "No_request",
         "No_request",
         "No_request",
         "0.0",
         "0.0",
         "NCM",
         "CATL",
         "1.0",
         "102.0",
         "2.0",
         "149.0",
         "2.5",
         "202.0",
         "11.0",
         "229122.0",
         "0.0",
         "36.0",
         null,
         null,
         "Off",
         "0.0",
         "0.0",
         "12.0",
         "27.0",
         "Battery_pack_2",
         "Battery_pack_1",
         "Battery_pack_1",
         "Battery_pack_3",
         "1.0",
         "6.0",
         null,
         null,
         null,
         null,
         null,
         null,
         null,
         null,
         null,
         null,
         null,
         null,
         null,
         null,
         null,
         null,
         null,
         null,
         null,
         null,
         null,
         null,
         null,
         null,
         null,
         null,
         null,
         null,
         null,
         null,
         null,
         null,
         null,
         null,
         null,
         null,
         null,
         null,
         null,
         null,
         null,
         null,
         null,
         null,
         null,
         null,
         null,
         null,
         null,
         null,
         null,
         null,
         null,
         null,
         null,
         null,
         null,
         null,
         null,
         null,
         null,
         null,
         null,
         null,
         null,
         null,
         null,
         null,
         null,
         null,
         null,
         null,
         null,
         null,
         null,
         null,
         null,
         null,
         null,
         null,
         null,
         null,
         null,
         null,
         null,
         null,
         null,
         null,
         null,
         null,
         null,
         null,
         null,
         null,
         null,
         null,
         null,
         null,
         null,
         null,
         "Invalid",
         "flag_bit_not_reached",
         "Default",
         "High",
         "Roll",
         "flag_bit_not_reached",
         "Default_Mode",
         "Invalid",
         "No_action",
         "No_action",
         "Anti-theft",
         "Default",
         "Default",
         "Eco",
         "High",
         "Initial_value",
         "Invalid_(treat_same_as_0x3)",
         "No_action",
         "90.0",
         null,
         null,
         null,
         null,
         null,
         null,
         null,
         null,
         null,
         null,
         null,
         null,
         null,
         null,
         null,
         null,
         null,
         null,
         null,
         null,
         null,
         null,
         null,
         null,
         null,
         null,
         null,
         null,
         null,
         null,
         null,
         null,
         null,
         null,
         null,
         null,
         null,
         null,
         null,
         null,
         null,
         null,
         null,
         null,
         null,
         null,
         null,
         null,
         null,
         null,
         null,
         null,
         null,
         null,
         null,
         null,
         null,
         null,
         null,
         null,
         null,
         null,
         null,
         null,
         null,
         null,
         null,
         null,
         null,
         null,
         null,
         null,
         null,
         null,
         null,
         null,
         null,
         null,
         null,
         null,
         null,
         null,
         null,
         null,
         null,
         null,
         null,
         null,
         null,
         null,
         null,
         null,
         null,
         null,
         null,
         null,
         null,
         null,
         null,
         null,
         null,
         null,
         null,
         null,
         null,
         null,
         null,
         null,
         "0.0",
         "274038.0",
         "274038.0",
         "206.0",
         "9.0",
         "0.0",
         "0.0",
         "0.0",
         "0.0",
         "74.0",
         "Standby",
         "Standby",
         "9.0",
         "0.0",
         "0.0",
         "0.0",
         "No_error",
         "No_error",
         "No_error",
         "No_error",
         "No_error",
         "No_error",
         "No_error",
         "No_error",
         "No_error",
         "No_error",
         "No_error",
         "No_error",
         "Denied",
         "Inactive",
         "497.0",
         "0.0",
         "0.0",
         "736.0",
         "170.0",
         "0.0",
         "255.0",
         "214.0",
         "181.0",
         "165.0",
         "159.0",
         "157.0",
         "159.0",
         "162.0",
         "167.0",
         "174.0",
         "Freestart_mode",
         "Normal",
         "Not_learned",
         "55775504.0",
         "0.0",
         "0.0",
         "Normal",
         "Normal",
         "Normal",
         "Normal",
         "Normal",
         "Normal",
         "Normal",
         "Normal",
         "Normal",
         "Normal",
         "Normal",
         "Normal",
         "Normal",
         "Normal",
         "Normal",
         "Normal",
         "Normal",
         "Normal",
         "Normal",
         "Normal",
         "Normal",
         "Normal",
         "Normal",
         "Normal",
         "Normal",
         "Normal",
         "Normal",
         "Normal",
         "Normal",
         "Normal",
         "Normal",
         "0.0",
         "0.0",
         "0.0",
         "Initial_value",
         "Off",
         "Off",
         "0.0",
         "0.0",
         "6.0",
         "1.0",
         "11.0",
         "3.0",
         "13.0",
         "13.0",
         "0.0",
         "Initial_value",
         "19.0",
         "19.0",
         "19.0",
         "0.0",
         "0.0",
         "0.0",
         "0.0",
         "0.0",
         "1.0",
         "0.0",
         "0.0",
         "-420.0",
         "29.0",
         "15.0",
         "10.0",
         "2025.0",
         "6.0",
         "38.0",
         "0.0",
         "0.0",
         "0.0",
         null,
         null,
         null,
         null,
         null,
         null,
         null,
         null,
         null,
         null,
         null,
         null,
         null,
         null,
         "3.905239e+18",
         "3.4729e+18",
         "0.0",
         "0.0",
         "1.0",
         "24.0",
         "0.0",
         "204.0",
         "15.0",
         "137.0",
         null,
         null,
         null,
         null,
         null,
         null,
         null,
         null,
         null,
         null,
         null,
         null,
         null,
         null,
         null,
         null,
         null,
         null,
         null,
         null,
         null,
         null,
         null,
         null,
         null,
         null,
         null,
         null,
         null,
         null,
         null,
         null,
         null,
         null,
         null,
         null,
         null,
         null,
         null,
         null,
         null,
         null,
         null,
         null,
         null,
         null,
         null,
         null,
         null,
         null,
         null,
         null,
         null,
         null,
         null,
         null,
         null,
         null,
         null,
         null,
         null,
         null,
         null,
         null,
         null,
         null,
         null,
         null,
         null,
         null,
         null,
         null,
         null,
         null,
         null,
         null,
         null,
         null,
         null,
         null,
         null,
         null,
         null,
         null,
         null,
         null,
         null,
         null,
         null,
         null,
         null,
         null,
         null,
         null,
         null,
         null,
         null,
         null,
         null,
         null,
         null,
         null,
         null,
         null,
         null,
         null,
         null,
         null,
         null,
         null,
         null,
         null,
         null,
         null,
         null,
         null,
         null,
         null,
         null,
         null,
         null,
         null,
         null,
         null,
         null,
         null,
         null,
         null,
         null,
         null,
         null,
         null,
         null,
         null,
         null,
         null,
         null,
         null,
         null,
         null,
         null,
         null,
         null,
         null,
         null,
         null,
         null,
         null,
         null,
         null,
         null,
         null,
         null,
         null,
         null,
         null,
         null,
         null,
         null,
         null,
         null,
         null,
         null,
         null,
         null,
         null,
         null,
         null,
         null,
         null,
         null,
         null,
         null,
         null,
         null,
         null,
         null,
         null,
         null,
         null,
         null,
         null,
         null,
         null,
         null,
         null,
         null,
         null,
         null,
         null,
         null,
         null,
         null,
         null,
         null,
         null,
         null,
         null,
         null,
         null,
         null,
         null,
         null,
         null,
         null,
         null,
         null,
         null,
         null,
         null,
         null,
         null,
         null,
         null,
         null,
         null,
         null,
         null,
         null,
         null,
         null,
         null,
         null,
         null,
         null,
         null,
         null,
         null,
         null,
         null,
         null,
         null,
         null,
         null,
         null,
         null,
         null,
         null,
         null,
         null,
         null,
         null,
         null,
         null,
         null,
         null,
         null,
         null,
         null,
         null,
         null,
         null,
         null,
         null,
         null,
         null,
         null,
         null,
         null,
         null
        ],
        [
         "2025-06-29 12:10:39+00:00",
         "216",
         "remote_control_not_ended",
         "No_request",
         "Ready",
         "10",
         "Valid",
         "Normal",
         "gear_P",
         "Valid",
         "Not_ready",
         "Not_ready",
         "gear_P",
         "Standby",
         "0.0",
         "Not_enabled",
         "Normal",
         "Eco",
         "Valid",
         "brake_pedal_not_pressed",
         "0",
         "0",
         "0",
         "0",
         "72.0",
         "No_Abort",
         "5.0",
         "245.8125",
         "Valid",
         "No_rotation",
         "Valid",
         "Calibrated",
         "0.0",
         "Valid",
         "Available_For_Control",
         "0.0",
         "216",
         "remote_control_not_ended",
         "No_request",
         "Ready",
         "10",
         "Valid",
         "Normal",
         "gear_P",
         "Valid",
         "Not_ready",
         "Not_ready",
         "gear_P",
         "Standby",
         "0.0",
         "Not_enabled",
         "Normal",
         "Eco",
         "Valid",
         "brake_pedal_not_pressed",
         "236",
         "P-Button2_not_pressed",
         "P-Button1_not_pressed",
         "11",
         "No_fault",
         "Gear_Lever_neutral_position_(N)",
         "P_button_invalid",
         "Invalid",
         "184",
         "10",
         "Not_forbidden",
         "No_Boost",
         "Valid",
         "Standby",
         "0.0",
         "134",
         "10",
         "Not_forbidden",
         "No_Boost",
         "Valid",
         "Standby",
         "0.0",
         "213",
         "11",
         "Washing_OFF",
         "Neutral_middle_position",
         "Default_state",
         "Off_default",
         "144",
         "12",
         "Valid",
         "0.0",
         "Stop",
         "Stop",
         "Valid",
         "0.0",
         "0",
         "init",
         "0",
         "Not_repeated",
         "Not_repeated",
         "Not_repeated",
         "Not_repeated",
         "Not_repeated",
         "Not_repeated",
         "Not_repeated",
         "0.0",
         "0",
         "Invalid",
         "0",
         "167.0",
         "Standstill",
         "Valid",
         "2.0",
         "-1.0",
         "Valid",
         "0.0",
         "Standby",
         "Completed",
         "Disable",
         "Slip_control_deactivated",
         "Not_discharged",
         "29.0",
         "Standby_state",
         "With_request",
         "2.0",
         "300.0",
         "360.0",
         "25.0",
         "22.0",
         "Normal",
         "Normal",
         "Normal",
         "Normal",
         "Normal",
         "Normal",
         "Normal",
         "Normal",
         "Normal",
         "Normal",
         "Normal",
         "Normal",
         "Normal",
         "Normal",
         "Normal",
         "Normal",
         "Normal",
         "Normal",
         "Normal",
         "Normal",
         "Normal",
         "Normal",
         "Normal",
         "Normal",
         "Normal",
         "Normal",
         "Normal",
         "Normal",
         "Normal",
         "Normal",
         "Normal",
         "Normal",
         "Normal",
         "Normal",
         "Normal",
         "Normal",
         "Normal",
         "Normal",
         "Normal",
         "Normal",
         "22.0",
         "Standstill",
         "Valid",
         "5.0",
         "0.0",
         "Valid",
         "0.0",
         "Disconnect_in_progress",
         "Standby",
         "Completed",
         "Disable",
         "Slip_control_deactivated",
         "Not_discharged",
         "91.0",
         "Standby_state",
         "With_request",
         "5.0",
         "300.0",
         "360.0",
         "24.0",
         "24.0",
         "Normal",
         "Normal",
         "Normal",
         "Normal",
         "Normal",
         "Normal",
         "Normal",
         "Normal",
         "Normal",
         "Normal",
         "Normal",
         "Normal",
         "Normal",
         "Normal",
         "Normal",
         "Normal",
         "Normal",
         "Normal",
         "Normal",
         "Normal",
         "Normal",
         "Normal",
         "Normal",
         "Normal",
         "Normal",
         "Normal",
         "Normal",
         "Normal",
         "Normal",
         "Normal",
         "Normal",
         "Normal",
         "Normal",
         "Normal",
         "Normal",
         "Normal",
         "Normal",
         "Normal",
         "Normal",
         "Normal",
         "51",
         "Reserved",
         "Reserved",
         "5",
         "Initial_value",
         "Standby",
         "Invalid",
         "26",
         "7",
         "3_meters_or_less",
         "On_line",
         "Reserved",
         "Not_Pressed",
         null,
         null,
         "Inactive",
         "Inactive",
         "Authentication_Valid",
         "96.5",
         "96.5",
         "97.5",
         "97.5",
         "250",
         "Tunnel/Tunnel",
         "without_remote_control",
         "Void",
         "Void",
         "without_remote_control",
         "without_remote_control",
         "without_remote_control",
         "No_remote_setting",
         "No_remote_setting",
         "without_remote_control",
         "without_remote_control",
         "No_request",
         "No_remote_view_command",
         "No_remote_setting",
         "No_remote_setting",
         "No_Req_/_Stop_heating",
         "EcallUnmute",
         "without_control",
         "Void",
         "eCall_DEACTIVATED",
         "106",
         "No_Announcement",
         "8",
         "Valid",
         "IGN_On",
         "Active",
         "Valid",
         "Valid",
         "No_Pressed",
         "Inactive",
         "Active",
         "Active",
         "87",
         "Not_Use",
         "No",
         "8",
         "Auto",
         "On",
         "Inactive",
         "On",
         "Off",
         "Inactive",
         "Inactive",
         "Inactive",
         "Inactive",
         "Inactive",
         "Inactive",
         "Off",
         "Off",
         "Off",
         "Off",
         "Off",
         "Off",
         "Off",
         "Off",
         "Off",
         "Off",
         "Off",
         "Off",
         "All_On",
         "On",
         "Off",
         "Inactive",
         "Off",
         "Off",
         "Active",
         "0",
         "Off",
         "300",
         "157",
         "Not_active_Not_enabled",
         "Successful",
         "8",
         "Closed",
         "Open",
         "Inactive",
         "Inactive",
         "Unlock",
         "Inactive",
         "Closed",
         "Closed",
         "Closed",
         "Closed",
         "driver's_door",
         "Inactive",
         "Anti_Theft_system_Unset",
         "Inactive",
         "Follow_Me_Closed",
         "Closed",
         "Closed",
         "Closed",
         "Closed",
         "Not_Active",
         "Inactive",
         "Inactive",
         "Off",
         "Off",
         "Inactive",
         "0",
         "Inactive",
         "Stopped",
         "Available",
         "Horizontal_sliding_zone",
         "135",
         "Stopped",
         "HUD_Measuring_Range_1(4cd/m2)",
         "8",
         "0.0",
         "0.0",
         "55.0",
         "18.0",
         "47",
         "0",
         "158",
         "Not_Inhibit",
         "Not_Ready",
         "8",
         "Not_buckled",
         "Not_buckled",
         "Invalid",
         "Seat_not_occupied",
         "Fault",
         "Fault",
         "Not_buckled",
         "Invalid",
         "Invalid",
         "Seat_not_occupied",
         "Seat_not_occupied",
         "0.0",
         "0.0",
         "0.0",
         "Level_1",
         "Closed",
         "Closed",
         "Closed",
         "Off",
         "Off",
         "Off",
         "Off",
         "Off",
         "0.0",
         "OFF_status",
         "No_Error",
         "no_signal",
         "OK",
         "Normal",
         "Normal",
         "Normal",
         "Not_closed",
         "Invalid",
         "Normal",
         "Normal",
         "Normal",
         "Normal",
         "Normal",
         "Invalid",
         "209",
         "8",
         "Not_Failed",
         "Not_Failed",
         "Not_Failed",
         "Not_Failed",
         "Not_Failed",
         "Not_Failed",
         "Not_Failed",
         "Not_Failed",
         "Not_Failed",
         "Not_Failed",
         "Not_Failed",
         "Not_Failed",
         "Not_Failed",
         "Not_Failed",
         "validkey_found",
         "Not_Failed",
         "Not_Failed",
         "Not_Failed",
         "Not_Failed",
         "15.0",
         "0.0",
         "2.49",
         "108",
         "Active",
         "NotActive",
         "4",
         "BMS_ActiveSet_BMStoActiveMode_WhereitisAWakeAndOperating",
         "NO_Charging_NoChargerisConnected",
         "BALANCING_ON_BalancingisallowedByVCU",
         "HV_ON_BatteryShouldbeConnected",
         "0",
         "0",
         "0",
         "0",
         "124",
         "1",
         "0.0",
         "No_Failure",
         "No_Error",
         "No_Override_Not_Overcovered",
         "Initial_value",
         "Without_Request",
         "No_request",
         "Power_immobilizer_authentication_request_is_not_allowed",
         "0",
         "202",
         "No_Fault",
         "Not_Ready",
         "13",
         "No_Request",
         "DTC_Not_Active",
         "EBD_Not_Active",
         "TCS_Standby",
         "ESP_Standby",
         "Available",
         "Not_Active",
         "Available",
         "Not_Active",
         "Available",
         "Not_Active",
         "Available",
         "Not_Active",
         "No_Fault",
         "Not_High",
         "Standstill",
         "Available",
         "Not_Active",
         "No_Error",
         "Not_Active",
         "32.0",
         "Open",
         "Open",
         "13.0",
         "0.12",
         "374.5",
         "0.0",
         "132",
         "Initial_value",
         "Not_connected",
         "1",
         "No_Error",
         "Not_connected",
         "Initial_value",
         "Standby",
         "no_Error",
         "Initial_value",
         "235",
         "4",
         "443.58",
         "0.0",
         "Open",
         "V2L_trunk_active",
         "Initial_value",
         "Power_mode",
         "0",
         "0",
         "0",
         "0",
         "0",
         "74",
         "Initial",
         "1",
         "Initial_value",
         "Without_Request",
         "Initial_Value",
         "Init_value",
         "Initial_value",
         "Initial_value",
         "No_action",
         "0",
         "Initial_Value",
         "off",
         "no_trigger",
         "Invalid",
         "Default_Mode",
         "Scheduled_Charging_Req_Inactive",
         "15",
         "11",
         "6",
         "-4.9998775",
         "0.0",
         "Not_available",
         "74",
         "Initial",
         "1",
         "Initial_value",
         "Without_Request",
         "Initial_Value",
         "Init_value",
         "Initial_value",
         "Initial_value",
         "No_action",
         "0",
         "Initial_Value",
         "off",
         "no_trigger",
         "Invalid",
         "Default_Mode",
         "Scheduled_Charging_Req_Inactive",
         "135",
         "255",
         "62",
         "167",
         "Flag_inactive",
         "Flag_active",
         "Flag_inactive",
         "Flag_inactive",
         "Flag_inactive",
         "No_active_wakeup_demand",
         "5",
         "4",
         "22.0",
         "12.0",
         "235",
         "4",
         "443.58",
         "0.0",
         "Open",
         "V2L_trunk_active",
         "Initial_value",
         "Power_mode",
         "11.504",
         "14.042",
         "22.5",
         "IBS_OK",
         "Current_range_I2",
         "79.0",
         "3.0",
         "1.7",
         "374.5",
         "34",
         "Immo_Inactive",
         "No_request",
         "1",
         "Standby",
         "Initialization",
         "Initializing",
         "Not_enabled",
         "No_request",
         "Initial_value",
         "No_Request_No_Request",
         "Valid",
         "Initializing",
         "No_Request",
         "No_Request_No_Request",
         "No_Request_No_Request",
         "Idle",
         "Inhibit",
         "False_Unintervened",
         "Initializing",
         "No_Request",
         null,
         null,
         "78.0",
         "ErrorNotActive",
         "WarningNotActive",
         "ErrorNotActive",
         "WarningNotActive",
         "3.0",
         "ErrorNotActive",
         "WarningNotActive",
         "ErrorNotActive",
         "WarningNotActive",
         "ErrorNotActive",
         "WarningNotActive",
         "ErrorNotActive",
         "WarningNotActive",
         "ErrorNotActive",
         "ErrorNotActive",
         "ErrorNotActive",
         "WarningNotActive",
         "ErrorNotActive",
         "ErrorNotActive",
         "ErrorNotActive",
         "ErrorNotActive",
         "ErrorNotActive",
         "ErrorNotActive",
         "ErrorNotActive",
         "ErrorNotActive",
         "WarningNotActive",
         "ErrorNotActive",
         "ErrorNotActive",
         "ErrorNotActive",
         "ErrorNotActive",
         "WarningNotActive",
         "ErrorNotActive",
         "WarningNotActive",
         "ErrorNotActive",
         "ErrorNotActive",
         "ErrorNotActive",
         "ErrorNotActive",
         "ErrorNotActive",
         "WarningNotActive",
         "ErrorNotActive",
         "WarningNotActive",
         "ErrorNotActive",
         "WarningNotActive",
         "ErrorNotActive",
         "WarningNotActive",
         "ErrorNotActive",
         "73.0",
         "66.0",
         "SNA",
         "14.05",
         "6.07",
         "154.0",
         "3.0",
         "1687.7",
         "926.0",
         "33.0",
         "30.6",
         "50",
         "Not_recalibrated",
         "43.0",
         "3.0",
         "BMS_BALC_DEActivATED",
         "BMS_OperatIONAL",
         "CATOK",
         "CATOK",
         "CATOK",
         "CATOK",
         "CATOK",
         "CATOK",
         "CATOK",
         "CATFailure",
         "On",
         "On",
         "OK",
         "OK",
         "OK",
         "OK",
         "OK",
         "CATOK",
         "OK",
         "OK",
         "OK",
         "OK",
         "OK",
         "On",
         "HV_active",
         "0.0",
         "123.0",
         "3.0",
         "0.0",
         "0.0",
         "23.0",
         "3.0",
         "Normal",
         "Normal",
         "Normal",
         "Normal",
         "Normal",
         "Normal",
         "Normal",
         "Normal",
         "Normal",
         "Normal",
         "374.1",
         "Function_safety_mechanism_startup_state_code",
         "54",
         "Off",
         "13",
         "Off",
         "On",
         "Available",
         "Closed_caliper_is_clamped",
         "Valid",
         "Neutral",
         "Off",
         null,
         "Press_Keep_The_Seatbelt_Attached_And_The_Door_Closed",
         "228",
         "Brake_Pedal_Not_Pressed",
         "Valid",
         "13",
         "No_Telltale_Requested",
         "No_Telltale_Requested",
         "No_Telltale_Requested",
         "No_Telltale_Requested",
         "Valid",
         "0",
         "0.0",
         "Inactive_not_enabled",
         "Exist_Brk_Force",
         "Available",
         "Off",
         "No_Telltale_Requested",
         "Not_In_Initialization_Mode",
         "31.0",
         "3.0",
         "1.64",
         "-0.92",
         "374.5",
         "Normal",
         "Normal",
         "Normal",
         "Normal",
         "Normal",
         "Normal",
         "Normal",
         "Normal",
         "Normal",
         "Normal",
         "Normal",
         "Normal",
         "Normal",
         "Normal",
         "Normal",
         "Normal",
         "Normal",
         "Normal",
         "Normal",
         "Normal",
         "Normal",
         "Normal",
         "Normal",
         "Normal",
         "Normal",
         "Normal",
         "Normal",
         "Normal",
         "Normal",
         "Normal",
         "Normal",
         "Normal",
         "Normal",
         "Normal",
         "Normal",
         "Normal",
         "Normal",
         "Normal",
         "Normal",
         "Normal",
         "Normal",
         "Normal",
         "Normal",
         "Normal",
         "Normal",
         "Normal",
         "Normal",
         "Normal",
         "Normal",
         "Normal",
         "Normal",
         "Normal",
         "high-voltage_power-off",
         "high-voltage_power-off",
         "Normal",
         "Normal",
         "Normal",
         "Normal",
         "Normal",
         "Normal",
         "Initial_value",
         "Initial_value",
         "Initial_value",
         "Not_set",
         "Not_set",
         "0.0",
         "0.0",
         "Initial_value",
         "0",
         "0.0",
         "0.0",
         "Enable",
         "Request_shutdown",
         "15.0",
         "0",
         "0",
         "242",
         "0",
         "No_Percieved_Speed_Limit_change_notification_request",
         "No_high_priority_popup_requested",
         "KPH",
         "No_low_priority_popup_requested",
         "0",
         "0",
         "0",
         "Invalid",
         "Not_completed",
         "Do_not_wake_up",
         "Normal_mode",
         "Not_waken_up",
         "Not_waken_up",
         "Not_waken_up",
         "Not_waken_up",
         "Not_waken_up",
         "Not_waken_up",
         "Not_waken_up",
         "Not_ended",
         "Not_ended",
         "Unlocking_command_state",
         "Not_ended",
         "Not_waken_up",
         "READY_allowed",
         "Not_waken_up",
         "No",
         "Initial_value",
         "Initial_value",
         "Yes",
         "No",
         "No",
         "No",
         "Idle",
         "Initial_value",
         null,
         "90",
         "Not_ended",
         "Reserved",
         "No_demand",
         "Initial_value",
         "gear_P",
         "67",
         "Enable",
         "Inactive",
         "6",
         "Roll",
         "High",
         "High",
         "Normal",
         "Normal",
         "no_display",
         "MPH",
         "No_Display",
         "Off",
         "No_Inhibit_request",
         "Not_Ready",
         "Boost_unavailable:_Drive_Mode",
         "Inhibition_not_ok",
         "OTA_veh_cond_ok",
         "0.0",
         "0.32",
         "0.66",
         "0.0",
         "0",
         "0",
         "off",
         "Not_power_off",
         "off",
         "Not_waken_up",
         "0.0",
         "-0.8",
         "0",
         "10",
         "Init",
         "0",
         "0.0",
         "0.0",
         "80",
         "Initial_value",
         "6",
         "0",
         "brake_OFF",
         "Do_not_wake_up",
         "0",
         "Initial_value",
         "Initial_value",
         "Not_waken_up",
         "Initialization",
         "Not_ended",
         "Not_Inhibit",
         "Initial_value",
         "initializing",
         "Initial_value",
         "Initial_value",
         "No_fault",
         "No_fault",
         "No_fault",
         "No_fault",
         "No_fault",
         "Not_active",
         "No_demand",
         "Not_fully_charged",
         "No",
         "No",
         "No",
         "No",
         "No",
         "No",
         "No_fault",
         "Initial_value",
         "off",
         "No_request",
         "No_fault",
         "Initial_value",
         "Initial_value",
         "Not_arrived",
         "Normal",
         "Initial_value",
         "0",
         "Initial_value",
         "Initial_value",
         "Thermal_insulation_off",
         "84",
         "1",
         "Inactve",
         "ESA_OffCoded",
         "No_Suppressed",
         "Off",
         "LKA_Off",
         "Off",
         "On_available",
         "Off",
         "Off",
         "Off",
         "Off",
         "Default",
         "0.0",
         "0.0",
         "0",
         "Initial_value",
         "Not_Reached_per_km",
         "not_displayed",
         "No_fault",
         "No_fault",
         "0.1097",
         "0.0",
         "Initial_value",
         "Normal",
         "Not_displayed",
         "Light_out",
         "Normal_lamp_off",
         "Normal",
         "Normal",
         "Invalid",
         "Invalid",
         "No_display",
         "No_fault",
         "0.0",
         "236.5",
         "Not_set",
         "-3",
         "Valid",
         "0.0",
         "0.0",
         "0.0",
         "Disable",
         "Normal",
         "Normal",
         "Light_out",
         "Energy_recovery_allowed",
         "not_displayed",
         "Kwh/100_km_displayed",
         "Light_out",
         "Shutdown",
         "Light_out",
         "Normal",
         "OTA_veh_cond_ok",
         "OTA_veh_cond_not_ok",
         "Normal",
         "Normal",
         "Initial_value",
         "Not_collided",
         "Invalid",
         "Disconnect",
         "Enable",
         "Enable",
         "No_fault",
         "No_fault",
         "No_fault",
         "No_fault",
         "14.2",
         "0.0",
         "Initial_value",
         "Neutral",
         "14.042",
         "Normal",
         "Normal",
         "Normal",
         "Normal",
         "Normal",
         "Initial_value",
         "Normal",
         "Normal",
         "Normal",
         "Normal",
         "Normal",
         "Normal",
         "Normal",
         "Normal",
         "Normal",
         "Normal",
         "Normal",
         "Normal",
         "Normal",
         "Normal",
         "NTC2_open_circuit",
         "Normal",
         "Normal",
         "Normal",
         "Normal",
         "Normal",
         "0.0",
         "Normal",
         "Normal",
         "Normal",
         "12.0",
         "256",
         "0",
         "31",
         "3673.0",
         "3667.0",
         "3671.0",
         "13.363",
         "196.0",
         "12.0",
         "1288.0",
         "775.4",
         "195",
         "Not_Inhibit",
         "Not_Illuminate",
         "Not_Active",
         "14",
         "Not_Active",
         "Available",
         "Standby",
         "Not_Active",
         "Available",
         "Not_Active",
         "init_not_active",
         "HBB_Normal_Mode",
         "Not_Active",
         "Available",
         "210.0",
         "12.0",
         "0.0",
         "0.0",
         "215.0",
         "12.0",
         "Normal",
         "Normal",
         "38.0",
         "288.12",
         "Thermally_insulated",
         "Normal",
         "No_Thermal_Runaway",
         "No_fault",
         "0.0",
         "0.0",
         "0.0",
         "0.0",
         "On",
         "Off",
         "turn_on_ambient_light",
         "100",
         "10",
         "0",
         "Level_1",
         "237",
         "Not_Ready",
         "12",
         "Off",
         "Off",
         "Off",
         "Off",
         "Off",
         "neutral",
         "Off",
         "No_request",
         "No_remote_control",
         "No_remote_control",
         "Not_waken_up",
         "No_Request",
         "No_remote_control",
         "No_remote_control",
         "Disable",
         "Inactive",
         "Inactive",
         "0",
         "Normal",
         "Normal",
         "Normal",
         "3G_or_4G_LTE_CAT-1_and_below_(downllink_less_than_10_Mbps)",
         "Strong",
         "No_Inhibit_request",
         "No_request",
         "Normal",
         "Normal",
         "Normal",
         "Normal",
         "63",
         "210",
         "214",
         "244",
         "No_request",
         "No_remote_control",
         "No_remote_control",
         "Not_waken_up",
         "No_Request",
         "No_remote_control",
         "No_remote_control",
         "Disable",
         "Inactive",
         "Inactive",
         "0",
         "Normal",
         "Normal",
         "Normal",
         "3G_or_4G_LTE_CAT-1_and_below_(downllink_less_than_10_Mbps)",
         "Strong",
         "No_Inhibit_request",
         "No_request",
         "Normal",
         "Normal",
         "Normal",
         "Normal",
         "MaxHeight_Setting",
         "0",
         "0",
         "No_Failure",
         "Inactive",
         "No_whistle",
         "No_Blink",
         "Full_Latched_PawlSwOff_tail_door_lock_full_locking_state",
         "Trunk_Closed",
         "Inactive",
         "Inactive",
         "Inactive",
         "Inactive",
         "Inactive",
         "Learnt,_With_Maximum_Height_Customization_Allowed",
         "Inactive",
         "Not_Ready",
         "Not_Inhibit",
         "Closed",
         "No_Pinch",
         "29",
         "233.0",
         "no_crash,_level_0",
         "6.0",
         "no_crash,_level_0",
         "no_crash,_level_0",
         "no_crash,_level_0",
         "no_crash,_level_0",
         "no_crash",
         "162",
         "Default",
         "11",
         "No_Blind",
         "No_Failure",
         "Default",
         "Low_Beam_Request",
         "0",
         "170",
         "No_request",
         "No_request",
         "11",
         "No_Req",
         "Not_moving",
         "No_hazard_warning",
         "No_request",
         "TP_Replay_failed",
         "TP_Replay_not_available",
         "RAP_not_available",
         "Inactive",
         "Inactive",
         "No_request",
         "Off",
         "off",
         "Invalid",
         "0",
         "without_remote_control",
         "0",
         "71",
         "109",
         "44",
         "124",
         "162",
         "Initial",
         "Initial",
         "9",
         "Invalid",
         "Auth_Valid",
         "No_Request",
         "Not_In_Learning_Mode",
         "Inactive",
         null,
         null,
         "38",
         "248",
         "90",
         "243",
         "162",
         "Initial",
         "Initial",
         "9",
         "Invalid",
         "Auth_Valid",
         "No_Request",
         "Not_In_Learning_Mode",
         "Inactive",
         null,
         null,
         "152.0",
         "Normal",
         "7.0",
         "Parklock_engaged",
         "94.0",
         "Seat_not_occupied",
         "6.0",
         "Seat_not_occupied",
         "LED_1_2_ON/OFF",
         "Warning_lamp_off",
         "Seat_not_formost_position",
         "Seat_not_formost_position",
         "Not_Buckled",
         "Not_Buckled",
         "63.0",
         "No_Pressed",
         "No_Pressed",
         "3.0",
         "No_Pressed_Not_pressed",
         "No_Pressed",
         "No_Pressed",
         "No_Pressed",
         "No_Pressed",
         "No_Pressed_Not_pressed",
         "No_Pressed",
         "No_Pressed",
         "No_Pressed",
         "No_Pressed",
         "No_Pressed_Not_pressed",
         "No_Pressed_Not_pressed",
         "No_failure",
         "No_failure",
         "43.0",
         "0.0",
         "NM_PDU_contains_no_Partial_Network_request_information",
         "0.0",
         "Node_has_not_woken_up_the_network_(passive_wakeup)",
         "Start_of_synchronized_shutdown_is_not_requested_by_main_coordinator",
         "0.0",
         "0.0",
         "Repeat_Message_State_not_requested",
         "User_data_not_used",
         "inactive",
         "inactive",
         "inactive",
         "inactive",
         "inactive",
         "inactive",
         "inactive",
         "inactive",
         "255.0",
         "255.0",
         "255.0",
         "255.0",
         "53.0",
         "0.0",
         "NM_PDU_contains_no_Partial_Network_request_information",
         "0.0",
         "Node_has_not_woken_up_the_network_(passive_wakeup)",
         "Start_of_synchronized_shutdown_is_not_requested_by_main_coordinator",
         "0.0",
         "0.0",
         "Repeat_Message_State_not_requested",
         "User_data_not_used",
         "inactive",
         "inactive",
         "inactive",
         "inactive",
         "inactive",
         "inactive",
         "inactive",
         "inactive",
         "255.0",
         "255.0",
         "255.0",
         "255.0",
         "OTA_no_request",
         "0",
         "0",
         "185",
         "Initial",
         "Initial",
         "13",
         "On",
         "0",
         "0",
         "63",
         "122",
         "157",
         "73",
         "Inactive",
         "Reserved",
         "Reserved",
         "Reserved",
         "Reserved",
         "Inactive",
         "Invalid",
         "Invalid",
         "Inactive",
         "Inactive",
         "Inside",
         "Initial/Welcome_Light_0ff",
         "Initial",
         "14",
         "0",
         "0",
         "0",
         "63",
         "226",
         "160",
         "236",
         "37.0",
         "0.0",
         "NM_PDU_contains_no_Partial_Network_request_information",
         "0.0",
         "Node_has_not_woken_up_the_network_(passive_wakeup)",
         "Start_of_synchronized_shutdown_is_not_requested_by_main_coordinator",
         "0.0",
         "0.0",
         "Repeat_Message_State_not_requested",
         "User_data_not_used",
         "active",
         "active",
         "active",
         "active",
         "active",
         "active",
         "active",
         "active",
         "255.0",
         "255.0",
         "255.0",
         "255.0",
         "25",
         "0.0",
         "Normal",
         "Normal",
         "Normal",
         "Normal",
         "Normal",
         "Normal",
         "Standby",
         "Normal",
         "Normal",
         "Normal",
         "Normal",
         "Normal",
         "Normal",
         "Normal",
         "Normal",
         "35",
         "0.0",
         "Normal",
         "Normal",
         "Normal",
         "Normal",
         "Normal",
         "Normal",
         "Standby",
         "Normal",
         "Normal",
         "Normal",
         "Normal",
         "Normal",
         "Normal",
         "Normal",
         "Normal",
         "21",
         "21",
         "0",
         "21",
         "Power_working_mode",
         "Gear_0",
         "Power_supply",
         "initialized",
         "Passvive",
         "Inactive",
         "Invalid",
         "System_Warning_Invalid",
         "Initial",
         "Inactive",
         "No_Information",
         "No_Information",
         "No_Information",
         "Reserved",
         "No_error",
         "Invalid",
         "Reserved",
         "Passvive",
         "Inactive",
         "Invalid",
         "System_Warning_Invalid",
         "Initial",
         "Inactive",
         "No_Information",
         "No_Information",
         "No_Information",
         "Reserved",
         "No_error",
         "Invalid",
         "Reserved",
         "34",
         "93",
         "81",
         "50",
         "Invalid",
         "Valid",
         "Invalid",
         "376.1",
         "0.0",
         "0.0",
         "-48",
         "25",
         "0",
         "25",
         "Power_working_mode",
         "Gear_0",
         "Power_supply",
         "initialized",
         "Default",
         "No_Forget",
         "No_Charge",
         "NO_Exist",
         "Off",
         "Off",
         "Off",
         "Initial",
         "inactive",
         "no_connection_",
         "known_device_connected",
         "inactive",
         "Auto_Unlock/Lock_Disabled",
         "0",
         "User_Profile_ID_number1(guest/default)",
         "0",
         "0",
         "0",
         "0",
         "23.0",
         "8.0",
         "36.5",
         "375.1",
         "1.6",
         "14.2",
         "5",
         "63",
         "72",
         "62",
         "Off",
         "Off",
         "Off",
         "Off",
         "0",
         "INIT",
         "0",
         "67",
         "157",
         "228",
         "206",
         "16.0",
         "8.0",
         "23.0",
         "Working",
         "Normal",
         "Normal",
         "Normal",
         "Normal",
         "Normal",
         "Normal",
         "Normal",
         "Normal",
         "Normal",
         "Normal",
         "No_Fault",
         "Normal",
         "20.0",
         "71.0",
         "Inovance",
         "8.0",
         "0.0",
         "0.0",
         "0.0",
         "59.0",
         "Unlocking_state",
         "91.0",
         "220V",
         "8.0",
         "250.0",
         "480.0",
         "0.3",
         "137.0",
         "8.0",
         "Normal",
         "Normal",
         "Normal",
         "Normal",
         "Normal",
         "Normal",
         "Normal",
         "Normal",
         "Normal",
         "Normal",
         "Normal",
         "Normal",
         "Normal",
         "Normal",
         "Normal",
         "Normal",
         "No_Fault",
         "220.0",
         "8.0",
         "119.6",
         "11.4",
         "1.0",
         "33",
         "87",
         "75",
         "0.0",
         "0.0",
         "25.0",
         "29.0",
         "14.0",
         "29.0",
         "53.0",
         "Buck",
         "Discharging",
         "117.0",
         "Initial_value",
         "0.0",
         "0.0",
         "0.0",
         "initialized",
         "Standby",
         "Normal",
         "Normal",
         "Normal",
         "Normal",
         "Normal",
         "Normal",
         "Normal",
         "Normal",
         "28",
         "0.0",
         "190.0",
         "20.0",
         "711.5",
         "25.0",
         "Off",
         "Off",
         "Off",
         "Off",
         "Off",
         "Off",
         "103.0",
         "6.6kw",
         "OK",
         "8.0",
         "Initial",
         "Initial",
         "1.5",
         "23.0",
         "VTOL_Trunk_Discharge",
         "Normal",
         "Normal",
         "Working",
         "Initial",
         "Normal",
         "Normal",
         "Normal",
         "Normal",
         "Normal",
         "Normal",
         "48.0",
         "174.0",
         "151.0",
         "19.0",
         "Off",
         "Off",
         "Normal_operating_state",
         "initialization_completed",
         "42",
         "80",
         "Rotation_allowed",
         "RelayOpen",
         "RelayOpen",
         "0.0",
         "5938.0",
         "RelayOpen",
         "RelayOpen",
         "0.0",
         "8877.0",
         "RelayClosed",
         "RelayClosed",
         "0.0",
         "10717.0",
         "RelayClosed",
         "RelayClosed",
         "0.0",
         "10856.0",
         "RelayOpen",
         "RelayOpen",
         "0.0",
         "9875.0",
         "170.0",
         "ErrorNotActive",
         "WarningNotActive",
         "ErrorNotActive",
         "WarningNotActive",
         "5.0",
         "ErrorNotActive",
         "WarningNotActive",
         "ErrorNotActive",
         "ErrorNotActive",
         "ErrorNotActive",
         "ErrorNotActive",
         "ErrorNotActive",
         "WarningNotActive",
         "ErrorNotActive",
         "ErrorNotActive",
         "ErrorNotActive",
         "ErrorNotActive",
         "WarningNotActive",
         "ErrorNotActive",
         "ErrorNotActive",
         "WarningNotActive",
         "ErrorNotActive",
         "ErrorNotActive",
         "ErrorNotActive",
         "WarningNotActive",
         "ErrorNotActive",
         "ErrorNotActive",
         "ErrorNotActive",
         "WarningNotActive",
         "ErrorNotActive",
         "WarningNotActive",
         "ErrorNotActive",
         "ErrorNotActive",
         "0.0",
         "38.0",
         "41.19",
         "98.0",
         "255.0",
         "55.0",
         "5.0",
         "1000.0",
         "457.3",
         "4347.0",
         "2500.0",
         "1310.7",
         "926.0",
         "90.0",
         "5.0",
         "0.0",
         "0.0",
         "443.6",
         "255.0",
         "17.0",
         "18.0",
         "5976.0",
         "5971.0",
         "2668.0",
         "2666.0",
         "Normal",
         "No_fault",
         "No_fault",
         "Not_balanced",
         "No_fault",
         "Fault",
         "No_fault",
         "No_fault",
         "Normal",
         "Normal",
         "Normal",
         "Normal",
         "Normal",
         "Normal",
         "Normal",
         "Normal",
         "Normal",
         "Normal",
         "Normal",
         "Normal",
         "Normal",
         "Normal",
         "Normal",
         "Normal",
         "Normal",
         "Normal",
         "Normal",
         "Normal",
         "Normal",
         "Normal",
         "Normal",
         "Normal",
         "Normal",
         "Normal",
         "Normal",
         "Normal",
         "Normal",
         "Normal",
         "Reserved",
         "Abnormal",
         "Reserved",
         "Normal",
         "Normal",
         "Normal",
         "Normal",
         "Normal",
         "Normal",
         "Normal",
         "Normal",
         "Abnormal",
         "Abnormal",
         "Abnormal",
         "Normal",
         "Normal",
         "Normal",
         "Normal",
         "Normal",
         "Normal",
         "Normal",
         "Normal",
         "95.0",
         "Initial",
         "5.0",
         "24.0",
         "2.0",
         "26.0",
         "25.0",
         "Power_reduction_not_allowed",
         "cycling",
         "-48.0",
         "255.0",
         "255.0",
         "255.0",
         "255.0",
         "255.0",
         "973733900.0",
         "50.0",
         "255.0",
         "CountersOK",
         "RelayOK",
         "RelayOK",
         "10717.0",
         "0.0",
         "0.0",
         "0.0",
         "0.0",
         "0.0",
         "CountersOK",
         "RelayOK",
         "RelayOK",
         "10856.0",
         "0.0",
         "0.0",
         "0.0",
         "0.0",
         "0.0",
         "CountersOK",
         "RelayOK",
         "RelayOK",
         "9875.0",
         "0.0",
         "0.0",
         "0.0",
         "0.0",
         "0.0",
         "25.0",
         "25.5",
         "25.0",
         "0.0",
         "0.0",
         "CountersOK",
         "RelayOK",
         "RelayOK",
         "0.0",
         "0.0",
         "0.0",
         "0.0",
         "0.0",
         "0.0",
         "CountersOK",
         "RelayOK",
         "RelayOK",
         "0.0",
         "0.0",
         "0.0",
         "0.0",
         "0.0",
         "0.0",
         "Off",
         "Off",
         "Off",
         "No_Action",
         "No_Action",
         "No_Action",
         "No_Action",
         "No_Action",
         "No_Action",
         "No_Action",
         "No_Action",
         "No_Action",
         "No_Action",
         "No_Action",
         "No_Action",
         "Not_Change",
         "Off",
         "Initial",
         "Off",
         "Off",
         "PSK",
         "Inactive",
         "Inactive",
         "Check",
         "Inactive",
         "Check",
         "144",
         "Level_1",
         "6",
         "Normal",
         "turn_on_ambient_light",
         "Initial",
         "Normal",
         "Init,_No_request",
         "Normal",
         "No_Pressed",
         "Level_1",
         "OFF",
         "no_reset",
         "0",
         "Init",
         "Init",
         "No_Failure",
         "No_Failure",
         "Initial",
         "Idle",
         "Idle",
         "Low",
         "Not_Change",
         "Reserved(Nobody)",
         "Not_Change",
         "Not_Change",
         "Not_Change",
         "Not_Change",
         "Not_Change",
         "No_Request",
         "Not_Change",
         "Init",
         "Not_Change",
         "windless_gear",
         "Incoming_Call",
         "on",
         "off",
         "mi_(miles)",
         "Closed",
         "Closed",
         "Fahrnheit",
         "Level_5",
         "Yes",
         "No",
         "No",
         "No",
         "No",
         "0",
         "Not_ON",
         "Guisance_Inactive",
         "Initial_value",
         "Inactive",
         "English_(CA)",
         "Default",
         "No_Display",
         "Value_OK",
         "35490.0",
         "0",
         "Init",
         "No_Error_No_error",
         "No_Failure",
         "MPH",
         "0",
         "35490.0",
         "Not_cleared",
         "Value_OK",
         "Off",
         "Off",
         "Off",
         "Off",
         "Off",
         "Off",
         "Release",
         "Release",
         "Release",
         "Release",
         "Void",
         "Void",
         "Void",
         "void",
         "No_Request",
         "0.0",
         "Ready",
         "Air_Conditioning_power_on_(Short)",
         "no_warning",
         "3.1",
         "2.8",
         "No_Action",
         "Reserved",
         "Reserved",
         "Invalid",
         "Invalid",
         "No_Action",
         "No_Action",
         "No_Action",
         "Level_3_upwards_60%",
         "Invalid",
         "Invalid",
         "No_Action",
         "ON_state",
         "Self_circulation_state",
         "initialization_completed",
         "Load_initialization",
         "Rear_face_blowing",
         "Windless_gear",
         "On",
         "Low",
         "Low",
         "Initializing",
         "Inner_circulation_state",
         "Natural_wind",
         "On",
         "Off",
         "Off_state",
         "22.0",
         "driver_face_blowing_mode",
         "Functional",
         "Normal",
         "Not_opened",
         "Valid",
         "Initial",
         "Standby",
         "front_passenger_face_blowing_mode",
         "0",
         "0",
         "0.0",
         "Standby",
         "Disable",
         "Standby",
         "Gear_0",
         "Gear_0",
         "20.0",
         "Valid",
         "Inactive",
         "Invalid",
         "Off",
         "0",
         "56",
         "0",
         "0",
         "21",
         "20",
         "Gear_0",
         "Gear_0",
         "21",
         "21",
         "20",
         "21",
         "20",
         "22",
         "24",
         "21",
         "Run",
         "Run",
         "Run",
         "Shutdown",
         "Standby_Standby",
         "Shutdown",
         "Normal",
         "Normal",
         "0",
         "52",
         "26",
         "100",
         "0",
         "Normal",
         "0.0",
         "0.0",
         "0.0",
         "0.0",
         "0.0",
         "0.0",
         "41.18",
         "207",
         "Hands-off_detected",
         "6",
         "Hands-off_detected",
         "No_Response_Error",
         "No_error",
         "OFF",
         "0.0",
         "0.0",
         "0.0",
         "0.0",
         "0.0",
         "0.0",
         "0.0",
         "0.0",
         "303",
         "Init",
         "above_50_miles-no_warning",
         "0.0",
         "0.0",
         "0.0",
         "0.0",
         "0.0",
         "0.0",
         "0.0",
         "0.0",
         "0.0",
         "0.0",
         "0.0",
         "0.0",
         "0.0",
         "0.0",
         "Default",
         "0.0",
         "0.0",
         "0",
         "6.0",
         "1881342000.0",
         "161.0",
         "211.0",
         "39.0",
         "0.0",
         "NM_PDU_contains_no_Partial_Network_request_information",
         "0.0",
         "Node_has_not_woken_up_the_network_(passive_wakeup)",
         "Start_of_synchronized_shutdown_is_not_requested_by_main_coordinator",
         "0.0",
         "0.0",
         "Repeat_Message_State_not_requested",
         "User_data_for_current_vehicle_without_partial_networking",
         "inactive",
         "inactive",
         "active",
         "inactive",
         "inactive",
         "inactive",
         "inactive",
         "inactive",
         "255.0",
         "255.0",
         "255.0",
         "255.0",
         "24.0",
         "0.0",
         "NM_PDU_contains_no_Partial_Network_request_information",
         "0.0",
         "Node_has_not_woken_up_the_network_(passive_wakeup)",
         "Start_of_synchronized_shutdown_is_not_requested_by_main_coordinator",
         "0.0",
         "0.0",
         "Repeat_Message_State_not_requested",
         "User_data_for_current_vehicle_without_partial_networking",
         "active",
         "inactive",
         "inactive",
         "inactive",
         "inactive",
         "active",
         "inactive",
         "inactive",
         "255.0",
         "255.0",
         "255.0",
         "255.0",
         "Sound_I",
         "Working_Status",
         "No_Output_No_input",
         "Indicator_Off_(VSP_Enable)_indicator_off",
         "Initial",
         "Not_Work_Inoperative",
         "Speaker_Not_Working_horn_not_ringing",
         "38.0",
         "0.0",
         "NM_PDU_contains_no_Partial_Network_request_information",
         "0.0",
         "Node_has_not_woken_up_the_network_(passive_wakeup)",
         "Start_of_synchronized_shutdown_is_not_requested_by_main_coordinator",
         "0.0",
         "0.0",
         "Repeat_Message_State_not_requested",
         "User_data_for_current_vehicle_without_partial_networking",
         "inactive",
         "inactive",
         "active",
         "active",
         "inactive",
         "inactive",
         "inactive",
         "inactive",
         "255.0",
         "255.0",
         "255.0",
         "255.0",
         "92.0",
         "valid",
         "Idle",
         "8.0",
         "0.0",
         null,
         null,
         "0_degree",
         "no_rotation",
         "32.0",
         "0.0",
         "NM_PDU_contains_no_Partial_Network_request_information",
         "0.0",
         "Node_has_woken_up_the_network_(active_Wakeup)",
         "Start_of_synchronized_shutdown_is_not_requested_by_main_coordinator",
         "0.0",
         "0.0",
         "Repeat_Message_State_not_requested",
         "User_data_for_current_vehicle_without_partial_networking",
         "inactive",
         "inactive",
         "active",
         "active",
         "inactive",
         "active",
         "inactive",
         "inactive",
         "255.0",
         "255.0",
         "255.0",
         "255.0",
         "17.0",
         "18.0",
         "0.0",
         "255.0",
         "973733900.0",
         "50.0",
         "255.0",
         "0",
         "227",
         "valid",
         "no_action",
         "10",
         "0.0",
         "10",
         "0",
         "1",
         "0",
         "1",
         "250",
         "53",
         "143",
         "164",
         "0",
         "0",
         "NC",
         "NC",
         "Unmute",
         "Main_Volume_Step_0~39",
         "Low",
         "iESS_Mode_1",
         "Chime_Volume_Step_5",
         "Surround",
         "OFF",
         "HFM_Colume_Step_0~39",
         "No_Action",
         "Navi_Volume_Step_0~39",
         "Action",
         "No_Action",
         "RT_Step_0~39",
         "No_Action",
         "No_Action",
         "VR/TTS_Step_0~39",
         "54.0",
         "0.0",
         "NM_PDU_contains_no_Partial_Network_request_information",
         "0.0",
         "Node_has_woken_up_the_network_(active_Wakeup)",
         "Start_of_synchronized_shutdown_is_not_requested_by_main_coordinator",
         "0.0",
         "0.0",
         "Repeat_Message_State_not_requested",
         "User_data_for_current_vehicle_without_partial_networking",
         "inactive",
         "inactive",
         "active",
         "active",
         "inactive",
         "active",
         "inactive",
         "inactive",
         "255.0",
         "255.0",
         "255.0",
         "255.0",
         "1.0",
         "0.0",
         "NM_PDU_contains_no_Partial_Network_request_information",
         "0.0",
         "Node_has_not_woken_up_the_network_(passive_wakeup)",
         "Start_of_synchronized_shutdown_is_not_requested_by_main_coordinator",
         "0.0",
         "0.0",
         "Repeat_Message_State_not_requested",
         "User_data_for_current_vehicle_without_partial_networking",
         "inactive",
         "inactive",
         "inactive",
         "active",
         "inactive",
         "active",
         "inactive",
         "inactive",
         "255.0",
         "255.0",
         "255.0",
         "255.0",
         "19.0",
         "0.0",
         "NM_PDU_contains_no_Partial_Network_request_information",
         "0.0",
         "Node_has_woken_up_the_network_(active_Wakeup)",
         "Start_of_synchronized_shutdown_is_not_requested_by_main_coordinator",
         "0.0",
         "0.0",
         "Repeat_Message_State_not_requested",
         "User_data_not_used",
         "active",
         "inactive",
         "inactive",
         "inactive",
         "inactive",
         "active",
         "inactive",
         "inactive",
         "255.0",
         "255.0",
         "255.0",
         "255.0",
         "2.0",
         "1.0",
         "1.0",
         "8.0",
         "1.0",
         "2930200000.0",
         "2.0",
         "2.0",
         "1.0",
         "2930200000.0",
         "2.0",
         "2.0",
         "2.0",
         "120521.0",
         "1.0",
         "10.0",
         "60.0",
         "0.0",
         "NM_PDU_contains_no_Partial_Network_request_information",
         "0.0",
         "Node_has_not_woken_up_the_network_(passive_wakeup)",
         "Start_of_synchronized_shutdown_is_not_requested_by_main_coordinator",
         "0.0",
         "0.0",
         "Repeat_Message_State_not_requested",
         "User_data_for_current_vehicle_without_partial_networking",
         "active",
         "inactive",
         "active",
         "inactive",
         "inactive",
         "inactive",
         "inactive",
         "inactive",
         "255.0",
         "255.0",
         "255.0",
         "255.0",
         "0.0",
         "40.0",
         "40.0",
         "40.0",
         "Normal",
         "Cooling",
         "Not_triggered",
         "0.6",
         "Gear_0_request",
         "Gear_0_request",
         "0.6",
         "161.0",
         "13.0",
         "22.0",
         "not_homogenized",
         "Inactive",
         "22.0",
         "22.0",
         "22.0",
         "Normal",
         "Normal",
         "Normal",
         "Normal",
         "Normal",
         "Normal",
         "Normal",
         "Normal",
         "Normal",
         "Normal",
         "Normal",
         "Normal",
         "Normal",
         "Normal",
         "Normal",
         "Normal",
         "Normal",
         "Normal",
         "Normal",
         "Normal",
         "Normal",
         "Normal",
         "Normal",
         "Normal",
         "Normal",
         "Normal",
         "Normal",
         "Normal",
         "Normal",
         "Communication_normal",
         "Communication_normal",
         "Communication_normal",
         "Communication_normal",
         "Communication_normal",
         "Communication_normal",
         "Normal",
         "Normal",
         "Communication_normal",
         "Communication_normal",
         "25.0",
         "2930200000.0",
         "2.0",
         "2.0",
         "Not_cleared",
         "Value_OK",
         "35490.0",
         "0.0",
         "0.0",
         "1.0",
         "0.0",
         "0.0",
         "0.0",
         "0.0",
         "0.0",
         "0.0",
         "No_demand",
         "0.0",
         "Initializing",
         "Initial_Value",
         "No_request",
         "No_request",
         "No_request",
         "No_request",
         "No_request",
         "No_request",
         "No_request",
         "No_request",
         "No_request",
         "No_request",
         "No_request",
         "No_request",
         "No_request",
         "No_request",
         "No_request",
         "No_request",
         "No_request",
         "No_request",
         "No_request",
         "No_request",
         "No_request",
         "No_request",
         "No_request",
         "No_request",
         "0.0",
         "0.0",
         "NCM",
         "CATL",
         "1.0",
         "102.0",
         "2.0",
         "149.0",
         "2.5",
         "202.0",
         "11.0",
         "229122.0",
         "0.0",
         "36.0",
         "28131.0",
         "28565.0",
         "Off",
         "0.0",
         "0.0",
         "12.0",
         "27.0",
         "Battery_pack_2",
         "Battery_pack_1",
         "Battery_pack_1",
         "Battery_pack_3",
         "1.0",
         "6.0",
         "3673.0",
         "3673.0",
         "3672.0",
         "3673.0",
         "3673.0",
         "3673.0",
         "3672.0",
         "3672.0",
         "3672.0",
         "3673.0",
         "3673.0",
         "3671.0",
         "3672.0",
         "3671.0",
         "3672.0",
         "3671.0",
         "3672.0",
         "3671.0",
         "3671.0",
         "3671.0",
         "3670.0",
         "3671.0",
         "3671.0",
         "3671.0",
         "3672.0",
         "3669.0",
         "3667.0",
         "3670.0",
         "3671.0",
         "3670.0",
         "3670.0",
         "3669.0",
         "3670.0",
         "3670.0",
         "3670.0",
         "3671.0",
         "3671.0",
         "3669.0",
         "3671.0",
         "3672.0",
         "3672.0",
         "3672.0",
         "3671.0",
         "3671.0",
         "3671.0",
         "3668.0",
         "3671.0",
         "3671.0",
         "3671.0",
         "3670.0",
         "3670.0",
         "3673.0",
         "3672.0",
         "3673.0",
         "3672.0",
         "3671.0",
         "3672.0",
         "3672.0",
         "3673.0",
         "3669.0",
         "3673.0",
         "3672.0",
         "3671.0",
         "3671.0",
         "3672.0",
         "3671.0",
         "3671.0",
         "3671.0",
         "3672.0",
         "3673.0",
         "3672.0",
         "3673.0",
         "3672.0",
         "3673.0",
         "3673.0",
         "3673.0",
         "3672.0",
         "3672.0",
         "3672.0",
         "3672.0",
         "3672.0",
         "3671.0",
         "3672.0",
         "3670.0",
         "3672.0",
         "3672.0",
         "3673.0",
         "3673.0",
         "3672.0",
         "3673.0",
         "3672.0",
         "3673.0",
         "3672.0",
         "3672.0",
         "3672.0",
         "3673.0",
         "3671.0",
         "3671.0",
         "3672.0",
         "3670.0",
         "Invalid",
         "flag_bit_not_reached",
         "Default",
         "High",
         "Roll",
         "flag_bit_not_reached",
         "Default_Mode",
         "Invalid",
         "No_action",
         "No_action",
         "Anti-theft",
         "Default",
         "Default",
         "Eco",
         "High",
         "Initial_value",
         "Invalid_(treat_same_as_0x3)",
         "No_action",
         "90.0",
         "3671.0",
         "3672.0",
         "Invalid",
         "Invalid",
         "Invalid",
         "Invalid",
         "Invalid",
         "Invalid",
         "Invalid",
         "Invalid",
         "Invalid",
         "Invalid",
         "Invalid",
         "Invalid",
         "Invalid",
         "Invalid",
         "Invalid",
         "Invalid",
         "Invalid",
         "Invalid",
         "25.0",
         "24.0",
         "25.0",
         "25.0",
         "25.0",
         "26.0",
         "24.0",
         "25.0",
         "26.0",
         "25.0",
         "25.0",
         "24.0",
         "24.0",
         "25.0",
         "25.0",
         "Invalid",
         "Invalid",
         "Invalid",
         "Invalid",
         "Invalid",
         "Invalid",
         "Invalid",
         "Invalid",
         "Invalid",
         "Invalid",
         "Invalid",
         "Invalid",
         "Invalid",
         "Invalid",
         "Invalid",
         "Invalid",
         "Invalid",
         "0.0",
         "0.0",
         "0.0",
         "0.0",
         "0.0",
         "0.0",
         "0.0",
         "0.0",
         "0.0",
         "0.0",
         "0.0",
         "0.0",
         "0.0",
         "0.0",
         "0.0",
         "0.0",
         "0.0",
         "0.0",
         "0.0",
         "0.0",
         "0.0",
         "0.0",
         "0.0",
         "0.0",
         "0.0",
         "0.0",
         "0.0",
         "0.0",
         "0.0",
         "0.0",
         "0.0",
         "0.0",
         "0.0",
         "0.0",
         "0.0",
         "0.0",
         "0.0",
         "0.0",
         "0.0",
         "0.0",
         "0.0",
         "0.0",
         "0.0",
         "0.0",
         "0.0",
         "0.0",
         "0.0",
         "0.0",
         "0.0",
         "0.0",
         "0.0",
         "0.0",
         "0.0",
         "0.0",
         "0.0",
         "0.0",
         "0.0",
         "274038.0",
         "274038.0",
         "41.0",
         "10.0",
         "0.0",
         "0.0",
         "0.0",
         "0.0",
         "173.0",
         "Standby",
         "Standby",
         "10.0",
         "0.0",
         "0.0",
         "0.0",
         "No_error",
         "No_error",
         "No_error",
         "No_error",
         "No_error",
         "No_error",
         "No_error",
         "No_error",
         "No_error",
         "No_error",
         "No_error",
         "No_error",
         "Denied",
         "Inactive",
         "497.0",
         "0.0",
         "0.0",
         "592.0",
         "170.0",
         "0.0",
         "255.0",
         "214.0",
         "181.0",
         "165.0",
         "159.0",
         "157.0",
         "159.0",
         "162.0",
         "167.0",
         "174.0",
         "Freestart_mode",
         "Normal",
         "Not_learned",
         "55775504.0",
         "0.0",
         "0.0",
         "Normal",
         "Normal",
         "Normal",
         "Normal",
         "Normal",
         "Normal",
         "Normal",
         "Normal",
         "Normal",
         "Normal",
         "Normal",
         "Normal",
         "Normal",
         "Normal",
         "Normal",
         "Normal",
         "Normal",
         "Normal",
         "Normal",
         "Normal",
         "Normal",
         "Normal",
         "Normal",
         "Normal",
         "Normal",
         "Normal",
         "Normal",
         "Normal",
         "Normal",
         "Normal",
         "Normal",
         "0.0",
         "0.0",
         "0.0",
         "Initial_value",
         "Off",
         "Off",
         "0.0",
         "0.0",
         "6.0",
         "1.0",
         "11.0",
         "3.0",
         "13.0",
         "13.0",
         "0.0",
         "Initial_value",
         "19.0",
         "19.0",
         "19.0",
         "0.0",
         "0.0",
         "0.0",
         "0.0",
         "0.0",
         "1.0",
         "0.0",
         "0.0",
         "-420.0",
         "29.0",
         "15.0",
         "10.0",
         "2025.0",
         "6.0",
         "39.0",
         null,
         null,
         null,
         null,
         null,
         null,
         null,
         null,
         null,
         null,
         null,
         null,
         null,
         null,
         null,
         null,
         null,
         null,
         null,
         null,
         null,
         null,
         null,
         null,
         null,
         null,
         null,
         null,
         null,
         null,
         null,
         null,
         null,
         null,
         null,
         null,
         null,
         null,
         null,
         null,
         null,
         null,
         null,
         null,
         null,
         null,
         null,
         null,
         null,
         null,
         null,
         null,
         null,
         null,
         null,
         null,
         null,
         null,
         null,
         null,
         null,
         null,
         null,
         null,
         null,
         null,
         null,
         null,
         null,
         null,
         null,
         null,
         null,
         null,
         null,
         null,
         null,
         null,
         null,
         null,
         null,
         null,
         null,
         null,
         null,
         null,
         null,
         null,
         null,
         null,
         null,
         null,
         null,
         null,
         null,
         null,
         null,
         null,
         null,
         null,
         null,
         null,
         null,
         null,
         null,
         null,
         null,
         null,
         null,
         null,
         null,
         null,
         null,
         null,
         null,
         null,
         null,
         null,
         null,
         null,
         null,
         null,
         null,
         null,
         null,
         null,
         null,
         null,
         null,
         null,
         null,
         null,
         null,
         null,
         null,
         null,
         null,
         null,
         null,
         null,
         null,
         null,
         null,
         null,
         null,
         null,
         null,
         null,
         null,
         null,
         null,
         null,
         null,
         null,
         null,
         null,
         null,
         null,
         null,
         null,
         null,
         null,
         null,
         null,
         null,
         null,
         null,
         null,
         null,
         null,
         null,
         null,
         null,
         null,
         null,
         null,
         null,
         null,
         null,
         null,
         null,
         null,
         null,
         null,
         null,
         null,
         null,
         null,
         null,
         null,
         null,
         null,
         null,
         null,
         null,
         null,
         null,
         null,
         null,
         null,
         null,
         null,
         null,
         null,
         null,
         null,
         null,
         null,
         null,
         null,
         null,
         null,
         null,
         null,
         null,
         null,
         null,
         null,
         null,
         null,
         null,
         null,
         null,
         null,
         null,
         null,
         null,
         null,
         null,
         null,
         null,
         null,
         null,
         null,
         null,
         null,
         null,
         null,
         null,
         null,
         null,
         null,
         null,
         null,
         null,
         null,
         null,
         null,
         null,
         null,
         null,
         null,
         null,
         null,
         null,
         null,
         null,
         null,
         null,
         null,
         null,
         null,
         null,
         null,
         null,
         null,
         null,
         null,
         null,
         null,
         null,
         null,
         null,
         null,
         null,
         null,
         null,
         null,
         null,
         null,
         null,
         null,
         null,
         null,
         null,
         null,
         null
        ]
       ],
       "shape": {
        "columns": 3078,
        "rows": 5
       }
      },
      "text/html": [
       "<div>\n",
       "<style scoped>\n",
       "    .dataframe tbody tr th:only-of-type {\n",
       "        vertical-align: middle;\n",
       "    }\n",
       "\n",
       "    .dataframe tbody tr th {\n",
       "        vertical-align: top;\n",
       "    }\n",
       "\n",
       "    .dataframe thead th {\n",
       "        text-align: right;\n",
       "    }\n",
       "</style>\n",
       "<table border=\"1\" class=\"dataframe\">\n",
       "  <thead>\n",
       "    <tr style=\"text-align: right;\">\n",
       "      <th></th>\n",
       "      <th>VCU_0x214.VCU_214_234_CheckSum</th>\n",
       "      <th>VCU_0x214.VCU_RemWakeUpEndFlg</th>\n",
       "      <th>VCU_0x214.VCU_BrkLampCtrlSts</th>\n",
       "      <th>VCU_0x214.VCU_RdyLamp</th>\n",
       "      <th>VCU_0x214.VCU_214_234_AliveCounter</th>\n",
       "      <th>VCU_0x214.VCU_GearSigVld</th>\n",
       "      <th>VCU_0x214.VCU_ShiftMisoper</th>\n",
       "      <th>VCU_0x214.VCU_StgyGearSig</th>\n",
       "      <th>VCU_0x214.VCU_APSPercVld</th>\n",
       "      <th>VCU_0x214.VCU_ParkRdy</th>\n",
       "      <th>...</th>\n",
       "      <th>Diag_OBC_Resp.OBC_Byte7_Resp</th>\n",
       "      <th>Diag_OBC_Resp.OBC_Byte8_Resp</th>\n",
       "      <th>Diag_PVIU_Resp.PVIU_TPCI_Resp</th>\n",
       "      <th>Diag_PVIU_Resp.PVIU_Byte2_Resp</th>\n",
       "      <th>Diag_PVIU_Resp.PVIU_Byte3_Resp</th>\n",
       "      <th>Diag_PVIU_Resp.PVIU_Byte4_Resp</th>\n",
       "      <th>Diag_PVIU_Resp.PVIU_Byte5_Resp</th>\n",
       "      <th>Diag_PVIU_Resp.PVIU_Byte6_Resp</th>\n",
       "      <th>Diag_PVIU_Resp.PVIU_Byte7_Resp</th>\n",
       "      <th>Diag_PVIU_Resp.PVIU_Byte8_Resp</th>\n",
       "    </tr>\n",
       "    <tr>\n",
       "      <th>time_utc_iso</th>\n",
       "      <th></th>\n",
       "      <th></th>\n",
       "      <th></th>\n",
       "      <th></th>\n",
       "      <th></th>\n",
       "      <th></th>\n",
       "      <th></th>\n",
       "      <th></th>\n",
       "      <th></th>\n",
       "      <th></th>\n",
       "      <th></th>\n",
       "      <th></th>\n",
       "      <th></th>\n",
       "      <th></th>\n",
       "      <th></th>\n",
       "      <th></th>\n",
       "      <th></th>\n",
       "      <th></th>\n",
       "      <th></th>\n",
       "      <th></th>\n",
       "      <th></th>\n",
       "    </tr>\n",
       "  </thead>\n",
       "  <tbody>\n",
       "    <tr>\n",
       "      <th>2025-06-29 12:10:35+00:00</th>\n",
       "      <td>176</td>\n",
       "      <td>remote_control_not_ended</td>\n",
       "      <td>No_request</td>\n",
       "      <td>Ready</td>\n",
       "      <td>0</td>\n",
       "      <td>Valid</td>\n",
       "      <td>Normal</td>\n",
       "      <td>gear_P</td>\n",
       "      <td>Valid</td>\n",
       "      <td>Not_ready</td>\n",
       "      <td>...</td>\n",
       "      <td>NaN</td>\n",
       "      <td>NaN</td>\n",
       "      <td>NaN</td>\n",
       "      <td>NaN</td>\n",
       "      <td>NaN</td>\n",
       "      <td>NaN</td>\n",
       "      <td>NaN</td>\n",
       "      <td>NaN</td>\n",
       "      <td>NaN</td>\n",
       "      <td>NaN</td>\n",
       "    </tr>\n",
       "    <tr>\n",
       "      <th>2025-06-29 12:10:36+00:00</th>\n",
       "      <td>216</td>\n",
       "      <td>remote_control_not_ended</td>\n",
       "      <td>No_request</td>\n",
       "      <td>Ready</td>\n",
       "      <td>10</td>\n",
       "      <td>Valid</td>\n",
       "      <td>Normal</td>\n",
       "      <td>gear_P</td>\n",
       "      <td>Valid</td>\n",
       "      <td>Not_ready</td>\n",
       "      <td>...</td>\n",
       "      <td>NaN</td>\n",
       "      <td>NaN</td>\n",
       "      <td>NaN</td>\n",
       "      <td>NaN</td>\n",
       "      <td>NaN</td>\n",
       "      <td>NaN</td>\n",
       "      <td>NaN</td>\n",
       "      <td>NaN</td>\n",
       "      <td>NaN</td>\n",
       "      <td>NaN</td>\n",
       "    </tr>\n",
       "    <tr>\n",
       "      <th>2025-06-29 12:10:37+00:00</th>\n",
       "      <td>132</td>\n",
       "      <td>remote_control_not_ended</td>\n",
       "      <td>No_request</td>\n",
       "      <td>Ready</td>\n",
       "      <td>5</td>\n",
       "      <td>Valid</td>\n",
       "      <td>Normal</td>\n",
       "      <td>gear_P</td>\n",
       "      <td>Valid</td>\n",
       "      <td>Not_ready</td>\n",
       "      <td>...</td>\n",
       "      <td>NaN</td>\n",
       "      <td>NaN</td>\n",
       "      <td>NaN</td>\n",
       "      <td>NaN</td>\n",
       "      <td>NaN</td>\n",
       "      <td>NaN</td>\n",
       "      <td>NaN</td>\n",
       "      <td>NaN</td>\n",
       "      <td>NaN</td>\n",
       "      <td>NaN</td>\n",
       "    </tr>\n",
       "    <tr>\n",
       "      <th>2025-06-29 12:10:38+00:00</th>\n",
       "      <td>176</td>\n",
       "      <td>remote_control_not_ended</td>\n",
       "      <td>No_request</td>\n",
       "      <td>Ready</td>\n",
       "      <td>0</td>\n",
       "      <td>Valid</td>\n",
       "      <td>Normal</td>\n",
       "      <td>gear_P</td>\n",
       "      <td>Valid</td>\n",
       "      <td>Not_ready</td>\n",
       "      <td>...</td>\n",
       "      <td>NaN</td>\n",
       "      <td>NaN</td>\n",
       "      <td>NaN</td>\n",
       "      <td>NaN</td>\n",
       "      <td>NaN</td>\n",
       "      <td>NaN</td>\n",
       "      <td>NaN</td>\n",
       "      <td>NaN</td>\n",
       "      <td>NaN</td>\n",
       "      <td>NaN</td>\n",
       "    </tr>\n",
       "    <tr>\n",
       "      <th>2025-06-29 12:10:39+00:00</th>\n",
       "      <td>216</td>\n",
       "      <td>remote_control_not_ended</td>\n",
       "      <td>No_request</td>\n",
       "      <td>Ready</td>\n",
       "      <td>10</td>\n",
       "      <td>Valid</td>\n",
       "      <td>Normal</td>\n",
       "      <td>gear_P</td>\n",
       "      <td>Valid</td>\n",
       "      <td>Not_ready</td>\n",
       "      <td>...</td>\n",
       "      <td>NaN</td>\n",
       "      <td>NaN</td>\n",
       "      <td>NaN</td>\n",
       "      <td>NaN</td>\n",
       "      <td>NaN</td>\n",
       "      <td>NaN</td>\n",
       "      <td>NaN</td>\n",
       "      <td>NaN</td>\n",
       "      <td>NaN</td>\n",
       "      <td>NaN</td>\n",
       "    </tr>\n",
       "  </tbody>\n",
       "</table>\n",
       "<p>5 rows × 3078 columns</p>\n",
       "</div>"
      ],
      "text/plain": [
       "                           VCU_0x214.VCU_214_234_CheckSum  \\\n",
       "time_utc_iso                                                \n",
       "2025-06-29 12:10:35+00:00                             176   \n",
       "2025-06-29 12:10:36+00:00                             216   \n",
       "2025-06-29 12:10:37+00:00                             132   \n",
       "2025-06-29 12:10:38+00:00                             176   \n",
       "2025-06-29 12:10:39+00:00                             216   \n",
       "\n",
       "                          VCU_0x214.VCU_RemWakeUpEndFlg  \\\n",
       "time_utc_iso                                              \n",
       "2025-06-29 12:10:35+00:00      remote_control_not_ended   \n",
       "2025-06-29 12:10:36+00:00      remote_control_not_ended   \n",
       "2025-06-29 12:10:37+00:00      remote_control_not_ended   \n",
       "2025-06-29 12:10:38+00:00      remote_control_not_ended   \n",
       "2025-06-29 12:10:39+00:00      remote_control_not_ended   \n",
       "\n",
       "                          VCU_0x214.VCU_BrkLampCtrlSts VCU_0x214.VCU_RdyLamp  \\\n",
       "time_utc_iso                                                                   \n",
       "2025-06-29 12:10:35+00:00                   No_request                 Ready   \n",
       "2025-06-29 12:10:36+00:00                   No_request                 Ready   \n",
       "2025-06-29 12:10:37+00:00                   No_request                 Ready   \n",
       "2025-06-29 12:10:38+00:00                   No_request                 Ready   \n",
       "2025-06-29 12:10:39+00:00                   No_request                 Ready   \n",
       "\n",
       "                           VCU_0x214.VCU_214_234_AliveCounter  \\\n",
       "time_utc_iso                                                    \n",
       "2025-06-29 12:10:35+00:00                                   0   \n",
       "2025-06-29 12:10:36+00:00                                  10   \n",
       "2025-06-29 12:10:37+00:00                                   5   \n",
       "2025-06-29 12:10:38+00:00                                   0   \n",
       "2025-06-29 12:10:39+00:00                                  10   \n",
       "\n",
       "                          VCU_0x214.VCU_GearSigVld VCU_0x214.VCU_ShiftMisoper  \\\n",
       "time_utc_iso                                                                    \n",
       "2025-06-29 12:10:35+00:00                    Valid                     Normal   \n",
       "2025-06-29 12:10:36+00:00                    Valid                     Normal   \n",
       "2025-06-29 12:10:37+00:00                    Valid                     Normal   \n",
       "2025-06-29 12:10:38+00:00                    Valid                     Normal   \n",
       "2025-06-29 12:10:39+00:00                    Valid                     Normal   \n",
       "\n",
       "                          VCU_0x214.VCU_StgyGearSig VCU_0x214.VCU_APSPercVld  \\\n",
       "time_utc_iso                                                                   \n",
       "2025-06-29 12:10:35+00:00                    gear_P                    Valid   \n",
       "2025-06-29 12:10:36+00:00                    gear_P                    Valid   \n",
       "2025-06-29 12:10:37+00:00                    gear_P                    Valid   \n",
       "2025-06-29 12:10:38+00:00                    gear_P                    Valid   \n",
       "2025-06-29 12:10:39+00:00                    gear_P                    Valid   \n",
       "\n",
       "                          VCU_0x214.VCU_ParkRdy  ...  \\\n",
       "time_utc_iso                                     ...   \n",
       "2025-06-29 12:10:35+00:00             Not_ready  ...   \n",
       "2025-06-29 12:10:36+00:00             Not_ready  ...   \n",
       "2025-06-29 12:10:37+00:00             Not_ready  ...   \n",
       "2025-06-29 12:10:38+00:00             Not_ready  ...   \n",
       "2025-06-29 12:10:39+00:00             Not_ready  ...   \n",
       "\n",
       "                          Diag_OBC_Resp.OBC_Byte7_Resp  \\\n",
       "time_utc_iso                                             \n",
       "2025-06-29 12:10:35+00:00                          NaN   \n",
       "2025-06-29 12:10:36+00:00                          NaN   \n",
       "2025-06-29 12:10:37+00:00                          NaN   \n",
       "2025-06-29 12:10:38+00:00                          NaN   \n",
       "2025-06-29 12:10:39+00:00                          NaN   \n",
       "\n",
       "                          Diag_OBC_Resp.OBC_Byte8_Resp  \\\n",
       "time_utc_iso                                             \n",
       "2025-06-29 12:10:35+00:00                          NaN   \n",
       "2025-06-29 12:10:36+00:00                          NaN   \n",
       "2025-06-29 12:10:37+00:00                          NaN   \n",
       "2025-06-29 12:10:38+00:00                          NaN   \n",
       "2025-06-29 12:10:39+00:00                          NaN   \n",
       "\n",
       "                          Diag_PVIU_Resp.PVIU_TPCI_Resp  \\\n",
       "time_utc_iso                                              \n",
       "2025-06-29 12:10:35+00:00                           NaN   \n",
       "2025-06-29 12:10:36+00:00                           NaN   \n",
       "2025-06-29 12:10:37+00:00                           NaN   \n",
       "2025-06-29 12:10:38+00:00                           NaN   \n",
       "2025-06-29 12:10:39+00:00                           NaN   \n",
       "\n",
       "                           Diag_PVIU_Resp.PVIU_Byte2_Resp  \\\n",
       "time_utc_iso                                                \n",
       "2025-06-29 12:10:35+00:00                             NaN   \n",
       "2025-06-29 12:10:36+00:00                             NaN   \n",
       "2025-06-29 12:10:37+00:00                             NaN   \n",
       "2025-06-29 12:10:38+00:00                             NaN   \n",
       "2025-06-29 12:10:39+00:00                             NaN   \n",
       "\n",
       "                          Diag_PVIU_Resp.PVIU_Byte3_Resp  \\\n",
       "time_utc_iso                                               \n",
       "2025-06-29 12:10:35+00:00                            NaN   \n",
       "2025-06-29 12:10:36+00:00                            NaN   \n",
       "2025-06-29 12:10:37+00:00                            NaN   \n",
       "2025-06-29 12:10:38+00:00                            NaN   \n",
       "2025-06-29 12:10:39+00:00                            NaN   \n",
       "\n",
       "                          Diag_PVIU_Resp.PVIU_Byte4_Resp  \\\n",
       "time_utc_iso                                               \n",
       "2025-06-29 12:10:35+00:00                            NaN   \n",
       "2025-06-29 12:10:36+00:00                            NaN   \n",
       "2025-06-29 12:10:37+00:00                            NaN   \n",
       "2025-06-29 12:10:38+00:00                            NaN   \n",
       "2025-06-29 12:10:39+00:00                            NaN   \n",
       "\n",
       "                          Diag_PVIU_Resp.PVIU_Byte5_Resp  \\\n",
       "time_utc_iso                                               \n",
       "2025-06-29 12:10:35+00:00                            NaN   \n",
       "2025-06-29 12:10:36+00:00                            NaN   \n",
       "2025-06-29 12:10:37+00:00                            NaN   \n",
       "2025-06-29 12:10:38+00:00                            NaN   \n",
       "2025-06-29 12:10:39+00:00                            NaN   \n",
       "\n",
       "                          Diag_PVIU_Resp.PVIU_Byte6_Resp  \\\n",
       "time_utc_iso                                               \n",
       "2025-06-29 12:10:35+00:00                            NaN   \n",
       "2025-06-29 12:10:36+00:00                            NaN   \n",
       "2025-06-29 12:10:37+00:00                            NaN   \n",
       "2025-06-29 12:10:38+00:00                            NaN   \n",
       "2025-06-29 12:10:39+00:00                            NaN   \n",
       "\n",
       "                          Diag_PVIU_Resp.PVIU_Byte7_Resp  \\\n",
       "time_utc_iso                                               \n",
       "2025-06-29 12:10:35+00:00                            NaN   \n",
       "2025-06-29 12:10:36+00:00                            NaN   \n",
       "2025-06-29 12:10:37+00:00                            NaN   \n",
       "2025-06-29 12:10:38+00:00                            NaN   \n",
       "2025-06-29 12:10:39+00:00                            NaN   \n",
       "\n",
       "                           Diag_PVIU_Resp.PVIU_Byte8_Resp  \n",
       "time_utc_iso                                               \n",
       "2025-06-29 12:10:35+00:00                             NaN  \n",
       "2025-06-29 12:10:36+00:00                             NaN  \n",
       "2025-06-29 12:10:37+00:00                             NaN  \n",
       "2025-06-29 12:10:38+00:00                             NaN  \n",
       "2025-06-29 12:10:39+00:00                             NaN  \n",
       "\n",
       "[5 rows x 3078 columns]"
      ]
     },
     "execution_count": 7,
     "metadata": {},
     "output_type": "execute_result"
    }
   ],
   "source": [
    "df.head()"
   ]
  },
  {
   "cell_type": "code",
   "execution_count": 8,
   "id": "1d68df8c",
   "metadata": {},
   "outputs": [
    {
     "name": "stderr",
     "output_type": "stream",
     "text": [
      "/var/folders/ng/3vcxzr395fd86ffyyn36q09w0000gn/T/ipykernel_14067/2224660911.py:4: FutureWarning: 'S' is deprecated and will be removed in a future version, please use 's' instead.\n",
      "  df_num = df.resample(\"1S\").median(numeric_only=True)\n",
      "/var/folders/ng/3vcxzr395fd86ffyyn36q09w0000gn/T/ipykernel_14067/2224660911.py:8: FutureWarning: 'S' is deprecated and will be removed in a future version, please use 's' instead.\n",
      "  df_non = df[non_num_cols].resample(\"1S\").last().ffill()\n"
     ]
    },
    {
     "name": "stdout",
     "output_type": "stream",
     "text": [
      "DatetimeIndex(['2025-06-29 12:10:35+00:00', '2025-06-29 12:10:36+00:00',\n",
      "               '2025-06-29 12:10:37+00:00', '2025-06-29 12:10:38+00:00',\n",
      "               '2025-06-29 12:10:39+00:00'],\n",
      "              dtype='datetime64[ns, UTC]', name='time_utc_iso', freq='s')\n",
      "(4734, 3078)\n"
     ]
    }
   ],
   "source": [
    "# Downsample if not already 1 second\n",
    "\n",
    "# 1) Numeric columns → median per second\n",
    "df_num = df.resample(\"1S\").median(numeric_only=True)\n",
    "\n",
    "# 2) The rest (non-numeric) → take the last value seen each second, then forward-fill gaps\n",
    "non_num_cols = df.columns.difference(df_num.columns)\n",
    "df_non = df[non_num_cols].resample(\"1S\").last().ffill()\n",
    "\n",
    "# 3) Recombine and keep as your working df\n",
    "df = pd.concat([df_num, df_non], axis=1).sort_index()\n",
    "\n",
    "print(df.index[:5])\n",
    "print(df.shape)\n"
   ]
  },
  {
   "cell_type": "code",
   "execution_count": 9,
   "id": "cc7f0808",
   "metadata": {},
   "outputs": [
    {
     "name": "stdout",
     "output_type": "stream",
     "text": [
      "(4734, 408)\n"
     ]
    }
   ],
   "source": [
    "# Drop bad signals\n",
    "\n",
    "# drop constant cols\n",
    "df = df.loc[:, df.nunique() > 1]\n",
    "\n",
    "# drop mostly empty cols\n",
    "missing_thresh = 0.5\n",
    "df = df.loc[:, df.isnull().mean() < missing_thresh]\n",
    "\n",
    "# drop checksums and alivecounters\n",
    "df = df.drop(columns=df.filter(like=\"CheckSum\").columns)\n",
    "df = df.drop(columns=df.filter(like=\"AliveCounter\").columns)\n",
    "df = df.drop(columns=df.filter(like=\"BMS_CellVolt\").columns)\n",
    "\n",
    "print(df.shape)"
   ]
  },
  {
   "cell_type": "code",
   "execution_count": 10,
   "id": "615bf41c",
   "metadata": {},
   "outputs": [
    {
     "name": "stdout",
     "output_type": "stream",
     "text": [
      "Index(['MCU_F_CrtSpd', 'MCU_F_CrtTq', 'MCU_F_MaxPwrGennTq', 'MCU_F_MaxElecTq',\n",
      "       'MCU_F_MOT_T', 'MCU_F_IGBTT', 'MCU_R_CrtSpd', 'MCU_R_CrtTq',\n",
      "       'MCU_R_MaxPwrGennTq', 'MCU_R_MaxElecTq',\n",
      "       ...\n",
      "       'VCU_VehMod', 'VCU_LVbattCtrlSigSTGFlt', 'VCU_HVBActivateDeactivateRq',\n",
      "       'VCU_Set_BMS_Mod', 'IBS_CurrentAutorange', 'VSP_HornWngSts',\n",
      "       'VSP_WngMod', 'VSP_UsrData1_Bit6_DIAGN_AWAKE', 'WTC_B_HVPwrSplySts',\n",
      "       'WTC_H_HVPwrSplySts'],\n",
      "      dtype='object', length=408)\n"
     ]
    }
   ],
   "source": [
    "# Shorten column names to remove the CAN message and only keep the signal name\n",
    "new_columns = []\n",
    "for col in df.columns:\n",
    "    if '.' in col:\n",
    "        name = col.split('.', 1)[1]\n",
    "    else:\n",
    "        name = col\n",
    "    new_columns.append(name)\n",
    "\n",
    "df.columns = new_columns \n",
    "print(df.columns)"
   ]
  },
  {
   "cell_type": "code",
   "execution_count": 11,
   "id": "ec53aedd",
   "metadata": {},
   "outputs": [
    {
     "name": "stderr",
     "output_type": "stream",
     "text": [
      "/var/folders/ng/3vcxzr395fd86ffyyn36q09w0000gn/T/ipykernel_14067/4210384042.py:2: FutureWarning: DataFrame.interpolate with object dtype is deprecated and will raise in a future version. Call obj.infer_objects(copy=False) before interpolating instead.\n",
      "  df = df.interpolate(method=\"linear\").ffill().bfill()\n"
     ]
    },
    {
     "name": "stdout",
     "output_type": "stream",
     "text": [
      "(4734, 408)\n"
     ]
    }
   ],
   "source": [
    "# Handle NaNs \n",
    "df = df.interpolate(method=\"linear\").ffill().bfill()\n",
    "\n",
    "print(df.shape)"
   ]
  },
  {
   "cell_type": "code",
   "execution_count": 12,
   "id": "86a421a0",
   "metadata": {},
   "outputs": [
    {
     "name": "stdout",
     "output_type": "stream",
     "text": [
      "Duplicate columns: 10\n",
      "Index(['GW_CtrlBitVector_Bit0_RMR', 'GW_UsrData1_Bit5_IGNITION_AWAKE',\n",
      "       'PKC_IMMO_AuthSts', 'PKC_KeySts', 'PKC_RemLockCmd_Key', 'TBOX_4GSigIND',\n",
      "       'VCU_RdyLamp', 'VCU_VehSt', 'VCU_ChrgSysOperCmd', 'VCU_VehChrgDchgMod'],\n",
      "      dtype='object')\n"
     ]
    }
   ],
   "source": [
    "# Eliminate duplicate columns\n",
    "dups = df.columns[df.columns.duplicated()]\n",
    "print(f\"Duplicate columns: {len(dups)}\")\n",
    "if len(dups):\n",
    "    print(dups.unique()[:20])  # peek"
   ]
  },
  {
   "cell_type": "code",
   "execution_count": 13,
   "id": "b045c789",
   "metadata": {},
   "outputs": [],
   "source": [
    "# Save a raw version for later for SOH1 calculation\n",
    "df_raw = df.copy()"
   ]
  },
  {
   "cell_type": "markdown",
   "id": "c459eadc",
   "metadata": {},
   "source": [
    "### Ready to save preprocessed dataframe\n",
    "- Load data frame log\n",
    "- Set time as index and downsample to 1s\n",
    "- Drop bad signals\n",
    "- Clean column names to just include signal name\n",
    "- Backfill NaN data\n",
    "- Elimnate duplicate columns"
   ]
  },
  {
   "cell_type": "code",
   "execution_count": 14,
   "id": "0c2b2318",
   "metadata": {},
   "outputs": [],
   "source": [
    "# Save raw preprocessed data before converting non-numeric (one-hot encoding), scaling, & soh1 calculation\n",
    "# Save cleaned data file for next steps\n",
    "df.to_csv(path_cleaned_raw)"
   ]
  },
  {
   "cell_type": "code",
   "execution_count": 15,
   "id": "ffa33652",
   "metadata": {},
   "outputs": [
    {
     "data": {
      "text/plain": [
       "(4734, 408)"
      ]
     },
     "execution_count": 15,
     "metadata": {},
     "output_type": "execute_result"
    }
   ],
   "source": [
    "df.shape"
   ]
  }
 ],
 "metadata": {
  "kernelspec": {
   "display_name": "base",
   "language": "python",
   "name": "python3"
  },
  "language_info": {
   "codemirror_mode": {
    "name": "ipython",
    "version": 3
   },
   "file_extension": ".py",
   "mimetype": "text/x-python",
   "name": "python",
   "nbconvert_exporter": "python",
   "pygments_lexer": "ipython3",
   "version": "3.12.2"
  }
 },
 "nbformat": 4,
 "nbformat_minor": 5
}
