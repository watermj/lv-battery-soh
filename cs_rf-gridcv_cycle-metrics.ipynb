{
 "cells": [
  {
   "cell_type": "markdown",
   "id": "b29b0d6a",
   "metadata": {},
   "source": [
    "# Perform Random Forest Regressor on caluclated SOH1 using IBS signals + charging cycle parameters"
   ]
  },
  {
   "cell_type": "code",
   "execution_count": 36,
   "id": "a7e535d7",
   "metadata": {},
   "outputs": [],
   "source": [
    "import pandas as pd\n",
    "import os, sys\n",
    "from sklearn.model_selection import train_test_split, GridSearchCV\n",
    "from sklearn.ensemble import RandomForestRegressor\n",
    "from pathlib import Path\n",
    "from datetime import datetime, timezone\n",
    "from sklearn.tree import DecisionTreeRegressor\n",
    "from sklearn.metrics import mean_squared_error, r2_score\n",
    "import matplotlib.pyplot as plt\n",
    "from sklearn.preprocessing import OneHotEncoder, StandardScaler\n",
    "from sklearn.pipeline import Pipeline\n",
    "\n",
    "CYCLE_METRICS_CSV_DIR = Path(\"outputs/logs\") # resolve path\n"
   ]
  },
  {
   "cell_type": "code",
   "execution_count": 37,
   "id": "75f894cf",
   "metadata": {},
   "outputs": [
    {
     "name": "stdout",
     "output_type": "stream",
     "text": [
      "(75, 119)\n"
     ]
    },
    {
     "data": {
      "application/vnd.microsoft.datawrangler.viewer.v0+json": {
       "columns": [
        {
         "name": "index",
         "rawType": "int64",
         "type": "integer"
        },
        {
         "name": "cycle_start",
         "rawType": "object",
         "type": "string"
        },
        {
         "name": "cycle_end",
         "rawType": "object",
         "type": "string"
        },
        {
         "name": "source_file",
         "rawType": "object",
         "type": "string"
        },
        {
         "name": "cycle_id",
         "rawType": "object",
         "type": "string"
        },
        {
         "name": "cycle_idx",
         "rawType": "int64",
         "type": "integer"
        },
        {
         "name": "duration_s",
         "rawType": "float64",
         "type": "float"
        },
        {
         "name": "V_peak_charge",
         "rawType": "float64",
         "type": "float"
        },
        {
         "name": "V_mean_charge",
         "rawType": "float64",
         "type": "float"
        },
        {
         "name": "V_tail_mean",
         "rawType": "float64",
         "type": "float"
        },
        {
         "name": "time_absorption_s",
         "rawType": "float64",
         "type": "float"
        },
        {
         "name": "I_bulk_mean",
         "rawType": "float64",
         "type": "float"
        },
        {
         "name": "I_min",
         "rawType": "float64",
         "type": "float"
        },
        {
         "name": "soc_start_pct",
         "rawType": "float64",
         "type": "float"
        },
        {
         "name": "soc_end_pct",
         "rawType": "float64",
         "type": "float"
        },
        {
         "name": "soc_gain_pct",
         "rawType": "float64",
         "type": "float"
        },
        {
         "name": "t80_s",
         "rawType": "float64",
         "type": "float"
        },
        {
         "name": "Ah_in",
         "rawType": "float64",
         "type": "float"
        },
        {
         "name": "Ah_out_prev",
         "rawType": "float64",
         "type": "float"
        },
        {
         "name": "R_dyn_ohm",
         "rawType": "float64",
         "type": "float"
        },
        {
         "name": "target_soh1",
         "rawType": "float64",
         "type": "float"
        },
        {
         "name": "IBS_BatteryVoltage__mean",
         "rawType": "float64",
         "type": "float"
        },
        {
         "name": "IBS_BatteryVoltage__median",
         "rawType": "float64",
         "type": "float"
        },
        {
         "name": "IBS_BatteryVoltage__std",
         "rawType": "float64",
         "type": "float"
        },
        {
         "name": "IBS_BatteryVoltage__min",
         "rawType": "float64",
         "type": "float"
        },
        {
         "name": "IBS_BatteryVoltage__max",
         "rawType": "float64",
         "type": "float"
        },
        {
         "name": "IBS_BatteryVoltage__p10",
         "rawType": "float64",
         "type": "float"
        },
        {
         "name": "IBS_BatteryVoltage__p90",
         "rawType": "float64",
         "type": "float"
        },
        {
         "name": "IBS_BatteryVoltage__first",
         "rawType": "float64",
         "type": "float"
        },
        {
         "name": "IBS_BatteryVoltage__last",
         "rawType": "float64",
         "type": "float"
        },
        {
         "name": "IBS_BatteryCurrent__mean",
         "rawType": "float64",
         "type": "float"
        },
        {
         "name": "IBS_BatteryCurrent__median",
         "rawType": "float64",
         "type": "float"
        },
        {
         "name": "IBS_BatteryCurrent__std",
         "rawType": "float64",
         "type": "float"
        },
        {
         "name": "IBS_BatteryCurrent__min",
         "rawType": "float64",
         "type": "float"
        },
        {
         "name": "IBS_BatteryCurrent__max",
         "rawType": "float64",
         "type": "float"
        },
        {
         "name": "IBS_BatteryCurrent__p10",
         "rawType": "float64",
         "type": "float"
        },
        {
         "name": "IBS_BatteryCurrent__p90",
         "rawType": "float64",
         "type": "float"
        },
        {
         "name": "IBS_BatteryCurrent__first",
         "rawType": "float64",
         "type": "float"
        },
        {
         "name": "IBS_BatteryCurrent__last",
         "rawType": "float64",
         "type": "float"
        },
        {
         "name": "IBS_BatteryTemperature__mean",
         "rawType": "float64",
         "type": "float"
        },
        {
         "name": "IBS_BatteryTemperature__median",
         "rawType": "float64",
         "type": "float"
        },
        {
         "name": "IBS_BatteryTemperature__std",
         "rawType": "float64",
         "type": "float"
        },
        {
         "name": "IBS_BatteryTemperature__min",
         "rawType": "float64",
         "type": "float"
        },
        {
         "name": "IBS_BatteryTemperature__max",
         "rawType": "float64",
         "type": "float"
        },
        {
         "name": "IBS_BatteryTemperature__p10",
         "rawType": "float64",
         "type": "float"
        },
        {
         "name": "IBS_BatteryTemperature__p90",
         "rawType": "float64",
         "type": "float"
        },
        {
         "name": "IBS_BatteryTemperature__first",
         "rawType": "float64",
         "type": "float"
        },
        {
         "name": "IBS_BatteryTemperature__last",
         "rawType": "float64",
         "type": "float"
        },
        {
         "name": "IBS_StateOfCharge__mean",
         "rawType": "float64",
         "type": "float"
        },
        {
         "name": "IBS_StateOfCharge__median",
         "rawType": "float64",
         "type": "float"
        },
        {
         "name": "IBS_StateOfCharge__std",
         "rawType": "float64",
         "type": "float"
        },
        {
         "name": "IBS_StateOfCharge__min",
         "rawType": "float64",
         "type": "float"
        },
        {
         "name": "IBS_StateOfCharge__max",
         "rawType": "float64",
         "type": "float"
        },
        {
         "name": "IBS_StateOfCharge__p10",
         "rawType": "float64",
         "type": "float"
        },
        {
         "name": "IBS_StateOfCharge__p90",
         "rawType": "float64",
         "type": "float"
        },
        {
         "name": "IBS_StateOfCharge__first",
         "rawType": "float64",
         "type": "float"
        },
        {
         "name": "IBS_StateOfCharge__last",
         "rawType": "float64",
         "type": "float"
        },
        {
         "name": "IBS_StateOfHealth__mean",
         "rawType": "float64",
         "type": "float"
        },
        {
         "name": "IBS_StateOfHealth__median",
         "rawType": "float64",
         "type": "float"
        },
        {
         "name": "IBS_StateOfHealth__std",
         "rawType": "float64",
         "type": "float"
        },
        {
         "name": "IBS_StateOfHealth__min",
         "rawType": "float64",
         "type": "float"
        },
        {
         "name": "IBS_StateOfHealth__max",
         "rawType": "float64",
         "type": "float"
        },
        {
         "name": "IBS_StateOfHealth__p10",
         "rawType": "float64",
         "type": "float"
        },
        {
         "name": "IBS_StateOfHealth__p90",
         "rawType": "float64",
         "type": "float"
        },
        {
         "name": "IBS_StateOfHealth__first",
         "rawType": "float64",
         "type": "float"
        },
        {
         "name": "IBS_StateOfHealth__last",
         "rawType": "float64",
         "type": "float"
        },
        {
         "name": "IBS_AvgRi__mean",
         "rawType": "float64",
         "type": "float"
        },
        {
         "name": "IBS_AvgRi__median",
         "rawType": "float64",
         "type": "float"
        },
        {
         "name": "IBS_AvgRi__std",
         "rawType": "float64",
         "type": "float"
        },
        {
         "name": "IBS_AvgRi__min",
         "rawType": "float64",
         "type": "float"
        },
        {
         "name": "IBS_AvgRi__max",
         "rawType": "float64",
         "type": "float"
        },
        {
         "name": "IBS_AvgRi__p10",
         "rawType": "float64",
         "type": "float"
        },
        {
         "name": "IBS_AvgRi__p90",
         "rawType": "float64",
         "type": "float"
        },
        {
         "name": "IBS_AvgRi__first",
         "rawType": "float64",
         "type": "float"
        },
        {
         "name": "IBS_AvgRi__last",
         "rawType": "float64",
         "type": "float"
        },
        {
         "name": "IBS_AvailableCapacity__mean",
         "rawType": "float64",
         "type": "float"
        },
        {
         "name": "IBS_AvailableCapacity__median",
         "rawType": "float64",
         "type": "float"
        },
        {
         "name": "IBS_AvailableCapacity__std",
         "rawType": "float64",
         "type": "float"
        },
        {
         "name": "IBS_AvailableCapacity__min",
         "rawType": "float64",
         "type": "float"
        },
        {
         "name": "IBS_AvailableCapacity__max",
         "rawType": "float64",
         "type": "float"
        },
        {
         "name": "IBS_AvailableCapacity__p10",
         "rawType": "float64",
         "type": "float"
        },
        {
         "name": "IBS_AvailableCapacity__p90",
         "rawType": "float64",
         "type": "float"
        },
        {
         "name": "IBS_AvailableCapacity__first",
         "rawType": "float64",
         "type": "float"
        },
        {
         "name": "IBS_AvailableCapacity__last",
         "rawType": "float64",
         "type": "float"
        },
        {
         "name": "IBS_DischargeableAh__mean",
         "rawType": "float64",
         "type": "float"
        },
        {
         "name": "IBS_DischargeableAh__median",
         "rawType": "float64",
         "type": "float"
        },
        {
         "name": "IBS_DischargeableAh__std",
         "rawType": "float64",
         "type": "float"
        },
        {
         "name": "IBS_DischargeableAh__min",
         "rawType": "float64",
         "type": "float"
        },
        {
         "name": "IBS_DischargeableAh__max",
         "rawType": "float64",
         "type": "float"
        },
        {
         "name": "IBS_DischargeableAh__p10",
         "rawType": "float64",
         "type": "float"
        },
        {
         "name": "IBS_DischargeableAh__p90",
         "rawType": "float64",
         "type": "float"
        },
        {
         "name": "IBS_DischargeableAh__first",
         "rawType": "float64",
         "type": "float"
        },
        {
         "name": "IBS_DischargeableAh__last",
         "rawType": "float64",
         "type": "float"
        },
        {
         "name": "IBS_NominalCapacity__mean",
         "rawType": "float64",
         "type": "float"
        },
        {
         "name": "IBS_NominalCapacity__median",
         "rawType": "float64",
         "type": "float"
        },
        {
         "name": "IBS_NominalCapacity__std",
         "rawType": "float64",
         "type": "float"
        },
        {
         "name": "IBS_NominalCapacity__min",
         "rawType": "float64",
         "type": "float"
        },
        {
         "name": "IBS_NominalCapacity__max",
         "rawType": "float64",
         "type": "float"
        },
        {
         "name": "IBS_NominalCapacity__p10",
         "rawType": "float64",
         "type": "float"
        },
        {
         "name": "IBS_NominalCapacity__p90",
         "rawType": "float64",
         "type": "float"
        },
        {
         "name": "IBS_NominalCapacity__first",
         "rawType": "float64",
         "type": "float"
        },
        {
         "name": "IBS_NominalCapacity__last",
         "rawType": "float64",
         "type": "float"
        },
        {
         "name": "IBS_Sulfation__mean",
         "rawType": "float64",
         "type": "float"
        },
        {
         "name": "IBS_Sulfation__median",
         "rawType": "float64",
         "type": "float"
        },
        {
         "name": "IBS_Sulfation__std",
         "rawType": "float64",
         "type": "float"
        },
        {
         "name": "IBS_Sulfation__min",
         "rawType": "float64",
         "type": "float"
        },
        {
         "name": "IBS_Sulfation__max",
         "rawType": "float64",
         "type": "float"
        },
        {
         "name": "IBS_Sulfation__p10",
         "rawType": "float64",
         "type": "float"
        },
        {
         "name": "IBS_Sulfation__p90",
         "rawType": "float64",
         "type": "float"
        },
        {
         "name": "IBS_Sulfation__first",
         "rawType": "float64",
         "type": "float"
        },
        {
         "name": "IBS_Sulfation__last",
         "rawType": "float64",
         "type": "float"
        },
        {
         "name": "IBS_BatteryDefect__mean",
         "rawType": "float64",
         "type": "float"
        },
        {
         "name": "IBS_BatteryDefect__median",
         "rawType": "float64",
         "type": "float"
        },
        {
         "name": "IBS_BatteryDefect__std",
         "rawType": "float64",
         "type": "float"
        },
        {
         "name": "IBS_BatteryDefect__min",
         "rawType": "float64",
         "type": "float"
        },
        {
         "name": "IBS_BatteryDefect__max",
         "rawType": "float64",
         "type": "float"
        },
        {
         "name": "IBS_BatteryDefect__p10",
         "rawType": "float64",
         "type": "float"
        },
        {
         "name": "IBS_BatteryDefect__p90",
         "rawType": "float64",
         "type": "float"
        },
        {
         "name": "IBS_BatteryDefect__first",
         "rawType": "float64",
         "type": "float"
        },
        {
         "name": "IBS_BatteryDefect__last",
         "rawType": "float64",
         "type": "float"
        }
       ],
       "ref": "3b1f50bf-16b0-4363-ab0e-39599b037d64",
       "rows": [
        [
         "0",
         "2025-06-26 02:20:47+00:00",
         "2025-06-26 02:40:03+00:00",
         "12V Management  2025-06-25_22-20-47_IBS_only_cleaned.csv",
         "12V Management  2025-06-25_22-20-47_IBS_only_cleaned.csv#0",
         "0",
         "1156.0",
         "14.115",
         "14.1068595505618",
         "14.100594444444445",
         "0.0",
         "2.972537597234226",
         "-15.183",
         "7650.0",
         "7850.0",
         "200.0",
         "0.0",
         "0.9671094444444444",
         null,
         "-0.058966169860421",
         "0.9338278210116728",
         "14.10586603284356",
         "14.109",
         "0.0536516238631981",
         "12.953",
         "14.117",
         "14.103",
         "14.113",
         "14.1",
         "12.953",
         "2.972537597234226",
         "2.712",
         "1.2835065364377014",
         "-15.183",
         "5.261",
         "2.0906",
         "4.487200000000001",
         "5.246",
         "-15.183",
         "23.5",
         "23.5",
         "0.0",
         "23.5",
         "23.5",
         "23.5",
         "23.5",
         "23.5",
         "23.5",
         "77.6257562662057",
         "78.0",
         "0.555292609098049",
         "76.5",
         "78.5",
         "77.0",
         "78.5",
         "76.5",
         "78.5",
         "66.0",
         "66.0",
         "0.0",
         "66.0",
         "66.0",
         "66.0",
         "66.0",
         "66.0",
         "66.0",
         "6.069999999999999",
         "6.07",
         "8.885624968725417e-16",
         "6.07",
         "6.07",
         "6.07",
         "6.07",
         "6.07",
         "6.07",
         "33.0",
         "33.0",
         "0.0",
         "33.0",
         "33.0",
         "33.0",
         "33.0",
         "33.0",
         "33.0",
         "32.91512532411409",
         "33.0",
         "0.2716496236281289",
         "32.4",
         "33.3",
         "32.5",
         "33.3",
         "32.4",
         "33.3",
         "50.0",
         "50.0",
         "0.0",
         "50.0",
         "50.0",
         "50.0",
         "50.0",
         "50.0",
         "50.0",
         "1.0",
         "1.0",
         "0.0",
         "1.0",
         "1.0",
         "1.0",
         "1.0",
         "1.0",
         "1.0",
         "0.0",
         "0.0",
         "0.0",
         "0.0",
         "0.0",
         "0.0",
         "0.0",
         "0.0",
         "0.0"
        ],
        [
         "1",
         "2025-06-26 11:24:45+00:00",
         "2025-06-26 12:02:32+00:00",
         "12V Management  2025-06-25_22-20-47_IBS_only_cleaned.csv",
         "12V Management  2025-06-25_22-20-47_IBS_only_cleaned.csv#1",
         "1",
         "2267.0",
         "14.114",
         "14.102163580246916",
         "14.0999",
         "0.0",
         "4.276646384479718",
         "-14.893",
         "7150.0",
         "7700.0",
         "550.0",
         "0.0",
         "2.704648055555555",
         "80.29246194444445",
         "-0.0615087040618955",
         "0.9338278210116728",
         "14.101659611992943",
         "14.106",
         "0.0405392370419872",
         "12.914",
         "14.115",
         "14.091",
         "14.111",
         "14.05",
         "12.914",
         "4.276646384479718",
         "3.5294999999999996",
         "2.3336045222666457",
         "-14.893",
         "14.278",
         "2.2098",
         "7.629899999999999",
         "14.278",
         "-14.893",
         "21.0",
         "21.0",
         "0.0",
         "21.0",
         "21.0",
         "21.0",
         "21.0",
         "21.0",
         "21.0",
         "74.76256613756614",
         "75.0",
         "1.459479435551035",
         "71.5",
         "77.0",
         "72.5",
         "76.5",
         "71.5",
         "77.0",
         "66.0",
         "66.0",
         "0.0",
         "66.0",
         "66.0",
         "66.0",
         "66.0",
         "66.0",
         "66.0",
         "6.07",
         "6.07",
         "0.0",
         "6.07",
         "6.07",
         "6.07",
         "6.07",
         "6.07",
         "6.07",
         "33.0",
         "33.0",
         "0.0",
         "33.0",
         "33.0",
         "33.0",
         "33.0",
         "33.0",
         "33.0",
         "31.484126984126984",
         "31.6",
         "0.7282892231206678",
         "29.9",
         "32.5",
         "30.3",
         "32.3",
         "29.9",
         "32.5",
         "50.0",
         "50.0",
         "0.0",
         "50.0",
         "50.0",
         "50.0",
         "50.0",
         "50.0",
         "50.0",
         "1.0",
         "1.0",
         "0.0",
         "1.0",
         "1.0",
         "1.0",
         "1.0",
         "1.0",
         "1.0",
         "0.0",
         "0.0",
         "0.0",
         "0.0",
         "0.0",
         "0.0",
         "0.0",
         "0.0",
         "0.0"
        ],
        [
         "2",
         "2025-06-26 13:09:11+00:00",
         "2025-06-26 13:19:50+00:00",
         "12V Management  2025-06-25_22-20-47_IBS_only_cleaned.csv",
         "12V Management  2025-06-25_22-20-47_IBS_only_cleaned.csv#2",
         "2",
         "639.0",
         "14.114",
         "14.10433125",
         "14.100833333333334",
         "0.0",
         "2.9151671875000003",
         "-14.835",
         "7550.0",
         "7650.0",
         "100.0",
         "0.0",
         "0.5284127777777777",
         "7.1904402777777765",
         "-0.0615124520449964",
         "0.9338278210116728",
         "14.1028296875",
         "14.11",
         "0.0723250837546786",
         "12.892",
         "14.115",
         "14.097",
         "14.113",
         "14.077",
         "12.892",
         "2.9151671875000003",
         "2.3375000000000004",
         "1.827248935294563",
         "-14.835",
         "10.084",
         "2.0019",
         "5.169200000000001",
         "10.084",
         "-14.835",
         "20.98359375",
         "21.0",
         "0.0891424487755913",
         "20.5",
         "21.0",
         "21.0",
         "21.0",
         "21.0",
         "21.0",
         "76.0953125",
         "76.0",
         "0.304339860010542",
         "75.5",
         "76.5",
         "75.5",
         "76.5",
         "75.5",
         "76.5",
         "66.0",
         "66.0",
         "0.0",
         "66.0",
         "66.0",
         "66.0",
         "66.0",
         "66.0",
         "66.0",
         "6.07",
         "6.07",
         "0.0",
         "6.07",
         "6.07",
         "6.07",
         "6.07",
         "6.07",
         "6.07",
         "33.0",
         "33.0",
         "0.0",
         "33.0",
         "33.0",
         "33.0",
         "33.0",
         "33.0",
         "33.0",
         "32.151250000000005",
         "32.2",
         "0.1363450928730022",
         "31.9",
         "32.4",
         "31.9",
         "32.3",
         "31.9",
         "32.4",
         "50.0",
         "50.0",
         "0.0",
         "50.0",
         "50.0",
         "50.0",
         "50.0",
         "50.0",
         "50.0",
         "1.0",
         "1.0",
         "0.0",
         "1.0",
         "1.0",
         "1.0",
         "1.0",
         "1.0",
         "1.0",
         "0.0",
         "0.0",
         "0.0",
         "0.0",
         "0.0",
         "0.0",
         "0.0",
         "0.0",
         "0.0"
        ],
        [
         "3",
         "2025-06-26 17:47:23+00:00",
         "2025-06-26 18:22:49+00:00",
         "12V_Management_2025-06-26_13-39-25_IBS_only.csv",
         "12V_Management_2025-06-26_13-39-25_IBS_only.csv#0",
         "0",
         "2126.0",
         "14.113",
         "14.09611706629055",
         "14.1019",
         "0.0",
         "5.272254348848143",
         "-15.184",
         "7050.0",
         "7650.0",
         "600.0",
         "0.0",
         "3.120809583333333",
         null,
         "-0.0641698751604247",
         "0.9467655642023344",
         "14.095766337564644",
         "14.104",
         "0.0388856953736124",
         "12.935",
         "14.114",
         "14.07",
         "14.11",
         "13.981",
         "12.935",
         "5.272254348848143",
         "3.543",
         "4.020049720830318",
         "-15.184",
         "28.777",
         "2.2056",
         "12.188400000000003",
         "28.777",
         "-15.184",
         "21.40126939351199",
         "21.5",
         "0.1990884360776123",
         "21.0",
         "21.5",
         "21.0",
         "21.5",
         "21.0",
         "21.5",
         "74.5345557122708",
         "75.0",
         "1.5989192838799486",
         "70.5",
         "76.5",
         "72.0",
         "76.0",
         "70.5",
         "76.5",
         "66.0",
         "66.0",
         "0.0",
         "66.0",
         "66.0",
         "66.0",
         "66.0",
         "66.0",
         "66.0",
         "6.069999999999999",
         "6.07",
         "8.883872800015897e-16",
         "6.07",
         "6.07",
         "6.07",
         "6.07",
         "6.07",
         "6.07",
         "33.0",
         "33.0",
         "0.0",
         "33.0",
         "33.0",
         "33.0",
         "33.0",
         "33.0",
         "33.0",
         "31.366854724964735",
         "31.6",
         "0.7975896361596733",
         "29.3",
         "32.4",
         "30.1",
         "32.2",
         "29.3",
         "32.4",
         "50.0",
         "50.0",
         "0.0",
         "50.0",
         "50.0",
         "50.0",
         "50.0",
         "50.0",
         "50.0",
         "1.0",
         "1.0",
         "0.0",
         "1.0",
         "1.0",
         "1.0",
         "1.0",
         "1.0",
         "1.0",
         "0.0",
         "0.0",
         "0.0",
         "0.0",
         "0.0",
         "0.0",
         "0.0",
         "0.0",
         "0.0"
        ],
        [
         "4",
         "2025-06-26 22:55:27+00:00",
         "2025-06-26 22:55:42+00:00",
         "12V_Management_2025-06-26_13-39-25_IBS_only.csv",
         "12V_Management_2025-06-26_13-39-25_IBS_only.csv#1",
         "1",
         "15.0",
         "14.062",
         "14.044375",
         "14.044375",
         "0.0",
         "13.5830625",
         "12.394",
         "7300.0",
         "7300.0",
         "0.0",
         "0.0",
         "0.0560954166666666",
         "43.730824722222216",
         "0.0047796070100904",
         "0.9467655642023344",
         "14.055875",
         "14.0585",
         "0.0078814127329219",
         "14.033",
         "14.064",
         "14.0475",
         "14.062",
         "14.033",
         "14.064",
         "13.5830625",
         "13.045",
         "1.5554504800324993",
         "12.394",
         "18.377",
         "12.4905",
         "15.193",
         "18.377",
         "12.394",
         "24.5",
         "24.5",
         "0.0",
         "24.5",
         "24.5",
         "24.5",
         "24.5",
         "24.5",
         "24.5",
         "73.0",
         "73.0",
         "0.0",
         "73.0",
         "73.0",
         "73.0",
         "73.0",
         "73.0",
         "73.0",
         "66.0",
         "66.0",
         "0.0",
         "66.0",
         "66.0",
         "66.0",
         "66.0",
         "66.0",
         "66.0",
         "6.07",
         "6.07",
         "0.0",
         "6.07",
         "6.07",
         "6.07",
         "6.07",
         "6.07",
         "6.07",
         "33.0",
         "33.0",
         "0.0",
         "33.0",
         "33.0",
         "33.0",
         "33.0",
         "33.0",
         "33.0",
         "30.6",
         "30.6",
         "0.0",
         "30.6",
         "30.6",
         "30.6",
         "30.6",
         "30.6",
         "30.6",
         "50.0",
         "50.0",
         "0.0",
         "50.0",
         "50.0",
         "50.0",
         "50.0",
         "50.0",
         "50.0",
         "1.0",
         "1.0",
         "0.0",
         "1.0",
         "1.0",
         "1.0",
         "1.0",
         "1.0",
         "1.0",
         "0.0",
         "0.0",
         "0.0",
         "0.0",
         "0.0",
         "0.0",
         "0.0",
         "0.0",
         "0.0"
        ]
       ],
       "shape": {
        "columns": 119,
        "rows": 5
       }
      },
      "text/html": [
       "<div>\n",
       "<style scoped>\n",
       "    .dataframe tbody tr th:only-of-type {\n",
       "        vertical-align: middle;\n",
       "    }\n",
       "\n",
       "    .dataframe tbody tr th {\n",
       "        vertical-align: top;\n",
       "    }\n",
       "\n",
       "    .dataframe thead th {\n",
       "        text-align: right;\n",
       "    }\n",
       "</style>\n",
       "<table border=\"1\" class=\"dataframe\">\n",
       "  <thead>\n",
       "    <tr style=\"text-align: right;\">\n",
       "      <th></th>\n",
       "      <th>cycle_start</th>\n",
       "      <th>cycle_end</th>\n",
       "      <th>source_file</th>\n",
       "      <th>cycle_id</th>\n",
       "      <th>cycle_idx</th>\n",
       "      <th>duration_s</th>\n",
       "      <th>V_peak_charge</th>\n",
       "      <th>V_mean_charge</th>\n",
       "      <th>V_tail_mean</th>\n",
       "      <th>time_absorption_s</th>\n",
       "      <th>...</th>\n",
       "      <th>IBS_Sulfation__last</th>\n",
       "      <th>IBS_BatteryDefect__mean</th>\n",
       "      <th>IBS_BatteryDefect__median</th>\n",
       "      <th>IBS_BatteryDefect__std</th>\n",
       "      <th>IBS_BatteryDefect__min</th>\n",
       "      <th>IBS_BatteryDefect__max</th>\n",
       "      <th>IBS_BatteryDefect__p10</th>\n",
       "      <th>IBS_BatteryDefect__p90</th>\n",
       "      <th>IBS_BatteryDefect__first</th>\n",
       "      <th>IBS_BatteryDefect__last</th>\n",
       "    </tr>\n",
       "  </thead>\n",
       "  <tbody>\n",
       "    <tr>\n",
       "      <th>0</th>\n",
       "      <td>2025-06-26 02:20:47+00:00</td>\n",
       "      <td>2025-06-26 02:40:03+00:00</td>\n",
       "      <td>12V Management  2025-06-25_22-20-47_IBS_only_c...</td>\n",
       "      <td>12V Management  2025-06-25_22-20-47_IBS_only_c...</td>\n",
       "      <td>0</td>\n",
       "      <td>1156.0</td>\n",
       "      <td>14.115</td>\n",
       "      <td>14.106860</td>\n",
       "      <td>14.100594</td>\n",
       "      <td>0.0</td>\n",
       "      <td>...</td>\n",
       "      <td>1.0</td>\n",
       "      <td>0.0</td>\n",
       "      <td>0.0</td>\n",
       "      <td>0.0</td>\n",
       "      <td>0.0</td>\n",
       "      <td>0.0</td>\n",
       "      <td>0.0</td>\n",
       "      <td>0.0</td>\n",
       "      <td>0.0</td>\n",
       "      <td>0.0</td>\n",
       "    </tr>\n",
       "    <tr>\n",
       "      <th>1</th>\n",
       "      <td>2025-06-26 11:24:45+00:00</td>\n",
       "      <td>2025-06-26 12:02:32+00:00</td>\n",
       "      <td>12V Management  2025-06-25_22-20-47_IBS_only_c...</td>\n",
       "      <td>12V Management  2025-06-25_22-20-47_IBS_only_c...</td>\n",
       "      <td>1</td>\n",
       "      <td>2267.0</td>\n",
       "      <td>14.114</td>\n",
       "      <td>14.102164</td>\n",
       "      <td>14.099900</td>\n",
       "      <td>0.0</td>\n",
       "      <td>...</td>\n",
       "      <td>1.0</td>\n",
       "      <td>0.0</td>\n",
       "      <td>0.0</td>\n",
       "      <td>0.0</td>\n",
       "      <td>0.0</td>\n",
       "      <td>0.0</td>\n",
       "      <td>0.0</td>\n",
       "      <td>0.0</td>\n",
       "      <td>0.0</td>\n",
       "      <td>0.0</td>\n",
       "    </tr>\n",
       "    <tr>\n",
       "      <th>2</th>\n",
       "      <td>2025-06-26 13:09:11+00:00</td>\n",
       "      <td>2025-06-26 13:19:50+00:00</td>\n",
       "      <td>12V Management  2025-06-25_22-20-47_IBS_only_c...</td>\n",
       "      <td>12V Management  2025-06-25_22-20-47_IBS_only_c...</td>\n",
       "      <td>2</td>\n",
       "      <td>639.0</td>\n",
       "      <td>14.114</td>\n",
       "      <td>14.104331</td>\n",
       "      <td>14.100833</td>\n",
       "      <td>0.0</td>\n",
       "      <td>...</td>\n",
       "      <td>1.0</td>\n",
       "      <td>0.0</td>\n",
       "      <td>0.0</td>\n",
       "      <td>0.0</td>\n",
       "      <td>0.0</td>\n",
       "      <td>0.0</td>\n",
       "      <td>0.0</td>\n",
       "      <td>0.0</td>\n",
       "      <td>0.0</td>\n",
       "      <td>0.0</td>\n",
       "    </tr>\n",
       "    <tr>\n",
       "      <th>3</th>\n",
       "      <td>2025-06-26 17:47:23+00:00</td>\n",
       "      <td>2025-06-26 18:22:49+00:00</td>\n",
       "      <td>12V_Management_2025-06-26_13-39-25_IBS_only.csv</td>\n",
       "      <td>12V_Management_2025-06-26_13-39-25_IBS_only.csv#0</td>\n",
       "      <td>0</td>\n",
       "      <td>2126.0</td>\n",
       "      <td>14.113</td>\n",
       "      <td>14.096117</td>\n",
       "      <td>14.101900</td>\n",
       "      <td>0.0</td>\n",
       "      <td>...</td>\n",
       "      <td>1.0</td>\n",
       "      <td>0.0</td>\n",
       "      <td>0.0</td>\n",
       "      <td>0.0</td>\n",
       "      <td>0.0</td>\n",
       "      <td>0.0</td>\n",
       "      <td>0.0</td>\n",
       "      <td>0.0</td>\n",
       "      <td>0.0</td>\n",
       "      <td>0.0</td>\n",
       "    </tr>\n",
       "    <tr>\n",
       "      <th>4</th>\n",
       "      <td>2025-06-26 22:55:27+00:00</td>\n",
       "      <td>2025-06-26 22:55:42+00:00</td>\n",
       "      <td>12V_Management_2025-06-26_13-39-25_IBS_only.csv</td>\n",
       "      <td>12V_Management_2025-06-26_13-39-25_IBS_only.csv#1</td>\n",
       "      <td>1</td>\n",
       "      <td>15.0</td>\n",
       "      <td>14.062</td>\n",
       "      <td>14.044375</td>\n",
       "      <td>14.044375</td>\n",
       "      <td>0.0</td>\n",
       "      <td>...</td>\n",
       "      <td>1.0</td>\n",
       "      <td>0.0</td>\n",
       "      <td>0.0</td>\n",
       "      <td>0.0</td>\n",
       "      <td>0.0</td>\n",
       "      <td>0.0</td>\n",
       "      <td>0.0</td>\n",
       "      <td>0.0</td>\n",
       "      <td>0.0</td>\n",
       "      <td>0.0</td>\n",
       "    </tr>\n",
       "  </tbody>\n",
       "</table>\n",
       "<p>5 rows × 119 columns</p>\n",
       "</div>"
      ],
      "text/plain": [
       "                 cycle_start                  cycle_end  \\\n",
       "0  2025-06-26 02:20:47+00:00  2025-06-26 02:40:03+00:00   \n",
       "1  2025-06-26 11:24:45+00:00  2025-06-26 12:02:32+00:00   \n",
       "2  2025-06-26 13:09:11+00:00  2025-06-26 13:19:50+00:00   \n",
       "3  2025-06-26 17:47:23+00:00  2025-06-26 18:22:49+00:00   \n",
       "4  2025-06-26 22:55:27+00:00  2025-06-26 22:55:42+00:00   \n",
       "\n",
       "                                         source_file  \\\n",
       "0  12V Management  2025-06-25_22-20-47_IBS_only_c...   \n",
       "1  12V Management  2025-06-25_22-20-47_IBS_only_c...   \n",
       "2  12V Management  2025-06-25_22-20-47_IBS_only_c...   \n",
       "3    12V_Management_2025-06-26_13-39-25_IBS_only.csv   \n",
       "4    12V_Management_2025-06-26_13-39-25_IBS_only.csv   \n",
       "\n",
       "                                            cycle_id  cycle_idx  duration_s  \\\n",
       "0  12V Management  2025-06-25_22-20-47_IBS_only_c...          0      1156.0   \n",
       "1  12V Management  2025-06-25_22-20-47_IBS_only_c...          1      2267.0   \n",
       "2  12V Management  2025-06-25_22-20-47_IBS_only_c...          2       639.0   \n",
       "3  12V_Management_2025-06-26_13-39-25_IBS_only.csv#0          0      2126.0   \n",
       "4  12V_Management_2025-06-26_13-39-25_IBS_only.csv#1          1        15.0   \n",
       "\n",
       "   V_peak_charge  V_mean_charge  V_tail_mean  time_absorption_s  ...  \\\n",
       "0         14.115      14.106860    14.100594                0.0  ...   \n",
       "1         14.114      14.102164    14.099900                0.0  ...   \n",
       "2         14.114      14.104331    14.100833                0.0  ...   \n",
       "3         14.113      14.096117    14.101900                0.0  ...   \n",
       "4         14.062      14.044375    14.044375                0.0  ...   \n",
       "\n",
       "   IBS_Sulfation__last  IBS_BatteryDefect__mean  IBS_BatteryDefect__median  \\\n",
       "0                  1.0                      0.0                        0.0   \n",
       "1                  1.0                      0.0                        0.0   \n",
       "2                  1.0                      0.0                        0.0   \n",
       "3                  1.0                      0.0                        0.0   \n",
       "4                  1.0                      0.0                        0.0   \n",
       "\n",
       "   IBS_BatteryDefect__std  IBS_BatteryDefect__min  IBS_BatteryDefect__max  \\\n",
       "0                     0.0                     0.0                     0.0   \n",
       "1                     0.0                     0.0                     0.0   \n",
       "2                     0.0                     0.0                     0.0   \n",
       "3                     0.0                     0.0                     0.0   \n",
       "4                     0.0                     0.0                     0.0   \n",
       "\n",
       "   IBS_BatteryDefect__p10  IBS_BatteryDefect__p90  IBS_BatteryDefect__first  \\\n",
       "0                     0.0                     0.0                       0.0   \n",
       "1                     0.0                     0.0                       0.0   \n",
       "2                     0.0                     0.0                       0.0   \n",
       "3                     0.0                     0.0                       0.0   \n",
       "4                     0.0                     0.0                       0.0   \n",
       "\n",
       "   IBS_BatteryDefect__last  \n",
       "0                      0.0  \n",
       "1                      0.0  \n",
       "2                      0.0  \n",
       "3                      0.0  \n",
       "4                      0.0  \n",
       "\n",
       "[5 rows x 119 columns]"
      ]
     },
     "execution_count": 37,
     "metadata": {},
     "output_type": "execute_result"
    }
   ],
   "source": [
    "# Read in generated charge cycle metrics data\n",
    "\n",
    "path = CYCLE_METRICS_CSV_DIR / \"cycle_metrics_all.csv\"\n",
    "df = pd.read_csv(path)\n",
    "\n",
    "print(df.shape)\n",
    "df.head()"
   ]
  },
  {
   "cell_type": "code",
   "execution_count": 38,
   "id": "33545a92",
   "metadata": {},
   "outputs": [
    {
     "name": "stdout",
     "output_type": "stream",
     "text": [
      "(75, 114) (75,)\n"
     ]
    }
   ],
   "source": [
    "y = df[\"target_soh1\"]\n",
    "X = df.drop([\"cycle_start\", \"cycle_end\", \"source_file\", \"cycle_id\", \"target_soh1\"], axis=1)\n",
    "print(X.shape, y.shape)"
   ]
  },
  {
   "cell_type": "code",
   "execution_count": 39,
   "id": "75beed09",
   "metadata": {},
   "outputs": [],
   "source": [
    "# Split data set into train and test\n",
    "X_train, X_test, y_train, y_test = train_test_split(X, y, test_size=0.2, random_state=42)"
   ]
  },
  {
   "cell_type": "code",
   "execution_count": 40,
   "id": "d26b5e47",
   "metadata": {},
   "outputs": [
    {
     "name": "stdout",
     "output_type": "stream",
     "text": [
      "Best params: {'rf__max_depth': 8, 'rf__max_features': 'sqrt', 'rf__min_samples_leaf': 1, 'rf__min_samples_split': 2, 'rf__n_estimators': 800}\n",
      "CV best R²: 0.7561862369886703\n",
      "Test R²   : 0.6933710873692115\n"
     ]
    }
   ],
   "source": [
    "# Create Random Forest Ensemble pipeline cross validation using hyperparamters\n",
    "\n",
    "rf_pipe = Pipeline([\n",
    "    (\"rf\", RandomForestRegressor(\n",
    "        random_state=42,\n",
    "        n_jobs=-1,\n",
    "        oob_score=False,          # set True if you want OOB (requires bootstrap=True)\n",
    "        bootstrap=True\n",
    "    ))\n",
    "])\n",
    "\n",
    "rf_param_grid = {\n",
    "    \"rf__n_estimators\": [200, 400, 800],\n",
    "    \"rf__max_depth\": [None, 8, 12, 16],\n",
    "    \"rf__min_samples_split\": [2, 5, 10],\n",
    "    \"rf__min_samples_leaf\": [1, 2, 4],\n",
    "    # default for regressor is 1.0 (all features); try smaller subsets too:\n",
    "    \"rf__max_features\": [\"sqrt\", 0.5, 1.0]\n",
    "}\n",
    "\n",
    "rf_grid = GridSearchCV(\n",
    "    estimator=rf_pipe,\n",
    "    param_grid=rf_param_grid,\n",
    "    cv=5,                 # see GroupKFold variant below if you have source_file groups\n",
    "    scoring=\"r2\",\n",
    "    n_jobs=-1,\n",
    "    return_train_score=True\n",
    ")\n",
    "\n",
    "rf_grid.fit(X_train, y_train)\n",
    "print(\"Best params:\", rf_grid.best_params_)\n",
    "print(\"CV best R²:\", rf_grid.best_score_)\n",
    "print(\"Test R²   :\", rf_grid.best_estimator_.score(X_test, y_test))\n"
   ]
  },
  {
   "cell_type": "code",
   "execution_count": 41,
   "id": "b6cc820f",
   "metadata": {},
   "outputs": [
    {
     "name": "stdout",
     "output_type": "stream",
     "text": [
      "                        feature  importance\n",
      "82     IBS_DischargeableAh__max    0.077131\n",
      "86    IBS_DischargeableAh__last    0.067296\n",
      "84     IBS_DischargeableAh__p90    0.053590\n",
      "9                   soc_end_pct    0.042557\n",
      "79  IBS_DischargeableAh__median    0.039912\n",
      "48       IBS_StateOfCharge__p90    0.039243\n",
      "78    IBS_DischargeableAh__mean    0.038851\n",
      "46       IBS_StateOfCharge__max    0.038331\n",
      "50      IBS_StateOfCharge__last    0.033785\n",
      "43    IBS_StateOfCharge__median    0.025938\n"
     ]
    }
   ],
   "source": [
    "best_rf = rf_grid.best_estimator_.named_steps[\"rf\"]\n",
    "\n",
    "feature_importances = pd.DataFrame({\n",
    "    \"feature\": X_train.columns,\n",
    "    \"importance\": best_rf.feature_importances_\n",
    "}).sort_values(by=\"importance\", ascending=False)\n",
    "\n",
    "print(feature_importances.head(10))\n"
   ]
  },
  {
   "cell_type": "code",
   "execution_count": 42,
   "id": "c1e66780",
   "metadata": {},
   "outputs": [
    {
     "data": {
      "image/png": "[encoded data removed]",
      "text/plain": [
       "<Figure size 1000x600 with 1 Axes>"
      ]
     },
     "metadata": {},
     "output_type": "display_data"
    }
   ],
   "source": [
    "import matplotlib.pyplot as plt\n",
    "\n",
    "plt.figure(figsize=(10, 6))\n",
    "plt.barh(feature_importances[\"feature\"][:15][::-1],\n",
    "         feature_importances[\"importance\"][:15][::-1])\n",
    "plt.xlabel(\"Feature Importance\")\n",
    "plt.title(\"Random Forest Feature Importance (Top 15)\")\n",
    "plt.tight_layout()\n",
    "plt.show()\n"
   ]
  },
  {
   "cell_type": "code",
   "execution_count": 43,
   "id": "1d105d32",
   "metadata": {},
   "outputs": [
    {
     "data": {
      "image/png": "[encoded data removed]",
      "text/plain": [
       "<Figure size 800x600 with 1 Axes>"
      ]
     },
     "metadata": {},
     "output_type": "display_data"
    }
   ],
   "source": [
    "# Get pruning path for your training data\n",
    "path = best_dt.cost_complexity_pruning_path(X_train, y_train)\n",
    "ccp_alphas, impurities = path.ccp_alphas, path.impurities\n",
    "\n",
    "plt.figure(figsize=(8,6))\n",
    "plt.plot(ccp_alphas, impurities, marker=\"o\", drawstyle=\"steps-post\")\n",
    "plt.xlabel(\"Effective alpha (ccp_alpha)\")\n",
    "plt.ylabel(\"Total leaf impurity\")\n",
    "plt.title(\"Cost-Complexity Pruning Path (DecisionTreeRegressor)\")\n",
    "plt.show()"
   ]
  },
  {
   "cell_type": "code",
   "execution_count": 44,
   "id": "22f0acdc",
   "metadata": {},
   "outputs": [
    {
     "data": {
      "image/png": "[encoded data removed]",
      "text/plain": [
       "<Figure size 800x600 with 1 Axes>"
      ]
     },
     "metadata": {},
     "output_type": "display_data"
    }
   ],
   "source": [
    "import matplotlib.pyplot as plt\n",
    "from sklearn.tree import DecisionTreeRegressor\n",
    "from sklearn.metrics import r2_score\n",
    "\n",
    "# Compute pruning path\n",
    "path = best_dt.cost_complexity_pruning_path(X_train, y_train)\n",
    "ccp_alphas = path.ccp_alphas\n",
    "\n",
    "train_scores, test_scores = [], []\n",
    "\n",
    "# Loop over alphas and fit/prune trees\n",
    "for alpha in ccp_alphas:\n",
    "    dt = DecisionTreeRegressor(random_state=42, ccp_alpha=alpha)\n",
    "    dt.fit(X_train, y_train)\n",
    "    \n",
    "    train_scores.append(r2_score(y_train, dt.predict(X_train)))\n",
    "    test_scores.append(r2_score(y_test, dt.predict(X_test)))\n",
    "\n",
    "# Plot train vs test R² across alphas\n",
    "plt.figure(figsize=(8,6))\n",
    "plt.plot(ccp_alphas, train_scores, marker=\"o\", label=\"Train R²\", drawstyle=\"steps-post\")\n",
    "plt.plot(ccp_alphas, test_scores, marker=\"o\", label=\"Test R²\", drawstyle=\"steps-post\")\n",
    "plt.xlabel(\"Effective alpha (ccp_alpha)\")\n",
    "plt.ylabel(\"R² score\")\n",
    "plt.title(\"DecisionTreeRegressor: Accuracy vs Alpha (Pruning Path)\")\n",
    "plt.legend()\n",
    "plt.show()\n"
   ]
  },
  {
   "cell_type": "code",
   "execution_count": 45,
   "id": "c234d9ea",
   "metadata": {},
   "outputs": [
    {
     "name": "stdout",
     "output_type": "stream",
     "text": [
      "                          feature  importance_mean  importance_std\n",
      "82       IBS_DischargeableAh__max         1.613213        0.392296\n",
      "78      IBS_DischargeableAh__mean         0.078820        0.059456\n",
      "40  IBS_BatteryTemperature__first         0.023797        0.019337\n",
      "0                       cycle_idx         0.000000        0.000000\n",
      "85     IBS_DischargeableAh__first         0.000000        0.000000\n",
      "83       IBS_DischargeableAh__p10         0.000000        0.000000\n",
      "81       IBS_DischargeableAh__min         0.000000        0.000000\n",
      "80       IBS_DischargeableAh__std         0.000000        0.000000\n",
      "79    IBS_DischargeableAh__median         0.000000        0.000000\n",
      "77    IBS_AvailableCapacity__last         0.000000        0.000000\n",
      "76   IBS_AvailableCapacity__first         0.000000        0.000000\n",
      "75     IBS_AvailableCapacity__p90         0.000000        0.000000\n",
      "74     IBS_AvailableCapacity__p10         0.000000        0.000000\n",
      "73     IBS_AvailableCapacity__max         0.000000        0.000000\n",
      "72     IBS_AvailableCapacity__min         0.000000        0.000000\n"
     ]
    },
    {
     "data": {
      "image/png": "[encoded data removed]",
      "text/plain": [
       "<Figure size 800x600 with 1 Axes>"
      ]
     },
     "metadata": {},
     "output_type": "display_data"
    }
   ],
   "source": [
    "from sklearn.inspection import permutation_importance\n",
    "\n",
    "# Run permutation importance on the test set\n",
    "perm = permutation_importance(\n",
    "    grid.best_estimator_, \n",
    "    X_test, y_test,\n",
    "    n_repeats=10,            # repeat shuffling for stability\n",
    "    random_state=42,\n",
    "    n_jobs=-1\n",
    ")\n",
    "\n",
    "# Put results into a sorted DataFrame\n",
    "perm_importances = pd.DataFrame({\n",
    "    \"feature\": X_test.columns,\n",
    "    \"importance_mean\": perm.importances_mean,\n",
    "    \"importance_std\": perm.importances_std\n",
    "}).sort_values(\"importance_mean\", ascending=False)\n",
    "\n",
    "# Show top 15\n",
    "print(perm_importances.head(15))\n",
    "\n",
    "# Plot\n",
    "plt.figure(figsize=(8,6))\n",
    "plt.barh(\n",
    "    perm_importances[\"feature\"].head(15)[::-1],\n",
    "    perm_importances[\"importance_mean\"].head(15)[::-1],\n",
    "    xerr=perm_importances[\"importance_std\"].head(15)[::-1],\n",
    "    alpha=0.7\n",
    ")\n",
    "plt.xlabel(\"Drop in R² after shuffling\")\n",
    "plt.title(\"Permutation Importance (Test Set)\")\n",
    "plt.show()\n"
   ]
  }
 ],
 "metadata": {
  "kernelspec": {
   "display_name": "base",
   "language": "python",
   "name": "python3"
  },
  "language_info": {
   "codemirror_mode": {
    "name": "ipython",
    "version": 3
   },
   "file_extension": ".py",
   "mimetype": "text/x-python",
   "name": "python",
   "nbconvert_exporter": "python",
   "pygments_lexer": "ipython3",
   "version": "3.12.2"
  }
 },
 "nbformat": 4,
 "nbformat_minor": 5
}
